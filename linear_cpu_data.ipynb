{
 "cells": [
  {
   "cell_type": "markdown",
   "id": "6dc9e1b2-7675-404c-bb09-a96ced372b9c",
   "metadata": {},
   "source": [
    "(1) II. 데이터 셋에서 주어진 특징들을 선택하여 CPU 성능 즉, “PRP” 변수를 예측하는 LinearRegression 기반 다중 선형 회귀 모델링을 프로그래밍 하시오.\n",
    "- 데이터 탐색 및 시각화, 전처리, 훈련 데이터와 테스트 데이터 분리, 훈련 데이터 학습과정, 교차 검증, 분석 결과 시각화 등을 포함하여 최적화하는 전체 과정을 포함하시오."
   ]
  },
  {
   "cell_type": "code",
   "execution_count": 77,
   "id": "0b21efae-c23e-4a45-b1fb-e21bee6c0cc4",
   "metadata": {},
   "outputs": [
    {
     "name": "stdout",
     "output_type": "stream",
     "text": [
      "       vendor      model  MYCT  MMIN   MMAX  CACH  CHMIN  CHMAX  PRP  ERP\n",
      "0  VendorName  ModelName  MYCT  MMIN   MMAX  CACH  CHMIN  CHMAX  PRP  ERP\n",
      "1     adviser      32/60   125   256   6000   256     16    128  198  199\n",
      "2      amdahl     470v/7    29  8000  32000    32      8     32  269  253\n",
      "3      amdahl    470v/7a    29  8000  32000    32      8     32  220  253\n",
      "4      amdahl    470v/7b    29  8000  32000    32      8     32  172  253\n",
      "<class 'pandas.core.frame.DataFrame'>\n",
      "RangeIndex: 210 entries, 0 to 209\n",
      "Data columns (total 10 columns):\n",
      " #   Column  Non-Null Count  Dtype \n",
      "---  ------  --------------  ----- \n",
      " 0   vendor  210 non-null    object\n",
      " 1   model   210 non-null    object\n",
      " 2   MYCT    210 non-null    object\n",
      " 3   MMIN    210 non-null    object\n",
      " 4   MMAX    210 non-null    object\n",
      " 5   CACH    210 non-null    object\n",
      " 6   CHMIN   210 non-null    object\n",
      " 7   CHMAX   210 non-null    object\n",
      " 8   PRP     210 non-null    object\n",
      " 9   ERP     210 non-null    object\n",
      "dtypes: object(10)\n",
      "memory usage: 16.5+ KB\n",
      "None\n",
      "       vendor      model MYCT  MMIN  MMAX CACH CHMIN CHMAX  PRP  ERP\n",
      "count     210        210  210   210   210  210   210   210  210  210\n",
      "unique     31        210   61    26    24   23    16    32  117  105\n",
      "top       ibm  ModelName   50  2000  8000    0     1     6   32   28\n",
      "freq       32          1   25    54    43   69    94    30    7    9\n",
      "vendor    object\n",
      "model     object\n",
      "MYCT      object\n",
      "MMIN      object\n",
      "MMAX      object\n",
      "CACH      object\n",
      "CHMIN     object\n",
      "CHMAX     object\n",
      "PRP       object\n",
      "ERP       object\n",
      "dtype: object\n",
      "Cross-validation scores: [0.85502048 0.76061879 0.79752265 0.88977953 0.93896045]\n",
      "Mean CV score: 0.8483803787701649\n",
      "Cross-validated RMSE: 46.59585482859105\n"
     ]
    }
   ],
   "source": [
    "import pandas as pd\n",
    "\n",
    "# 데이터 로드\n",
    "file_path = 'machine.data_update.csv'\n",
    "data = pd.read_csv(file_path, header=None)\n",
    "\n",
    "# 컬럼 이름 설정\n",
    "data.columns = [\n",
    "    'vendor', 'model', 'MYCT', 'MMIN', 'MMAX', 'CACH', 'CHMIN', 'CHMAX', 'PRP', 'ERP'\n",
    "]\n",
    "\n",
    "# 데이터 샘플 확인\n",
    "print(data.head())\n",
    "\n",
    "# 데이터 요약 정보\n",
    "print(data.info())\n",
    "\n",
    "# 기술 통계 확인\n",
    "print(data.describe())\n",
    "\n",
    "\n",
    "print(data.dtypes)\n",
    "\n",
    "data['MYCT'] = pd.to_numeric(data['MYCT'], errors='coerce')\n",
    "\n",
    "# NaN 값 제거\n",
    "data = data.dropna(subset=['MYCT'])\n",
    "\n",
    "# NaN 값을 평균으로 대체\n",
    "data['MYCT'] = data['MYCT'].fillna(data['MYCT'].mean())\n",
    "\n",
    "# 범주형 변수 인코딩 (vendor와 model)\n",
    "label_encoders = {}\n",
    "for column in ['vendor', 'model']:\n",
    "    label_encoders[column] = LabelEncoder()\n",
    "    data[column] = label_encoders[column].fit_transform(data[column])\n",
    "\n",
    "# 특성과 타겟 변수 분리\n",
    "X = data.drop(columns=['PRP'])\n",
    "y = data['PRP']\n",
    "\n",
    "# 데이터 분할 (훈련 데이터와 테스트 데이터)\n",
    "X_train, X_test, y_train, y_test = train_test_split(X, y, test_size=0.2, random_state=42)\n",
    "\n",
    "# 스케일링\n",
    "scaler = StandardScaler()\n",
    "X_train = scaler.fit_transform(X_train)\n",
    "X_test = scaler.transform(X_test)\n",
    "\n",
    "from sklearn.linear_model import LinearRegression\n",
    "from sklearn.model_selection import cross_val_score\n",
    "from sklearn.preprocessing import StandardScaler\n",
    "\n",
    "# 스케일링\n",
    "scaler = StandardScaler()\n",
    "X_train_scaled = scaler.fit_transform(X_train)\n",
    "X_test_scaled = scaler.transform(X_test)\n",
    "\n",
    "# 모델 초기화\n",
    "model = LinearRegression()\n",
    "\n",
    "# 교차 검증\n",
    "cv_scores = cross_val_score(model, X_train_scaled, y_train, cv=5)\n",
    "\n",
    "# 교차 검증 점수 출력\n",
    "print(\"Cross-validation scores:\", cv_scores)\n",
    "print(\"Mean CV score:\", cv_scores.mean())\n",
    "\n",
    "# 모델 훈련\n",
    "model.fit(X_train_scaled, y_train)\n",
    "\n",
    "# 모델 훈련\n",
    "model = LinearRegression()\n",
    "model.fit(X_train, y_train)\n",
    "\n",
    "# 교차 검증\n",
    "cv_scores = cross_val_score(model, X_train, y_train, cv=5, scoring='neg_mean_squared_error')\n",
    "cv_rmse = np.sqrt(-cv_scores)\n",
    "\n",
    "print(f'Cross-validated RMSE: {cv_rmse.mean()}')\n"
   ]
  },
  {
   "cell_type": "markdown",
   "id": "0a1be3a8-13f7-4bee-9953-b45e7cd08674",
   "metadata": {},
   "source": [
    "\n",
    "(2) (1) 단계에서 얻은 다중 선형 회귀 모델을 사용하여 학습 데이터와 테스트 데이터 각각에 대해 이 모델의 성능을 평가하시오. \n",
    "- Mean squared Error, Mean absolute Error, R^2, 교차검증"
   ]
  },
  {
   "cell_type": "code",
   "execution_count": 78,
   "id": "4b965f9f-89cb-420e-89cd-b07f01a34778",
   "metadata": {},
   "outputs": [
    {
     "name": "stdout",
     "output_type": "stream",
     "text": [
      "Training set performance:\n",
      "Mean Squared Error: 1524.00\n",
      "Mean Absolute Error: 23.31\n",
      "R-squared: 0.92\n"
     ]
    }
   ],
   "source": [
    "from sklearn.metrics import mean_squared_error, mean_absolute_error, r2_score\n",
    "\n",
    "# 학습 데이터 예측\n",
    "y_train_pred = model.predict(X_train_scaled)\n",
    "\n",
    "# 성능 지표 계산\n",
    "train_mse = mean_squared_error(y_train, y_train_pred)\n",
    "train_mae = mean_absolute_error(y_train, y_train_pred)\n",
    "train_r2 = r2_score(y_train, y_train_pred)\n",
    "\n",
    "print(\"Training set performance:\")\n",
    "print(f\"Mean Squared Error: {train_mse:.2f}\")\n",
    "print(f\"Mean Absolute Error: {train_mae:.2f}\")\n",
    "print(f\"R-squared: {train_r2:.2f}\")\n"
   ]
  },
  {
   "cell_type": "code",
   "execution_count": 79,
   "id": "289dc13d-be1d-404c-a236-eb17605006a6",
   "metadata": {},
   "outputs": [
    {
     "name": "stdout",
     "output_type": "stream",
     "text": [
      "Test set performance:\n",
      "Mean Squared Error: 2341.83\n",
      "Mean Absolute Error: 31.46\n",
      "R-squared: 0.95\n"
     ]
    }
   ],
   "source": [
    "# 테스트 데이터 예측\n",
    "y_test_pred = model.predict(X_test_scaled)\n",
    "\n",
    "# 성능 지표 계산\n",
    "test_mse = mean_squared_error(y_test, y_test_pred)\n",
    "test_mae = mean_absolute_error(y_test, y_test_pred)\n",
    "test_r2 = r2_score(y_test, y_test_pred)\n",
    "\n",
    "print(\"Test set performance:\")\n",
    "print(f\"Mean Squared Error: {test_mse:.2f}\")\n",
    "print(f\"Mean Absolute Error: {test_mae:.2f}\")\n",
    "print(f\"R-squared: {test_r2:.2f}\")\n"
   ]
  },
  {
   "cell_type": "code",
   "execution_count": 80,
   "id": "2360d4ed-3f2b-42e6-ae3a-e1c61a13bf80",
   "metadata": {},
   "outputs": [
    {
     "name": "stdout",
     "output_type": "stream",
     "text": [
      "Cross-validated RMSE: 46.60\n"
     ]
    }
   ],
   "source": [
    "# 교차 검증 성능 평가\n",
    "cv_scores = cross_val_score(model, X_train_scaled, y_train, cv=5, scoring='neg_mean_squared_error')\n",
    "cv_rmse = np.sqrt(-cv_scores)\n",
    "\n",
    "print(f'Cross-validated RMSE: {cv_rmse.mean():.2f}')\n"
   ]
  },
  {
   "cell_type": "markdown",
   "id": "3f0d14a3-4f89-48cd-b8ce-7554ce715bf9",
   "metadata": {},
   "source": [
    "(3) (2) 단계에서 얻은 모델의 테스트 데이터에 대해 R^2가 90% 이상이 나오도록 모델을 개선하시오."
   ]
  },
  {
   "cell_type": "code",
   "execution_count": 81,
   "id": "9d3def15-3f08-4a0e-9629-31908c31bcca",
   "metadata": {},
   "outputs": [
    {
     "name": "stdout",
     "output_type": "stream",
     "text": [
      "Test R-squared: 0.95\n"
     ]
    }
   ],
   "source": [
    "from sklearn.linear_model import Ridge\n",
    "from sklearn.model_selection import GridSearchCV\n",
    "\n",
    "param_grid = {'alpha': [0.1, 1, 10, 100]}\n",
    "ridge_model = Ridge()\n",
    "grid_search = GridSearchCV(ridge_model, param_grid, cv=5, scoring='r2')\n",
    "grid_search.fit(X_train_scaled, y_train)\n",
    "\n",
    "print(f\"Test R-squared: {test_r2:.2f}\")\n"
   ]
  },
  {
   "cell_type": "markdown",
   "id": "71449281-2dc2-4fe5-80f2-55076c040a90",
   "metadata": {},
   "source": [
    "(4) (1), (2), (3) 단계 과정을 포함한 전체 프로그래밍을 소스파일 “linear_cpu_data.ipynb”로 작성해서 사이버캠퍼스 “3차 프로그래밍과제”와 github에 각각 업로드 하시오."
   ]
  }
 ],
 "metadata": {
  "kernelspec": {
   "display_name": "Python 3 (ipykernel)",
   "language": "python",
   "name": "python3"
  },
  "language_info": {
   "codemirror_mode": {
    "name": "ipython",
    "version": 3
   },
   "file_extension": ".py",
   "mimetype": "text/x-python",
   "name": "python",
   "nbconvert_exporter": "python",
   "pygments_lexer": "ipython3",
   "version": "3.12.4"
  }
 },
 "nbformat": 4,
 "nbformat_minor": 5
}
