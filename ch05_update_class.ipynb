{
 "cells": [
  {
   "cell_type": "markdown",
   "metadata": {},
   "source": [
    "# 1. pandas 라이브러리 import 하기"
   ]
  },
  {
   "cell_type": "code",
<<<<<<< HEAD
   "execution_count": 2,
   "metadata": {},
   "outputs": [],
=======
   "execution_count": 309,
   "metadata": {},
   "outputs": [
    {
     "ename": "ModuleNotFoundError",
     "evalue": "No module named 'metplotlib'",
     "output_type": "error",
     "traceback": [
      "\u001b[1;31m---------------------------------------------------------------------------\u001b[0m",
      "\u001b[1;31mModuleNotFoundError\u001b[0m                       Traceback (most recent call last)",
      "Cell \u001b[1;32mIn[309], line 4\u001b[0m\n\u001b[0;32m      2\u001b[0m \u001b[38;5;28;01mimport\u001b[39;00m \u001b[38;5;21;01mpandas\u001b[39;00m \u001b[38;5;28;01mas\u001b[39;00m \u001b[38;5;21;01mpd\u001b[39;00m\n\u001b[0;32m      3\u001b[0m \u001b[38;5;28;01mfrom\u001b[39;00m \u001b[38;5;21;01mpandas\u001b[39;00m \u001b[38;5;28;01mimport\u001b[39;00m Series, DataFrame \u001b[38;5;66;03m# pandas  자료구조\u001b[39;00m\n\u001b[1;32m----> 4\u001b[0m \u001b[38;5;28;01mimport\u001b[39;00m \u001b[38;5;21;01mmetplotlib\u001b[39;00m\u001b[38;5;21;01m.\u001b[39;00m\u001b[38;5;21;01mpyplot\u001b[39;00m \u001b[38;5;28;01mas\u001b[39;00m \u001b[38;5;21;01mplt\u001b[39;00m \u001b[38;5;66;03m#시각화\u001b[39;00m\n",
      "\u001b[1;31mModuleNotFoundError\u001b[0m: No module named 'metplotlib'"
     ]
    }
   ],
>>>>>>> 6516124a7bc59f03e3d305b96c38cf89e11dee6a
   "source": [
    "import numpy as np\n",
    "import pandas as pd\n",
    "from pandas import Series, DataFrame # pandas  자료구조\n",
<<<<<<< HEAD
    "import matplotlib.pyplot as plt # 시각화"
=======
    "import metplotlib.pyplot as plt #시각화"
>>>>>>> 6516124a7bc59f03e3d305b96c38cf89e11dee6a
   ]
  },
  {
   "cell_type": "code",
<<<<<<< HEAD
   "execution_count": 3,
   "metadata": {},
   "outputs": [],
=======
   "execution_count": 310,
   "metadata": {},
   "outputs": [
    {
     "ename": "NameError",
     "evalue": "name 'plt' is not defined",
     "output_type": "error",
     "traceback": [
      "\u001b[1;31m---------------------------------------------------------------------------\u001b[0m",
      "\u001b[1;31mNameError\u001b[0m                                 Traceback (most recent call last)",
      "Cell \u001b[1;32mIn[310], line 1\u001b[0m\n\u001b[1;32m----> 1\u001b[0m \u001b[43mplt\u001b[49m\u001b[38;5;241m.\u001b[39mrc(\u001b[38;5;124m\"\u001b[39m\u001b[38;5;124mfigure\u001b[39m\u001b[38;5;124m\"\u001b[39m, figsize\u001b[38;5;241m=\u001b[39m(\u001b[38;5;241m10\u001b[39m, \u001b[38;5;241m6\u001b[39m))\n\u001b[0;32m      2\u001b[0m PREVIOUS_MAX_ROWS \u001b[38;5;241m=\u001b[39m pd\u001b[38;5;241m.\u001b[39moptions\u001b[38;5;241m.\u001b[39mdisplay\u001b[38;5;241m.\u001b[39mmax_rows\n\u001b[0;32m      3\u001b[0m pd\u001b[38;5;241m.\u001b[39moptions\u001b[38;5;241m.\u001b[39mdisplay\u001b[38;5;241m.\u001b[39mmax_rows \u001b[38;5;241m=\u001b[39m \u001b[38;5;241m20\u001b[39m\n",
      "\u001b[1;31mNameError\u001b[0m: name 'plt' is not defined"
     ]
    }
   ],
>>>>>>> 6516124a7bc59f03e3d305b96c38cf89e11dee6a
   "source": [
    "plt.rc(\"figure\", figsize=(10, 6))\n",
    "PREVIOUS_MAX_ROWS = pd.options.display.max_rows\n",
    "pd.options.display.max_rows = 20\n",
    "pd.options.display.max_columns = 20\n",
    "pd.options.display.max_colwidth = 80\n",
    "np.set_printoptions(precision=4, suppress=True)\n",
    "plt.rcParams[\"font.family\"] = 'Malgun Gothic' # 한글 폰트 변경 정보"
   ]
  },
  {
   "cell_type": "markdown",
   "metadata": {},
   "source": [
    "# 2. Series  \n",
<<<<<<< HEAD
    "    * 일련의 객체를 담을 수 있는 1차원 데이터(리스트, 튜플, 사전, 넘파이 1차원 배열) 벡터 같은 자료구조\n",
    "    * 파이썬의 일차원 데이터를 저장, 처리, 분석을 위한 다양한 기능들을 제공\n",
    "    * 인덱스와 값으로 구성"
=======
    "    * 일련의 객체를 담을 수 있는 1차원 데이터(리스트, 튜플, 사전) 벡터 같은 자료구조\n",
    "    * 파이썬의 일차원 데이터를 저장, 처리, 분석을 위한 다양한 기능들을 제공\n",
    "    * 인덱스와 값으로 구성\n"
>>>>>>> 6516124a7bc59f03e3d305b96c38cf89e11dee6a
   ]
  },
  {
   "cell_type": "markdown",
   "metadata": {},
   "source": [
    "## 2.1 Series 생성\n"
   ]
  },
  {
   "cell_type": "markdown",
   "metadata": {},
   "source": [
    "### 1) List를 사용하여 Series 생성\n",
    "    * pd.Series(리스트, index=)\n",
    "    * Series(리스트)"
   ]
  },
  {
   "cell_type": "code",
<<<<<<< HEAD
   "execution_count": 5,
=======
   "execution_count": 311,
>>>>>>> 6516124a7bc59f03e3d305b96c38cf89e11dee6a
   "metadata": {},
   "outputs": [
    {
     "data": {
      "text/plain": [
       "a    4\n",
       "b    7\n",
       "c   -5\n",
       "d    3\n",
       "dtype: int64"
      ]
     },
<<<<<<< HEAD
     "execution_count": 5,
=======
     "execution_count": 311,
>>>>>>> 6516124a7bc59f03e3d305b96c38cf89e11dee6a
     "metadata": {},
     "output_type": "execute_result"
    }
   ],
   "source": [
    "data = [4,7,-5,3] #파이썬의 리스트  타입 변수\n",
<<<<<<< HEAD
    "obj = pd.Series(data, index = [\"a\",\"b\",\"c\",\"d\"]) \n",
=======
    "obj = pd.Series(data, index=[\"a\",\"b\",\"c\",\"d\"])\n",
>>>>>>> 6516124a7bc59f03e3d305b96c38cf89e11dee6a
    "obj # 시리즈 객체 : 색인(0부터 시작)과 데이터"
   ]
  },
  {
   "cell_type": "code",
<<<<<<< HEAD
   "execution_count": 7,
=======
   "execution_count": 312,
>>>>>>> 6516124a7bc59f03e3d305b96c38cf89e11dee6a
   "metadata": {},
   "outputs": [
    {
     "data": {
      "text/plain": [
       "d    4\n",
       "b    7\n",
       "a   -5\n",
       "c    3\n",
       "dtype: int64"
      ]
     },
<<<<<<< HEAD
     "execution_count": 7,
=======
     "execution_count": 312,
>>>>>>> 6516124a7bc59f03e3d305b96c38cf89e11dee6a
     "metadata": {},
     "output_type": "execute_result"
    }
   ],
   "source": [
    "obj2 = pd.Series(data=[4, 7, -5, 3], index=[\"d\", \"b\", \"a\", \"c\"]) # 인덱스 라벨 지정하기\n",
    "obj2"
   ]
  },
  {
   "cell_type": "markdown",
   "metadata": {},
   "source": [
    "### 2) Tuple을 이용하여 Series 생성하기"
   ]
  },
  {
   "cell_type": "code",
<<<<<<< HEAD
   "execution_count": 9,
=======
   "execution_count": 313,
>>>>>>> 6516124a7bc59f03e3d305b96c38cf89e11dee6a
   "metadata": {},
   "outputs": [
    {
     "data": {
      "text/plain": [
       "one      3\n",
       "two      4\n",
       "three    1\n",
       "four     2\n",
       "dtype: int64"
      ]
     },
<<<<<<< HEAD
     "execution_count": 9,
=======
     "execution_count": 313,
>>>>>>> 6516124a7bc59f03e3d305b96c38cf89e11dee6a
     "metadata": {},
     "output_type": "execute_result"
    }
   ],
   "source": [
    "arr = (3,4,1,2) # tuple 타입\n",
    "data2 = pd.Series(arr, index= ['one','two','three','four'])\n",
    "data2"
   ]
  },
  {
   "cell_type": "markdown",
   "metadata": {},
   "source": [
    "### 3) Dict을 이용하여 Series 생성하기"
   ]
  },
  {
   "cell_type": "code",
<<<<<<< HEAD
   "execution_count": 13,
=======
   "execution_count": 314,
>>>>>>> 6516124a7bc59f03e3d305b96c38cf89e11dee6a
   "metadata": {},
   "outputs": [
    {
     "data": {
      "text/plain": [
       "Ohio      35000\n",
       "Texas     71000\n",
       "Oregon    16000\n",
       "Utah       5000\n",
       "dtype: int64"
      ]
     },
<<<<<<< HEAD
     "execution_count": 13,
=======
     "execution_count": 314,
>>>>>>> 6516124a7bc59f03e3d305b96c38cf89e11dee6a
     "metadata": {},
     "output_type": "execute_result"
    }
   ],
   "source": [
<<<<<<< HEAD
    "sdata = {\"Ohio\": 35000, \"Texas\": 71000, \"Oregon\": 16000, \"Utah\": 5000} # dict\n",
    "# dict의 메서드\n",
=======
    "sdata = {\"Ohio\": 35000, \"Texas\": 71000, \"Oregon\": 16000, \"Utah\": 5000} #dict\n",
    "#dict의 메서드\n",
>>>>>>> 6516124a7bc59f03e3d305b96c38cf89e11dee6a
    "sdata.keys()\n",
    "sdata.values()\n",
    "sdata.items()\n",
    "obj3 = pd.Series(sdata) # Series  객체의 색인은 딕셔너리의 keys 메서드에서 반환하는 키의 값 순서대로 들어감\n",
    "obj3"
   ]
  },
  {
   "cell_type": "markdown",
   "metadata": {},
   "source": [
    "## ** 몇 가지  Series 특징들 **\n",
    "* Series.values 는 numpy의 ndarray 객체"
   ]
  },
  {
   "cell_type": "code",
<<<<<<< HEAD
   "execution_count": 15,
=======
   "execution_count": 315,
>>>>>>> 6516124a7bc59f03e3d305b96c38cf89e11dee6a
   "metadata": {},
   "outputs": [
    {
     "name": "stdout",
     "output_type": "stream",
     "text": [
      "[35000 71000 16000  5000]\n"
     ]
    },
    {
     "data": {
      "text/plain": [
       "numpy.ndarray"
      ]
     },
<<<<<<< HEAD
     "execution_count": 15,
=======
     "execution_count": 315,
>>>>>>> 6516124a7bc59f03e3d305b96c38cf89e11dee6a
     "metadata": {},
     "output_type": "execute_result"
    }
   ],
   "source": [
<<<<<<< HEAD
    "data = obj3.values # Series의 저장된 값들을 가져오기\n",
    "print(data)\n",
    "type(obj3.values) "
=======
    "data= obj3.values #Series의 저장된 겂들을 가져오기\n",
    "print(data)\n",
    "type(obj3.values)"
>>>>>>> 6516124a7bc59f03e3d305b96c38cf89e11dee6a
   ]
  },
  {
   "cell_type": "markdown",
   "metadata": {},
   "source": [
    "* 값에는 모든 데이터 타입 사용이 가능"
   ]
  },
  {
   "cell_type": "code",
<<<<<<< HEAD
   "execution_count": 16,
=======
   "execution_count": 316,
>>>>>>> 6516124a7bc59f03e3d305b96c38cf89e11dee6a
   "metadata": {},
   "outputs": [
    {
     "data": {
      "text/plain": [
       "{'Ohio': 35000, 'Texas': 71000, 'Oregon': 16000, 'Utah': 5000}"
      ]
     },
<<<<<<< HEAD
     "execution_count": 16,
=======
     "execution_count": 316,
>>>>>>> 6516124a7bc59f03e3d305b96c38cf89e11dee6a
     "metadata": {},
     "output_type": "execute_result"
    }
   ],
   "source": [
    "obj3.to_dict() # series -> python dictionary 변환"
   ]
  },
  {
   "cell_type": "markdown",
   "metadata": {},
   "source": [
    "## 2.2 Series의 주요 속성 및 메서드 (p.199)\n",
    "    * 시리즈.속성\n",
    "    * 시리즈.메서드()"
   ]
  },
  {
   "cell_type": "markdown",
   "metadata": {},
   "source": [
    "* index - Series의 인덱스(혹은 인덱스 라벨) "
   ]
  },
  {
   "cell_type": "code",
<<<<<<< HEAD
   "execution_count": 18,
=======
   "execution_count": 317,
>>>>>>> 6516124a7bc59f03e3d305b96c38cf89e11dee6a
   "metadata": {},
   "outputs": [
    {
     "data": {
      "text/plain": [
       "California        NaN\n",
       "Ohio          35000.0\n",
       "Oregon        16000.0\n",
       "Texas         71000.0\n",
       "dtype: float64"
      ]
     },
<<<<<<< HEAD
     "execution_count": 18,
=======
     "execution_count": 317,
>>>>>>> 6516124a7bc59f03e3d305b96c38cf89e11dee6a
     "metadata": {},
     "output_type": "execute_result"
    }
   ],
   "source": [
    "sdata = {\"Ohio\": 35000, \"Texas\": 71000, \"Oregon\": 16000, \"Utah\": 5000} #dict\n",
    "states = [\"California\", \"Ohio\", \"Oregon\", \"Texas\"] #list\n",
    "obj4 = pd.Series(data = sdata, index=states)\n",
<<<<<<< HEAD
    "obj4  \n",
=======
    "obj4\n",
>>>>>>> 6516124a7bc59f03e3d305b96c38cf89e11dee6a
    "#NaN (Not a number) - null, 결측치"
   ]
  },
  {
   "cell_type": "code",
<<<<<<< HEAD
   "execution_count": 19,
=======
   "execution_count": 318,
>>>>>>> 6516124a7bc59f03e3d305b96c38cf89e11dee6a
   "metadata": {},
   "outputs": [
    {
     "data": {
      "text/plain": [
       "Index(['California', 'Ohio', 'Oregon', 'Texas'], dtype='object')"
      ]
     },
<<<<<<< HEAD
     "execution_count": 19,
=======
     "execution_count": 318,
>>>>>>> 6516124a7bc59f03e3d305b96c38cf89e11dee6a
     "metadata": {},
     "output_type": "execute_result"
    }
   ],
   "source": [
    "obj4.index"
   ]
  },
  {
   "cell_type": "markdown",
   "metadata": {},
   "source": [
<<<<<<< HEAD
    "* shape - Series의 데이터 개수을 튜플로 반환"
=======
    "* shape - Series의 데이터 개수를 튜플로 변환"
>>>>>>> 6516124a7bc59f03e3d305b96c38cf89e11dee6a
   ]
  },
  {
   "cell_type": "code",
<<<<<<< HEAD
   "execution_count": 84,
=======
   "execution_count": 319,
>>>>>>> 6516124a7bc59f03e3d305b96c38cf89e11dee6a
   "metadata": {},
   "outputs": [
    {
     "name": "stdout",
     "output_type": "stream",
     "text": [
<<<<<<< HEAD
      "state\n",
      "California        NaN\n",
      "Ohio          35000.0\n",
      "Oregon        16000.0\n",
      "Texas         35000.0\n",
      "Name: population, dtype: float64\n"
=======
      "California        NaN\n",
      "Ohio          35000.0\n",
      "Oregon        16000.0\n",
      "Texas         71000.0\n",
      "dtype: float64\n"
>>>>>>> 6516124a7bc59f03e3d305b96c38cf89e11dee6a
     ]
    },
    {
     "data": {
      "text/plain": [
       "(4,)"
      ]
     },
<<<<<<< HEAD
     "execution_count": 84,
=======
     "execution_count": 319,
>>>>>>> 6516124a7bc59f03e3d305b96c38cf89e11dee6a
     "metadata": {},
     "output_type": "execute_result"
    }
   ],
   "source": [
    "print(obj4)\n",
    "obj4.shape # (4,)"
   ]
  },
  {
   "cell_type": "markdown",
   "metadata": {},
   "source": [
    "* values - Series의 데이터"
   ]
  },
  {
   "cell_type": "code",
<<<<<<< HEAD
   "execution_count": 20,
=======
   "execution_count": 320,
>>>>>>> 6516124a7bc59f03e3d305b96c38cf89e11dee6a
   "metadata": {},
   "outputs": [
    {
     "data": {
      "text/plain": [
       "array([   nan, 35000., 16000., 71000.])"
      ]
     },
<<<<<<< HEAD
     "execution_count": 20,
=======
     "execution_count": 320,
>>>>>>> 6516124a7bc59f03e3d305b96c38cf89e11dee6a
     "metadata": {},
     "output_type": "execute_result"
    }
   ],
   "source": [
    "obj4.values"
   ]
  },
  {
   "cell_type": "markdown",
   "metadata": {},
   "source": [
    "* size - Series의 크기(데이터의 길이) "
   ]
  },
  {
   "cell_type": "code",
<<<<<<< HEAD
   "execution_count": 22,
=======
   "execution_count": 321,
>>>>>>> 6516124a7bc59f03e3d305b96c38cf89e11dee6a
   "metadata": {},
   "outputs": [
    {
     "name": "stdout",
     "output_type": "stream",
     "text": [
      "California        NaN\n",
      "Ohio          35000.0\n",
      "Oregon        16000.0\n",
      "Texas         71000.0\n",
      "dtype: float64\n",
      "\n"
     ]
    },
    {
     "data": {
      "text/plain": [
       "4"
      ]
     },
<<<<<<< HEAD
     "execution_count": 22,
=======
     "execution_count": 321,
>>>>>>> 6516124a7bc59f03e3d305b96c38cf89e11dee6a
     "metadata": {},
     "output_type": "execute_result"
    }
   ],
   "source": [
    "print(obj4)\n",
    "print()\n",
    "obj4.size"
   ]
  },
  {
   "cell_type": "markdown",
   "metadata": {},
   "source": [
    "* dtype - Series의 데이터(Series.values)의 데이터 타입\n",
    "  * int64\n",
    "  * float64\n",
    "  * object - 문지열이거나 2개 이상의 데이터 타입으로 이루어진 경우"
   ]
  },
  {
   "cell_type": "code",
<<<<<<< HEAD
   "execution_count": 23,
=======
   "execution_count": 322,
>>>>>>> 6516124a7bc59f03e3d305b96c38cf89e11dee6a
   "metadata": {},
   "outputs": [
    {
     "data": {
      "text/plain": [
       "dtype('float64')"
      ]
     },
<<<<<<< HEAD
     "execution_count": 23,
=======
     "execution_count": 322,
>>>>>>> 6516124a7bc59f03e3d305b96c38cf89e11dee6a
     "metadata": {},
     "output_type": "execute_result"
    }
   ],
   "source": [
    "obj4.dtype"
   ]
  },
  {
   "cell_type": "code",
<<<<<<< HEAD
   "execution_count": 25,
=======
   "execution_count": 323,
>>>>>>> 6516124a7bc59f03e3d305b96c38cf89e11dee6a
   "metadata": {},
   "outputs": [
    {
     "name": "stdout",
     "output_type": "stream",
     "text": [
      "0      2\n",
      "1    3.5\n",
      "2    abc\n",
      "dtype: object\n",
      "\n"
     ]
    },
    {
     "data": {
      "text/plain": [
       "dtype('O')"
      ]
     },
<<<<<<< HEAD
     "execution_count": 25,
=======
     "execution_count": 323,
>>>>>>> 6516124a7bc59f03e3d305b96c38cf89e11dee6a
     "metadata": {},
     "output_type": "execute_result"
    }
   ],
   "source": [
<<<<<<< HEAD
    "# ex\n",
    "s = pd.Series([2,3.5,'abc'])\n",
=======
    "#ex\n",
    "s= pd.Series([2,3.5,'abc'])\n",
>>>>>>> 6516124a7bc59f03e3d305b96c38cf89e11dee6a
    "print(s)\n",
    "print()\n",
    "s.dtype"
   ]
  },
  {
   "cell_type": "markdown",
   "metadata": {},
   "source": [
    "* describe() - 통계 정보를 한 눈에 제공해주는 함수"
   ]
  },
  {
   "cell_type": "code",
<<<<<<< HEAD
   "execution_count": 27,
=======
   "execution_count": 324,
>>>>>>> 6516124a7bc59f03e3d305b96c38cf89e11dee6a
   "metadata": {},
   "outputs": [
    {
     "name": "stdout",
     "output_type": "stream",
     "text": [
      "California        NaN\n",
      "Ohio          35000.0\n",
      "Oregon        16000.0\n",
      "Texas         71000.0\n",
      "dtype: float64\n",
      "\n"
     ]
    },
    {
     "data": {
      "text/plain": [
       "count        3.000000\n",
       "mean     40666.666667\n",
       "std      27934.447074\n",
       "min      16000.000000\n",
       "25%      25500.000000\n",
       "50%      35000.000000\n",
       "75%      53000.000000\n",
       "max      71000.000000\n",
       "dtype: float64"
      ]
     },
<<<<<<< HEAD
     "execution_count": 27,
=======
     "execution_count": 324,
>>>>>>> 6516124a7bc59f03e3d305b96c38cf89e11dee6a
     "metadata": {},
     "output_type": "execute_result"
    }
   ],
   "source": [
    "print(obj4)\n",
    "print()\n",
    "obj4.describe()"
   ]
  },
  {
   "cell_type": "markdown",
   "metadata": {},
   "source": [
    "* 통계함수 - max(), min(), mean()..  "
   ]
  },
  {
   "cell_type": "code",
<<<<<<< HEAD
   "execution_count": 28,
=======
   "execution_count": 325,
>>>>>>> 6516124a7bc59f03e3d305b96c38cf89e11dee6a
   "metadata": {},
   "outputs": [
    {
     "data": {
      "text/plain": [
       "71000.0"
      ]
     },
<<<<<<< HEAD
     "execution_count": 28,
=======
     "execution_count": 325,
>>>>>>> 6516124a7bc59f03e3d305b96c38cf89e11dee6a
     "metadata": {},
     "output_type": "execute_result"
    }
   ],
   "source": [
    "obj4.max()"
   ]
  },
  {
   "cell_type": "code",
<<<<<<< HEAD
   "execution_count": 29,
=======
   "execution_count": 326,
>>>>>>> 6516124a7bc59f03e3d305b96c38cf89e11dee6a
   "metadata": {},
   "outputs": [
    {
     "data": {
      "text/plain": [
       "16000.0"
      ]
     },
<<<<<<< HEAD
     "execution_count": 29,
=======
     "execution_count": 326,
>>>>>>> 6516124a7bc59f03e3d305b96c38cf89e11dee6a
     "metadata": {},
     "output_type": "execute_result"
    }
   ],
   "source": [
    "obj4.min()"
   ]
  },
  {
   "cell_type": "code",
<<<<<<< HEAD
   "execution_count": 34,
=======
   "execution_count": 327,
>>>>>>> 6516124a7bc59f03e3d305b96c38cf89e11dee6a
   "metadata": {},
   "outputs": [
    {
     "data": {
      "text/plain": [
       "40666.666666666664"
      ]
     },
<<<<<<< HEAD
     "execution_count": 34,
=======
     "execution_count": 327,
>>>>>>> 6516124a7bc59f03e3d305b96c38cf89e11dee6a
     "metadata": {},
     "output_type": "execute_result"
    }
   ],
   "source": [
    "obj4.mean()"
   ]
  },
  {
   "cell_type": "markdown",
   "metadata": {},
   "source": [
    "* isna() - 누락된 데이터를 찾을 때 불리언 배열을 반환\n",
    "* notna() -누락되지 않은 데이터을 찾을 때 불리언 배열로 반환"
   ]
  },
  {
   "cell_type": "code",
<<<<<<< HEAD
   "execution_count": 33,
=======
   "execution_count": 328,
>>>>>>> 6516124a7bc59f03e3d305b96c38cf89e11dee6a
   "metadata": {},
   "outputs": [
    {
     "data": {
      "text/plain": [
       "California    False\n",
       "Ohio           True\n",
       "Oregon         True\n",
       "Texas          True\n",
       "dtype: bool"
      ]
     },
<<<<<<< HEAD
     "execution_count": 33,
=======
     "execution_count": 328,
>>>>>>> 6516124a7bc59f03e3d305b96c38cf89e11dee6a
     "metadata": {},
     "output_type": "execute_result"
    }
   ],
   "source": [
<<<<<<< HEAD
    "obj4.isna() # 불리언 시리즈\n",
=======
    "obj4.isna #불이언 시리즈\n",
>>>>>>> 6516124a7bc59f03e3d305b96c38cf89e11dee6a
    "obj4.notna()"
   ]
  },
  {
   "cell_type": "markdown",
   "metadata": {},
   "source": [
    "* value_counts() - Series에 있는 데이터 값들의 개수\n",
    "* values"
   ]
  },
  {
   "cell_type": "code",
<<<<<<< HEAD
   "execution_count": 36,
=======
   "execution_count": 329,
>>>>>>> 6516124a7bc59f03e3d305b96c38cf89e11dee6a
   "metadata": {},
   "outputs": [
    {
     "name": "stdout",
     "output_type": "stream",
     "text": [
      "California        NaN\n",
      "Ohio          35000.0\n",
      "Oregon        16000.0\n",
      "Texas         35000.0\n",
      "dtype: float64\n"
     ]
    },
    {
     "data": {
      "text/plain": [
       "35000.0    2\n",
       "16000.0    1\n",
       "Name: count, dtype: int64"
      ]
     },
<<<<<<< HEAD
     "execution_count": 36,
=======
     "execution_count": 329,
>>>>>>> 6516124a7bc59f03e3d305b96c38cf89e11dee6a
     "metadata": {},
     "output_type": "execute_result"
    }
   ],
   "source": [
    "sdata = {\"Ohio\": 35000, \"Texas\": 35000, \"Oregon\": 16000, \"Utah\": 5000} #dict\n",
    "states = [\"California\", \"Ohio\", \"Oregon\", \"Texas\"] #list\n",
    "obj4 = pd.Series(data = sdata, index=states)\n",
    "print(obj4)\n",
    "obj4.value_counts()"
   ]
  },
  {
   "cell_type": "markdown",
   "metadata": {},
   "source": [
    "* 시리즈 간 산술연산 :\n",
    "  * 시리즈1.add(시리즈2) - Series의 데이터 각각에 값을 더하기\n",
    "  * 시리즈1.mul(시리즈2) - Series의 데이터 각각에 값을 곱하기\n",
    "  * 시리즈1.sub(시리즈2) - Series의 데이터 각각에 값을 빼기\n",
    "  * 시리즈1.div(시리즈2) - Series의 데이터 각각에 값을 나누기\n",
    "* 시리즈 + 숫자 - broadcasting"
   ]
  },
  {
   "cell_type": "code",
<<<<<<< HEAD
   "execution_count": 38,
=======
   "execution_count": 330,
>>>>>>> 6516124a7bc59f03e3d305b96c38cf89e11dee6a
   "metadata": {},
   "outputs": [
    {
     "name": "stdout",
     "output_type": "stream",
     "text": [
      "Ohio      35000\n",
      "Texas     71000\n",
      "Oregon    16000\n",
      "Utah       5000\n",
      "dtype: int64\n",
      "\n",
      "California        NaN\n",
      "Ohio          35000.0\n",
      "Oregon        16000.0\n",
      "Texas         35000.0\n",
      "dtype: float64\n",
      "\n"
     ]
    },
    {
     "data": {
      "text/plain": [
       "California         NaN\n",
       "Ohio           70000.0\n",
       "Oregon         32000.0\n",
       "Texas         106000.0\n",
       "Utah               NaN\n",
       "dtype: float64"
      ]
     },
<<<<<<< HEAD
     "execution_count": 38,
=======
     "execution_count": 330,
>>>>>>> 6516124a7bc59f03e3d305b96c38cf89e11dee6a
     "metadata": {},
     "output_type": "execute_result"
    }
   ],
   "source": [
    "print(obj3)\n",
    "print()\n",
    "print(obj4)\n",
    "print()\n",
    "obj3.add(obj4)"
   ]
  },
  {
   "cell_type": "markdown",
   "metadata": {},
   "source": [
    "### [Quiz] 시리즈 obj4의 데이터에 1000을 더하시오"
   ]
  },
  {
   "cell_type": "code",
<<<<<<< HEAD
   "execution_count": null,
   "metadata": {},
   "outputs": [],
   "source": []
=======
   "execution_count": 331,
   "metadata": {},
   "outputs": [
    {
     "name": "stdout",
     "output_type": "stream",
     "text": [
      "California        NaN\n",
      "Ohio          36000.0\n",
      "Oregon        17000.0\n",
      "Texas         36000.0\n",
      "dtype: float64\n"
     ]
    }
   ],
   "source": [
    "obj4 += 1000\n",
    "print(obj4)"
   ]
>>>>>>> 6516124a7bc59f03e3d305b96c38cf89e11dee6a
  },
  {
   "cell_type": "markdown",
   "metadata": {},
   "source": [
    "* series.isin(val_list) - Series에 있는 각각의 데이터를 vali_list 에 포함되어 있는지 여부를 확인하여 불리언 배열 반환\n",
    "\n",
    "cf) val_list in series"
   ]
  },
  {
   "cell_type": "code",
<<<<<<< HEAD
   "execution_count": 40,
=======
   "execution_count": 332,
>>>>>>> 6516124a7bc59f03e3d305b96c38cf89e11dee6a
   "metadata": {},
   "outputs": [
    {
     "name": "stdout",
     "output_type": "stream",
     "text": [
      "a     89\n",
      "b     90\n",
      "c     78\n",
      "d     65\n",
      "e     90\n",
      "f    100\n",
      "g     78\n",
      "h     55\n",
      "i     40\n",
      "j     90\n",
      "dtype: int64\n",
      "\n"
     ]
    },
    {
     "data": {
      "text/plain": [
       "a     True\n",
       "b    False\n",
       "c    False\n",
       "d    False\n",
       "e    False\n",
       "f    False\n",
       "g    False\n",
       "h    False\n",
       "i    False\n",
       "j    False\n",
       "dtype: bool"
      ]
     },
<<<<<<< HEAD
     "execution_count": 40,
=======
     "execution_count": 332,
>>>>>>> 6516124a7bc59f03e3d305b96c38cf89e11dee6a
     "metadata": {},
     "output_type": "execute_result"
    }
   ],
   "source": [
    "sample = Series(data=[89,90,78,65,90,100,78,55,40,90], index=['a','b','c','d','e','f','g','h','i','j'])\n",
    "print(sample)\n",
    "print()\n",
    "sample.isin([89])"
   ]
  },
  {
   "cell_type": "markdown",
   "metadata": {},
   "source": [
    "### [Quiz] sample 데이터 내에 90, 89가 있는지 확인하시오"
   ]
  },
  {
   "cell_type": "code",
<<<<<<< HEAD
   "execution_count": null,
   "metadata": {},
   "outputs": [],
   "source": []
=======
   "execution_count": 333,
   "metadata": {},
   "outputs": [
    {
     "name": "stdout",
     "output_type": "stream",
     "text": [
      "True\n",
      "True\n"
     ]
    }
   ],
   "source": [
    "print(90 in sample.values)\n",
    "print(89 in sample.values)"
   ]
>>>>>>> 6516124a7bc59f03e3d305b96c38cf89e11dee6a
  },
  {
   "cell_type": "markdown",
   "metadata": {},
   "source": [
    "### [Quiz] sample 데이터 내에 90이 있으면 True, 없으면 False을 출력"
   ]
  },
  {
   "cell_type": "code",
<<<<<<< HEAD
   "execution_count": null,
   "metadata": {},
   "outputs": [],
   "source": []
=======
   "execution_count": 334,
   "metadata": {},
   "outputs": [
    {
     "name": "stdout",
     "output_type": "stream",
     "text": [
      "True\n"
     ]
    }
   ],
   "source": [
    "print(90 in sample.values)"
   ]
>>>>>>> 6516124a7bc59f03e3d305b96c38cf89e11dee6a
  },
  {
   "cell_type": "markdown",
   "metadata": {},
   "source": [
    "### [Quiz] sample 인덱스 내에 'b' 있는지 True, 없으면 False을 출력"
   ]
  },
  {
   "cell_type": "code",
<<<<<<< HEAD
   "execution_count": null,
   "metadata": {},
   "outputs": [],
   "source": []
=======
   "execution_count": 335,
   "metadata": {},
   "outputs": [
    {
     "name": "stdout",
     "output_type": "stream",
     "text": [
      "False\n"
     ]
    }
   ],
   "source": [
    "print('b' in sample.values)"
   ]
>>>>>>> 6516124a7bc59f03e3d305b96c38cf89e11dee6a
  },
  {
   "cell_type": "markdown",
   "metadata": {},
   "source": [
<<<<<<< HEAD
    "* 매우 중요해요!!!!!\n",
    "* 시리즈.apply(func) - Series의 데이터에 func 함수를 적용하기 위한 함수\n",
    "* 시리즈.apply(lambda X: 함수 또는 처리 연산)"
=======
    "* 매우 중요해요!!!!!!!!!!\n",
    "* 시리즈.apply(func) - Series의 데이터에 func 함수를 적용하기 위한 함수\n",
    "* 시리즈.apply(lambda X: 함수 또는 처리 연산"
>>>>>>> 6516124a7bc59f03e3d305b96c38cf89e11dee6a
   ]
  },
  {
   "cell_type": "code",
<<<<<<< HEAD
   "execution_count": 44,
=======
   "execution_count": 336,
>>>>>>> 6516124a7bc59f03e3d305b96c38cf89e11dee6a
   "metadata": {},
   "outputs": [
    {
     "data": {
      "text/plain": [
       "pandas.core.series.Series"
      ]
     },
<<<<<<< HEAD
     "execution_count": 44,
=======
     "execution_count": 336,
>>>>>>> 6516124a7bc59f03e3d305b96c38cf89e11dee6a
     "metadata": {},
     "output_type": "execute_result"
    }
   ],
   "source": [
<<<<<<< HEAD
    "# 문제: 시리즈 sample의 각 데이터가 60 이상이면 pass, 60 미만이면 fail로 변경해서 결과을 출력하기\n",
    "# 1. 사용자 정의 함수 : 데이터가 60 이상이면 pass, 60 미만이면 fail 처리\n",
=======
    "# 문제: 시리즈 sample의 각 데이터가 60 이상이면 pass, 60 미만이면 fail로 변경해서 결과를 출력하기\n",
    "# 1. 사용자 정의 함수: 데이터가 60 이상이면 pass, 60 미만이면 fail 처리\n",
>>>>>>> 6516124a7bc59f03e3d305b96c38cf89e11dee6a
    "def pass_fail(val):\n",
    "    if val >= 60:\n",
    "        return 'pass'\n",
    "    else:\n",
    "        return 'fail'\n",
    "\n",
<<<<<<< HEAD
    "# 2. 지정 함수 적용하여 60점이상인 값들만 출력\n",
=======
    "# 2. 지정 함수 적용하여 60점 이상인 값들만 출력\n",
>>>>>>> 6516124a7bc59f03e3d305b96c38cf89e11dee6a
    "result = sample.apply(pass_fail)\n",
    "result\n",
    "type(result)"
   ]
  },
  {
   "cell_type": "code",
<<<<<<< HEAD
   "execution_count": 45,
=======
   "execution_count": 337,
>>>>>>> 6516124a7bc59f03e3d305b96c38cf89e11dee6a
   "metadata": {},
   "outputs": [
    {
     "data": {
      "text/plain": [
       "a    pass\n",
       "b    pass\n",
       "c    pass\n",
       "d    pass\n",
       "e    pass\n",
       "f    pass\n",
       "g    pass\n",
       "h    fail\n",
       "i    fail\n",
       "j    pass\n",
       "dtype: object"
      ]
     },
<<<<<<< HEAD
     "execution_count": 45,
=======
     "execution_count": 337,
>>>>>>> 6516124a7bc59f03e3d305b96c38cf89e11dee6a
     "metadata": {},
     "output_type": "execute_result"
    }
   ],
   "source": [
    "# 익명함수로 코딩\n",
    "sample.apply(lambda val: 'pass' if val >= 60 else 'fail')"
   ]
  },
  {
   "cell_type": "markdown",
   "metadata": {},
   "source": [
    "## 2.3 Series 객체와 색인의 이름 지정하기\n",
    "    * Series.name\n",
    "    * Series.index.name"
   ]
  },
  {
   "cell_type": "code",
<<<<<<< HEAD
   "execution_count": 49,
=======
   "execution_count": 338,
>>>>>>> 6516124a7bc59f03e3d305b96c38cf89e11dee6a
   "metadata": {},
   "outputs": [
    {
     "data": {
      "text/plain": [
       "state\n",
       "California        NaN\n",
<<<<<<< HEAD
       "Ohio          35000.0\n",
       "Oregon        16000.0\n",
       "Texas         35000.0\n",
       "Name: population, dtype: float64"
      ]
     },
     "execution_count": 49,
=======
       "Ohio          36000.0\n",
       "Oregon        17000.0\n",
       "Texas         36000.0\n",
       "Name: population, dtype: float64"
      ]
     },
     "execution_count": 338,
>>>>>>> 6516124a7bc59f03e3d305b96c38cf89e11dee6a
     "metadata": {},
     "output_type": "execute_result"
    }
   ],
   "source": [
    "obj4\n",
    "obj4.name = \"population\"\n",
    "obj4.index.name = \"state\"\n",
    "obj4"
   ]
  },
  {
   "cell_type": "markdown",
   "metadata": {},
   "source": [
    "## 2.4 원하는 데이터만 선택하기 (p.205~208 색인하기, 선택하기, 거르기)\n",
<<<<<<< HEAD
    "* 인덱스를 활용:  특정 인덱스(들)에 해당하는 데이터 선택\n",
    "  * 시리즈[인덱스]\n",
    "* 인덱스 슬라이싱: 주어진 범위에 해당하는 데이터를 선택\n",
    "  * 시리즈[start:end:step]\n",
    "* 시리즈.loc[인덱스], 시리즈.iloc[인덱스]\n",
    "* 조건 색인(불리언 색인)을 활용하여 조건에 맞는 데이터 선택\n",
=======
    "* 인덱스를 활용: 특정 인덱스(들)에 해당하는 데이터 선택\n",
    "  * 시리즈[인덱스]\n",
    "* 인덱스 슬라이싱: 주어진 범위에 해당하는 데이터를 선택\n",
    "  * 시리즈[start:end:step=2]\n",
    "* 시리즈.loc[인덱스], 시리즈.iloc[인덱스]\n",
    "*  조건 색인(불리언 색인)을 활용하여 조건에 맞는 데이터 선택\n",
>>>>>>> 6516124a7bc59f03e3d305b96c38cf89e11dee6a
    "  * 시리즈[조건식]"
   ]
  },
  {
   "cell_type": "markdown",
   "metadata": {},
   "source": [
    "    1) 특정 인덱스 선택하기 : 숫자 인덱스와 인덱스 라벨 모두 사용 가능"
   ]
  },
  {
   "cell_type": "code",
<<<<<<< HEAD
   "execution_count": 53,
=======
   "execution_count": 339,
>>>>>>> 6516124a7bc59f03e3d305b96c38cf89e11dee6a
   "metadata": {},
   "outputs": [
    {
     "name": "stdout",
     "output_type": "stream",
     "text": [
      "[0 1 2 3 4 5 6 7 8 9]\n"
     ]
    }
   ],
   "source": [
    "list(range(10)) # [0, 1, 2, 3, 4, 5, 6, 7, 8, 9]\n",
    "print(np.arange(10))"
   ]
  },
  {
   "cell_type": "markdown",
   "metadata": {},
   "source": [
    "#### <넘파이 1차원 배열로 시리즈 생성하기>"
   ]
  },
  {
   "cell_type": "code",
<<<<<<< HEAD
   "execution_count": 54,
=======
   "execution_count": 340,
>>>>>>> 6516124a7bc59f03e3d305b96c38cf89e11dee6a
   "metadata": {},
   "outputs": [
    {
     "data": {
      "text/plain": [
       "a    0.0\n",
       "b    1.0\n",
       "c    2.0\n",
       "d    3.0\n",
       "dtype: float64"
      ]
     },
<<<<<<< HEAD
     "execution_count": 54,
=======
     "execution_count": 340,
>>>>>>> 6516124a7bc59f03e3d305b96c38cf89e11dee6a
     "metadata": {},
     "output_type": "execute_result"
    }
   ],
   "source": [
<<<<<<< HEAD
    "obj = pd.Series(data= np.arange(4.0), index=[\"a\", \"b\", \"c\", \"d\"])\n",
=======
    "obj = pd.Series(np.arange(4.0), index=[\"a\", \"b\", \"c\", \"d\"])\n",
>>>>>>> 6516124a7bc59f03e3d305b96c38cf89e11dee6a
    "obj"
   ]
  },
  {
   "cell_type": "code",
<<<<<<< HEAD
   "execution_count": 58,
=======
   "execution_count": 341,
>>>>>>> 6516124a7bc59f03e3d305b96c38cf89e11dee6a
   "metadata": {},
   "outputs": [
    {
     "data": {
      "text/plain": [
       "1.0"
      ]
     },
<<<<<<< HEAD
     "execution_count": 58,
=======
     "execution_count": 341,
>>>>>>> 6516124a7bc59f03e3d305b96c38cf89e11dee6a
     "metadata": {},
     "output_type": "execute_result"
    }
   ],
   "source": [
    "obj[\"b\"] # 인덱스 라벨로 선택"
   ]
  },
  {
   "cell_type": "markdown",
   "metadata": {},
   "source": [
    "    2) 여러 인덱스를 동시에 선택하기 : 선택하고자 하는 인덱스 목록을 리스트로 전달"
   ]
  },
  {
   "cell_type": "code",
<<<<<<< HEAD
   "execution_count": 59,
=======
   "execution_count": 342,
>>>>>>> 6516124a7bc59f03e3d305b96c38cf89e11dee6a
   "metadata": {},
   "outputs": [
    {
     "data": {
      "text/plain": [
       "b    1.0\n",
       "d    3.0\n",
       "dtype: float64"
      ]
     },
<<<<<<< HEAD
     "execution_count": 59,
=======
     "execution_count": 342,
>>>>>>> 6516124a7bc59f03e3d305b96c38cf89e11dee6a
     "metadata": {},
     "output_type": "execute_result"
    }
   ],
   "source": [
<<<<<<< HEAD
    "obj[[\"b\",\"d\"]]  # 2, 4번쩨 데이터 선택"
=======
    "obj[[\"b\",\"d\"]] # 2,4번째 데이터 선택 "
>>>>>>> 6516124a7bc59f03e3d305b96c38cf89e11dee6a
   ]
  },
  {
   "cell_type": "code",
<<<<<<< HEAD
   "execution_count": 51,
=======
   "execution_count": 343,
>>>>>>> 6516124a7bc59f03e3d305b96c38cf89e11dee6a
   "metadata": {},
   "outputs": [
    {
     "data": {
      "text/plain": [
       "b    1.0\n",
       "d    3.0\n",
       "dtype: float64"
      ]
     },
<<<<<<< HEAD
     "execution_count": 51,
=======
     "execution_count": 343,
>>>>>>> 6516124a7bc59f03e3d305b96c38cf89e11dee6a
     "metadata": {},
     "output_type": "execute_result"
    }
   ],
   "source": [
    "obj[['b','d']]"
   ]
  },
  {
   "cell_type": "markdown",
   "metadata": {},
   "source": [
    "    3) 인덱스 슬라이싱 - 주어진 범위에 해당하는 데이터 선택"
   ]
  },
  {
   "cell_type": "code",
<<<<<<< HEAD
   "execution_count": 60,
=======
   "execution_count": 344,
>>>>>>> 6516124a7bc59f03e3d305b96c38cf89e11dee6a
   "metadata": {},
   "outputs": [
    {
     "data": {
      "text/plain": [
       "b    1.0\n",
       "c    2.0\n",
       "dtype: float64"
      ]
     },
<<<<<<< HEAD
     "execution_count": 60,
=======
     "execution_count": 344,
>>>>>>> 6516124a7bc59f03e3d305b96c38cf89e11dee6a
     "metadata": {},
     "output_type": "execute_result"
    }
   ],
   "source": [
    "obj[1:3] # 1, 2"
   ]
  },
  {
   "cell_type": "code",
<<<<<<< HEAD
   "execution_count": 61,
=======
   "execution_count": 345,
>>>>>>> 6516124a7bc59f03e3d305b96c38cf89e11dee6a
   "metadata": {},
   "outputs": [
    {
     "data": {
      "text/plain": [
       "b    1.0\n",
       "c    2.0\n",
       "dtype: float64"
      ]
     },
<<<<<<< HEAD
     "execution_count": 61,
=======
     "execution_count": 345,
>>>>>>> 6516124a7bc59f03e3d305b96c38cf89e11dee6a
     "metadata": {},
     "output_type": "execute_result"
    }
   ],
   "source": [
    "obj[-3:-1]"
   ]
  },
  {
   "cell_type": "code",
<<<<<<< HEAD
   "execution_count": 62,
=======
   "execution_count": 346,
>>>>>>> 6516124a7bc59f03e3d305b96c38cf89e11dee6a
   "metadata": {},
   "outputs": [
    {
     "data": {
      "text/plain": [
       "b    1.0\n",
       "c    2.0\n",
       "dtype: float64"
      ]
     },
<<<<<<< HEAD
     "execution_count": 62,
=======
     "execution_count": 346,
>>>>>>> 6516124a7bc59f03e3d305b96c38cf89e11dee6a
     "metadata": {},
     "output_type": "execute_result"
    }
   ],
   "source": [
    "obj['b':'c'] # 레이블별 인덱스는 포함"
   ]
  },
  {
   "cell_type": "markdown",
   "metadata": {},
   "source": [
    "    4) loc[], iloc[]"
   ]
  },
  {
   "cell_type": "code",
<<<<<<< HEAD
   "execution_count": 63,
=======
   "execution_count": 347,
>>>>>>> 6516124a7bc59f03e3d305b96c38cf89e11dee6a
   "metadata": {},
   "outputs": [
    {
     "data": {
      "text/plain": [
       "b    1.0\n",
       "c    2.0\n",
       "dtype: float64"
      ]
     },
<<<<<<< HEAD
     "execution_count": 63,
=======
     "execution_count": 347,
>>>>>>> 6516124a7bc59f03e3d305b96c38cf89e11dee6a
     "metadata": {},
     "output_type": "execute_result"
    }
   ],
   "source": [
    "obj.loc[['b','c']]"
   ]
  },
  {
   "cell_type": "code",
<<<<<<< HEAD
   "execution_count": 64,
=======
   "execution_count": 348,
>>>>>>> 6516124a7bc59f03e3d305b96c38cf89e11dee6a
   "metadata": {},
   "outputs": [
    {
     "data": {
      "text/plain": [
       "b    1.0\n",
       "c    2.0\n",
       "dtype: float64"
      ]
     },
<<<<<<< HEAD
     "execution_count": 64,
=======
     "execution_count": 348,
>>>>>>> 6516124a7bc59f03e3d305b96c38cf89e11dee6a
     "metadata": {},
     "output_type": "execute_result"
    }
   ],
   "source": [
    "obj.iloc[[1,2]]"
   ]
  },
  {
   "cell_type": "markdown",
   "metadata": {},
   "source": [
    "    4) **조건 색인(블리언 인덱싱)** : 조건 색인을 활용하여 원하는 데이터 선택"
   ]
  },
  {
   "cell_type": "code",
<<<<<<< HEAD
   "execution_count": 65,
=======
   "execution_count": 349,
>>>>>>> 6516124a7bc59f03e3d305b96c38cf89e11dee6a
   "metadata": {},
   "outputs": [
    {
     "data": {
      "text/plain": [
       "a    0.0\n",
       "b    1.0\n",
       "c    2.0\n",
       "d    3.0\n",
       "dtype: float64"
      ]
     },
<<<<<<< HEAD
     "execution_count": 65,
=======
     "execution_count": 349,
>>>>>>> 6516124a7bc59f03e3d305b96c38cf89e11dee6a
     "metadata": {},
     "output_type": "execute_result"
    }
   ],
   "source": [
    "obj"
   ]
  },
  {
   "cell_type": "code",
<<<<<<< HEAD
   "execution_count": 66,
=======
   "execution_count": 350,
>>>>>>> 6516124a7bc59f03e3d305b96c38cf89e11dee6a
   "metadata": {},
   "outputs": [
    {
     "data": {
      "text/plain": [
       "a     True\n",
       "b     True\n",
       "c    False\n",
       "d    False\n",
       "dtype: bool"
      ]
     },
<<<<<<< HEAD
     "execution_count": 66,
=======
     "execution_count": 350,
>>>>>>> 6516124a7bc59f03e3d305b96c38cf89e11dee6a
     "metadata": {},
     "output_type": "execute_result"
    }
   ],
   "source": [
    "# 1. 조건식 정의+\n",
    "bool_index = obj < 2 # 조건 색인\n",
    "bool_index"
   ]
  },
  {
   "cell_type": "code",
<<<<<<< HEAD
   "execution_count": 67,
=======
   "execution_count": 351,
>>>>>>> 6516124a7bc59f03e3d305b96c38cf89e11dee6a
   "metadata": {},
   "outputs": [
    {
     "data": {
      "text/plain": [
       "a    0.0\n",
       "b    1.0\n",
       "dtype: float64"
      ]
     },
<<<<<<< HEAD
     "execution_count": 67,
=======
     "execution_count": 351,
>>>>>>> 6516124a7bc59f03e3d305b96c38cf89e11dee6a
     "metadata": {},
     "output_type": "execute_result"
    }
   ],
   "source": [
<<<<<<< HEAD
    "# 2. 조건 색인을 이용하여 True에 해당하는 데이터 추출 -> 새로운 시리즈 \n",
=======
    "# 2. 조건 색인을 이용하여 True에 해당하는 데이터 추출-> 새로운 시리즈\n",
>>>>>>> 6516124a7bc59f03e3d305b96c38cf89e11dee6a
    "obj[bool_index]"
   ]
  },
  {
   "cell_type": "markdown",
   "metadata": {},
   "source": [
    "### [Quiz] sample 데이터에서 80 이상 데이터을 선택하시오.\n",
    "    sample = Series(data=[89,90,78,65,90,100,78,55,40,90], index=['a','b','c','d','e','f','g','h','i','j'])"
   ]
  },
  {
   "cell_type": "code",
<<<<<<< HEAD
   "execution_count": null,
   "metadata": {},
   "outputs": [],
   "source": []
=======
   "execution_count": 352,
   "metadata": {},
   "outputs": [
    {
     "name": "stdout",
     "output_type": "stream",
     "text": [
      "a     89\n",
      "b     90\n",
      "e     90\n",
      "f    100\n",
      "j     90\n",
      "dtype: int64\n"
     ]
    }
   ],
   "source": [
    "data= sample[sample>=80]\n",
    "print(data)"
   ]
>>>>>>> 6516124a7bc59f03e3d305b96c38cf89e11dee6a
  },
  {
   "cell_type": "markdown",
   "metadata": {},
   "source": [
    "### [Quiz] sample 데이터의 평균보다 작은 데이터만 선택하시오."
   ]
  },
  {
   "cell_type": "code",
<<<<<<< HEAD
   "execution_count": null,
   "metadata": {},
   "outputs": [],
   "source": []
=======
   "execution_count": 353,
   "metadata": {},
   "outputs": [
    {
     "name": "stdout",
     "output_type": "stream",
     "text": [
      "d    65\n",
      "h    55\n",
      "i    40\n",
      "dtype: int64\n"
     ]
    }
   ],
   "source": [
    "average= sample.mean()\n",
    "data= sample[sample<average]\n",
    "print(data)"
   ]
>>>>>>> 6516124a7bc59f03e3d305b96c38cf89e11dee6a
  },
  {
   "cell_type": "markdown",
   "metadata": {},
   "source": [
    "### [Quiz] sample 데이터가 60과 80 사이의 데이터만 선택"
   ]
  },
  {
   "cell_type": "code",
<<<<<<< HEAD
   "execution_count": null,
   "metadata": {},
   "outputs": [],
   "source": []
=======
   "execution_count": 354,
   "metadata": {},
   "outputs": [
    {
     "name": "stdout",
     "output_type": "stream",
     "text": [
      "c    78\n",
      "d    65\n",
      "g    78\n",
      "dtype: int64\n"
     ]
    }
   ],
   "source": [
    "data= sample[(sample>60) & (sample<80)]\n",
    "print(data)"
   ]
>>>>>>> 6516124a7bc59f03e3d305b96c38cf89e11dee6a
  },
  {
   "cell_type": "markdown",
   "metadata": {},
   "source": [
    "# 3. DataFrame\n",
    "* 이차원 형태의 데이터(중첩된 리스트, 딕셔너리, 넘파이 이차원 배열)을 저장, 처리, 관리, 분석하기 위한 자료구조\n",
    "* 이차원 데이터는 여러 개의 1차원 데이터들의 모임\n",
    "* 여러 개의 Series의 묶음\n",
    "* 표 같은 스프레드시트 형식의 자료구조\n",
    "  * 여러 개의 열이 존재하고 서로 다른 종류의 값(숫자, 문지열, 시계열, 불리언 등) 을 담을 수 있다.\n",
    "* 2차원 형태의 데이터(값, value)와 2개의 인덱스(index) 즉 행과 열로 구성\n",
    "  * row index는 순서가 존재\n",
    "    * 숫자 인덱스나 문자 인덱스로 색인 가능\n",
    "    * axis = 0\n",
    "  * column index는 순서가 존재하지 않음\n",
    "    * axis = 1\n",
    "  * 2차원 형태의 데이터 타입에는 제약이 없음\n",
    "* 생성하는 방법\n",
    "  * 동일한 길이의 리스트에 담긴 딕셔너리를 이용\n",
    "  * 넘파이 배열을 이용"
   ]
  },
  {
   "cell_type": "markdown",
   "metadata": {},
   "source": [
    "## 3.1 중첩리스트을 이용하여 DataFrame 생성"
   ]
  },
  {
   "cell_type": "code",
<<<<<<< HEAD
   "execution_count": 68,
=======
   "execution_count": 355,
>>>>>>> 6516124a7bc59f03e3d305b96c38cf89e11dee6a
   "metadata": {},
   "outputs": [
    {
     "data": {
      "text/html": [
       "<div>\n",
       "<style scoped>\n",
       "    .dataframe tbody tr th:only-of-type {\n",
       "        vertical-align: middle;\n",
       "    }\n",
       "\n",
       "    .dataframe tbody tr th {\n",
       "        vertical-align: top;\n",
       "    }\n",
       "\n",
       "    .dataframe thead th {\n",
       "        text-align: right;\n",
       "    }\n",
       "</style>\n",
       "<table border=\"1\" class=\"dataframe\">\n",
       "  <thead>\n",
       "    <tr style=\"text-align: right;\">\n",
       "      <th></th>\n",
       "      <th>0</th>\n",
       "      <th>1</th>\n",
       "      <th>2</th>\n",
       "    </tr>\n",
       "  </thead>\n",
       "  <tbody>\n",
       "    <tr>\n",
       "      <th>0</th>\n",
       "      <td>1</td>\n",
       "      <td>2</td>\n",
       "      <td>3</td>\n",
       "    </tr>\n",
       "    <tr>\n",
       "      <th>1</th>\n",
       "      <td>kim</td>\n",
       "      <td>park</td>\n",
       "      <td>lee</td>\n",
       "    </tr>\n",
       "    <tr>\n",
       "      <th>2</th>\n",
       "      <td>90</td>\n",
       "      <td>80</td>\n",
       "      <td>100</td>\n",
       "    </tr>\n",
       "  </tbody>\n",
       "</table>\n",
       "</div>"
      ],
      "text/plain": [
       "     0     1    2\n",
       "0    1     2    3\n",
       "1  kim  park  lee\n",
       "2   90    80  100"
      ]
     },
<<<<<<< HEAD
     "execution_count": 68,
=======
     "execution_count": 355,
>>>>>>> 6516124a7bc59f03e3d305b96c38cf89e11dee6a
     "metadata": {},
     "output_type": "execute_result"
    }
   ],
   "source": [
    "#1. Pandas 라이브러리 임포트\n",
    "import pandas as pd\n",
    "from pandas import Series, DataFrame\n",
    "# 2. DataFrame 생성하고 데이터 할당하기 : 로우 인덱스와 컬럼 인덱스을  지정하지 않을 경우 기본값으로 할당\n",
    "df = DataFrame(data = [[1,2,3],\n",
    "                       ['kim','park','lee'],\n",
    "                       [90, 80, 100]\n",
    "                      ])\n",
    "df"
   ]
  },
  {
   "cell_type": "code",
<<<<<<< HEAD
   "execution_count": 70,
=======
   "execution_count": 356,
>>>>>>> 6516124a7bc59f03e3d305b96c38cf89e11dee6a
   "metadata": {},
   "outputs": [
    {
     "data": {
      "text/html": [
       "<div>\n",
       "<style scoped>\n",
       "    .dataframe tbody tr th:only-of-type {\n",
       "        vertical-align: middle;\n",
       "    }\n",
       "\n",
       "    .dataframe tbody tr th {\n",
       "        vertical-align: top;\n",
       "    }\n",
       "\n",
       "    .dataframe thead th {\n",
       "        text-align: right;\n",
       "    }\n",
       "</style>\n",
       "<table border=\"1\" class=\"dataframe\">\n",
       "  <thead>\n",
       "    <tr style=\"text-align: right;\">\n",
       "      <th></th>\n",
       "      <th>c1</th>\n",
       "      <th>c2</th>\n",
       "      <th>c3</th>\n",
       "    </tr>\n",
       "  </thead>\n",
       "  <tbody>\n",
       "    <tr>\n",
       "      <th>r1</th>\n",
       "      <td>1</td>\n",
       "      <td>2</td>\n",
       "      <td>3</td>\n",
       "    </tr>\n",
       "    <tr>\n",
       "      <th>r2</th>\n",
       "      <td>kim</td>\n",
       "      <td>park</td>\n",
       "      <td>lee</td>\n",
       "    </tr>\n",
       "    <tr>\n",
       "      <th>r3</th>\n",
       "      <td>90</td>\n",
       "      <td>80</td>\n",
       "      <td>100</td>\n",
       "    </tr>\n",
       "  </tbody>\n",
       "</table>\n",
       "</div>"
      ],
      "text/plain": [
       "     c1    c2   c3\n",
       "r1    1     2    3\n",
       "r2  kim  park  lee\n",
       "r3   90    80  100"
      ]
     },
<<<<<<< HEAD
     "execution_count": 70,
=======
     "execution_count": 356,
>>>>>>> 6516124a7bc59f03e3d305b96c38cf89e11dee6a
     "metadata": {},
     "output_type": "execute_result"
    }
   ],
   "source": [
    "#3. 로우 인덱스와 컬럼 인덱스 지정하기\n",
    "df1 = DataFrame(data = [[1,2,3],\n",
    "                       ['kim','park','lee'],\n",
    "                       [90, 80, 100]], index = ['r1','r2','r3'], columns =['c1','c2','c3'])\n",
    "df1"
   ]
  },
  {
   "cell_type": "markdown",
   "metadata": {},
   "source": [
    "## 3.2 딕셔너리을 이용하여 DataFrame 생성하기"
   ]
  },
  {
   "cell_type": "code",
<<<<<<< HEAD
   "execution_count": 74,
=======
   "execution_count": 357,
>>>>>>> 6516124a7bc59f03e3d305b96c38cf89e11dee6a
   "metadata": {},
   "outputs": [
    {
     "data": {
      "text/html": [
       "<div>\n",
       "<style scoped>\n",
       "    .dataframe tbody tr th:only-of-type {\n",
       "        vertical-align: middle;\n",
       "    }\n",
       "\n",
       "    .dataframe tbody tr th {\n",
       "        vertical-align: top;\n",
       "    }\n",
       "\n",
       "    .dataframe thead th {\n",
       "        text-align: right;\n",
       "    }\n",
       "</style>\n",
       "<table border=\"1\" class=\"dataframe\">\n",
       "  <thead>\n",
       "    <tr style=\"text-align: right;\">\n",
       "      <th></th>\n",
       "      <th>state</th>\n",
       "      <th>year</th>\n",
       "      <th>pop</th>\n",
       "    </tr>\n",
       "  </thead>\n",
       "  <tbody>\n",
       "    <tr>\n",
       "      <th>0</th>\n",
       "      <td>Ohio</td>\n",
       "      <td>2000</td>\n",
       "      <td>1.5</td>\n",
       "    </tr>\n",
       "    <tr>\n",
       "      <th>1</th>\n",
       "      <td>Ohio</td>\n",
       "      <td>2001</td>\n",
       "      <td>1.7</td>\n",
       "    </tr>\n",
       "    <tr>\n",
       "      <th>2</th>\n",
       "      <td>Ohio</td>\n",
       "      <td>2002</td>\n",
       "      <td>3.6</td>\n",
       "    </tr>\n",
       "    <tr>\n",
       "      <th>3</th>\n",
       "      <td>Nevada</td>\n",
       "      <td>2001</td>\n",
       "      <td>2.4</td>\n",
       "    </tr>\n",
       "    <tr>\n",
       "      <th>4</th>\n",
       "      <td>Nevada</td>\n",
       "      <td>2002</td>\n",
       "      <td>2.9</td>\n",
       "    </tr>\n",
       "    <tr>\n",
       "      <th>5</th>\n",
       "      <td>Nevada</td>\n",
       "      <td>2003</td>\n",
       "      <td>3.2</td>\n",
       "    </tr>\n",
       "  </tbody>\n",
       "</table>\n",
       "</div>"
      ],
      "text/plain": [
       "    state  year  pop\n",
       "0    Ohio  2000  1.5\n",
       "1    Ohio  2001  1.7\n",
       "2    Ohio  2002  3.6\n",
       "3  Nevada  2001  2.4\n",
       "4  Nevada  2002  2.9\n",
       "5  Nevada  2003  3.2"
      ]
     },
<<<<<<< HEAD
     "execution_count": 74,
=======
     "execution_count": 357,
>>>>>>> 6516124a7bc59f03e3d305b96c38cf89e11dee6a
     "metadata": {},
     "output_type": "execute_result"
    }
   ],
   "source": [
    "#1. 딕셔너리 타입 데이터를 생성하기 - 키값이 컬럼에 대응\n",
    "data = {\"state\": [\"Ohio\", \"Ohio\", \"Ohio\", \"Nevada\", \"Nevada\", \"Nevada\"],\n",
    "        \"year\": [2000, 2001, 2002, 2001, 2002, 2003],\n",
    "        \"pop\": [1.5, 1.7, 3.6, 2.4, 2.9, 3.2]}\n",
<<<<<<< HEAD
    "# s = pd.Series(data)\n",
    "# s\n",
=======
    "#s= pd.Series(data)\n",
    "#s\n",
>>>>>>> 6516124a7bc59f03e3d305b96c38cf89e11dee6a
    "frame = pd.DataFrame(data)\n",
    "frame"
   ]
  },
  {
   "cell_type": "code",
<<<<<<< HEAD
   "execution_count": 75,
=======
   "execution_count": 358,
>>>>>>> 6516124a7bc59f03e3d305b96c38cf89e11dee6a
   "metadata": {},
   "outputs": [
    {
     "data": {
      "text/html": [
       "<div>\n",
       "<style scoped>\n",
       "    .dataframe tbody tr th:only-of-type {\n",
       "        vertical-align: middle;\n",
       "    }\n",
       "\n",
       "    .dataframe tbody tr th {\n",
       "        vertical-align: top;\n",
       "    }\n",
       "\n",
       "    .dataframe thead th {\n",
       "        text-align: right;\n",
       "    }\n",
       "</style>\n",
       "<table border=\"1\" class=\"dataframe\">\n",
       "  <thead>\n",
       "    <tr style=\"text-align: right;\">\n",
       "      <th></th>\n",
       "      <th>state</th>\n",
       "      <th>year</th>\n",
       "      <th>pop</th>\n",
       "    </tr>\n",
       "  </thead>\n",
       "  <tbody>\n",
       "    <tr>\n",
       "      <th>a</th>\n",
       "      <td>Ohio</td>\n",
       "      <td>2000</td>\n",
       "      <td>1.5</td>\n",
       "    </tr>\n",
       "    <tr>\n",
       "      <th>b</th>\n",
       "      <td>Ohio</td>\n",
       "      <td>2001</td>\n",
       "      <td>1.7</td>\n",
       "    </tr>\n",
       "    <tr>\n",
       "      <th>c</th>\n",
       "      <td>Ohio</td>\n",
       "      <td>2002</td>\n",
       "      <td>3.6</td>\n",
       "    </tr>\n",
       "    <tr>\n",
       "      <th>d</th>\n",
       "      <td>Nevada</td>\n",
       "      <td>2001</td>\n",
       "      <td>2.4</td>\n",
       "    </tr>\n",
       "    <tr>\n",
       "      <th>e</th>\n",
       "      <td>Nevada</td>\n",
       "      <td>2002</td>\n",
       "      <td>2.9</td>\n",
       "    </tr>\n",
       "    <tr>\n",
       "      <th>f</th>\n",
       "      <td>Nevada</td>\n",
       "      <td>2003</td>\n",
       "      <td>3.2</td>\n",
       "    </tr>\n",
       "  </tbody>\n",
       "</table>\n",
       "</div>"
      ],
      "text/plain": [
       "    state  year  pop\n",
       "a    Ohio  2000  1.5\n",
       "b    Ohio  2001  1.7\n",
       "c    Ohio  2002  3.6\n",
       "d  Nevada  2001  2.4\n",
       "e  Nevada  2002  2.9\n",
       "f  Nevada  2003  3.2"
      ]
     },
<<<<<<< HEAD
     "execution_count": 75,
=======
     "execution_count": 358,
>>>>>>> 6516124a7bc59f03e3d305b96c38cf89e11dee6a
     "metadata": {},
     "output_type": "execute_result"
    }
   ],
   "source": [
    "# 2. 인덱스 변경\n",
    "frame.index = ['a','b','c','d','e','f']\n",
    "frame"
   ]
  },
  {
   "cell_type": "markdown",
   "metadata": {},
   "source": [
    "### [Quiz] 2021, 2022, 2023년 3년간 대전, 대구, 부산, 광주, 원주의 5개 도시의 인구 수을 저장하는 데이터프레임 생성하기\n",
    "\n",
    "    data = {'서울': [950, 945, 938], \n",
    "        '대전': [800, 790, 780],\n",
    "        '부산': [920, 910, 900],\n",
    "        '광주': [700, 690, 680],\n",
    "        '원주': [300, 290, 250]\n",
    "       }"
   ]
  },
  {
   "cell_type": "code",
<<<<<<< HEAD
   "execution_count": null,
   "metadata": {},
   "outputs": [],
   "source": []
  },
  {
   "cell_type": "markdown",
   "metadata": {},
   "source": [
    "## 3.3 DataFrame 의 주요 기능 : 속성과 함수 \n"
   ]
  },
  {
   "cell_type": "markdown",
   "metadata": {},
   "source": [
    "### 3.3.1 주요 속성\n",
    "* 데이터프레임.속성명"
   ]
  },
  {
   "cell_type": "code",
   "execution_count": 77,
   "metadata": {},
   "outputs": [
    {
     "name": "stdout",
     "output_type": "stream",
     "text": [
      "    state  year  pop\n",
      "a    Ohio  2000  1.5\n",
      "b    Ohio  2001  1.7\n",
      "c    Ohio  2002  3.6\n",
      "d  Nevada  2001  2.4\n",
      "e  Nevada  2002  2.9\n",
      "f  Nevada  2003  3.2\n"
     ]
    },
    {
     "data": {
      "text/plain": [
       "Index(['a', 'b', 'c', 'd', 'e', 'f'], dtype='object')"
      ]
     },
     "execution_count": 77,
     "metadata": {},
     "output_type": "execute_result"
    }
   ],
   "source": [
    "# 1. index : 데이터프레임의 인덱스를 리스트로 반환\n",
    "print(frame)\n",
    "frame.index"
   ]
  },
  {
   "cell_type": "code",
   "execution_count": 78,
   "metadata": {},
   "outputs": [
    {
     "data": {
      "text/plain": [
       "Index(['state', 'year', 'pop'], dtype='object')"
      ]
     },
     "execution_count": 78,
     "metadata": {},
     "output_type": "execute_result"
    }
   ],
   "source": [
    "# 2. columns : 데이터프레임의 컬럼을 리스트로 반환\n",
    "frame.columns"
   ]
  },
  {
   "cell_type": "code",
   "execution_count": 80,
   "metadata": {},
   "outputs": [
    {
     "data": {
      "text/plain": [
       "numpy.ndarray"
      ]
     },
     "execution_count": 80,
     "metadata": {},
     "output_type": "execute_result"
    }
   ],
   "source": [
    "# 3. values : 데이터프레임의 데이터 반환(numpy.ndarray)\n",
    "frame.values\n",
    "type(frame.values)"
   ]
  },
  {
   "cell_type": "code",
   "execution_count": 85,
   "metadata": {},
   "outputs": [
    {
     "data": {
      "text/plain": [
       "(6, 3)"
      ]
     },
     "execution_count": 85,
     "metadata": {},
     "output_type": "execute_result"
    }
   ],
   "source": [
    "# 4. shape : 행과 열의 개수을 튜플로 반환\n",
    "frame.shape"
   ]
  },
  {
   "cell_type": "code",
   "execution_count": 87,
=======
   "execution_count": 359,
>>>>>>> 6516124a7bc59f03e3d305b96c38cf89e11dee6a
   "metadata": {},
   "outputs": [
    {
     "data": {
      "text/html": [
       "<div>\n",
       "<style scoped>\n",
       "    .dataframe tbody tr th:only-of-type {\n",
       "        vertical-align: middle;\n",
       "    }\n",
       "\n",
       "    .dataframe tbody tr th {\n",
       "        vertical-align: top;\n",
       "    }\n",
       "\n",
       "    .dataframe thead th {\n",
       "        text-align: right;\n",
       "    }\n",
       "</style>\n",
       "<table border=\"1\" class=\"dataframe\">\n",
       "  <thead>\n",
       "    <tr style=\"text-align: right;\">\n",
       "      <th></th>\n",
       "      <th>state</th>\n",
       "      <th>year</th>\n",
       "      <th>pop</th>\n",
       "    </tr>\n",
       "  </thead>\n",
       "  <tbody>\n",
       "    <tr>\n",
       "      <th>a</th>\n",
       "      <td>Ohio</td>\n",
       "      <td>2000</td>\n",
       "      <td>1.5</td>\n",
       "    </tr>\n",
       "    <tr>\n",
       "      <th>b</th>\n",
       "      <td>Ohio</td>\n",
       "      <td>2001</td>\n",
       "      <td>1.7</td>\n",
       "    </tr>\n",
<<<<<<< HEAD
=======
       "    <tr>\n",
       "      <th>c</th>\n",
       "      <td>Ohio</td>\n",
       "      <td>2002</td>\n",
       "      <td>3.6</td>\n",
       "    </tr>\n",
       "    <tr>\n",
       "      <th>d</th>\n",
       "      <td>Nevada</td>\n",
       "      <td>2001</td>\n",
       "      <td>2.4</td>\n",
       "    </tr>\n",
       "    <tr>\n",
       "      <th>e</th>\n",
       "      <td>Nevada</td>\n",
       "      <td>2002</td>\n",
       "      <td>2.9</td>\n",
       "    </tr>\n",
       "    <tr>\n",
       "      <th>f</th>\n",
       "      <td>Nevada</td>\n",
       "      <td>2003</td>\n",
       "      <td>3.2</td>\n",
       "    </tr>\n",
>>>>>>> 6516124a7bc59f03e3d305b96c38cf89e11dee6a
       "  </tbody>\n",
       "</table>\n",
       "</div>"
      ],
      "text/plain": [
<<<<<<< HEAD
       "  state  year  pop\n",
       "a  Ohio  2000  1.5\n",
       "b  Ohio  2001  1.7"
      ]
     },
     "execution_count": 87,
=======
       "    state  year  pop\n",
       "a    Ohio  2000  1.5\n",
       "b    Ohio  2001  1.7\n",
       "c    Ohio  2002  3.6\n",
       "d  Nevada  2001  2.4\n",
       "e  Nevada  2002  2.9\n",
       "f  Nevada  2003  3.2"
      ]
     },
     "execution_count": 359,
>>>>>>> 6516124a7bc59f03e3d305b96c38cf89e11dee6a
     "metadata": {},
     "output_type": "execute_result"
    }
   ],
   "source": [
<<<<<<< HEAD
    "frame.head(2) # 처음 2개행을 출력"
=======
    "def dataframe1():\n",
    "    data = {'서울': [950, 945, 938], \n",
    "        '대전': [800, 790, 780],\n",
    "        '부산': [920, 910, 900],\n",
    "        '광주': [700, 690, 680],\n",
    "        '원주': [300, 290, 250]\n",
    "       }\n",
    "    frame= pd.DataFrame(data)\n",
    "    frame.index=['2021년','2022년','2023년']\n",
    "    return frame\n",
    "\n",
    "dataframe= dataframe1()\n",
    "frame"
   ]
  },
  {
   "cell_type": "markdown",
   "metadata": {},
   "source": [
    "## 3.3 DataFrame 의 주요 기능 : 속성과 함수 "
   ]
  },
  {
   "cell_type": "markdown",
   "metadata": {},
   "source": [
    "### 3.3.1 주요 속성\n",
    "* 데이터프레임, 속성명"
>>>>>>> 6516124a7bc59f03e3d305b96c38cf89e11dee6a
   ]
  },
  {
   "cell_type": "code",
<<<<<<< HEAD
   "execution_count": 88,
=======
   "execution_count": 360,
   "metadata": {},
   "outputs": [
    {
     "name": "stdout",
     "output_type": "stream",
     "text": [
      "    state  year  pop\n",
      "a    Ohio  2000  1.5\n",
      "b    Ohio  2001  1.7\n",
      "c    Ohio  2002  3.6\n",
      "d  Nevada  2001  2.4\n",
      "e  Nevada  2002  2.9\n",
      "f  Nevada  2003  3.2\n"
     ]
    },
    {
     "data": {
      "text/plain": [
       "Index(['a', 'b', 'c', 'd', 'e', 'f'], dtype='object')"
      ]
     },
     "execution_count": 360,
     "metadata": {},
     "output_type": "execute_result"
    }
   ],
   "source": [
    "# 1. index : 데이터프레임의 인덱스를 리스트로 반환\n",
    "print(frame)\n",
    "frame.index"
   ]
  },
  {
   "cell_type": "code",
   "execution_count": 361,
   "metadata": {},
   "outputs": [
    {
     "data": {
      "text/plain": [
       "Index(['state', 'year', 'pop'], dtype='object')"
      ]
     },
     "execution_count": 361,
     "metadata": {},
     "output_type": "execute_result"
    }
   ],
   "source": [
    "# 2. columns : 데이터프레임의 컬럼을 리스트로 반환\n",
    "frame.columns"
   ]
  },
  {
   "cell_type": "code",
   "execution_count": 362,
   "metadata": {},
   "outputs": [
    {
     "data": {
      "text/plain": [
       "array([['Ohio', 2000, 1.5],\n",
       "       ['Ohio', 2001, 1.7],\n",
       "       ['Ohio', 2002, 3.6],\n",
       "       ['Nevada', 2001, 2.4],\n",
       "       ['Nevada', 2002, 2.9],\n",
       "       ['Nevada', 2003, 3.2]], dtype=object)"
      ]
     },
     "execution_count": 362,
     "metadata": {},
     "output_type": "execute_result"
    }
   ],
   "source": [
    "# 3. values : 데이터프레임의 데이터 반환(numpy.ndarray)\n",
    "frame.values\n",
    "# type(frame.values)"
   ]
  },
  {
   "cell_type": "code",
   "execution_count": 363,
   "metadata": {},
   "outputs": [
    {
     "data": {
      "text/plain": [
       "(6, 3)"
      ]
     },
     "execution_count": 363,
     "metadata": {},
     "output_type": "execute_result"
    }
   ],
   "source": [
    "# 4. shape : 행과 열의 개수을 튜플로 반환\n",
    "frame.shape"
   ]
  },
  {
   "cell_type": "code",
   "execution_count": 364,
   "metadata": {},
   "outputs": [
    {
     "data": {
      "text/html": [
       "<div>\n",
       "<style scoped>\n",
       "    .dataframe tbody tr th:only-of-type {\n",
       "        vertical-align: middle;\n",
       "    }\n",
       "\n",
       "    .dataframe tbody tr th {\n",
       "        vertical-align: top;\n",
       "    }\n",
       "\n",
       "    .dataframe thead th {\n",
       "        text-align: right;\n",
       "    }\n",
       "</style>\n",
       "<table border=\"1\" class=\"dataframe\">\n",
       "  <thead>\n",
       "    <tr style=\"text-align: right;\">\n",
       "      <th></th>\n",
       "      <th>state</th>\n",
       "      <th>year</th>\n",
       "      <th>pop</th>\n",
       "    </tr>\n",
       "  </thead>\n",
       "  <tbody>\n",
       "    <tr>\n",
       "      <th>a</th>\n",
       "      <td>Ohio</td>\n",
       "      <td>2000</td>\n",
       "      <td>1.5</td>\n",
       "    </tr>\n",
       "    <tr>\n",
       "      <th>b</th>\n",
       "      <td>Ohio</td>\n",
       "      <td>2001</td>\n",
       "      <td>1.7</td>\n",
       "    </tr>\n",
       "    <tr>\n",
       "      <th>c</th>\n",
       "      <td>Ohio</td>\n",
       "      <td>2002</td>\n",
       "      <td>3.6</td>\n",
       "    </tr>\n",
       "    <tr>\n",
       "      <th>d</th>\n",
       "      <td>Nevada</td>\n",
       "      <td>2001</td>\n",
       "      <td>2.4</td>\n",
       "    </tr>\n",
       "    <tr>\n",
       "      <th>e</th>\n",
       "      <td>Nevada</td>\n",
       "      <td>2002</td>\n",
       "      <td>2.9</td>\n",
       "    </tr>\n",
       "  </tbody>\n",
       "</table>\n",
       "</div>"
      ],
      "text/plain": [
       "    state  year  pop\n",
       "a    Ohio  2000  1.5\n",
       "b    Ohio  2001  1.7\n",
       "c    Ohio  2002  3.6\n",
       "d  Nevada  2001  2.4\n",
       "e  Nevada  2002  2.9"
      ]
     },
     "execution_count": 364,
     "metadata": {},
     "output_type": "execute_result"
    }
   ],
   "source": [
    "frame.head() # 처음 5개행을 출력"
   ]
  },
  {
   "cell_type": "code",
   "execution_count": 365,
>>>>>>> 6516124a7bc59f03e3d305b96c38cf89e11dee6a
   "metadata": {},
   "outputs": [
    {
     "data": {
      "text/html": [
       "<div>\n",
       "<style scoped>\n",
       "    .dataframe tbody tr th:only-of-type {\n",
       "        vertical-align: middle;\n",
       "    }\n",
       "\n",
       "    .dataframe tbody tr th {\n",
       "        vertical-align: top;\n",
       "    }\n",
       "\n",
       "    .dataframe thead th {\n",
       "        text-align: right;\n",
       "    }\n",
       "</style>\n",
       "<table border=\"1\" class=\"dataframe\">\n",
       "  <thead>\n",
       "    <tr style=\"text-align: right;\">\n",
       "      <th></th>\n",
       "      <th>a</th>\n",
       "      <th>b</th>\n",
       "      <th>c</th>\n",
       "      <th>d</th>\n",
       "      <th>e</th>\n",
       "      <th>f</th>\n",
       "    </tr>\n",
       "  </thead>\n",
       "  <tbody>\n",
       "    <tr>\n",
       "      <th>state</th>\n",
       "      <td>Ohio</td>\n",
       "      <td>Ohio</td>\n",
       "      <td>Ohio</td>\n",
       "      <td>Nevada</td>\n",
       "      <td>Nevada</td>\n",
       "      <td>Nevada</td>\n",
       "    </tr>\n",
       "    <tr>\n",
       "      <th>year</th>\n",
       "      <td>2000</td>\n",
       "      <td>2001</td>\n",
       "      <td>2002</td>\n",
       "      <td>2001</td>\n",
       "      <td>2002</td>\n",
       "      <td>2003</td>\n",
       "    </tr>\n",
       "    <tr>\n",
       "      <th>pop</th>\n",
       "      <td>1.5</td>\n",
       "      <td>1.7</td>\n",
       "      <td>3.6</td>\n",
       "      <td>2.4</td>\n",
       "      <td>2.9</td>\n",
       "      <td>3.2</td>\n",
       "    </tr>\n",
       "  </tbody>\n",
       "</table>\n",
       "</div>"
      ],
      "text/plain": [
       "          a     b     c       d       e       f\n",
       "state  Ohio  Ohio  Ohio  Nevada  Nevada  Nevada\n",
       "year   2000  2001  2002    2001    2002    2003\n",
       "pop     1.5   1.7   3.6     2.4     2.9     3.2"
      ]
     },
<<<<<<< HEAD
     "execution_count": 88,
=======
     "execution_count": 365,
>>>>>>> 6516124a7bc59f03e3d305b96c38cf89e11dee6a
     "metadata": {},
     "output_type": "execute_result"
    }
   ],
   "source": [
    "# 5. T (Transpose) : 행과 열 바꾸기\n",
    "frame.T"
   ]
  },
  {
   "cell_type": "code",
<<<<<<< HEAD
   "execution_count": 90,
=======
   "execution_count": 366,
   "metadata": {},
   "outputs": [
    {
     "data": {
      "text/plain": [
       "[Index(['a', 'b', 'c', 'd', 'e', 'f'], dtype='object'),\n",
       " Index(['state', 'year', 'pop'], dtype='object')]"
      ]
     },
     "execution_count": 366,
     "metadata": {},
     "output_type": "execute_result"
    }
   ],
   "source": [
    "# 6. axes : 행과 열 이름을 리스트로 반환\n",
    "frame.axes"
   ]
  },
  {
   "cell_type": "code",
   "execution_count": 367,
>>>>>>> 6516124a7bc59f03e3d305b96c38cf89e11dee6a
   "metadata": {},
   "outputs": [
    {
     "name": "stdout",
     "output_type": "stream",
     "text": [
      "    state  year  pop\n",
      "a    Ohio  2000  1.5\n",
      "b    Ohio  2001  1.7\n",
      "c    Ohio  2002  3.6\n",
      "d  Nevada  2001  2.4\n",
      "e  Nevada  2002  2.9\n",
      "f  Nevada  2003  3.2\n",
      "\n"
     ]
    },
    {
     "data": {
      "text/plain": [
       "state     object\n",
       "year       int64\n",
       "pop      float64\n",
       "dtype: object"
      ]
     },
<<<<<<< HEAD
     "execution_count": 90,
=======
     "execution_count": 367,
>>>>>>> 6516124a7bc59f03e3d305b96c38cf89e11dee6a
     "metadata": {},
     "output_type": "execute_result"
    }
   ],
   "source": [
    "# 7. dtypes : 컬럼별 데이터타입 반환\n",
    "print(frame)\n",
    "print()\n",
    "frame.dtypes"
   ]
  },
  {
   "cell_type": "code",
<<<<<<< HEAD
   "execution_count": 92,
=======
   "execution_count": 368,
>>>>>>> 6516124a7bc59f03e3d305b96c38cf89e11dee6a
   "metadata": {},
   "outputs": [
    {
     "data": {
      "text/plain": [
       "18"
      ]
     },
<<<<<<< HEAD
     "execution_count": 92,
=======
     "execution_count": 368,
>>>>>>> 6516124a7bc59f03e3d305b96c38cf89e11dee6a
     "metadata": {},
     "output_type": "execute_result"
    }
   ],
   "source": [
<<<<<<< HEAD
    "# 8. size : 데이터프레임의 원소의 개수= #행 * #열를 반환\n",
=======
    "# 8. size : 데이터프레임의 원소의 개수= #행 * 열 을 반환\n",
>>>>>>> 6516124a7bc59f03e3d305b96c38cf89e11dee6a
    "frame.size"
   ]
  },
  {
   "cell_type": "markdown",
   "metadata": {},
   "source": [
    "### 3.3.2 주요 함수\n",
    "* 변수명.함수명()"
   ]
  },
  {
   "cell_type": "code",
<<<<<<< HEAD
   "execution_count": 96,
=======
   "execution_count": 369,
>>>>>>> 6516124a7bc59f03e3d305b96c38cf89e11dee6a
   "metadata": {},
   "outputs": [
    {
     "name": "stdout",
     "output_type": "stream",
     "text": [
      "<class 'pandas.core.frame.DataFrame'>\n",
      "Index: 6 entries, a to f\n",
      "Data columns (total 3 columns):\n",
      " #   Column  Non-Null Count  Dtype  \n",
      "---  ------  --------------  -----  \n",
      " 0   state   6 non-null      object \n",
      " 1   year    6 non-null      int64  \n",
      " 2   pop     6 non-null      float64\n",
      "dtypes: float64(1), int64(1), object(1)\n",
      "memory usage: 364.0+ bytes\n"
     ]
    }
   ],
   "source": [
    "# 1. info() - 데이터프레임의 기본 정보 출력\n",
    "frame.info()"
   ]
  },
  {
   "cell_type": "code",
<<<<<<< HEAD
   "execution_count": 97,
=======
   "execution_count": 370,
>>>>>>> 6516124a7bc59f03e3d305b96c38cf89e11dee6a
   "metadata": {},
   "outputs": [
    {
     "data": {
      "text/html": [
       "<div>\n",
       "<style scoped>\n",
       "    .dataframe tbody tr th:only-of-type {\n",
       "        vertical-align: middle;\n",
       "    }\n",
       "\n",
       "    .dataframe tbody tr th {\n",
       "        vertical-align: top;\n",
       "    }\n",
       "\n",
       "    .dataframe thead th {\n",
       "        text-align: right;\n",
       "    }\n",
       "</style>\n",
       "<table border=\"1\" class=\"dataframe\">\n",
       "  <thead>\n",
       "    <tr style=\"text-align: right;\">\n",
       "      <th></th>\n",
       "      <th>year</th>\n",
       "      <th>pop</th>\n",
       "    </tr>\n",
       "  </thead>\n",
       "  <tbody>\n",
       "    <tr>\n",
       "      <th>count</th>\n",
       "      <td>6.000000</td>\n",
       "      <td>6.000000</td>\n",
       "    </tr>\n",
       "    <tr>\n",
       "      <th>mean</th>\n",
       "      <td>2001.500000</td>\n",
       "      <td>2.550000</td>\n",
       "    </tr>\n",
       "    <tr>\n",
       "      <th>std</th>\n",
       "      <td>1.048809</td>\n",
       "      <td>0.836062</td>\n",
       "    </tr>\n",
       "    <tr>\n",
       "      <th>min</th>\n",
       "      <td>2000.000000</td>\n",
       "      <td>1.500000</td>\n",
       "    </tr>\n",
       "    <tr>\n",
       "      <th>25%</th>\n",
       "      <td>2001.000000</td>\n",
       "      <td>1.875000</td>\n",
       "    </tr>\n",
       "    <tr>\n",
       "      <th>50%</th>\n",
       "      <td>2001.500000</td>\n",
       "      <td>2.650000</td>\n",
       "    </tr>\n",
       "    <tr>\n",
       "      <th>75%</th>\n",
       "      <td>2002.000000</td>\n",
       "      <td>3.125000</td>\n",
       "    </tr>\n",
       "    <tr>\n",
       "      <th>max</th>\n",
       "      <td>2003.000000</td>\n",
       "      <td>3.600000</td>\n",
       "    </tr>\n",
       "  </tbody>\n",
       "</table>\n",
       "</div>"
      ],
      "text/plain": [
       "              year       pop\n",
       "count     6.000000  6.000000\n",
       "mean   2001.500000  2.550000\n",
       "std       1.048809  0.836062\n",
       "min    2000.000000  1.500000\n",
       "25%    2001.000000  1.875000\n",
       "50%    2001.500000  2.650000\n",
       "75%    2002.000000  3.125000\n",
       "max    2003.000000  3.600000"
      ]
     },
<<<<<<< HEAD
     "execution_count": 97,
=======
     "execution_count": 370,
>>>>>>> 6516124a7bc59f03e3d305b96c38cf89e11dee6a
     "metadata": {},
     "output_type": "execute_result"
    }
   ],
   "source": [
    "# 2. describe() -  숫자형 컬럼별 기본적인 통계 정보 출력\n",
    "frame.describe()"
   ]
  },
  {
   "cell_type": "code",
<<<<<<< HEAD
   "execution_count": 100,
=======
   "execution_count": 371,
>>>>>>> 6516124a7bc59f03e3d305b96c38cf89e11dee6a
   "metadata": {},
   "outputs": [
    {
     "name": "stdout",
     "output_type": "stream",
     "text": [
      "    state  year  pop\n",
      "a    Ohio  2000  1.5\n",
      "b    Ohio  2001  1.7\n",
      "c    Ohio  2002  3.6\n",
      "d  Nevada  2001  2.4\n",
      "e  Nevada  2002  2.9\n",
      "f  Nevada  2003  3.2\n"
     ]
    },
    {
     "data": {
      "text/plain": [
       "year    2000.0\n",
       "pop        1.5\n",
       "dtype: float64"
      ]
     },
<<<<<<< HEAD
     "execution_count": 100,
=======
     "execution_count": 371,
>>>>>>> 6516124a7bc59f03e3d305b96c38cf89e11dee6a
     "metadata": {},
     "output_type": "execute_result"
    }
   ],
   "source": [
    "# 3. 통계함수 (mean(), sum(), max(), min(),quantile()...)\n",
<<<<<<< HEAD
    "# frame[['year','pop']].mean()\n",
    "# frame[['year','pop']].sum()\n",
    "# frame[['year','pop']].max()\n",
    "print(frame)\n",
    "frame[['year','pop']].min() # series 반환"
=======
    "frame[['year','pop']].mean()\n",
    "frame[['year','pop']].sum()\n",
    "frame[['year','pop']].max()\n",
    "frame[['year','pop']].min()\n",
    "print(frame)\n",
    "frame[['year','pop']].min() #series 반환"
>>>>>>> 6516124a7bc59f03e3d305b96c38cf89e11dee6a
   ]
  },
  {
   "cell_type": "code",
<<<<<<< HEAD
   "execution_count": 104,
=======
   "execution_count": 372,
>>>>>>> 6516124a7bc59f03e3d305b96c38cf89e11dee6a
   "metadata": {},
   "outputs": [
    {
     "data": {
      "text/html": [
       "<div>\n",
       "<style scoped>\n",
       "    .dataframe tbody tr th:only-of-type {\n",
       "        vertical-align: middle;\n",
       "    }\n",
       "\n",
       "    .dataframe tbody tr th {\n",
       "        vertical-align: top;\n",
       "    }\n",
       "\n",
       "    .dataframe thead th {\n",
       "        text-align: right;\n",
       "    }\n",
       "</style>\n",
       "<table border=\"1\" class=\"dataframe\">\n",
       "  <thead>\n",
       "    <tr style=\"text-align: right;\">\n",
       "      <th></th>\n",
<<<<<<< HEAD
=======
       "      <th>state</th>\n",
>>>>>>> 6516124a7bc59f03e3d305b96c38cf89e11dee6a
       "      <th>year</th>\n",
       "      <th>pop</th>\n",
       "    </tr>\n",
       "  </thead>\n",
       "  <tbody>\n",
       "    <tr>\n",
       "      <th>a</th>\n",
<<<<<<< HEAD
=======
       "      <td>Ohio</td>\n",
>>>>>>> 6516124a7bc59f03e3d305b96c38cf89e11dee6a
       "      <td>2000</td>\n",
       "      <td>1.5</td>\n",
       "    </tr>\n",
       "    <tr>\n",
<<<<<<< HEAD
       "      <th>b</th>\n",
       "      <td>2001</td>\n",
       "      <td>1.7</td>\n",
       "    </tr>\n",
       "    <tr>\n",
       "      <th>c</th>\n",
       "      <td>2002</td>\n",
       "      <td>3.6</td>\n",
       "    </tr>\n",
       "    <tr>\n",
       "      <th>d</th>\n",
       "      <td>2001</td>\n",
       "      <td>2.4</td>\n",
       "    </tr>\n",
       "    <tr>\n",
       "      <th>e</th>\n",
       "      <td>2002</td>\n",
       "      <td>2.9</td>\n",
       "    </tr>\n",
       "    <tr>\n",
       "      <th>f</th>\n",
=======
       "      <th>f</th>\n",
       "      <td>Nevada</td>\n",
>>>>>>> 6516124a7bc59f03e3d305b96c38cf89e11dee6a
       "      <td>2003</td>\n",
       "      <td>3.2</td>\n",
       "    </tr>\n",
       "  </tbody>\n",
       "</table>\n",
       "</div>"
      ],
      "text/plain": [
<<<<<<< HEAD
       "   year  pop\n",
       "a  2000  1.5\n",
       "b  2001  1.7\n",
       "c  2002  3.6\n",
       "d  2001  2.4\n",
       "e  2002  2.9\n",
       "f  2003  3.2"
      ]
     },
     "execution_count": 104,
=======
       "    state  year  pop\n",
       "a    Ohio  2000  1.5\n",
       "f  Nevada  2003  3.2"
      ]
     },
     "execution_count": 372,
>>>>>>> 6516124a7bc59f03e3d305b96c38cf89e11dee6a
     "metadata": {},
     "output_type": "execute_result"
    }
   ],
   "source": [
<<<<<<< HEAD
    "# 4. sample(개수, axis = 0 | 1) : 전체 데이터의 일부 데이터를 랜덤으로 선택\n",
    "frame.sample(2, axis = 0) # dataFrame\n",
    "frame.sample(2, axis = 1)"
=======
    "# 4. sample(개수, axis = 0 | 1) : 전체 데이터의 일부 데이머를 랜덤으로 선택\n",
    "frame.sample(2, axis = 0) #dataFrame\n",
    "# frame.sample(2, axis = 1)"
>>>>>>> 6516124a7bc59f03e3d305b96c38cf89e11dee6a
   ]
  },
  {
   "cell_type": "code",
<<<<<<< HEAD
   "execution_count": 151,
=======
   "execution_count": 373,
>>>>>>> 6516124a7bc59f03e3d305b96c38cf89e11dee6a
   "metadata": {},
   "outputs": [],
   "source": [
    "# 5.head(x), tail(x) - 맨 앞 혹은 맨 뒤 x 개의 데이터 출력"
   ]
  },
  {
   "cell_type": "code",
<<<<<<< HEAD
   "execution_count": 105,
=======
   "execution_count": 374,
>>>>>>> 6516124a7bc59f03e3d305b96c38cf89e11dee6a
   "metadata": {},
   "outputs": [
    {
     "data": {
      "text/html": [
       "<div>\n",
       "<style scoped>\n",
       "    .dataframe tbody tr th:only-of-type {\n",
       "        vertical-align: middle;\n",
       "    }\n",
       "\n",
       "    .dataframe tbody tr th {\n",
       "        vertical-align: top;\n",
       "    }\n",
       "\n",
       "    .dataframe thead th {\n",
       "        text-align: right;\n",
       "    }\n",
       "</style>\n",
       "<table border=\"1\" class=\"dataframe\">\n",
       "  <thead>\n",
       "    <tr style=\"text-align: right;\">\n",
       "      <th></th>\n",
       "      <th>state</th>\n",
       "      <th>year</th>\n",
       "      <th>pop</th>\n",
       "    </tr>\n",
       "  </thead>\n",
       "  <tbody>\n",
       "    <tr>\n",
       "      <th>e</th>\n",
       "      <td>Nevada</td>\n",
       "      <td>2002</td>\n",
       "      <td>2.9</td>\n",
       "    </tr>\n",
       "    <tr>\n",
       "      <th>f</th>\n",
       "      <td>Nevada</td>\n",
       "      <td>2003</td>\n",
       "      <td>3.2</td>\n",
       "    </tr>\n",
       "  </tbody>\n",
       "</table>\n",
       "</div>"
      ],
      "text/plain": [
       "    state  year  pop\n",
       "e  Nevada  2002  2.9\n",
       "f  Nevada  2003  3.2"
      ]
     },
<<<<<<< HEAD
     "execution_count": 105,
=======
     "execution_count": 374,
>>>>>>> 6516124a7bc59f03e3d305b96c38cf89e11dee6a
     "metadata": {},
     "output_type": "execute_result"
    }
   ],
   "source": [
    "frame.head()\n",
    "frame.tail(2) "
   ]
  },
  {
   "cell_type": "code",
<<<<<<< HEAD
   "execution_count": 106,
=======
   "execution_count": 375,
>>>>>>> 6516124a7bc59f03e3d305b96c38cf89e11dee6a
   "metadata": {},
   "outputs": [
    {
     "name": "stdout",
     "output_type": "stream",
     "text": [
      "    state  year  pop\n",
      "a    Ohio  2000  1.5\n",
      "b    Ohio  2001  1.7\n",
      "c    Ohio  2002  3.6\n",
      "d  Nevada  2001  2.4\n",
      "e  Nevada  2002  2.9\n",
      "f  Nevada  2003  3.2\n"
     ]
    },
    {
     "data": {
      "text/plain": [
       "state    2\n",
       "year     4\n",
       "pop      6\n",
       "dtype: int64"
      ]
     },
<<<<<<< HEAD
     "execution_count": 106,
=======
     "execution_count": 375,
>>>>>>> 6516124a7bc59f03e3d305b96c38cf89e11dee6a
     "metadata": {},
     "output_type": "execute_result"
    }
   ],
   "source": [
    "# 6. nunique() : - 컬럼별 unique한 값의 개수\n",
    "print(frame)\n",
    "frame.nunique()"
   ]
  },
  {
   "cell_type": "code",
<<<<<<< HEAD
   "execution_count": 107,
=======
   "execution_count": 376,
>>>>>>> 6516124a7bc59f03e3d305b96c38cf89e11dee6a
   "metadata": {},
   "outputs": [
    {
     "data": {
      "text/plain": [
       "<Axes: >"
      ]
     },
<<<<<<< HEAD
     "execution_count": 107,
=======
     "execution_count": 376,
>>>>>>> 6516124a7bc59f03e3d305b96c38cf89e11dee6a
     "metadata": {},
     "output_type": "execute_result"
    },
    {
     "data": {
<<<<<<< HEAD
      "image/png": "iVBORw0KGgoAAAANSUhEUgAAA0MAAAH4CAYAAACIUjZwAAAAOXRFWHRTb2Z0d2FyZQBNYXRwbG90bGliIHZlcnNpb24zLjguMywgaHR0cHM6Ly9tYXRwbG90bGliLm9yZy/H5lhTAAAACXBIWXMAAA9hAAAPYQGoP6dpAAAz6klEQVR4nO3de5RV5Z0n/G9xF2KV0shFoCgQQW2j70gQEdvLxIy20yQ6Dt1tJ3Y6Y6RNokJr1FU60wmhFXU00TYrznSi6Sa+7SVRW80FTLfRjgvUYDRjotEIiCRVOhRilRpSUFXn/cPXE44Ul4KDVbI/n7X2ss5+nv3s33PYnqrv2fvsU1MqlUoBAAAomH69XQAAAEBvEIYAAIBCEoYAAIBCEoYAAIBCEoYAAIBCEoYAAIBCEoYAAIBCGtDbBVRDV1dXmpqasu+++6ampqa3ywEAAHpJqVTKG2+8kQMPPDD9+m3/3M9eEYaampoyfvz43i4DAADoI9auXZtx48Ztt89eEYb23XffJG9PuLa2tperAQAAektbW1vGjx9fzgjbs1eEoXcujautrRWGAACAnfr4jBsoAAAAhSQMAQAAhSQMAQAAhSQMAQAAhSQMAQAAhSQMAQAAhSQMAQAAhSQMAQAAhSQMAQAAhSQMAQAAhSQMAQAAhSQMAQAAhSQMAQAAhSQMAQAAhSQMAQAAhdTjMPTQQw9l1qxZmTx5cg466KDcdNNN5baXXnopH/nIRzJhwoRMnjw5t912W8W2t99+ew499NCMGzcuJ510UlavXl1u27hxY+bOnZsJEyZk3LhxufTSS1MqlXZjagAAANvW4zB033335dZbb82LL76YH/7wh7nmmmuyZMmSdHZ2Zvbs2fn4xz+eNWvW5P7778+FF16Yp59+OkmyfPnyXH755Vm6dGl+/etf5yMf+UjmzJlTHvfiiy9OV1dXVq5cmV/84hf50Y9+lK9+9atVmygAAMCWakq7efrloosuyoABA3LyySfnsssuy1NPPVVuu/DCC9O/f/985StfyV/8xV9kxowZmTdvXpKko6Mjo0aNykMPPZSDDjooo0aNytq1azN8+PAkyT333JOFCxdWjLctbW1tqaurS2tra2pra3dnOrut9beb8/rGTUmSd57ZLZ/gLZ/uUnndliOUtlpXuf0760pbrduZ9m632eE+S9usI9uqo9vatj/3LWtOt8/d1v263+fW+6kcc+vtd23uv2/Z4dy722c3+6kYeUf/Rjs79x7VsYN9dtOx23+jHf5bb7nNtue+43/r7ddbOeau/79V+U++c8dxT/bT/fG+gzrepead/9Zsse7/f1DTXcckNf//g4ptuhtni43eWV855tb76W77He6npmLUHtfx+3Vb96scc4v2bvezdd9u27sZZ0d17Og5yo7q6G4/O3iOtmdnX2d29HtsV15ndvT/9w7/X9vJ15lt/Zmzs//PV+t1pie/E95ZuSuvzz37vbrrr4uV5e7c62LlmFvvZ8uWbf++q+7ct739tvtVjrmN43gXjq9u595Nzd3/G23dL93022ZNPTo+t90vSb7yZ/9Pxg8fulUN76WeZIMBu7uzdevW5ZBDDsny5csza9asirYZM2bkG9/4RpK3zwxddNFFv9/xgAE56qij8vTTT+f111/PxIkTy0HonW1//vOfp7OzM/37968Yt729Pe3t7eXHbW1tuzuNqvl/n1iTa5c839tlAADAe669o7O3S+iR3QpDTzzxRL773e/mS1/6Uq655pqMHTu2on3kyJFZv359kqS5uTmjRo3qtn3w4MHdtnV0dKS1tbUiJCXJokWLsmDBgt0pfY8Z1L9fPjD4909rzVY/7Py7jt29e1nZt/t3ALf3zu6O3v1Mxbqtf97xO53d1LwL73Ruq+bt7mfLmqr6rvZO7rObifbonfJqzb2bvtuqIzs8LirrqVi3jee4+7nvxnNcxTMD7/X/O9uso9vatn6OdnQW5x3VOtv03r8L3PN3VHe4zyq+o7q9sx67+651d3Pf3XetK0bfxnO4R8+eVayrGG2b2+/wtbq79l2oo2e/p3b9dbHy5517vdrRPrt7jdlRHdvcz3ZeZ3r0erUHzxZXjFnNuW/nNXTLffXo+NnO3Ldcv0tz38aBvr3fl7vyN8WWY+3a8VkxUpJkVO2Q7nfUR+1yGLrjjjsyf/78/NM//VMmTpyYjo6OrV6UOzs7y0/w9tq31ZZ0/z9CY2NjxVmmtra2jB8/flenUlWf/qNJ+fQfTertMgAAgB3ocRjq7OzMBRdckB/96EdZunRpjjzyyCTJ8OHD09LSUtF33bp1GT16dEV7fX39Vu11dXXdbjtkyJDU1dVtVcPgwYMzePDgnpYOAABQ1uO7yc2fPz+rVq3KihUrykEoSaZNm5Zly5ZV9F22bFlmzpzZbfumTZvy5JNP5phjjslRRx2V559/Phs2bKjYdsaMGenXz1chAQAA1dejpPG73/0uN998c775zW9m2LBhFW2zZ89OU1NT+buFVqxYkfvuuy+f/vSnkyRz587N9ddfn1//+tfp7OzMwoULc9JJJ2XixIkZPXp0Tj311Fx++eXp6OhIS0tLrrzyysyfP786swQAAHiXHl0mt2rVqnR1dZXP9rxj6tSpWbp0aR544IGce+65ueiiizJ69Oj88z//c8aNG5ckOeOMM/Liiy/m6KOPTldXV0488cTceuut5TFuueWWnHPOORkzZkyGDRuWz3/+8zn99NN3f4YAAADd2O3vGeoL+tL3DAEAAL2nJ9nAB3IAAIBCEoYAAIBCEoYAAIBCEoYAAIBCEoYAAIBCEoYAAIBCEoYAAIBCEoYAAIBCEoYAAIBCEoYAAIBCEoYAAIBCEoYAAIBCEoYAAIBCEoYAAIBCEoYAAIBCEoYAAIBCEoYAAIBCEoYAAIBCEoYAAIBCEoYAAIBCEoYAAIBCEoYAAIBCEoYAAIBCEoYAAIBCEoYAAIBCEoYAAIBCEoYAAIBCEoYAAIBCEoYAAIBCEoYAAIBCEoYAAIBCEoYAAIBCEoYAAIBCEoYAAIBCEoYAAIBCEoYAAIBCEoYAAIBCEoYAAIBCEoYAAIBCEoYAAIBCEoYAAIBC2qUwVCqVsnjx4sycObO87pxzzklDQ0PFMmzYsFxwwQVJku985zsZPHhwRfudd95Z3n79+vWZM2dO6uvrM2HChFx//fW7OTUAAIBtG9DTDZYsWZJLLrkkGzduzIABv9/8lltuqej35ptv5uCDD875559fXnfMMcfkkUce6Xbcs88+OzNmzMhdd92V5ubmHHvssZkyZUpmz57d0xIBAAB2qMdnht56661cc801+cY3vrHdfl/5ylfyx3/8x5k6dWp53X777ddt3xdeeCErVqzIFVdckZqamhx44IG58MILc+utt/a0PAAAgJ3S4zNDZ555ZpLk4Ycf3mafN998MzfddFMef/zxivXbCkPLly/P0UcfXXGmacaMGbnpppu67d/e3p729vby47a2tp2sHgAA4G175AYK3/zmN3Pcccdl4sSJFev/5V/+JfX19Zk2bVpuuummlEqlJElzc3NGjRpV0XfkyJFZv359t+MvWrQodXV15WX8+PF7YhoAAMBebI+EoW984xu58MILK9adeeaZaW1tzcsvv5x//Md/zP/6X/+rfOano6OjHIze0dnZmZqamm7Hb2xsTGtra3lZu3btnpgGAACwF6t6GFqxYkXWr1+fE044oWL9lsHmgx/8YP72b/823/72t5Mkw4cPT0tLS0X/devWZfTo0d3uY/Dgwamtra1YAAAAeqLqYei2227Lf/kv/2WbZ3Xe0dHRkUGDBiVJpk2blscffzxdXV3l9mXLllXcuhsAAKCaqh6GlixZkg9/+MNbrf/3f//3vPXWW0mSF198MQsXLswnPvGJJMnRRx+dMWPG5JprrklXV1dWrVqVr33ta+XvKAIAAKi2qoah119/Pc8//3yOOuqordoeeuihTJo0KfX19Tn99NNz0UUX5VOf+lSSty+hu+eee7J06dKMGjUqp556aq677rpMmzatmuUBAACU1ZTefeeC96G2trbU1dWltbXV54cAAKDAepIN9sjd5AAAAPo6YQgAACgkYQgAACgkYQgAACgkYQgAACgkYQgAACgkYQgAACgkYQgAACgkYQgAACgkYQgAACgkYQgAACgkYQgAACgkYQgAACgkYQgAACgkYQgAACgkYQgAACgkYQgAACgkYQgAACgkYQgAACgkYQgAACgkYQgAACgkYQgAACgkYQgAACgkYQgAACgkYQgAACgkYQgAACgkYQgAACgkYQgAACgkYQgAACgkYQgAACgkYQgAACgkYQgAACgkYQgAACgkYQgAACgkYQgAACgkYQgAACgkYQgAACgkYQgAACgkYQgAACgkYQgAACgkYQgAACgkYQgAACikXQpDpVIpixcvzsyZMyvWf+ADH8jYsWPT0NCQhoaGzJkzp6L9hhtuyOTJkzN27NicccYZWb9+fblt/fr1mTNnTurr6zNhwoRcf/31u1IaAADAThnQ0w2WLFmSSy65JBs3bsyAAVtv/uijj2bixIlbrb/rrruyePHiPPHEE6mrq8v555+fuXPn5u67706SnH322ZkxY0buuuuuNDc359hjj82UKVMye/bsXZgWAADA9tWUSqVSTza4++67s88++2To0KE577zz8stf/rLc9oEPfCBr167N/vvvv9V2xx57bC677LJ87GMfS5K0tLRkzJgxefXVV9PS0pLjjjsuTU1N5YD15S9/OT/+8Y9z77337rCmtra21NXVpbW1NbW1tT2ZDgAAsBfpSTbo8ZmhM888M0ny8MMPb9XWr1+/1NXVbbW+o6MjK1asyKxZs8rrRowYkYaGhjzzzDN56aWXcvTRR1ecaZoxY0Zuuummbmtob29Pe3t7+XFbW1tPpwEAABRcVW+gUFNTk4MOOihTpkzJOeeck6ampiRvnwXq7OzMiBEjKvqPHDky69evT3Nzc0aNGtVtW3cWLVqUurq68jJ+/PhqTgMAACiAqoahDRs2ZPXq1fnJT36SoUOHZvbs2SmVSuno6Ejy9o0XttTZ2Zmampp0dHRss607jY2NaW1tLS9r166t5jQAAIAC6PFlctvTr9/b2aquri433nhjamtrs2rVqowePTqlUikbNmzI8OHDy/3XrVuX0aNHp7m5OU888UTFWO+0dWfw4MEZPHhwNUsHAAAKZo99z1BXV1e6uroyaNCgDBs2LFOnTs2yZcvK7c3NzXn11Vdz5JFHZtq0aXn88cfT1dVVbl+2bNlWt+4GAAColqqFoZUrV+aFF15I8vYNDubNm5fp06eXP88zd+7cLFiwIK+//no2bdqUxsbGnHvuuRk6dGiOPvrojBkzJtdcc026urqyatWqfO1rX8sFF1xQrfIAAAAqVC0MvfbaaznttNMyduzYHHroodm0aVO+853vlNvnzZuXE044IVOmTElDQ0P22WefXH311UnevvHCPffck6VLl2bUqFE59dRTc91112XatGnVKg8AAKBCj79nqC/yPUMAAEDSs2ywxz4zBAAA0JcJQwAAQCEJQwAAQCEJQwAAQCEJQwAAQCEJQwAAQCEJQwAAQCEJQwAAQCEJQwAAQCEJQwAAQCEJQwAAQCEJQwAAQCEJQwAAQCEJQwAAQCEJQwAAQCEJQwAAQCEJQwAAQCEJQwAAQCEJQwAAQCEJQwAAQCEJQwAAQCEJQwAAQCEJQwAAQCEJQwAAQCEJQwAAQCEJQwAAQCEJQwAAQCEJQwAAQCEJQwAAQCEJQwAAQCEJQwAAQCEJQwAAQCEJQwAAQCEJQwAAQCEJQwAAQCEJQwAAQCEJQwAAQCEJQwAAQCEJQwAAQCEJQwAAQCEJQwAAQCH1OAyVSqUsXrw4M2fOLK/bvHlzvvSlL+WDH/xgxo8fnz/6oz/K008/XW5fsWJF+vfvn4aGhvJy/fXXl9s3btyYuXPnZsKECRk3blwuvfTSlEql3ZsZAADAdgzoSeclS5bkkksuycaNGzNgwO83feGFF9LR0ZHHHnssw4YNy//+3/87s2fPzqpVqzJw4MAkybhx4/LSSy91O+7FF1+crq6urFy5Mm+99VZOPvnkfPWrX80FF1yw6zMDAADYjppSD07B3H333dlnn30ydOjQnHfeefnlL3+5zb7Dhw/Po48+msMOOywrVqzIOeeck5/97Gdb9XvzzTczatSorF27NsOHD0+S3HPPPVm4cGGeeuqpnaqrra0tdXV1aW1tTW1t7c5OBwAA2Mv0JBv06MzQmWeemSR5+OGHt9vvt7/9bX7729+mrq6uvG6//fbrtu+TTz6ZiRMnloNQksyYMSM///nP09nZmf79+2+1TXt7e9rb28uP29raejALAACAPXQDhSuuuCInnnhixo4dW163YsWKTJgwIUcccUQWLFhQDjPNzc0ZNWpUxfYjR45MR0dHWltbux1/0aJFqaurKy/jx4/fE9MAAAD2YlUNQ2+99VY++clP5pFHHsm3vvWt8vpp06blrbfeypo1a3LffffloYceSmNjY5Kko6Njq5sldHZ2Jklqamq63U9jY2NaW1vLy9q1a6s5DQAAoACqFoZWrlyZ6dOnZ+DAgXn00UdzwAEHlNu2DDUTJ07Mtddem29/+9tJ3v5sUUtLS8VY69aty5AhQyous9vS4MGDU1tbW7EAAAD0RFXC0Ouvv57/+B//Y/7mb/4m3/jGNzJ06NDt9u/o6MigQYOSJEcddVSef/75bNiwody+bNmyzJgxI/36+RokAABgz6hK2vj2t7+dQw45JOeee2637Y8//nhee+21JMkrr7ySyy67LJ/4xCeSJKNHj86pp56ayy+/PB0dHWlpacmVV16Z+fPnV6M0AACAblUlDP3qV7/K8uXLK75UtaGhIV//+teTJP/n//yfHH744amvr88JJ5yQ0047Lf/jf/yP8va33HJLmpqaMmbMmHzoQx/K3Llzc/rpp1ejNAAAgG716HuG+irfMwQAACQ9ywY+lAMAABSSMAQAABSSMAQAABSSMAQAABSSMAQAABSSMAQAABSSMAQAABSSMAQAABSSMAQAABSSMAQAABSSMAQAABSSMAQAABSSMAQAABSSMAQAABSSMAQAABSSMAQAABSSMAQAABSSMAQAABSSMAQAABSSMAQAABSSMAQAABSSMAQAABTSgN4uAAAA+L3Ozs5s3ry5t8vo0wYNGpR+/Xb/vI4wBAAAfUCpVMorr7yS119/vbdL6fP69euXiRMnZtCgQbs1jjAEAAB9wDtBaOTIkRk6dGhqamp6u6Q+qaurK01NTWlubk59ff1uPU/CEAAA9LLOzs5yEPqDP/iD3i6nzzvggAPS1NSUjo6ODBw4cJfHcQMFAADoZe98Rmjo0KG9XMn7wzuXx3V2du7WOMIQAAD0ES6N2znVep6EIQAAoJCEIQAAoJCEIQAAoJCEIQAAoJDcWhsAAPqgUqmUjZt3725pu2Kfgf37zI0cSqVSkj13YwlhCAAA+qCNmztz2N8ufc/3++yXTsnQQTsXE04//fRMnz49V1xxRXndxRdfnFKplE996lO58MILs3r16tTW1ubaa6/NqaeemiT513/91/z3//7f09zcnCQ5//zzc8kllyRJvvjFL2bt2rXZuHFjHn744Tz44IM5/PDDqzzLt7lMDgAA2CV//dd/ncWLF5cfb968ObfddlvOOuusfOQjH8lll12Wl156Kbfddls+8YlPpKmpKUny29/+NrfddlvWrFmTH//4x1m4cGF++ctflse5//7787nPfS5NTU057LDD9lj9zgwBAEAftM/A/nn2S6f0yn531imnnJLNmzfnscceyzHHHJP7778/Rx55ZB555JGccsop5TNBRxxxRE488cQsXbo0n/rUp/LRj340XV1d+dWvfpUXX3wxBxxwQJ599tkccsghSZKjjjoqs2bNSpL067fnzt8IQwAA0AfV1NTs9OVqvaVfv34599xzs3jx4hxzzDG55ZZb8rnPfS5Lly7N/fffn4aGhnLfjRs3ZsaMGUmS6667Ll//+tdz+OGHZ+LEiSmVStm0aVO574QJE96T+vv2swsAAPRp55xzTo444ohcfPHF+eUvf5k/+ZM/yTPPPJNPfvKTueGGG7bqv3Llylx11VVZs2ZN9t133yTJgw8+WNFnT54NqtjPe7IXAABgrzRy5MiccMIJ+cu//Mucc8456d+/f/78z/88t99+ex5//PEkSVdXV+6///50dHRk06ZN6ejoSFtbW5Jk8eLFef7553uldmEIAADYLeeee25WrFiRc889N0kyefLkfOtb38pnPvOZ1NfXZ+rUqVm6dGn69euXQw89NH/zN3+T6dOn56CDDsoLL7yQmTNn9krdNaV3bt79PtbW1pa6urq0tramtra2t8sBAIAe+d3vfpfVq1dn4sSJGTJkSG+X02N///d/n8ceeyz//M///J7sb3vPV0+ywS6dGSqVSlm8ePFWCe6pp57KMccckwkTJuSwww7LD3/4w4r2G264IZMnT87YsWNzxhlnZP369eW29evXZ86cOamvr8+ECRNy/fXX70ppAADAe+iVV17Jddddl8bGxt4upcd6HIaWLFmSI444Il/60peyYcOG8vo33ngjs2fPzt/93d9lzZo1ufnmmzNnzpy88sorSZK77rorixcvzhNPPJGXX345o0ePzty5c8vbn3322Tn88MOzZs2aLF++PDfddFMeeOCBKkwRAADYEz73uc/l6KOPzpVXXpkPfvCDvV1Oj/X4Mrm77747++yzT4YOHZrzzjuv/OVI//AP/5Af/OAHuffee8t9P/rRj+bDH/5w5s2bl2OPPTaXXXZZPvaxjyVJWlpaMmbMmLz66qtpaWnJcccdl6ampgwY8PYN7r785S/nxz/+ccV42+IyOQAA3s/e75fJvdd67TK5M888M6eddtpW65cvX17+YqR3zJgxI08//XQ6OjqyYsWKivYRI0akoaEhzzzzTJYvX56jjz66HIS23BYAAGBPqNrd5JqbmzNq1KiKdSNHjsz69evT0tKSzs7OjBgxotv27W3bnfb29rS1tVUsAAAAPVG1MNTR0ZF3X3HX2dmZmpqadHR0JMl227fV1p1Fixalrq6uvIwfP75a0wAAAAqiamFo+PDhaWlpqVi3bt26jB49Ovvvv39KpVLFDRe2bN/ett1pbGxMa2treVm7dm21pgEAABRE1cLQtGnTsmzZsop1y5Yty8yZMzNs2LBMnTq1or25uTmvvvpqjjzyyEybNi2PP/54urq6ttq2O4MHD05tbW3FAgAA0BNVC0Mf//jH82//9m956KGHkiTf//7389xzz2XOnDlJkrlz52bBggV5/fXXs2nTpjQ2Nubcc8/N0KFDc/TRR2fMmDG55ppr0tXVlVWrVuVrX/taLrjggmqVBwAAUGHAjrvsnHHjxuWOO+7IZz/72bz22muZPHlyHnjggQwbNixJMm/evPzmN7/JlClTMmDAgHzsYx/L1VdfnSSpqanJPffck//23/5bvvzlL2f//ffPddddl2nTplWrPAAAgAo9/p6hvsj3DAEA8H7me4Z6pte+ZwgAAHgPlErJprfe+6WH50oaGhpy99135z/9p/+U+vr6HHLIIbnzzjuTvH2H6Ouuuy5/+Id/mAkTJuSDH/xgbrvttvK2//iP/5g/+ZM/yY033pipU6dmzJgx+bM/+7NtfsVOtVXtMjkAAKCKNv82uerA936/lzclg4b1aJNrr702t99+eyZNmpSf/OQnOfnkk3PIIYfk7rvvzr//+7/n4YcfzgEHHJDnnnsup556avbff//85//8n5Mkjz76aGbNmpXnnnsuHR0d+fSnP52//uu/zne+8509MbsKwhAAALBb5s+fn0mTJiVJpk+fnrPOOiv33HNPbrzxxjz22GM54IADkiSHHnpoLr300nz9618vh6FRo0alsbExSTJo0KBce+21GTduXDZv3pyBAwfu0bqFIQAA6IsGDn37LE1v7LeHJk6cWPF45MiRaWlpyRtvvJEpU6ZUtE2aNKnie0Lfve0BBxyQrq6utLa2ZsSIET2upSeEIQAA6Itqanp8uVpvefdnfJ599tnMnDkzQ4YMycqVKysC0erVq8tnkbrb9rnnnkttbe0eD0KJGygAAAC76corr8y6deuSJN/73vfy8MMP55Of/GQ+85nP5DOf+UxaWlqSJM8//3yuv/76zJs3r7ztU089lcWLFyd5+05wF198cc4///z3pG5nhgAAgN3yX//rf82HP/zhbNiwIQ0NDXnwwQczYsSILFq0KFdddVVmzpyZjo6OjBw5Ml/96ldz3HHHlbc96aSTsnz58lxxxRUZNGhQ/uzP/ixf+MIX3pO6hSEAAGC3HHvssbnooou2Wj9o0KB88YtfzBe/+MVtbtu/f//cfPPNufnmm/dghd1zmRwAAFBIwhAAAFBILpMDAAB22UsvvbTL2/7VX/1V/uqv/qpqtfSUM0MAAEAhCUMAAEAhCUMAANBHdHV19XYJ7wulUqkq4/jMEAAA9LJBgwalX79+aWpqygEHHJBBgwalpqamt8vqk0qlUtatW5eampoMHDhwt8YShgAAoJf169cvEydOTHNzc5qamnq7nD6vpqYm48aNS//+/XdrHGEIAAD6gEGDBqW+vj4dHR3p7Ozs7XL6tIEDB+52EEqEIQAA6DPeufRrdy//Yue4gQIAAFBIwhAAAFBIwhAAAFBIwhAAAFBIwhAAAFBIwhAAAFBIwhAAAFBIwhAAAFBIwhAAAFBIwhAAAFBIwhAAAFBIwhAAAFBIwhAAAFBIwhAAAFBIwhAAAFBIwhAAAFBIwhAAAFBIwhAAAFBIwhAAAFBIwhAAAFBIwhAAAFBIwhAAAFBIwhAAAFBIwhAAAFBIVQtDP/jBD9LQ0FCxjBo1Kvvuu2+S5AMf+EDGjh1bbpszZ07F9jfccEMmT56csWPH5owzzsj69eurVRoAAMBWBlRroD/+4z/OSy+9VLHuvPPOy4gRI8qPH3300UycOHGrbe+6664sXrw4TzzxROrq6nL++edn7ty5ufvuu6tVHgAAQIWqhaF3W7VqVe6999688MIL5XX77bdft31vuOGGfOELX8jw4cOTJAsXLsyYMWPy2muvldcBAABU0x77zNDVV1+dz33uc6mrq3t7R/36lX/eUkdHR1asWJFZs2aV140YMSINDQ155plnuh27vb09bW1tFQsAAEBP7JEwtG7dutx5550577zzyutqampy0EEHZcqUKTnnnHPS1NSUJGlpaUlnZ2fF5XRJMnLkyG1+bmjRokWpq6srL+PHj98T0wAAAPZieyQMfetb38oZZ5yRkSNHltdt2LAhq1evzk9+8pMMHTo0s2fPTqlUSkdHR5KkVCpVjNHZ2Zmamppux29sbExra2t5Wbt27Z6YBgAAsBfbI58Z+uY3v5kvf/nLFev69Xs7d9XV1eXGG29MbW1tVq1aldGjR6dUKmXDhg0Vnw9at25dRo8e3e34gwcPzuDBg/dE6QAAQEFU/czQ008/naamppx00knb7NPV1ZWurq4MGjQow4YNy9SpU7Ns2bJye3Nzc1599dUceeSR1S4PAAAgyR4IQ0uWLMnxxx+fAQN+f9Jp5cqV5bvKtbe3Z968eZk+fXr5sz5z587NggUL8vrrr2fTpk1pbGzMueeem6FDh1a7PAAAgCR7IAw9/vjjOeqooyrWvfbaaznttNMyduzYHHroodm0aVO+853vlNvnzZuXE044IVOmTElDQ0P22WefXH311dUuDQAAoKym9O47F7wPtbW1pa6uLq2tramtre3tcgAAgF7Sk2ywx75nCAAAoC8ThgAAgEIShgAAgEIShgAAgEIShgAAgEIShgAAgEIShgAAgEIShgAAgEIShgAAgEIShgAAgEIShgAAgEIShgAAgEIShgAAgEIShgAAgEIShgAAgEIShgAAgEIShgAAgEIShgAAgEIShgAAgEIShgAAgEIShgAAgEIShgAAgEIShgAAgEIShgAAgEIShgAAgEIShgAAgEIShgAAgEIShgAAgEIShgAAgEIShgAAgEIShgAAgEIShgAAgEIShgAAgEIShgAAgEIShgAAgEIShgAAgEIShgAAgEIShgAAgEIShgAAgEIShgAAgEIShgAAgEKqahg6//zzU1dXl4aGhvKyZs2aJMlTTz2VY445JhMmTMhhhx2WH/7whxXb3nDDDZk8eXLGjh2bM844I+vXr69maQAAABWqfmZo/vz5eemll8rLhAkT8sYbb2T27Nn5u7/7u6xZsyY333xz5syZk1deeSVJctddd2Xx4sV54okn8vLLL2f06NGZO3dutUsDAAAoq3oY2m+//bZad/vtt2f69Ok5+eSTkyQnnHBCjj/++Nx5551J3j4r9IUvfCHDhw9P//79s3Dhwtx///157bXXql0eAABAkvcoDC1fvjyzZs2qWDdjxow8/fTT6ejoyIoVKyraR4wYkYaGhjzzzDPVLg8AACDJHghDjY2Nqa+vz0knnZQHH3wwSdLc3JxRo0ZV9Bs5cmTWr1+flpaWdHZ2ZsSIEd22d6e9vT1tbW0VCwAAQE9UNQz9/d//fV555ZWsXr06l1xySf70T/80Tz75ZDo6OlIqlSr6dnZ2pqamJh0dHUmyzfbuLFq0KHV1deVl/Pjx1ZwGAABQAFUNQ/36vT1c//79c9ppp+Wss87Kv/zLv2T48OFpaWmp6Ltu3bqMHj06+++/f0qlUjZs2NBte3caGxvT2tpaXtauXVvNaQAAAAWwR79nqKOjI4MGDcq0adOybNmyirZly5Zl5syZGTZsWKZOnVrR3tzcnFdffTVHHnlkt+MOHjw4tbW1FQsAAEBPVDUMLV26NF1dXUmSBx98MHfffXfOPPPMfPzjH8+//du/5aGHHkqSfP/7389zzz2XOXPmJEnmzp2bBQsW5PXXX8+mTZvS2NiYc889N0OHDq1meQAAAGUDqjnYV77ylZx99tkZOnRo6uvrc++99+awww5Lktxxxx357Gc/m9deey2TJ0/OAw88kGHDhiVJ5s2bl9/85jeZMmVKBgwYkI997GO5+uqrq1kaAABAhZrSu+9c8D7U1taWurq6tLa2umQOAAAKrCfZYI9+ZggAAKCvEoYAAIBCEoYAAIBCEoYAAIBCEoYAAIBCEoYAAIBCEoYAAIBCEoYAAIBCEoYAAIBCEoYAAIBCEoYAAIBCEoYAAIBCEoYAAIBCEoYAAIBCEoYAAIBCEoYAAIBCEoYAAIBCEoYAAIBCEoYAAIBCEoYAAIBCEoYAAIBCEoYAAIBCEoYAAIBCEoYAAIBCEoYAAIBCEoYAAIBCEoYAAIBCEoYAAIBCEoYAAIBCEoYAAIBCEoYAAIBCEoYAAIBCEoYAAIBCEoYAAIBCEoYAAIBCEoYAAIBCEoYAAIBCEoYAAIBCEoYAAIBCEoYAAIBCEoYAAIBCEoYAAIBCqmoYeuihhzJr1qxMnjw5Bx10UG666aZy2+GHH55Ro0aloaEhDQ0NmTlzZsW2t99+ew499NCMGzcuJ510UlavXl3N0gAAACoMqOZg9913X2699dZMnTo1q1atyvHHH5+DDz44p556apLkjjvuyEknnbTVdsuXL8/ll1+eRx55JPX19bnqqqsyZ86crFixoprlAQAAlFX1zNCNN96YqVOnJkkmTZqUP/3TP81DDz1Ubt9vv/263e6mm27K/PnzU19fnyS59NJLs3r16vzsZz+rZnkAAABle/QzQ+vWrUtdXV358bbC0PLlyzNr1qzy4wEDBuSoo47K008/3W3/9vb2tLW1VSwAAAA9scfC0BNPPJHvfve7+Yu/+IskSU1NTU488cTyGaMXXnih3Le5uTmjRo2q2H7kyJFZv359t2MvWrQodXV15WX8+PF7ahoAAMBeao+EoTvuuCMf/ehH80//9E+ZOHFikuRnP/tZ1qxZk1/84hf5D//hP+Tkk0/Om2++mSTp6OhIqVSqGKOzszM1NTXdjt/Y2JjW1tbysnbt2j0xDQAAYC9W1TDU2dmZz372s1mwYEGWLl2aj370o7/fUb+3d7XPPvuksbExw4YNy+OPP54kGT58eFpaWirGWrduXUaPHt3tfgYPHpza2tqKBQAAoCeqGobmz5+fVatWZcWKFTnyyCO327ejoyODBg1KkkybNi3Lli0rt23atClPPvlkjjnmmGqWBwAAUFa1MPS73/0uN998c775zW9m2LBhFW3/9//+3/z0pz9N8vbZo6uuuir9+vXL9OnTkyRz587N9ddfn1//+tfp7OzMwoULc9JJJ5UvsQMAAKi2qn3P0KpVq9LV1bXVl6lOnTo1X//61/OXf/mXWb9+fYYMGZLp06dn6dKlGTJkSJLkjDPOyIsvvpijjz46XV1dOfHEE3PrrbdWqzQAAICt1JTefeeC96G2trbU1dWltbXV54cAAKDAepIN9uj3DAEAAPRVwhAAAFBIwhAAAFBIwhAAAFBIwhAAAFBIwhAAAFBIwhAAAFBIwhAAAFBIwhAAAFBIwhAAAFBIwhAAAFBIwhAAAFBIwhAAAFBIwhAAAFBIwhAAAFBIwhAAAFBIwhAAAFBIwhAAAFBIwhAAAFBIwhAAAFBIwhAAAFBIwhAAAFBIwhAAAFBIwhAAAFBIwhAAAFBIwhAAAFBIwhAAAFBIwhAAAFBIwhAAAFBIwhAAAFBIwhAAAFBIwhAAAFBIwhAAAFBIwhAAAFBIwhAAAFBIwhAAAFBIwhAAAFBIwhAAAFBIwhAAAFBIwhAAAFBIwhAAAFBIfSoMbdy4MXPnzs2ECRMybty4XHrppSmVSr1dFgAAsBfqU2Ho4osvTldXV1auXJlf/OIX+dGPfpSvfvWrvV0WAACwF6op9ZFTL2+++WZGjRqVtWvXZvjw4UmSe+65JwsXLsxTTz213W3b2tpSV1eX1tbW1NbWvhflAntaqfT28vaDbn4u/b5ft+3b6Vv+OT3o25Nxt+y7E/vY1drfUVPzzg/vetzdul3ps0Xf7Y6zJ8atVr07U38v1fvuGqmubf2Z0+36btbtbL89MeY2/0Sr9pg9mc9ObtujMXZmN1Wopa+N05dqqeY4+45J+g/cibH2nJ5kgwHvUU079OSTT2bixInlIJQkM2bMyM9//vN0dnamf//+vVhdD/zszmTFrT3caBdeKHbpxaWP7mdvmsvu7Ke05c9V/OO5J+Nudx/d9a3GuN1sB4W3h0PhO/rcH+W7OSbQ+z73RHLA1N6uYqf1mTDU3NycUaNGVawbOXJkOjo60traWhGS2tvb097eXn7c1tb2ntW5Q22/SdY+1ttVALtlyz8q3/Xzln9obvXz9vqmB313MG7551QGyorH3a3blT7bOMNV0VTtcXeh3r1Od3PP3jtdeF/YwVncHZ7l3YmzwLs7xk6dad7T83h/ne3uM2Goo6Njq5sldHZ2Jklq3vWPsmjRoixYsOA9q61HDp2djDh4FzbchQNnly6t6KP72Zvmsoub7N4f2jvqu7199OQP/+38Ub5b4+7MPHdiH7sUKLbo63Kl979tXZ643cc706da425jjPes3m6O8W0e9zvbdxvb93bf3Z7XtjZ/Hz1fVXkO9pIA4PWdbegzYWj48OFpaWmpWLdu3boMGTIkdXV1FesbGxtz0UUXlR+3tbVl/Pjx70mdOzTi4F0MQwDstm7DMwB0r8+EoaOOOirPP/98NmzYkP333z9JsmzZssyYMSP9+lXe9G7w4MEZPHhwb5QJAADsJfrMrbVHjx6dU089NZdffnk6OjrS0tKSK6+8MvPnz+/t0gAAgL1QnwlDSXLLLbekqakpY8aMyYc+9KHMnTs3p59+em+XBQAA7IX6zGVySTJixIjcd999vV0GAABQAH3qzBAAAMB7RRgCAAAKSRgCAAAKSRgCAAAKSRgCAAAKSRgCAAAKSRgCAAAKSRgCAAAKSRgCAAAKSRgCAAAKSRgCAAAKSRgCAAAKSRgCAAAKaUBvF1ANpVIpSdLW1tbLlQAAAL3pnUzwTkbYnr0iDL3xxhtJkvHjx/dyJQAAQF/wxhtvpK6ubrt9ako7E5n6uK6urjQ1NWXfffdNTU1Nb5eTtra2jB8/PmvXrk1tbW1vl0Mf53ihpxwz9JRjhp5yzNBTfemYKZVKeeONN3LggQemX7/tfyporzgz1K9fv4wbN663y9hKbW1trx8MvH84Xugpxww95Zihpxwz9FRfOWZ2dEboHW6gAAAAFJIwBAAAFJIwtAcMHjw4X/jCFzJ48ODeLoX3AccLPeWYoaccM/SUY4aeer8eM3vFDRQAAAB6ypkhAACgkIQhAACgkIQhAACgkIQhAACgkIQh6CUNDQ157LHHersMoICGDBmSl156qbfLAPYipVIpF154Yerr6zNv3rzeLmenDejtAgAAgPe3f/3Xf80PfvCD/OpXv3pf3V7bmSEAAGC3/OY3v8lBBx30vgpCiTBUdbfffnuOPPLI1NfX56CDDsptt93W2yXRh7388ss55ZRTUl9fn0MOOSR33nlnb5fE+8Bbb72Vz3/+8znkkEMybty4HHfccb1dEn3YunXrctZZZ6W+vj4TJ07MDTfc0Nsl0ce99tprOfvsszNp0qQcfPDBufbaa3u7JPq4K664Ip///OfzyCOPpKGhIQ888EBvl7TTXCa3ByxZsiRjxozJihUrcvzxx2f27Nmpq6vr7bLog66//vrcfvvtmTRpUn7yk5/k5JNPziGHHJIjjzyyt0ujD/vzP//zjBw5Mj/96U8zdOjQ/OIXv+jtkujDzjjjjBx//PG57bbb0tXVlXnz5qW9vb23y6KPKpVKOeOMM3LCCSdk8eLF2bBhQ0488cRMmTIlp59+em+XRx915ZVX5uCDD84dd9yRJUuW9HY5PeLMUJWdddZZGTFiRJ599tk0NzdnwIABWblyZW+XRR81f/78TJo0KUkyffr0nHXWWbnnnnt6uSr6smeeeSZPPPFEbr755gwdOjRJ8od/+Ie9XBV91U9/+tOsXr06CxcuTP/+/TNw4MD8z//5P9Ovn1//dO/JJ5/MmjVrsmDBgtTU1GT48OGZO3du7r333t4uDfYIZ4aq7KKLLsqSJUtyxBFHpKGhIQMGDMimTZt6uyz6qIkTJ1Y8HjlyZNavX99L1fB+8Pzzz2fq1KkZNGhQb5fC+8DKlStz8MEHp3///uV1w4YNy8CBA3uxKvqyVatW5dVXX634/bR58+Z86EMf6sWqYM8RhqrooYceyve///38/Oc/z4ABA1IqlXLzzTf3dln0Ye8OPs8++2xmzZrVS9XwfjBmzJi89NJL6erq8u4+OzRixIisXbu2Yl1TU5PL5NimAw88MFOnTs3TTz/d26XAe8Jv0ipqb29Pe3t7fvvb36ZUKuWqq67Kxo0be7ss+rBFixZl3bp1SZLvfe97efjhh3P22Wf3clX0ZTNmzMgf/MEfpLGxMZs3b06SrFixoperoq865phjsnnz5lx//fUplUp56623cumll1acKYItzZgxI7/73e/yD//wDymVSkmSp556yiX/7LWEoSo65ZRT8pGPfCRTpkzJ1KlTs99+++XAAw/s7bLow+bMmZOTTz4548ePz6JFi/Lggw9mxIgRvV0WfdiAAQPyve99Ly+//HImTZqUiRMn5rrrruvtsuij9tlnnzzwwAO55557cuCBB+bYY4/Nxz/+8QwZMqS3S6OPGjhwYL773e/m3nvvzfjx4zN58uQsWLDApbnstWpK78R+AACAAnFmCAAAKCRhCAAAKCRhCAAAKCRhCAAAKCRhCAAAKCRhCAAAKCRhCAAAKCRhCAAAKCRhCAAAKCRhCAAAKCRhCAAAKKT/D7QZiF832sxyAAAAAElFTkSuQmCC",
      "text/plain": [
       "<Figure size 1000x600 with 1 Axes>"
=======
      "image/png": "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",
      "text/plain": [
       "<Figure size 640x480 with 1 Axes>"
>>>>>>> 6516124a7bc59f03e3d305b96c38cf89e11dee6a
      ]
     },
     "metadata": {},
     "output_type": "display_data"
    }
   ],
   "source": [
    "# 7. plot() - 데이터 시각화\n",
    "frame.plot()\n"
   ]
  },
  {
   "cell_type": "code",
<<<<<<< HEAD
   "execution_count": null,
   "metadata": {},
   "outputs": [],
   "source": []
  },
  {
   "cell_type": "code",
   "execution_count": 109,
=======
   "execution_count": 377,
>>>>>>> 6516124a7bc59f03e3d305b96c38cf89e11dee6a
   "metadata": {},
   "outputs": [
    {
     "data": {
      "text/plain": [
<<<<<<< HEAD
       "array([[-0.0931, -0.4485,  1.1445],\n",
       "       [ 0.4705,  0.8428, -0.1834],\n",
       "       [-0.6736, -1.8633,  0.3885],\n",
       "       [ 0.7104, -2.5794,  0.2637],\n",
       "       [-1.4566, -0.5291,  1.5764],\n",
       "       [ 0.783 , -1.0726,  0.2225],\n",
       "       [-0.2685,  0.4757,  0.8892],\n",
       "       [ 1.1839,  0.8477,  0.0237],\n",
       "       [ 0.0847, -1.0345, -1.2253],\n",
       "       [-0.1689,  1.1152,  0.202 ]])"
      ]
     },
     "execution_count": 109,
=======
       "array([[-0.7619478 ,  0.6393049 ,  0.04752605],\n",
       "       [ 3.11483365, -0.53246159,  0.34558368],\n",
       "       [-0.42551404, -2.23877138,  1.75539696],\n",
       "       [-0.26419336,  0.84629447,  2.0867325 ],\n",
       "       [ 0.52647831,  0.983809  , -1.92220001],\n",
       "       [-0.89482523,  0.33006282,  1.048591  ],\n",
       "       [ 1.34989935,  1.24567511, -0.69119147],\n",
       "       [ 1.28107338, -0.72706431, -0.79916869],\n",
       "       [-0.00354562,  0.51259464, -0.16786086],\n",
       "       [ 1.34633628, -0.61549198, -0.7430367 ]])"
      ]
     },
     "execution_count": 377,
>>>>>>> 6516124a7bc59f03e3d305b96c38cf89e11dee6a
     "metadata": {},
     "output_type": "execute_result"
    }
   ],
   "source": [
    "np.random.randn(10)\n",
    "np.random.randn(10,3)"
   ]
  },
  {
   "cell_type": "code",
<<<<<<< HEAD
   "execution_count": 115,
=======
   "execution_count": 378,
>>>>>>> 6516124a7bc59f03e3d305b96c38cf89e11dee6a
   "metadata": {},
   "outputs": [
    {
     "name": "stdout",
     "output_type": "stream",
     "text": [
      "                   A         B         C\n",
      "2023-01-01  1.624345 -0.611756 -0.528172\n",
      "2023-01-02  0.551377  0.253651 -2.829710\n",
      "2023-01-03  2.296189 -0.507556 -2.510671\n",
      "2023-01-04  2.046818  0.954552 -4.570812\n",
      "2023-01-05  1.724401  0.570498 -3.437043\n"
     ]
    },
    {
     "data": {
      "text/plain": [
       "<Axes: >"
      ]
     },
<<<<<<< HEAD
     "execution_count": 115,
=======
     "execution_count": 378,
>>>>>>> 6516124a7bc59f03e3d305b96c38cf89e11dee6a
     "metadata": {},
     "output_type": "execute_result"
    },
    {
<<<<<<< HEAD
     "name": "stderr",
     "output_type": "stream",
     "text": [
      "C:\\Python39\\lib\\site-packages\\IPython\\core\\events.py:82: UserWarning: Glyph 8722 (\\N{MINUS SIGN}) missing from current font.\n",
      "  func(*args, **kwargs)\n",
      "C:\\Python39\\lib\\site-packages\\IPython\\core\\pylabtools.py:152: UserWarning: Glyph 8722 (\\N{MINUS SIGN}) missing from current font.\n",
      "  fig.canvas.print_figure(bytes_io, **kw)\n"
     ]
    },
    {
     "data": {
      "image/png": "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",
      "text/plain": [
       "<Figure size 1000x600 with 1 Axes>"
=======
     "data": {
      "image/png": "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",
      "text/plain": [
       "<Figure size 640x480 with 1 Axes>"
>>>>>>> 6516124a7bc59f03e3d305b96c38cf89e11dee6a
      ]
     },
     "metadata": {},
     "output_type": "display_data"
    }
   ],
   "source": [
    "# 넘파이 2차원 배열을 이용하여 데이터프레임 생성\n",
    "np.random.seed(1)\n",
    "df2 = pd.DataFrame(data = np.random.randn(50,3),\n",
    "                   index = pd.date_range('1/1/2023',periods = 50),\n",
    "                   columns=['A','B','C'])\n",
<<<<<<< HEAD
    "df2 = df2.cumsum()\n",
    "print(df2.head())\n",
    "df2.plot() # 시각화"
=======
    "df2= df2.cumsum()\n",
    "print(df2.head())\n",
    "df2.plot() #시각화"
>>>>>>> 6516124a7bc59f03e3d305b96c38cf89e11dee6a
   ]
  },
  {
   "cell_type": "markdown",
   "metadata": {},
   "source": [
    "### 3.3.3 DateFrame의 원하는 데이터만 선택하기 (p.209, 213)\n",
    "* 인덱싱을 활용하여 원하는 데이터 선택\n",
    "* 원하는 컬럼들만 선택\n",
    "* 원하는 로우들만 선택\n",
    "* 인덱싱 슬라이싱으로 특정 범위 데이터 선택\n",
    "* 조건색인으로 특정 조건에 부합되는 데이터 선택"
   ]
  },
  {
   "cell_type": "markdown",
   "metadata": {},
   "source": [
    "* 원하는 열(컬럼)만 조회하기"
   ]
  },
  {
   "cell_type": "code",
<<<<<<< HEAD
   "execution_count": 117,
=======
   "execution_count": 379,
>>>>>>> 6516124a7bc59f03e3d305b96c38cf89e11dee6a
   "metadata": {},
   "outputs": [
    {
     "data": {
      "text/html": [
       "<div>\n",
       "<style scoped>\n",
       "    .dataframe tbody tr th:only-of-type {\n",
       "        vertical-align: middle;\n",
       "    }\n",
       "\n",
       "    .dataframe tbody tr th {\n",
       "        vertical-align: top;\n",
       "    }\n",
       "\n",
       "    .dataframe thead th {\n",
       "        text-align: right;\n",
       "    }\n",
       "</style>\n",
       "<table border=\"1\" class=\"dataframe\">\n",
       "  <thead>\n",
       "    <tr style=\"text-align: right;\">\n",
       "      <th></th>\n",
       "      <th>state</th>\n",
       "      <th>year</th>\n",
       "      <th>pop</th>\n",
       "    </tr>\n",
       "  </thead>\n",
       "  <tbody>\n",
       "    <tr>\n",
       "      <th>a</th>\n",
       "      <td>Ohio</td>\n",
       "      <td>2000</td>\n",
       "      <td>1.5</td>\n",
       "    </tr>\n",
       "    <tr>\n",
       "      <th>b</th>\n",
       "      <td>Ohio</td>\n",
       "      <td>2001</td>\n",
       "      <td>1.7</td>\n",
       "    </tr>\n",
       "    <tr>\n",
       "      <th>c</th>\n",
       "      <td>Ohio</td>\n",
       "      <td>2002</td>\n",
       "      <td>3.6</td>\n",
       "    </tr>\n",
       "    <tr>\n",
       "      <th>d</th>\n",
       "      <td>Nevada</td>\n",
       "      <td>2001</td>\n",
       "      <td>2.4</td>\n",
       "    </tr>\n",
       "    <tr>\n",
       "      <th>e</th>\n",
       "      <td>Nevada</td>\n",
       "      <td>2002</td>\n",
       "      <td>2.9</td>\n",
       "    </tr>\n",
       "    <tr>\n",
       "      <th>f</th>\n",
       "      <td>Nevada</td>\n",
       "      <td>2003</td>\n",
       "      <td>3.2</td>\n",
       "    </tr>\n",
       "  </tbody>\n",
       "</table>\n",
       "</div>"
      ],
      "text/plain": [
       "    state  year  pop\n",
       "a    Ohio  2000  1.5\n",
       "b    Ohio  2001  1.7\n",
       "c    Ohio  2002  3.6\n",
       "d  Nevada  2001  2.4\n",
       "e  Nevada  2002  2.9\n",
       "f  Nevada  2003  3.2"
      ]
     },
<<<<<<< HEAD
     "execution_count": 117,
=======
     "execution_count": 379,
>>>>>>> 6516124a7bc59f03e3d305b96c38cf89e11dee6a
     "metadata": {},
     "output_type": "execute_result"
    }
   ],
   "source": [
    "frame"
   ]
  },
  {
   "cell_type": "code",
<<<<<<< HEAD
   "execution_count": 119,
=======
   "execution_count": 380,
>>>>>>> 6516124a7bc59f03e3d305b96c38cf89e11dee6a
   "metadata": {},
   "outputs": [
    {
     "data": {
      "text/plain": [
<<<<<<< HEAD
       "a      Ohio\n",
       "b      Ohio\n",
       "c      Ohio\n",
       "d    Nevada\n",
       "e    Nevada\n",
       "f    Nevada\n",
       "Name: state, dtype: object"
      ]
     },
     "execution_count": 119,
=======
       "pandas.core.series.Series"
      ]
     },
     "execution_count": 380,
>>>>>>> 6516124a7bc59f03e3d305b96c38cf89e11dee6a
     "metadata": {},
     "output_type": "execute_result"
    }
   ],
   "source": [
    "# 1) state만 조회\n",
    "frame[\"state\"]\n",
<<<<<<< HEAD
    "# type(frame2['state']) # Series 객체\n"
=======
    "type(frame['state']) # Series 객체"
>>>>>>> 6516124a7bc59f03e3d305b96c38cf89e11dee6a
   ]
  },
  {
   "cell_type": "code",
<<<<<<< HEAD
   "execution_count": 120,
=======
   "execution_count": 382,
>>>>>>> 6516124a7bc59f03e3d305b96c38cf89e11dee6a
   "metadata": {},
   "outputs": [
    {
     "data": {
      "text/html": [
       "<div>\n",
       "<style scoped>\n",
       "    .dataframe tbody tr th:only-of-type {\n",
       "        vertical-align: middle;\n",
       "    }\n",
       "\n",
       "    .dataframe tbody tr th {\n",
       "        vertical-align: top;\n",
       "    }\n",
       "\n",
       "    .dataframe thead th {\n",
       "        text-align: right;\n",
       "    }\n",
       "</style>\n",
       "<table border=\"1\" class=\"dataframe\">\n",
       "  <thead>\n",
       "    <tr style=\"text-align: right;\">\n",
       "      <th></th>\n",
       "      <th>year</th>\n",
       "      <th>pop</th>\n",
       "    </tr>\n",
       "  </thead>\n",
       "  <tbody>\n",
       "    <tr>\n",
       "      <th>a</th>\n",
       "      <td>2000</td>\n",
       "      <td>1.5</td>\n",
       "    </tr>\n",
       "    <tr>\n",
       "      <th>b</th>\n",
       "      <td>2001</td>\n",
       "      <td>1.7</td>\n",
       "    </tr>\n",
       "    <tr>\n",
       "      <th>c</th>\n",
       "      <td>2002</td>\n",
       "      <td>3.6</td>\n",
       "    </tr>\n",
       "    <tr>\n",
       "      <th>d</th>\n",
       "      <td>2001</td>\n",
       "      <td>2.4</td>\n",
       "    </tr>\n",
       "    <tr>\n",
       "      <th>e</th>\n",
       "      <td>2002</td>\n",
       "      <td>2.9</td>\n",
       "    </tr>\n",
       "    <tr>\n",
       "      <th>f</th>\n",
       "      <td>2003</td>\n",
       "      <td>3.2</td>\n",
       "    </tr>\n",
       "  </tbody>\n",
       "</table>\n",
       "</div>"
      ],
      "text/plain": [
       "   year  pop\n",
       "a  2000  1.5\n",
       "b  2001  1.7\n",
       "c  2002  3.6\n",
       "d  2001  2.4\n",
       "e  2002  2.9\n",
       "f  2003  3.2"
      ]
     },
<<<<<<< HEAD
     "execution_count": 120,
=======
     "execution_count": 382,
>>>>>>> 6516124a7bc59f03e3d305b96c38cf89e11dee6a
     "metadata": {},
     "output_type": "execute_result"
    }
   ],
   "source": [
    "# 2) year와 pop 조회하기 - 색인 기호 안에 조회할 2개 이상의 컬럼명들을 리스트로 작성\n",
    "frame[['year','pop']]"
   ]
  },
  {
   "cell_type": "markdown",
   "metadata": {},
   "source": [
    "* 특정 행만 선택 - df.loc[행_레이블], df.iloc[행_위치] (p.211)"
   ]
  },
  {
   "cell_type": "code",
<<<<<<< HEAD
   "execution_count": 124,
=======
   "execution_count": 383,
>>>>>>> 6516124a7bc59f03e3d305b96c38cf89e11dee6a
   "metadata": {},
   "outputs": [
    {
     "data": {
      "text/plain": [
       "state    Ohio\n",
       "year     2001\n",
       "pop       1.7\n",
       "Name: b, dtype: object"
      ]
     },
<<<<<<< HEAD
     "execution_count": 124,
=======
     "execution_count": 383,
>>>>>>> 6516124a7bc59f03e3d305b96c38cf89e11dee6a
     "metadata": {},
     "output_type": "execute_result"
    }
   ],
   "source": [
    "# 1) 2번째 행 조회\n",
<<<<<<< HEAD
    "frame.loc['b'] "
=======
    "frame.loc['b']"
>>>>>>> 6516124a7bc59f03e3d305b96c38cf89e11dee6a
   ]
  },
  {
   "cell_type": "markdown",
   "metadata": {},
   "source": [
    "* 인덱스 슬라이싱\n",
    "  * 범위 값을 주고, 그 범위에 해당하는 데이터를 색인하는 방법\n",
    "  * 숫자, 문자인덱스 모두 슬라이싱 가능"
   ]
  },
  {
   "cell_type": "code",
<<<<<<< HEAD
   "execution_count": 128,
=======
   "execution_count": 384,
>>>>>>> 6516124a7bc59f03e3d305b96c38cf89e11dee6a
   "metadata": {},
   "outputs": [
    {
     "data": {
      "text/html": [
       "<div>\n",
       "<style scoped>\n",
       "    .dataframe tbody tr th:only-of-type {\n",
       "        vertical-align: middle;\n",
       "    }\n",
       "\n",
       "    .dataframe tbody tr th {\n",
       "        vertical-align: top;\n",
       "    }\n",
       "\n",
       "    .dataframe thead th {\n",
       "        text-align: right;\n",
       "    }\n",
       "</style>\n",
       "<table border=\"1\" class=\"dataframe\">\n",
       "  <thead>\n",
       "    <tr style=\"text-align: right;\">\n",
       "      <th></th>\n",
       "      <th>state</th>\n",
       "      <th>year</th>\n",
       "      <th>pop</th>\n",
       "    </tr>\n",
       "  </thead>\n",
       "  <tbody>\n",
       "    <tr>\n",
       "      <th>a</th>\n",
       "      <td>Ohio</td>\n",
       "      <td>2000</td>\n",
       "      <td>1.5</td>\n",
       "    </tr>\n",
       "    <tr>\n",
       "      <th>b</th>\n",
       "      <td>Ohio</td>\n",
       "      <td>2001</td>\n",
       "      <td>1.7</td>\n",
       "    </tr>\n",
       "    <tr>\n",
       "      <th>c</th>\n",
       "      <td>Ohio</td>\n",
       "      <td>2002</td>\n",
       "      <td>3.6</td>\n",
       "    </tr>\n",
       "    <tr>\n",
       "      <th>d</th>\n",
       "      <td>Nevada</td>\n",
       "      <td>2001</td>\n",
       "      <td>2.4</td>\n",
       "    </tr>\n",
       "    <tr>\n",
       "      <th>e</th>\n",
       "      <td>Nevada</td>\n",
       "      <td>2002</td>\n",
       "      <td>2.9</td>\n",
       "    </tr>\n",
       "    <tr>\n",
       "      <th>f</th>\n",
       "      <td>Nevada</td>\n",
       "      <td>2003</td>\n",
       "      <td>3.2</td>\n",
       "    </tr>\n",
       "  </tbody>\n",
       "</table>\n",
       "</div>"
      ],
      "text/plain": [
       "    state  year  pop\n",
       "a    Ohio  2000  1.5\n",
       "b    Ohio  2001  1.7\n",
       "c    Ohio  2002  3.6\n",
       "d  Nevada  2001  2.4\n",
       "e  Nevada  2002  2.9\n",
       "f  Nevada  2003  3.2"
      ]
     },
<<<<<<< HEAD
     "execution_count": 128,
=======
     "execution_count": 384,
>>>>>>> 6516124a7bc59f03e3d305b96c38cf89e11dee6a
     "metadata": {},
     "output_type": "execute_result"
    }
   ],
   "source": [
    "frame"
   ]
  },
  {
   "cell_type": "code",
<<<<<<< HEAD
   "execution_count": 130,
=======
   "execution_count": 385,
>>>>>>> 6516124a7bc59f03e3d305b96c38cf89e11dee6a
   "metadata": {},
   "outputs": [
    {
     "data": {
      "text/html": [
       "<div>\n",
       "<style scoped>\n",
       "    .dataframe tbody tr th:only-of-type {\n",
       "        vertical-align: middle;\n",
       "    }\n",
       "\n",
       "    .dataframe tbody tr th {\n",
       "        vertical-align: top;\n",
       "    }\n",
       "\n",
       "    .dataframe thead th {\n",
       "        text-align: right;\n",
       "    }\n",
       "</style>\n",
       "<table border=\"1\" class=\"dataframe\">\n",
       "  <thead>\n",
       "    <tr style=\"text-align: right;\">\n",
       "      <th></th>\n",
       "      <th>state</th>\n",
       "      <th>year</th>\n",
       "      <th>pop</th>\n",
       "    </tr>\n",
       "  </thead>\n",
       "  <tbody>\n",
       "    <tr>\n",
       "      <th>b</th>\n",
       "      <td>Ohio</td>\n",
       "      <td>2001</td>\n",
       "      <td>1.7</td>\n",
       "    </tr>\n",
       "    <tr>\n",
       "      <th>c</th>\n",
       "      <td>Ohio</td>\n",
       "      <td>2002</td>\n",
       "      <td>3.6</td>\n",
       "    </tr>\n",
       "    <tr>\n",
       "      <th>d</th>\n",
       "      <td>Nevada</td>\n",
       "      <td>2001</td>\n",
       "      <td>2.4</td>\n",
       "    </tr>\n",
       "  </tbody>\n",
       "</table>\n",
       "</div>"
      ],
      "text/plain": [
       "    state  year  pop\n",
       "b    Ohio  2001  1.7\n",
       "c    Ohio  2002  3.6\n",
       "d  Nevada  2001  2.4"
      ]
     },
<<<<<<< HEAD
     "execution_count": 130,
=======
     "execution_count": 385,
>>>>>>> 6516124a7bc59f03e3d305b96c38cf89e11dee6a
     "metadata": {},
     "output_type": "execute_result"
    }
   ],
   "source": [
    "frame.loc[\"b\":\"d\"]"
   ]
  },
  {
   "cell_type": "code",
<<<<<<< HEAD
   "execution_count": 134,
=======
   "execution_count": 386,
>>>>>>> 6516124a7bc59f03e3d305b96c38cf89e11dee6a
   "metadata": {},
   "outputs": [
    {
     "data": {
      "text/html": [
       "<div>\n",
       "<style scoped>\n",
       "    .dataframe tbody tr th:only-of-type {\n",
       "        vertical-align: middle;\n",
       "    }\n",
       "\n",
       "    .dataframe tbody tr th {\n",
       "        vertical-align: top;\n",
       "    }\n",
       "\n",
       "    .dataframe thead th {\n",
       "        text-align: right;\n",
       "    }\n",
       "</style>\n",
       "<table border=\"1\" class=\"dataframe\">\n",
       "  <thead>\n",
       "    <tr style=\"text-align: right;\">\n",
       "      <th></th>\n",
       "      <th>state</th>\n",
       "      <th>year</th>\n",
       "      <th>pop</th>\n",
       "    </tr>\n",
       "  </thead>\n",
       "  <tbody>\n",
       "    <tr>\n",
       "      <th>b</th>\n",
       "      <td>Ohio</td>\n",
       "      <td>2001</td>\n",
       "      <td>1.7</td>\n",
       "    </tr>\n",
       "    <tr>\n",
       "      <th>c</th>\n",
       "      <td>Ohio</td>\n",
       "      <td>2002</td>\n",
       "      <td>3.6</td>\n",
       "    </tr>\n",
       "  </tbody>\n",
       "</table>\n",
       "</div>"
      ],
      "text/plain": [
       "  state  year  pop\n",
       "b  Ohio  2001  1.7\n",
       "c  Ohio  2002  3.6"
      ]
     },
<<<<<<< HEAD
     "execution_count": 134,
=======
     "execution_count": 386,
>>>>>>> 6516124a7bc59f03e3d305b96c38cf89e11dee6a
     "metadata": {},
     "output_type": "execute_result"
    }
   ],
   "source": [
    "frame.iloc[1:3]"
   ]
  },
  {
   "cell_type": "markdown",
   "metadata": {},
   "source": [
    "* 2개의 인덱스를 모두 사용 색인 - 원하는 행과 열을 선택하여 조회하기\n",
    " "
   ]
  },
  {
   "cell_type": "code",
<<<<<<< HEAD
   "execution_count": 136,
=======
   "execution_count": 389,
>>>>>>> 6516124a7bc59f03e3d305b96c38cf89e11dee6a
   "metadata": {},
   "outputs": [
    {
     "ename": "KeyError",
     "evalue": "\"None of [Index([1, 2, 3], dtype='int32')] are in the [index]\"",
     "output_type": "error",
     "traceback": [
      "\u001b[1;31m---------------------------------------------------------------------------\u001b[0m",
      "\u001b[1;31mKeyError\u001b[0m                                  Traceback (most recent call last)",
<<<<<<< HEAD
      "Cell \u001b[1;32mIn[136], line 1\u001b[0m\n\u001b[1;32m----> 1\u001b[0m \u001b[43mframe\u001b[49m\u001b[38;5;241;43m.\u001b[39;49m\u001b[43mloc\u001b[49m\u001b[43m[\u001b[49m\u001b[43m[\u001b[49m\u001b[38;5;241;43m1\u001b[39;49m\u001b[43m,\u001b[49m\u001b[38;5;241;43m2\u001b[39;49m\u001b[43m,\u001b[49m\u001b[38;5;241;43m3\u001b[39;49m\u001b[43m]\u001b[49m\u001b[43m,\u001b[49m\u001b[43m \u001b[49m\u001b[43m[\u001b[49m\u001b[38;5;124;43m'\u001b[39;49m\u001b[38;5;124;43myear\u001b[39;49m\u001b[38;5;124;43m'\u001b[39;49m\u001b[43m,\u001b[49m\u001b[38;5;124;43m'\u001b[39;49m\u001b[38;5;124;43mpop\u001b[39;49m\u001b[38;5;124;43m'\u001b[39;49m\u001b[43m]\u001b[49m\u001b[43m]\u001b[49m \u001b[38;5;66;03m# 행과 열을 동시에 명시\u001b[39;00m\n",
      "File \u001b[1;32mC:\\Python39\\lib\\site-packages\\pandas\\core\\indexing.py:1184\u001b[0m, in \u001b[0;36m_LocationIndexer.__getitem__\u001b[1;34m(self, key)\u001b[0m\n\u001b[0;32m   1182\u001b[0m     \u001b[38;5;28;01mif\u001b[39;00m \u001b[38;5;28mself\u001b[39m\u001b[38;5;241m.\u001b[39m_is_scalar_access(key):\n\u001b[0;32m   1183\u001b[0m         \u001b[38;5;28;01mreturn\u001b[39;00m \u001b[38;5;28mself\u001b[39m\u001b[38;5;241m.\u001b[39mobj\u001b[38;5;241m.\u001b[39m_get_value(\u001b[38;5;241m*\u001b[39mkey, takeable\u001b[38;5;241m=\u001b[39m\u001b[38;5;28mself\u001b[39m\u001b[38;5;241m.\u001b[39m_takeable)\n\u001b[1;32m-> 1184\u001b[0m     \u001b[38;5;28;01mreturn\u001b[39;00m \u001b[38;5;28;43mself\u001b[39;49m\u001b[38;5;241;43m.\u001b[39;49m\u001b[43m_getitem_tuple\u001b[49m\u001b[43m(\u001b[49m\u001b[43mkey\u001b[49m\u001b[43m)\u001b[49m\n\u001b[0;32m   1185\u001b[0m \u001b[38;5;28;01melse\u001b[39;00m:\n\u001b[0;32m   1186\u001b[0m     \u001b[38;5;66;03m# we by definition only have the 0th axis\u001b[39;00m\n\u001b[0;32m   1187\u001b[0m     axis \u001b[38;5;241m=\u001b[39m \u001b[38;5;28mself\u001b[39m\u001b[38;5;241m.\u001b[39maxis \u001b[38;5;129;01mor\u001b[39;00m \u001b[38;5;241m0\u001b[39m\n",
      "File \u001b[1;32mC:\\Python39\\lib\\site-packages\\pandas\\core\\indexing.py:1375\u001b[0m, in \u001b[0;36m_LocIndexer._getitem_tuple\u001b[1;34m(self, tup)\u001b[0m\n\u001b[0;32m   1373\u001b[0m \u001b[38;5;66;03m# ugly hack for GH #836\u001b[39;00m\n\u001b[0;32m   1374\u001b[0m \u001b[38;5;28;01mif\u001b[39;00m \u001b[38;5;28mself\u001b[39m\u001b[38;5;241m.\u001b[39m_multi_take_opportunity(tup):\n\u001b[1;32m-> 1375\u001b[0m     \u001b[38;5;28;01mreturn\u001b[39;00m \u001b[38;5;28;43mself\u001b[39;49m\u001b[38;5;241;43m.\u001b[39;49m\u001b[43m_multi_take\u001b[49m\u001b[43m(\u001b[49m\u001b[43mtup\u001b[49m\u001b[43m)\u001b[49m\n\u001b[0;32m   1377\u001b[0m \u001b[38;5;28;01mreturn\u001b[39;00m \u001b[38;5;28mself\u001b[39m\u001b[38;5;241m.\u001b[39m_getitem_tuple_same_dim(tup)\n",
      "File \u001b[1;32mC:\\Python39\\lib\\site-packages\\pandas\\core\\indexing.py:1326\u001b[0m, in \u001b[0;36m_LocIndexer._multi_take\u001b[1;34m(self, tup)\u001b[0m\n\u001b[0;32m   1310\u001b[0m \u001b[38;5;250m\u001b[39m\u001b[38;5;124;03m\"\"\"\u001b[39;00m\n\u001b[0;32m   1311\u001b[0m \u001b[38;5;124;03mCreate the indexers for the passed tuple of keys, and\u001b[39;00m\n\u001b[0;32m   1312\u001b[0m \u001b[38;5;124;03mexecutes the take operation. This allows the take operation to be\u001b[39;00m\n\u001b[1;32m   (...)\u001b[0m\n\u001b[0;32m   1323\u001b[0m \u001b[38;5;124;03mvalues: same type as the object being indexed\u001b[39;00m\n\u001b[0;32m   1324\u001b[0m \u001b[38;5;124;03m\"\"\"\u001b[39;00m\n\u001b[0;32m   1325\u001b[0m \u001b[38;5;66;03m# GH 836\u001b[39;00m\n\u001b[1;32m-> 1326\u001b[0m d \u001b[38;5;241m=\u001b[39m {\n\u001b[0;32m   1327\u001b[0m     axis: \u001b[38;5;28mself\u001b[39m\u001b[38;5;241m.\u001b[39m_get_listlike_indexer(key, axis)\n\u001b[0;32m   1328\u001b[0m     \u001b[38;5;28;01mfor\u001b[39;00m (key, axis) \u001b[38;5;129;01min\u001b[39;00m \u001b[38;5;28mzip\u001b[39m(tup, \u001b[38;5;28mself\u001b[39m\u001b[38;5;241m.\u001b[39mobj\u001b[38;5;241m.\u001b[39m_AXIS_ORDERS)\n\u001b[0;32m   1329\u001b[0m }\n\u001b[0;32m   1330\u001b[0m \u001b[38;5;28;01mreturn\u001b[39;00m \u001b[38;5;28mself\u001b[39m\u001b[38;5;241m.\u001b[39mobj\u001b[38;5;241m.\u001b[39m_reindex_with_indexers(d, copy\u001b[38;5;241m=\u001b[39m\u001b[38;5;28;01mTrue\u001b[39;00m, allow_dups\u001b[38;5;241m=\u001b[39m\u001b[38;5;28;01mTrue\u001b[39;00m)\n",
      "File \u001b[1;32mC:\\Python39\\lib\\site-packages\\pandas\\core\\indexing.py:1327\u001b[0m, in \u001b[0;36m<dictcomp>\u001b[1;34m(.0)\u001b[0m\n\u001b[0;32m   1310\u001b[0m \u001b[38;5;250m\u001b[39m\u001b[38;5;124;03m\"\"\"\u001b[39;00m\n\u001b[0;32m   1311\u001b[0m \u001b[38;5;124;03mCreate the indexers for the passed tuple of keys, and\u001b[39;00m\n\u001b[0;32m   1312\u001b[0m \u001b[38;5;124;03mexecutes the take operation. This allows the take operation to be\u001b[39;00m\n\u001b[1;32m   (...)\u001b[0m\n\u001b[0;32m   1323\u001b[0m \u001b[38;5;124;03mvalues: same type as the object being indexed\u001b[39;00m\n\u001b[0;32m   1324\u001b[0m \u001b[38;5;124;03m\"\"\"\u001b[39;00m\n\u001b[0;32m   1325\u001b[0m \u001b[38;5;66;03m# GH 836\u001b[39;00m\n\u001b[0;32m   1326\u001b[0m d \u001b[38;5;241m=\u001b[39m {\n\u001b[1;32m-> 1327\u001b[0m     axis: \u001b[38;5;28;43mself\u001b[39;49m\u001b[38;5;241;43m.\u001b[39;49m\u001b[43m_get_listlike_indexer\u001b[49m\u001b[43m(\u001b[49m\u001b[43mkey\u001b[49m\u001b[43m,\u001b[49m\u001b[43m \u001b[49m\u001b[43maxis\u001b[49m\u001b[43m)\u001b[49m\n\u001b[0;32m   1328\u001b[0m     \u001b[38;5;28;01mfor\u001b[39;00m (key, axis) \u001b[38;5;129;01min\u001b[39;00m \u001b[38;5;28mzip\u001b[39m(tup, \u001b[38;5;28mself\u001b[39m\u001b[38;5;241m.\u001b[39mobj\u001b[38;5;241m.\u001b[39m_AXIS_ORDERS)\n\u001b[0;32m   1329\u001b[0m }\n\u001b[0;32m   1330\u001b[0m \u001b[38;5;28;01mreturn\u001b[39;00m \u001b[38;5;28mself\u001b[39m\u001b[38;5;241m.\u001b[39mobj\u001b[38;5;241m.\u001b[39m_reindex_with_indexers(d, copy\u001b[38;5;241m=\u001b[39m\u001b[38;5;28;01mTrue\u001b[39;00m, allow_dups\u001b[38;5;241m=\u001b[39m\u001b[38;5;28;01mTrue\u001b[39;00m)\n",
      "File \u001b[1;32mC:\\Python39\\lib\\site-packages\\pandas\\core\\indexing.py:1558\u001b[0m, in \u001b[0;36m_LocIndexer._get_listlike_indexer\u001b[1;34m(self, key, axis)\u001b[0m\n\u001b[0;32m   1555\u001b[0m ax \u001b[38;5;241m=\u001b[39m \u001b[38;5;28mself\u001b[39m\u001b[38;5;241m.\u001b[39mobj\u001b[38;5;241m.\u001b[39m_get_axis(axis)\n\u001b[0;32m   1556\u001b[0m axis_name \u001b[38;5;241m=\u001b[39m \u001b[38;5;28mself\u001b[39m\u001b[38;5;241m.\u001b[39mobj\u001b[38;5;241m.\u001b[39m_get_axis_name(axis)\n\u001b[1;32m-> 1558\u001b[0m keyarr, indexer \u001b[38;5;241m=\u001b[39m \u001b[43max\u001b[49m\u001b[38;5;241;43m.\u001b[39;49m\u001b[43m_get_indexer_strict\u001b[49m\u001b[43m(\u001b[49m\u001b[43mkey\u001b[49m\u001b[43m,\u001b[49m\u001b[43m \u001b[49m\u001b[43maxis_name\u001b[49m\u001b[43m)\u001b[49m\n\u001b[0;32m   1560\u001b[0m \u001b[38;5;28;01mreturn\u001b[39;00m keyarr, indexer\n",
      "File \u001b[1;32mC:\\Python39\\lib\\site-packages\\pandas\\core\\indexes\\base.py:6200\u001b[0m, in \u001b[0;36mIndex._get_indexer_strict\u001b[1;34m(self, key, axis_name)\u001b[0m\n\u001b[0;32m   6197\u001b[0m \u001b[38;5;28;01melse\u001b[39;00m:\n\u001b[0;32m   6198\u001b[0m     keyarr, indexer, new_indexer \u001b[38;5;241m=\u001b[39m \u001b[38;5;28mself\u001b[39m\u001b[38;5;241m.\u001b[39m_reindex_non_unique(keyarr)\n\u001b[1;32m-> 6200\u001b[0m \u001b[38;5;28;43mself\u001b[39;49m\u001b[38;5;241;43m.\u001b[39;49m\u001b[43m_raise_if_missing\u001b[49m\u001b[43m(\u001b[49m\u001b[43mkeyarr\u001b[49m\u001b[43m,\u001b[49m\u001b[43m \u001b[49m\u001b[43mindexer\u001b[49m\u001b[43m,\u001b[49m\u001b[43m \u001b[49m\u001b[43maxis_name\u001b[49m\u001b[43m)\u001b[49m\n\u001b[0;32m   6202\u001b[0m keyarr \u001b[38;5;241m=\u001b[39m \u001b[38;5;28mself\u001b[39m\u001b[38;5;241m.\u001b[39mtake(indexer)\n\u001b[0;32m   6203\u001b[0m \u001b[38;5;28;01mif\u001b[39;00m \u001b[38;5;28misinstance\u001b[39m(key, Index):\n\u001b[0;32m   6204\u001b[0m     \u001b[38;5;66;03m# GH 42790 - Preserve name from an Index\u001b[39;00m\n",
      "File \u001b[1;32mC:\\Python39\\lib\\site-packages\\pandas\\core\\indexes\\base.py:6249\u001b[0m, in \u001b[0;36mIndex._raise_if_missing\u001b[1;34m(self, key, indexer, axis_name)\u001b[0m\n\u001b[0;32m   6247\u001b[0m \u001b[38;5;28;01mif\u001b[39;00m nmissing:\n\u001b[0;32m   6248\u001b[0m     \u001b[38;5;28;01mif\u001b[39;00m nmissing \u001b[38;5;241m==\u001b[39m \u001b[38;5;28mlen\u001b[39m(indexer):\n\u001b[1;32m-> 6249\u001b[0m         \u001b[38;5;28;01mraise\u001b[39;00m \u001b[38;5;167;01mKeyError\u001b[39;00m(\u001b[38;5;124mf\u001b[39m\u001b[38;5;124m\"\u001b[39m\u001b[38;5;124mNone of [\u001b[39m\u001b[38;5;132;01m{\u001b[39;00mkey\u001b[38;5;132;01m}\u001b[39;00m\u001b[38;5;124m] are in the [\u001b[39m\u001b[38;5;132;01m{\u001b[39;00maxis_name\u001b[38;5;132;01m}\u001b[39;00m\u001b[38;5;124m]\u001b[39m\u001b[38;5;124m\"\u001b[39m)\n\u001b[0;32m   6251\u001b[0m     not_found \u001b[38;5;241m=\u001b[39m \u001b[38;5;28mlist\u001b[39m(ensure_index(key)[missing_mask\u001b[38;5;241m.\u001b[39mnonzero()[\u001b[38;5;241m0\u001b[39m]]\u001b[38;5;241m.\u001b[39munique())\n\u001b[0;32m   6252\u001b[0m     \u001b[38;5;28;01mraise\u001b[39;00m \u001b[38;5;167;01mKeyError\u001b[39;00m(\u001b[38;5;124mf\u001b[39m\u001b[38;5;124m\"\u001b[39m\u001b[38;5;132;01m{\u001b[39;00mnot_found\u001b[38;5;132;01m}\u001b[39;00m\u001b[38;5;124m not in index\u001b[39m\u001b[38;5;124m\"\u001b[39m)\n",
=======
      "Cell \u001b[1;32mIn[389], line 1\u001b[0m\n\u001b[1;32m----> 1\u001b[0m \u001b[43mframe\u001b[49m\u001b[38;5;241;43m.\u001b[39;49m\u001b[43mloc\u001b[49m\u001b[43m[\u001b[49m\u001b[43m[\u001b[49m\u001b[38;5;241;43m1\u001b[39;49m\u001b[43m,\u001b[49m\u001b[38;5;241;43m2\u001b[39;49m\u001b[43m,\u001b[49m\u001b[38;5;241;43m3\u001b[39;49m\u001b[43m]\u001b[49m\u001b[43m,\u001b[49m\u001b[43m[\u001b[49m\u001b[38;5;124;43m'\u001b[39;49m\u001b[38;5;124;43myear\u001b[39;49m\u001b[38;5;124;43m'\u001b[39;49m\u001b[43m,\u001b[49m\u001b[38;5;124;43m'\u001b[39;49m\u001b[38;5;124;43mpop\u001b[39;49m\u001b[38;5;124;43m'\u001b[39;49m\u001b[43m]\u001b[49m\u001b[43m]\u001b[49m \u001b[38;5;66;03m# 행과 열을 동시에 명시\u001b[39;00m\n",
      "File \u001b[1;32m~\\Desktop\\python_basic_3\\venv\\Lib\\site-packages\\pandas\\core\\indexing.py:1184\u001b[0m, in \u001b[0;36m_LocationIndexer.__getitem__\u001b[1;34m(self, key)\u001b[0m\n\u001b[0;32m   1182\u001b[0m     \u001b[38;5;28;01mif\u001b[39;00m \u001b[38;5;28mself\u001b[39m\u001b[38;5;241m.\u001b[39m_is_scalar_access(key):\n\u001b[0;32m   1183\u001b[0m         \u001b[38;5;28;01mreturn\u001b[39;00m \u001b[38;5;28mself\u001b[39m\u001b[38;5;241m.\u001b[39mobj\u001b[38;5;241m.\u001b[39m_get_value(\u001b[38;5;241m*\u001b[39mkey, takeable\u001b[38;5;241m=\u001b[39m\u001b[38;5;28mself\u001b[39m\u001b[38;5;241m.\u001b[39m_takeable)\n\u001b[1;32m-> 1184\u001b[0m     \u001b[38;5;28;01mreturn\u001b[39;00m \u001b[38;5;28;43mself\u001b[39;49m\u001b[38;5;241;43m.\u001b[39;49m\u001b[43m_getitem_tuple\u001b[49m\u001b[43m(\u001b[49m\u001b[43mkey\u001b[49m\u001b[43m)\u001b[49m\n\u001b[0;32m   1185\u001b[0m \u001b[38;5;28;01melse\u001b[39;00m:\n\u001b[0;32m   1186\u001b[0m     \u001b[38;5;66;03m# we by definition only have the 0th axis\u001b[39;00m\n\u001b[0;32m   1187\u001b[0m     axis \u001b[38;5;241m=\u001b[39m \u001b[38;5;28mself\u001b[39m\u001b[38;5;241m.\u001b[39maxis \u001b[38;5;129;01mor\u001b[39;00m \u001b[38;5;241m0\u001b[39m\n",
      "File \u001b[1;32m~\\Desktop\\python_basic_3\\venv\\Lib\\site-packages\\pandas\\core\\indexing.py:1375\u001b[0m, in \u001b[0;36m_LocIndexer._getitem_tuple\u001b[1;34m(self, tup)\u001b[0m\n\u001b[0;32m   1373\u001b[0m \u001b[38;5;66;03m# ugly hack for GH #836\u001b[39;00m\n\u001b[0;32m   1374\u001b[0m \u001b[38;5;28;01mif\u001b[39;00m \u001b[38;5;28mself\u001b[39m\u001b[38;5;241m.\u001b[39m_multi_take_opportunity(tup):\n\u001b[1;32m-> 1375\u001b[0m     \u001b[38;5;28;01mreturn\u001b[39;00m \u001b[38;5;28;43mself\u001b[39;49m\u001b[38;5;241;43m.\u001b[39;49m\u001b[43m_multi_take\u001b[49m\u001b[43m(\u001b[49m\u001b[43mtup\u001b[49m\u001b[43m)\u001b[49m\n\u001b[0;32m   1377\u001b[0m \u001b[38;5;28;01mreturn\u001b[39;00m \u001b[38;5;28mself\u001b[39m\u001b[38;5;241m.\u001b[39m_getitem_tuple_same_dim(tup)\n",
      "File \u001b[1;32m~\\Desktop\\python_basic_3\\venv\\Lib\\site-packages\\pandas\\core\\indexing.py:1327\u001b[0m, in \u001b[0;36m_LocIndexer._multi_take\u001b[1;34m(self, tup)\u001b[0m\n\u001b[0;32m   1310\u001b[0m \u001b[38;5;250m\u001b[39m\u001b[38;5;124;03m\"\"\"\u001b[39;00m\n\u001b[0;32m   1311\u001b[0m \u001b[38;5;124;03mCreate the indexers for the passed tuple of keys, and\u001b[39;00m\n\u001b[0;32m   1312\u001b[0m \u001b[38;5;124;03mexecutes the take operation. This allows the take operation to be\u001b[39;00m\n\u001b[1;32m   (...)\u001b[0m\n\u001b[0;32m   1323\u001b[0m \u001b[38;5;124;03mvalues: same type as the object being indexed\u001b[39;00m\n\u001b[0;32m   1324\u001b[0m \u001b[38;5;124;03m\"\"\"\u001b[39;00m\n\u001b[0;32m   1325\u001b[0m \u001b[38;5;66;03m# GH 836\u001b[39;00m\n\u001b[0;32m   1326\u001b[0m d \u001b[38;5;241m=\u001b[39m {\n\u001b[1;32m-> 1327\u001b[0m     axis: \u001b[38;5;28;43mself\u001b[39;49m\u001b[38;5;241;43m.\u001b[39;49m\u001b[43m_get_listlike_indexer\u001b[49m\u001b[43m(\u001b[49m\u001b[43mkey\u001b[49m\u001b[43m,\u001b[49m\u001b[43m \u001b[49m\u001b[43maxis\u001b[49m\u001b[43m)\u001b[49m\n\u001b[0;32m   1328\u001b[0m     \u001b[38;5;28;01mfor\u001b[39;00m (key, axis) \u001b[38;5;129;01min\u001b[39;00m \u001b[38;5;28mzip\u001b[39m(tup, \u001b[38;5;28mself\u001b[39m\u001b[38;5;241m.\u001b[39mobj\u001b[38;5;241m.\u001b[39m_AXIS_ORDERS)\n\u001b[0;32m   1329\u001b[0m }\n\u001b[0;32m   1330\u001b[0m \u001b[38;5;28;01mreturn\u001b[39;00m \u001b[38;5;28mself\u001b[39m\u001b[38;5;241m.\u001b[39mobj\u001b[38;5;241m.\u001b[39m_reindex_with_indexers(d, copy\u001b[38;5;241m=\u001b[39m\u001b[38;5;28;01mTrue\u001b[39;00m, allow_dups\u001b[38;5;241m=\u001b[39m\u001b[38;5;28;01mTrue\u001b[39;00m)\n",
      "File \u001b[1;32m~\\Desktop\\python_basic_3\\venv\\Lib\\site-packages\\pandas\\core\\indexing.py:1558\u001b[0m, in \u001b[0;36m_LocIndexer._get_listlike_indexer\u001b[1;34m(self, key, axis)\u001b[0m\n\u001b[0;32m   1555\u001b[0m ax \u001b[38;5;241m=\u001b[39m \u001b[38;5;28mself\u001b[39m\u001b[38;5;241m.\u001b[39mobj\u001b[38;5;241m.\u001b[39m_get_axis(axis)\n\u001b[0;32m   1556\u001b[0m axis_name \u001b[38;5;241m=\u001b[39m \u001b[38;5;28mself\u001b[39m\u001b[38;5;241m.\u001b[39mobj\u001b[38;5;241m.\u001b[39m_get_axis_name(axis)\n\u001b[1;32m-> 1558\u001b[0m keyarr, indexer \u001b[38;5;241m=\u001b[39m \u001b[43max\u001b[49m\u001b[38;5;241;43m.\u001b[39;49m\u001b[43m_get_indexer_strict\u001b[49m\u001b[43m(\u001b[49m\u001b[43mkey\u001b[49m\u001b[43m,\u001b[49m\u001b[43m \u001b[49m\u001b[43maxis_name\u001b[49m\u001b[43m)\u001b[49m\n\u001b[0;32m   1560\u001b[0m \u001b[38;5;28;01mreturn\u001b[39;00m keyarr, indexer\n",
      "File \u001b[1;32m~\\Desktop\\python_basic_3\\venv\\Lib\\site-packages\\pandas\\core\\indexes\\base.py:6200\u001b[0m, in \u001b[0;36mIndex._get_indexer_strict\u001b[1;34m(self, key, axis_name)\u001b[0m\n\u001b[0;32m   6197\u001b[0m \u001b[38;5;28;01melse\u001b[39;00m:\n\u001b[0;32m   6198\u001b[0m     keyarr, indexer, new_indexer \u001b[38;5;241m=\u001b[39m \u001b[38;5;28mself\u001b[39m\u001b[38;5;241m.\u001b[39m_reindex_non_unique(keyarr)\n\u001b[1;32m-> 6200\u001b[0m \u001b[38;5;28;43mself\u001b[39;49m\u001b[38;5;241;43m.\u001b[39;49m\u001b[43m_raise_if_missing\u001b[49m\u001b[43m(\u001b[49m\u001b[43mkeyarr\u001b[49m\u001b[43m,\u001b[49m\u001b[43m \u001b[49m\u001b[43mindexer\u001b[49m\u001b[43m,\u001b[49m\u001b[43m \u001b[49m\u001b[43maxis_name\u001b[49m\u001b[43m)\u001b[49m\n\u001b[0;32m   6202\u001b[0m keyarr \u001b[38;5;241m=\u001b[39m \u001b[38;5;28mself\u001b[39m\u001b[38;5;241m.\u001b[39mtake(indexer)\n\u001b[0;32m   6203\u001b[0m \u001b[38;5;28;01mif\u001b[39;00m \u001b[38;5;28misinstance\u001b[39m(key, Index):\n\u001b[0;32m   6204\u001b[0m     \u001b[38;5;66;03m# GH 42790 - Preserve name from an Index\u001b[39;00m\n",
      "File \u001b[1;32m~\\Desktop\\python_basic_3\\venv\\Lib\\site-packages\\pandas\\core\\indexes\\base.py:6249\u001b[0m, in \u001b[0;36mIndex._raise_if_missing\u001b[1;34m(self, key, indexer, axis_name)\u001b[0m\n\u001b[0;32m   6247\u001b[0m \u001b[38;5;28;01mif\u001b[39;00m nmissing:\n\u001b[0;32m   6248\u001b[0m     \u001b[38;5;28;01mif\u001b[39;00m nmissing \u001b[38;5;241m==\u001b[39m \u001b[38;5;28mlen\u001b[39m(indexer):\n\u001b[1;32m-> 6249\u001b[0m         \u001b[38;5;28;01mraise\u001b[39;00m \u001b[38;5;167;01mKeyError\u001b[39;00m(\u001b[38;5;124mf\u001b[39m\u001b[38;5;124m\"\u001b[39m\u001b[38;5;124mNone of [\u001b[39m\u001b[38;5;132;01m{\u001b[39;00mkey\u001b[38;5;132;01m}\u001b[39;00m\u001b[38;5;124m] are in the [\u001b[39m\u001b[38;5;132;01m{\u001b[39;00maxis_name\u001b[38;5;132;01m}\u001b[39;00m\u001b[38;5;124m]\u001b[39m\u001b[38;5;124m\"\u001b[39m)\n\u001b[0;32m   6251\u001b[0m     not_found \u001b[38;5;241m=\u001b[39m \u001b[38;5;28mlist\u001b[39m(ensure_index(key)[missing_mask\u001b[38;5;241m.\u001b[39mnonzero()[\u001b[38;5;241m0\u001b[39m]]\u001b[38;5;241m.\u001b[39munique())\n\u001b[0;32m   6252\u001b[0m     \u001b[38;5;28;01mraise\u001b[39;00m \u001b[38;5;167;01mKeyError\u001b[39;00m(\u001b[38;5;124mf\u001b[39m\u001b[38;5;124m\"\u001b[39m\u001b[38;5;132;01m{\u001b[39;00mnot_found\u001b[38;5;132;01m}\u001b[39;00m\u001b[38;5;124m not in index\u001b[39m\u001b[38;5;124m\"\u001b[39m)\n",
>>>>>>> 6516124a7bc59f03e3d305b96c38cf89e11dee6a
      "\u001b[1;31mKeyError\u001b[0m: \"None of [Index([1, 2, 3], dtype='int32')] are in the [index]\""
     ]
    }
   ],
   "source": [
<<<<<<< HEAD
    "frame.loc[[1,2,3], ['year','pop']] # 행과 열을 동시에 명시"
=======
    "frame.loc[[1,2,3],['year','pop']] # 행과 열을 동시에 명시"
>>>>>>> 6516124a7bc59f03e3d305b96c38cf89e11dee6a
   ]
  },
  {
   "cell_type": "code",
<<<<<<< HEAD
   "execution_count": 138,
=======
   "execution_count": 390,
>>>>>>> 6516124a7bc59f03e3d305b96c38cf89e11dee6a
   "metadata": {},
   "outputs": [
    {
     "ename": "TypeError",
     "evalue": "cannot do slice indexing on Index with these indexers [1] of type int",
     "output_type": "error",
     "traceback": [
      "\u001b[1;31m---------------------------------------------------------------------------\u001b[0m",
      "\u001b[1;31mTypeError\u001b[0m                                 Traceback (most recent call last)",
<<<<<<< HEAD
      "Cell \u001b[1;32mIn[138], line 1\u001b[0m\n\u001b[1;32m----> 1\u001b[0m \u001b[43mframe\u001b[49m\u001b[38;5;241;43m.\u001b[39;49m\u001b[43mloc\u001b[49m\u001b[43m[\u001b[49m\u001b[38;5;241;43m1\u001b[39;49m\u001b[43m:\u001b[49m\u001b[38;5;241;43m4\u001b[39;49m\u001b[43m,\u001b[49m\u001b[43m \u001b[49m\u001b[43m[\u001b[49m\u001b[38;5;124;43m'\u001b[39;49m\u001b[38;5;124;43myear\u001b[39;49m\u001b[38;5;124;43m'\u001b[39;49m\u001b[43m,\u001b[49m\u001b[38;5;124;43m'\u001b[39;49m\u001b[38;5;124;43mpop\u001b[39;49m\u001b[38;5;124;43m'\u001b[39;49m\u001b[43m]\u001b[49m\u001b[43m]\u001b[49m \u001b[38;5;66;03m# 행과 열을 동시에 슬라이싱\u001b[39;00m\n",
      "File \u001b[1;32mC:\\Python39\\lib\\site-packages\\pandas\\core\\indexing.py:1184\u001b[0m, in \u001b[0;36m_LocationIndexer.__getitem__\u001b[1;34m(self, key)\u001b[0m\n\u001b[0;32m   1182\u001b[0m     \u001b[38;5;28;01mif\u001b[39;00m \u001b[38;5;28mself\u001b[39m\u001b[38;5;241m.\u001b[39m_is_scalar_access(key):\n\u001b[0;32m   1183\u001b[0m         \u001b[38;5;28;01mreturn\u001b[39;00m \u001b[38;5;28mself\u001b[39m\u001b[38;5;241m.\u001b[39mobj\u001b[38;5;241m.\u001b[39m_get_value(\u001b[38;5;241m*\u001b[39mkey, takeable\u001b[38;5;241m=\u001b[39m\u001b[38;5;28mself\u001b[39m\u001b[38;5;241m.\u001b[39m_takeable)\n\u001b[1;32m-> 1184\u001b[0m     \u001b[38;5;28;01mreturn\u001b[39;00m \u001b[38;5;28;43mself\u001b[39;49m\u001b[38;5;241;43m.\u001b[39;49m\u001b[43m_getitem_tuple\u001b[49m\u001b[43m(\u001b[49m\u001b[43mkey\u001b[49m\u001b[43m)\u001b[49m\n\u001b[0;32m   1185\u001b[0m \u001b[38;5;28;01melse\u001b[39;00m:\n\u001b[0;32m   1186\u001b[0m     \u001b[38;5;66;03m# we by definition only have the 0th axis\u001b[39;00m\n\u001b[0;32m   1187\u001b[0m     axis \u001b[38;5;241m=\u001b[39m \u001b[38;5;28mself\u001b[39m\u001b[38;5;241m.\u001b[39maxis \u001b[38;5;129;01mor\u001b[39;00m \u001b[38;5;241m0\u001b[39m\n",
      "File \u001b[1;32mC:\\Python39\\lib\\site-packages\\pandas\\core\\indexing.py:1377\u001b[0m, in \u001b[0;36m_LocIndexer._getitem_tuple\u001b[1;34m(self, tup)\u001b[0m\n\u001b[0;32m   1374\u001b[0m \u001b[38;5;28;01mif\u001b[39;00m \u001b[38;5;28mself\u001b[39m\u001b[38;5;241m.\u001b[39m_multi_take_opportunity(tup):\n\u001b[0;32m   1375\u001b[0m     \u001b[38;5;28;01mreturn\u001b[39;00m \u001b[38;5;28mself\u001b[39m\u001b[38;5;241m.\u001b[39m_multi_take(tup)\n\u001b[1;32m-> 1377\u001b[0m \u001b[38;5;28;01mreturn\u001b[39;00m \u001b[38;5;28;43mself\u001b[39;49m\u001b[38;5;241;43m.\u001b[39;49m\u001b[43m_getitem_tuple_same_dim\u001b[49m\u001b[43m(\u001b[49m\u001b[43mtup\u001b[49m\u001b[43m)\u001b[49m\n",
      "File \u001b[1;32mC:\\Python39\\lib\\site-packages\\pandas\\core\\indexing.py:1020\u001b[0m, in \u001b[0;36m_LocationIndexer._getitem_tuple_same_dim\u001b[1;34m(self, tup)\u001b[0m\n\u001b[0;32m   1017\u001b[0m \u001b[38;5;28;01mif\u001b[39;00m com\u001b[38;5;241m.\u001b[39mis_null_slice(key):\n\u001b[0;32m   1018\u001b[0m     \u001b[38;5;28;01mcontinue\u001b[39;00m\n\u001b[1;32m-> 1020\u001b[0m retval \u001b[38;5;241m=\u001b[39m \u001b[38;5;28;43mgetattr\u001b[39;49m\u001b[43m(\u001b[49m\u001b[43mretval\u001b[49m\u001b[43m,\u001b[49m\u001b[43m \u001b[49m\u001b[38;5;28;43mself\u001b[39;49m\u001b[38;5;241;43m.\u001b[39;49m\u001b[43mname\u001b[49m\u001b[43m)\u001b[49m\u001b[38;5;241;43m.\u001b[39;49m\u001b[43m_getitem_axis\u001b[49m\u001b[43m(\u001b[49m\u001b[43mkey\u001b[49m\u001b[43m,\u001b[49m\u001b[43m \u001b[49m\u001b[43maxis\u001b[49m\u001b[38;5;241;43m=\u001b[39;49m\u001b[43mi\u001b[49m\u001b[43m)\u001b[49m\n\u001b[0;32m   1021\u001b[0m \u001b[38;5;66;03m# We should never have retval.ndim < self.ndim, as that should\u001b[39;00m\n\u001b[0;32m   1022\u001b[0m \u001b[38;5;66;03m#  be handled by the _getitem_lowerdim call above.\u001b[39;00m\n\u001b[0;32m   1023\u001b[0m \u001b[38;5;28;01massert\u001b[39;00m retval\u001b[38;5;241m.\u001b[39mndim \u001b[38;5;241m==\u001b[39m \u001b[38;5;28mself\u001b[39m\u001b[38;5;241m.\u001b[39mndim\n",
      "File \u001b[1;32mC:\\Python39\\lib\\site-packages\\pandas\\core\\indexing.py:1411\u001b[0m, in \u001b[0;36m_LocIndexer._getitem_axis\u001b[1;34m(self, key, axis)\u001b[0m\n\u001b[0;32m   1409\u001b[0m \u001b[38;5;28;01mif\u001b[39;00m \u001b[38;5;28misinstance\u001b[39m(key, \u001b[38;5;28mslice\u001b[39m):\n\u001b[0;32m   1410\u001b[0m     \u001b[38;5;28mself\u001b[39m\u001b[38;5;241m.\u001b[39m_validate_key(key, axis)\n\u001b[1;32m-> 1411\u001b[0m     \u001b[38;5;28;01mreturn\u001b[39;00m \u001b[38;5;28;43mself\u001b[39;49m\u001b[38;5;241;43m.\u001b[39;49m\u001b[43m_get_slice_axis\u001b[49m\u001b[43m(\u001b[49m\u001b[43mkey\u001b[49m\u001b[43m,\u001b[49m\u001b[43m \u001b[49m\u001b[43maxis\u001b[49m\u001b[38;5;241;43m=\u001b[39;49m\u001b[43maxis\u001b[49m\u001b[43m)\u001b[49m\n\u001b[0;32m   1412\u001b[0m \u001b[38;5;28;01melif\u001b[39;00m com\u001b[38;5;241m.\u001b[39mis_bool_indexer(key):\n\u001b[0;32m   1413\u001b[0m     \u001b[38;5;28;01mreturn\u001b[39;00m \u001b[38;5;28mself\u001b[39m\u001b[38;5;241m.\u001b[39m_getbool_axis(key, axis\u001b[38;5;241m=\u001b[39maxis)\n",
      "File \u001b[1;32mC:\\Python39\\lib\\site-packages\\pandas\\core\\indexing.py:1443\u001b[0m, in \u001b[0;36m_LocIndexer._get_slice_axis\u001b[1;34m(self, slice_obj, axis)\u001b[0m\n\u001b[0;32m   1440\u001b[0m     \u001b[38;5;28;01mreturn\u001b[39;00m obj\u001b[38;5;241m.\u001b[39mcopy(deep\u001b[38;5;241m=\u001b[39m\u001b[38;5;28;01mFalse\u001b[39;00m)\n\u001b[0;32m   1442\u001b[0m labels \u001b[38;5;241m=\u001b[39m obj\u001b[38;5;241m.\u001b[39m_get_axis(axis)\n\u001b[1;32m-> 1443\u001b[0m indexer \u001b[38;5;241m=\u001b[39m \u001b[43mlabels\u001b[49m\u001b[38;5;241;43m.\u001b[39;49m\u001b[43mslice_indexer\u001b[49m\u001b[43m(\u001b[49m\u001b[43mslice_obj\u001b[49m\u001b[38;5;241;43m.\u001b[39;49m\u001b[43mstart\u001b[49m\u001b[43m,\u001b[49m\u001b[43m \u001b[49m\u001b[43mslice_obj\u001b[49m\u001b[38;5;241;43m.\u001b[39;49m\u001b[43mstop\u001b[49m\u001b[43m,\u001b[49m\u001b[43m \u001b[49m\u001b[43mslice_obj\u001b[49m\u001b[38;5;241;43m.\u001b[39;49m\u001b[43mstep\u001b[49m\u001b[43m)\u001b[49m\n\u001b[0;32m   1445\u001b[0m \u001b[38;5;28;01mif\u001b[39;00m \u001b[38;5;28misinstance\u001b[39m(indexer, \u001b[38;5;28mslice\u001b[39m):\n\u001b[0;32m   1446\u001b[0m     \u001b[38;5;28;01mreturn\u001b[39;00m \u001b[38;5;28mself\u001b[39m\u001b[38;5;241m.\u001b[39mobj\u001b[38;5;241m.\u001b[39m_slice(indexer, axis\u001b[38;5;241m=\u001b[39maxis)\n",
      "File \u001b[1;32mC:\\Python39\\lib\\site-packages\\pandas\\core\\indexes\\base.py:6662\u001b[0m, in \u001b[0;36mIndex.slice_indexer\u001b[1;34m(self, start, end, step)\u001b[0m\n\u001b[0;32m   6618\u001b[0m \u001b[38;5;28;01mdef\u001b[39;00m \u001b[38;5;21mslice_indexer\u001b[39m(\n\u001b[0;32m   6619\u001b[0m     \u001b[38;5;28mself\u001b[39m,\n\u001b[0;32m   6620\u001b[0m     start: Hashable \u001b[38;5;241m|\u001b[39m \u001b[38;5;28;01mNone\u001b[39;00m \u001b[38;5;241m=\u001b[39m \u001b[38;5;28;01mNone\u001b[39;00m,\n\u001b[0;32m   6621\u001b[0m     end: Hashable \u001b[38;5;241m|\u001b[39m \u001b[38;5;28;01mNone\u001b[39;00m \u001b[38;5;241m=\u001b[39m \u001b[38;5;28;01mNone\u001b[39;00m,\n\u001b[0;32m   6622\u001b[0m     step: \u001b[38;5;28mint\u001b[39m \u001b[38;5;241m|\u001b[39m \u001b[38;5;28;01mNone\u001b[39;00m \u001b[38;5;241m=\u001b[39m \u001b[38;5;28;01mNone\u001b[39;00m,\n\u001b[0;32m   6623\u001b[0m ) \u001b[38;5;241m-\u001b[39m\u001b[38;5;241m>\u001b[39m \u001b[38;5;28mslice\u001b[39m:\n\u001b[0;32m   6624\u001b[0m \u001b[38;5;250m    \u001b[39m\u001b[38;5;124;03m\"\"\"\u001b[39;00m\n\u001b[0;32m   6625\u001b[0m \u001b[38;5;124;03m    Compute the slice indexer for input labels and step.\u001b[39;00m\n\u001b[0;32m   6626\u001b[0m \n\u001b[1;32m   (...)\u001b[0m\n\u001b[0;32m   6660\u001b[0m \u001b[38;5;124;03m    slice(1, 3, None)\u001b[39;00m\n\u001b[0;32m   6661\u001b[0m \u001b[38;5;124;03m    \"\"\"\u001b[39;00m\n\u001b[1;32m-> 6662\u001b[0m     start_slice, end_slice \u001b[38;5;241m=\u001b[39m \u001b[38;5;28;43mself\u001b[39;49m\u001b[38;5;241;43m.\u001b[39;49m\u001b[43mslice_locs\u001b[49m\u001b[43m(\u001b[49m\u001b[43mstart\u001b[49m\u001b[43m,\u001b[49m\u001b[43m \u001b[49m\u001b[43mend\u001b[49m\u001b[43m,\u001b[49m\u001b[43m \u001b[49m\u001b[43mstep\u001b[49m\u001b[38;5;241;43m=\u001b[39;49m\u001b[43mstep\u001b[49m\u001b[43m)\u001b[49m\n\u001b[0;32m   6664\u001b[0m     \u001b[38;5;66;03m# return a slice\u001b[39;00m\n\u001b[0;32m   6665\u001b[0m     \u001b[38;5;28;01mif\u001b[39;00m \u001b[38;5;129;01mnot\u001b[39;00m is_scalar(start_slice):\n",
      "File \u001b[1;32mC:\\Python39\\lib\\site-packages\\pandas\\core\\indexes\\base.py:6879\u001b[0m, in \u001b[0;36mIndex.slice_locs\u001b[1;34m(self, start, end, step)\u001b[0m\n\u001b[0;32m   6877\u001b[0m start_slice \u001b[38;5;241m=\u001b[39m \u001b[38;5;28;01mNone\u001b[39;00m\n\u001b[0;32m   6878\u001b[0m \u001b[38;5;28;01mif\u001b[39;00m start \u001b[38;5;129;01mis\u001b[39;00m \u001b[38;5;129;01mnot\u001b[39;00m \u001b[38;5;28;01mNone\u001b[39;00m:\n\u001b[1;32m-> 6879\u001b[0m     start_slice \u001b[38;5;241m=\u001b[39m \u001b[38;5;28;43mself\u001b[39;49m\u001b[38;5;241;43m.\u001b[39;49m\u001b[43mget_slice_bound\u001b[49m\u001b[43m(\u001b[49m\u001b[43mstart\u001b[49m\u001b[43m,\u001b[49m\u001b[43m \u001b[49m\u001b[38;5;124;43m\"\u001b[39;49m\u001b[38;5;124;43mleft\u001b[39;49m\u001b[38;5;124;43m\"\u001b[39;49m\u001b[43m)\u001b[49m\n\u001b[0;32m   6880\u001b[0m \u001b[38;5;28;01mif\u001b[39;00m start_slice \u001b[38;5;129;01mis\u001b[39;00m \u001b[38;5;28;01mNone\u001b[39;00m:\n\u001b[0;32m   6881\u001b[0m     start_slice \u001b[38;5;241m=\u001b[39m \u001b[38;5;241m0\u001b[39m\n",
      "File \u001b[1;32mC:\\Python39\\lib\\site-packages\\pandas\\core\\indexes\\base.py:6794\u001b[0m, in \u001b[0;36mIndex.get_slice_bound\u001b[1;34m(self, label, side)\u001b[0m\n\u001b[0;32m   6790\u001b[0m original_label \u001b[38;5;241m=\u001b[39m label\n\u001b[0;32m   6792\u001b[0m \u001b[38;5;66;03m# For datetime indices label may be a string that has to be converted\u001b[39;00m\n\u001b[0;32m   6793\u001b[0m \u001b[38;5;66;03m# to datetime boundary according to its resolution.\u001b[39;00m\n\u001b[1;32m-> 6794\u001b[0m label \u001b[38;5;241m=\u001b[39m \u001b[38;5;28;43mself\u001b[39;49m\u001b[38;5;241;43m.\u001b[39;49m\u001b[43m_maybe_cast_slice_bound\u001b[49m\u001b[43m(\u001b[49m\u001b[43mlabel\u001b[49m\u001b[43m,\u001b[49m\u001b[43m \u001b[49m\u001b[43mside\u001b[49m\u001b[43m)\u001b[49m\n\u001b[0;32m   6796\u001b[0m \u001b[38;5;66;03m# we need to look up the label\u001b[39;00m\n\u001b[0;32m   6797\u001b[0m \u001b[38;5;28;01mtry\u001b[39;00m:\n",
      "File \u001b[1;32mC:\\Python39\\lib\\site-packages\\pandas\\core\\indexes\\base.py:6727\u001b[0m, in \u001b[0;36mIndex._maybe_cast_slice_bound\u001b[1;34m(self, label, side)\u001b[0m\n\u001b[0;32m   6725\u001b[0m \u001b[38;5;66;03m# reject them, if index does not contain label\u001b[39;00m\n\u001b[0;32m   6726\u001b[0m \u001b[38;5;28;01mif\u001b[39;00m (is_float(label) \u001b[38;5;129;01mor\u001b[39;00m is_integer(label)) \u001b[38;5;129;01mand\u001b[39;00m label \u001b[38;5;129;01mnot\u001b[39;00m \u001b[38;5;129;01min\u001b[39;00m \u001b[38;5;28mself\u001b[39m:\n\u001b[1;32m-> 6727\u001b[0m     \u001b[38;5;28;43mself\u001b[39;49m\u001b[38;5;241;43m.\u001b[39;49m\u001b[43m_raise_invalid_indexer\u001b[49m\u001b[43m(\u001b[49m\u001b[38;5;124;43m\"\u001b[39;49m\u001b[38;5;124;43mslice\u001b[39;49m\u001b[38;5;124;43m\"\u001b[39;49m\u001b[43m,\u001b[49m\u001b[43m \u001b[49m\u001b[43mlabel\u001b[49m\u001b[43m)\u001b[49m\n\u001b[0;32m   6729\u001b[0m \u001b[38;5;28;01mreturn\u001b[39;00m label\n",
      "File \u001b[1;32mC:\\Python39\\lib\\site-packages\\pandas\\core\\indexes\\base.py:4301\u001b[0m, in \u001b[0;36mIndex._raise_invalid_indexer\u001b[1;34m(self, form, key, reraise)\u001b[0m\n\u001b[0;32m   4299\u001b[0m \u001b[38;5;28;01mif\u001b[39;00m reraise \u001b[38;5;129;01mis\u001b[39;00m \u001b[38;5;129;01mnot\u001b[39;00m lib\u001b[38;5;241m.\u001b[39mno_default:\n\u001b[0;32m   4300\u001b[0m     \u001b[38;5;28;01mraise\u001b[39;00m \u001b[38;5;167;01mTypeError\u001b[39;00m(msg) \u001b[38;5;28;01mfrom\u001b[39;00m \u001b[38;5;21;01mreraise\u001b[39;00m\n\u001b[1;32m-> 4301\u001b[0m \u001b[38;5;28;01mraise\u001b[39;00m \u001b[38;5;167;01mTypeError\u001b[39;00m(msg)\n",
=======
      "Cell \u001b[1;32mIn[390], line 1\u001b[0m\n\u001b[1;32m----> 1\u001b[0m \u001b[43mframe\u001b[49m\u001b[38;5;241;43m.\u001b[39;49m\u001b[43mloc\u001b[49m\u001b[43m[\u001b[49m\u001b[38;5;241;43m1\u001b[39;49m\u001b[43m:\u001b[49m\u001b[38;5;241;43m4\u001b[39;49m\u001b[43m,\u001b[49m\u001b[43m \u001b[49m\u001b[43m[\u001b[49m\u001b[38;5;124;43m'\u001b[39;49m\u001b[38;5;124;43myear\u001b[39;49m\u001b[38;5;124;43m'\u001b[39;49m\u001b[43m,\u001b[49m\u001b[38;5;124;43m'\u001b[39;49m\u001b[38;5;124;43mpop\u001b[39;49m\u001b[38;5;124;43m'\u001b[39;49m\u001b[43m]\u001b[49m\u001b[43m]\u001b[49m \u001b[38;5;66;03m# 행과 열을 동시에 슬라이싱\u001b[39;00m\n",
      "File \u001b[1;32m~\\Desktop\\python_basic_3\\venv\\Lib\\site-packages\\pandas\\core\\indexing.py:1184\u001b[0m, in \u001b[0;36m_LocationIndexer.__getitem__\u001b[1;34m(self, key)\u001b[0m\n\u001b[0;32m   1182\u001b[0m     \u001b[38;5;28;01mif\u001b[39;00m \u001b[38;5;28mself\u001b[39m\u001b[38;5;241m.\u001b[39m_is_scalar_access(key):\n\u001b[0;32m   1183\u001b[0m         \u001b[38;5;28;01mreturn\u001b[39;00m \u001b[38;5;28mself\u001b[39m\u001b[38;5;241m.\u001b[39mobj\u001b[38;5;241m.\u001b[39m_get_value(\u001b[38;5;241m*\u001b[39mkey, takeable\u001b[38;5;241m=\u001b[39m\u001b[38;5;28mself\u001b[39m\u001b[38;5;241m.\u001b[39m_takeable)\n\u001b[1;32m-> 1184\u001b[0m     \u001b[38;5;28;01mreturn\u001b[39;00m \u001b[38;5;28;43mself\u001b[39;49m\u001b[38;5;241;43m.\u001b[39;49m\u001b[43m_getitem_tuple\u001b[49m\u001b[43m(\u001b[49m\u001b[43mkey\u001b[49m\u001b[43m)\u001b[49m\n\u001b[0;32m   1185\u001b[0m \u001b[38;5;28;01melse\u001b[39;00m:\n\u001b[0;32m   1186\u001b[0m     \u001b[38;5;66;03m# we by definition only have the 0th axis\u001b[39;00m\n\u001b[0;32m   1187\u001b[0m     axis \u001b[38;5;241m=\u001b[39m \u001b[38;5;28mself\u001b[39m\u001b[38;5;241m.\u001b[39maxis \u001b[38;5;129;01mor\u001b[39;00m \u001b[38;5;241m0\u001b[39m\n",
      "File \u001b[1;32m~\\Desktop\\python_basic_3\\venv\\Lib\\site-packages\\pandas\\core\\indexing.py:1377\u001b[0m, in \u001b[0;36m_LocIndexer._getitem_tuple\u001b[1;34m(self, tup)\u001b[0m\n\u001b[0;32m   1374\u001b[0m \u001b[38;5;28;01mif\u001b[39;00m \u001b[38;5;28mself\u001b[39m\u001b[38;5;241m.\u001b[39m_multi_take_opportunity(tup):\n\u001b[0;32m   1375\u001b[0m     \u001b[38;5;28;01mreturn\u001b[39;00m \u001b[38;5;28mself\u001b[39m\u001b[38;5;241m.\u001b[39m_multi_take(tup)\n\u001b[1;32m-> 1377\u001b[0m \u001b[38;5;28;01mreturn\u001b[39;00m \u001b[38;5;28;43mself\u001b[39;49m\u001b[38;5;241;43m.\u001b[39;49m\u001b[43m_getitem_tuple_same_dim\u001b[49m\u001b[43m(\u001b[49m\u001b[43mtup\u001b[49m\u001b[43m)\u001b[49m\n",
      "File \u001b[1;32m~\\Desktop\\python_basic_3\\venv\\Lib\\site-packages\\pandas\\core\\indexing.py:1020\u001b[0m, in \u001b[0;36m_LocationIndexer._getitem_tuple_same_dim\u001b[1;34m(self, tup)\u001b[0m\n\u001b[0;32m   1017\u001b[0m \u001b[38;5;28;01mif\u001b[39;00m com\u001b[38;5;241m.\u001b[39mis_null_slice(key):\n\u001b[0;32m   1018\u001b[0m     \u001b[38;5;28;01mcontinue\u001b[39;00m\n\u001b[1;32m-> 1020\u001b[0m retval \u001b[38;5;241m=\u001b[39m \u001b[38;5;28;43mgetattr\u001b[39;49m\u001b[43m(\u001b[49m\u001b[43mretval\u001b[49m\u001b[43m,\u001b[49m\u001b[43m \u001b[49m\u001b[38;5;28;43mself\u001b[39;49m\u001b[38;5;241;43m.\u001b[39;49m\u001b[43mname\u001b[49m\u001b[43m)\u001b[49m\u001b[38;5;241;43m.\u001b[39;49m\u001b[43m_getitem_axis\u001b[49m\u001b[43m(\u001b[49m\u001b[43mkey\u001b[49m\u001b[43m,\u001b[49m\u001b[43m \u001b[49m\u001b[43maxis\u001b[49m\u001b[38;5;241;43m=\u001b[39;49m\u001b[43mi\u001b[49m\u001b[43m)\u001b[49m\n\u001b[0;32m   1021\u001b[0m \u001b[38;5;66;03m# We should never have retval.ndim < self.ndim, as that should\u001b[39;00m\n\u001b[0;32m   1022\u001b[0m \u001b[38;5;66;03m#  be handled by the _getitem_lowerdim call above.\u001b[39;00m\n\u001b[0;32m   1023\u001b[0m \u001b[38;5;28;01massert\u001b[39;00m retval\u001b[38;5;241m.\u001b[39mndim \u001b[38;5;241m==\u001b[39m \u001b[38;5;28mself\u001b[39m\u001b[38;5;241m.\u001b[39mndim\n",
      "File \u001b[1;32m~\\Desktop\\python_basic_3\\venv\\Lib\\site-packages\\pandas\\core\\indexing.py:1411\u001b[0m, in \u001b[0;36m_LocIndexer._getitem_axis\u001b[1;34m(self, key, axis)\u001b[0m\n\u001b[0;32m   1409\u001b[0m \u001b[38;5;28;01mif\u001b[39;00m \u001b[38;5;28misinstance\u001b[39m(key, \u001b[38;5;28mslice\u001b[39m):\n\u001b[0;32m   1410\u001b[0m     \u001b[38;5;28mself\u001b[39m\u001b[38;5;241m.\u001b[39m_validate_key(key, axis)\n\u001b[1;32m-> 1411\u001b[0m     \u001b[38;5;28;01mreturn\u001b[39;00m \u001b[38;5;28;43mself\u001b[39;49m\u001b[38;5;241;43m.\u001b[39;49m\u001b[43m_get_slice_axis\u001b[49m\u001b[43m(\u001b[49m\u001b[43mkey\u001b[49m\u001b[43m,\u001b[49m\u001b[43m \u001b[49m\u001b[43maxis\u001b[49m\u001b[38;5;241;43m=\u001b[39;49m\u001b[43maxis\u001b[49m\u001b[43m)\u001b[49m\n\u001b[0;32m   1412\u001b[0m \u001b[38;5;28;01melif\u001b[39;00m com\u001b[38;5;241m.\u001b[39mis_bool_indexer(key):\n\u001b[0;32m   1413\u001b[0m     \u001b[38;5;28;01mreturn\u001b[39;00m \u001b[38;5;28mself\u001b[39m\u001b[38;5;241m.\u001b[39m_getbool_axis(key, axis\u001b[38;5;241m=\u001b[39maxis)\n",
      "File \u001b[1;32m~\\Desktop\\python_basic_3\\venv\\Lib\\site-packages\\pandas\\core\\indexing.py:1443\u001b[0m, in \u001b[0;36m_LocIndexer._get_slice_axis\u001b[1;34m(self, slice_obj, axis)\u001b[0m\n\u001b[0;32m   1440\u001b[0m     \u001b[38;5;28;01mreturn\u001b[39;00m obj\u001b[38;5;241m.\u001b[39mcopy(deep\u001b[38;5;241m=\u001b[39m\u001b[38;5;28;01mFalse\u001b[39;00m)\n\u001b[0;32m   1442\u001b[0m labels \u001b[38;5;241m=\u001b[39m obj\u001b[38;5;241m.\u001b[39m_get_axis(axis)\n\u001b[1;32m-> 1443\u001b[0m indexer \u001b[38;5;241m=\u001b[39m \u001b[43mlabels\u001b[49m\u001b[38;5;241;43m.\u001b[39;49m\u001b[43mslice_indexer\u001b[49m\u001b[43m(\u001b[49m\u001b[43mslice_obj\u001b[49m\u001b[38;5;241;43m.\u001b[39;49m\u001b[43mstart\u001b[49m\u001b[43m,\u001b[49m\u001b[43m \u001b[49m\u001b[43mslice_obj\u001b[49m\u001b[38;5;241;43m.\u001b[39;49m\u001b[43mstop\u001b[49m\u001b[43m,\u001b[49m\u001b[43m \u001b[49m\u001b[43mslice_obj\u001b[49m\u001b[38;5;241;43m.\u001b[39;49m\u001b[43mstep\u001b[49m\u001b[43m)\u001b[49m\n\u001b[0;32m   1445\u001b[0m \u001b[38;5;28;01mif\u001b[39;00m \u001b[38;5;28misinstance\u001b[39m(indexer, \u001b[38;5;28mslice\u001b[39m):\n\u001b[0;32m   1446\u001b[0m     \u001b[38;5;28;01mreturn\u001b[39;00m \u001b[38;5;28mself\u001b[39m\u001b[38;5;241m.\u001b[39mobj\u001b[38;5;241m.\u001b[39m_slice(indexer, axis\u001b[38;5;241m=\u001b[39maxis)\n",
      "File \u001b[1;32m~\\Desktop\\python_basic_3\\venv\\Lib\\site-packages\\pandas\\core\\indexes\\base.py:6662\u001b[0m, in \u001b[0;36mIndex.slice_indexer\u001b[1;34m(self, start, end, step)\u001b[0m\n\u001b[0;32m   6618\u001b[0m \u001b[38;5;28;01mdef\u001b[39;00m \u001b[38;5;21mslice_indexer\u001b[39m(\n\u001b[0;32m   6619\u001b[0m     \u001b[38;5;28mself\u001b[39m,\n\u001b[0;32m   6620\u001b[0m     start: Hashable \u001b[38;5;241m|\u001b[39m \u001b[38;5;28;01mNone\u001b[39;00m \u001b[38;5;241m=\u001b[39m \u001b[38;5;28;01mNone\u001b[39;00m,\n\u001b[0;32m   6621\u001b[0m     end: Hashable \u001b[38;5;241m|\u001b[39m \u001b[38;5;28;01mNone\u001b[39;00m \u001b[38;5;241m=\u001b[39m \u001b[38;5;28;01mNone\u001b[39;00m,\n\u001b[0;32m   6622\u001b[0m     step: \u001b[38;5;28mint\u001b[39m \u001b[38;5;241m|\u001b[39m \u001b[38;5;28;01mNone\u001b[39;00m \u001b[38;5;241m=\u001b[39m \u001b[38;5;28;01mNone\u001b[39;00m,\n\u001b[0;32m   6623\u001b[0m ) \u001b[38;5;241m-\u001b[39m\u001b[38;5;241m>\u001b[39m \u001b[38;5;28mslice\u001b[39m:\n\u001b[0;32m   6624\u001b[0m \u001b[38;5;250m    \u001b[39m\u001b[38;5;124;03m\"\"\"\u001b[39;00m\n\u001b[0;32m   6625\u001b[0m \u001b[38;5;124;03m    Compute the slice indexer for input labels and step.\u001b[39;00m\n\u001b[0;32m   6626\u001b[0m \n\u001b[1;32m   (...)\u001b[0m\n\u001b[0;32m   6660\u001b[0m \u001b[38;5;124;03m    slice(1, 3, None)\u001b[39;00m\n\u001b[0;32m   6661\u001b[0m \u001b[38;5;124;03m    \"\"\"\u001b[39;00m\n\u001b[1;32m-> 6662\u001b[0m     start_slice, end_slice \u001b[38;5;241m=\u001b[39m \u001b[38;5;28;43mself\u001b[39;49m\u001b[38;5;241;43m.\u001b[39;49m\u001b[43mslice_locs\u001b[49m\u001b[43m(\u001b[49m\u001b[43mstart\u001b[49m\u001b[43m,\u001b[49m\u001b[43m \u001b[49m\u001b[43mend\u001b[49m\u001b[43m,\u001b[49m\u001b[43m \u001b[49m\u001b[43mstep\u001b[49m\u001b[38;5;241;43m=\u001b[39;49m\u001b[43mstep\u001b[49m\u001b[43m)\u001b[49m\n\u001b[0;32m   6664\u001b[0m     \u001b[38;5;66;03m# return a slice\u001b[39;00m\n\u001b[0;32m   6665\u001b[0m     \u001b[38;5;28;01mif\u001b[39;00m \u001b[38;5;129;01mnot\u001b[39;00m is_scalar(start_slice):\n",
      "File \u001b[1;32m~\\Desktop\\python_basic_3\\venv\\Lib\\site-packages\\pandas\\core\\indexes\\base.py:6879\u001b[0m, in \u001b[0;36mIndex.slice_locs\u001b[1;34m(self, start, end, step)\u001b[0m\n\u001b[0;32m   6877\u001b[0m start_slice \u001b[38;5;241m=\u001b[39m \u001b[38;5;28;01mNone\u001b[39;00m\n\u001b[0;32m   6878\u001b[0m \u001b[38;5;28;01mif\u001b[39;00m start \u001b[38;5;129;01mis\u001b[39;00m \u001b[38;5;129;01mnot\u001b[39;00m \u001b[38;5;28;01mNone\u001b[39;00m:\n\u001b[1;32m-> 6879\u001b[0m     start_slice \u001b[38;5;241m=\u001b[39m \u001b[38;5;28;43mself\u001b[39;49m\u001b[38;5;241;43m.\u001b[39;49m\u001b[43mget_slice_bound\u001b[49m\u001b[43m(\u001b[49m\u001b[43mstart\u001b[49m\u001b[43m,\u001b[49m\u001b[43m \u001b[49m\u001b[38;5;124;43m\"\u001b[39;49m\u001b[38;5;124;43mleft\u001b[39;49m\u001b[38;5;124;43m\"\u001b[39;49m\u001b[43m)\u001b[49m\n\u001b[0;32m   6880\u001b[0m \u001b[38;5;28;01mif\u001b[39;00m start_slice \u001b[38;5;129;01mis\u001b[39;00m \u001b[38;5;28;01mNone\u001b[39;00m:\n\u001b[0;32m   6881\u001b[0m     start_slice \u001b[38;5;241m=\u001b[39m \u001b[38;5;241m0\u001b[39m\n",
      "File \u001b[1;32m~\\Desktop\\python_basic_3\\venv\\Lib\\site-packages\\pandas\\core\\indexes\\base.py:6794\u001b[0m, in \u001b[0;36mIndex.get_slice_bound\u001b[1;34m(self, label, side)\u001b[0m\n\u001b[0;32m   6790\u001b[0m original_label \u001b[38;5;241m=\u001b[39m label\n\u001b[0;32m   6792\u001b[0m \u001b[38;5;66;03m# For datetime indices label may be a string that has to be converted\u001b[39;00m\n\u001b[0;32m   6793\u001b[0m \u001b[38;5;66;03m# to datetime boundary according to its resolution.\u001b[39;00m\n\u001b[1;32m-> 6794\u001b[0m label \u001b[38;5;241m=\u001b[39m \u001b[38;5;28;43mself\u001b[39;49m\u001b[38;5;241;43m.\u001b[39;49m\u001b[43m_maybe_cast_slice_bound\u001b[49m\u001b[43m(\u001b[49m\u001b[43mlabel\u001b[49m\u001b[43m,\u001b[49m\u001b[43m \u001b[49m\u001b[43mside\u001b[49m\u001b[43m)\u001b[49m\n\u001b[0;32m   6796\u001b[0m \u001b[38;5;66;03m# we need to look up the label\u001b[39;00m\n\u001b[0;32m   6797\u001b[0m \u001b[38;5;28;01mtry\u001b[39;00m:\n",
      "File \u001b[1;32m~\\Desktop\\python_basic_3\\venv\\Lib\\site-packages\\pandas\\core\\indexes\\base.py:6727\u001b[0m, in \u001b[0;36mIndex._maybe_cast_slice_bound\u001b[1;34m(self, label, side)\u001b[0m\n\u001b[0;32m   6725\u001b[0m \u001b[38;5;66;03m# reject them, if index does not contain label\u001b[39;00m\n\u001b[0;32m   6726\u001b[0m \u001b[38;5;28;01mif\u001b[39;00m (is_float(label) \u001b[38;5;129;01mor\u001b[39;00m is_integer(label)) \u001b[38;5;129;01mand\u001b[39;00m label \u001b[38;5;129;01mnot\u001b[39;00m \u001b[38;5;129;01min\u001b[39;00m \u001b[38;5;28mself\u001b[39m:\n\u001b[1;32m-> 6727\u001b[0m     \u001b[38;5;28;43mself\u001b[39;49m\u001b[38;5;241;43m.\u001b[39;49m\u001b[43m_raise_invalid_indexer\u001b[49m\u001b[43m(\u001b[49m\u001b[38;5;124;43m\"\u001b[39;49m\u001b[38;5;124;43mslice\u001b[39;49m\u001b[38;5;124;43m\"\u001b[39;49m\u001b[43m,\u001b[49m\u001b[43m \u001b[49m\u001b[43mlabel\u001b[49m\u001b[43m)\u001b[49m\n\u001b[0;32m   6729\u001b[0m \u001b[38;5;28;01mreturn\u001b[39;00m label\n",
      "File \u001b[1;32m~\\Desktop\\python_basic_3\\venv\\Lib\\site-packages\\pandas\\core\\indexes\\base.py:4301\u001b[0m, in \u001b[0;36mIndex._raise_invalid_indexer\u001b[1;34m(self, form, key, reraise)\u001b[0m\n\u001b[0;32m   4299\u001b[0m \u001b[38;5;28;01mif\u001b[39;00m reraise \u001b[38;5;129;01mis\u001b[39;00m \u001b[38;5;129;01mnot\u001b[39;00m lib\u001b[38;5;241m.\u001b[39mno_default:\n\u001b[0;32m   4300\u001b[0m     \u001b[38;5;28;01mraise\u001b[39;00m \u001b[38;5;167;01mTypeError\u001b[39;00m(msg) \u001b[38;5;28;01mfrom\u001b[39;00m \u001b[38;5;21;01mreraise\u001b[39;00m\n\u001b[1;32m-> 4301\u001b[0m \u001b[38;5;28;01mraise\u001b[39;00m \u001b[38;5;167;01mTypeError\u001b[39;00m(msg)\n",
>>>>>>> 6516124a7bc59f03e3d305b96c38cf89e11dee6a
      "\u001b[1;31mTypeError\u001b[0m: cannot do slice indexing on Index with these indexers [1] of type int"
     ]
    }
   ],
   "source": [
    "frame.loc[1:4, ['year','pop']] # 행과 열을 동시에 슬라이싱"
   ]
  },
  {
   "cell_type": "code",
<<<<<<< HEAD
   "execution_count": 219,
=======
   "execution_count": 391,
>>>>>>> 6516124a7bc59f03e3d305b96c38cf89e11dee6a
   "metadata": {},
   "outputs": [
    {
     "data": {
      "text/html": [
       "<div>\n",
       "<style scoped>\n",
       "    .dataframe tbody tr th:only-of-type {\n",
       "        vertical-align: middle;\n",
       "    }\n",
       "\n",
       "    .dataframe tbody tr th {\n",
       "        vertical-align: top;\n",
       "    }\n",
       "\n",
       "    .dataframe thead th {\n",
       "        text-align: right;\n",
       "    }\n",
       "</style>\n",
       "<table border=\"1\" class=\"dataframe\">\n",
       "  <thead>\n",
       "    <tr style=\"text-align: right;\">\n",
       "      <th></th>\n",
       "      <th>year</th>\n",
       "      <th>pop</th>\n",
       "    </tr>\n",
       "  </thead>\n",
       "  <tbody>\n",
       "    <tr>\n",
<<<<<<< HEAD
       "      <th>0</th>\n",
=======
       "      <th>a</th>\n",
>>>>>>> 6516124a7bc59f03e3d305b96c38cf89e11dee6a
       "      <td>2000</td>\n",
       "      <td>1.5</td>\n",
       "    </tr>\n",
       "    <tr>\n",
<<<<<<< HEAD
       "      <th>1</th>\n",
=======
       "      <th>b</th>\n",
>>>>>>> 6516124a7bc59f03e3d305b96c38cf89e11dee6a
       "      <td>2001</td>\n",
       "      <td>1.7</td>\n",
       "    </tr>\n",
       "    <tr>\n",
<<<<<<< HEAD
       "      <th>2</th>\n",
=======
       "      <th>c</th>\n",
>>>>>>> 6516124a7bc59f03e3d305b96c38cf89e11dee6a
       "      <td>2002</td>\n",
       "      <td>3.6</td>\n",
       "    </tr>\n",
       "    <tr>\n",
<<<<<<< HEAD
       "      <th>3</th>\n",
=======
       "      <th>d</th>\n",
>>>>>>> 6516124a7bc59f03e3d305b96c38cf89e11dee6a
       "      <td>2001</td>\n",
       "      <td>2.4</td>\n",
       "    </tr>\n",
       "    <tr>\n",
<<<<<<< HEAD
       "      <th>4</th>\n",
=======
       "      <th>e</th>\n",
>>>>>>> 6516124a7bc59f03e3d305b96c38cf89e11dee6a
       "      <td>2002</td>\n",
       "      <td>2.9</td>\n",
       "    </tr>\n",
       "    <tr>\n",
<<<<<<< HEAD
       "      <th>5</th>\n",
=======
       "      <th>f</th>\n",
>>>>>>> 6516124a7bc59f03e3d305b96c38cf89e11dee6a
       "      <td>2003</td>\n",
       "      <td>3.2</td>\n",
       "    </tr>\n",
       "  </tbody>\n",
       "</table>\n",
       "</div>"
      ],
      "text/plain": [
       "   year  pop\n",
<<<<<<< HEAD
       "0  2000  1.5\n",
       "1  2001  1.7\n",
       "2  2002  3.6\n",
       "3  2001  2.4\n",
       "4  2002  2.9\n",
       "5  2003  3.2"
      ]
     },
     "execution_count": 219,
=======
       "a  2000  1.5\n",
       "b  2001  1.7\n",
       "c  2002  3.6\n",
       "d  2001  2.4\n",
       "e  2002  2.9\n",
       "f  2003  3.2"
      ]
     },
     "execution_count": 391,
>>>>>>> 6516124a7bc59f03e3d305b96c38cf89e11dee6a
     "metadata": {},
     "output_type": "execute_result"
    }
   ],
   "source": [
<<<<<<< HEAD
    "frame2.loc[:,['year', 'pop']] # 전체의 year & prop 가져오기"
=======
    "frame.loc[:,['year', 'pop']] # 전체의 year & prop 가져오기"
>>>>>>> 6516124a7bc59f03e3d305b96c38cf89e11dee6a
   ]
  },
  {
   "cell_type": "markdown",
   "metadata": {},
   "source": [
    "* 조건 색인"
   ]
  },
  {
   "cell_type": "code",
<<<<<<< HEAD
   "execution_count": 80,
=======
   "execution_count": 392,
>>>>>>> 6516124a7bc59f03e3d305b96c38cf89e11dee6a
   "metadata": {},
   "outputs": [
    {
     "data": {
      "text/html": [
       "<div>\n",
       "<style scoped>\n",
       "    .dataframe tbody tr th:only-of-type {\n",
       "        vertical-align: middle;\n",
       "    }\n",
       "\n",
       "    .dataframe tbody tr th {\n",
       "        vertical-align: top;\n",
       "    }\n",
       "\n",
       "    .dataframe thead th {\n",
       "        text-align: right;\n",
       "    }\n",
       "</style>\n",
       "<table border=\"1\" class=\"dataframe\">\n",
       "  <thead>\n",
       "    <tr style=\"text-align: right;\">\n",
       "      <th></th>\n",
<<<<<<< HEAD
       "      <th>year</th>\n",
       "      <th>state</th>\n",
=======
       "      <th>state</th>\n",
       "      <th>year</th>\n",
>>>>>>> 6516124a7bc59f03e3d305b96c38cf89e11dee6a
       "      <th>pop</th>\n",
       "    </tr>\n",
       "  </thead>\n",
       "  <tbody>\n",
       "    <tr>\n",
<<<<<<< HEAD
       "      <th>2</th>\n",
       "      <td>2002</td>\n",
       "      <td>Ohio</td>\n",
       "      <td>3.6</td>\n",
       "    </tr>\n",
       "    <tr>\n",
       "      <th>4</th>\n",
       "      <td>2002</td>\n",
       "      <td>Nevada</td>\n",
       "      <td>2.9</td>\n",
       "    </tr>\n",
       "    <tr>\n",
       "      <th>5</th>\n",
       "      <td>2003</td>\n",
       "      <td>Nevada</td>\n",
=======
       "      <th>c</th>\n",
       "      <td>Ohio</td>\n",
       "      <td>2002</td>\n",
       "      <td>3.6</td>\n",
       "    </tr>\n",
       "    <tr>\n",
       "      <th>e</th>\n",
       "      <td>Nevada</td>\n",
       "      <td>2002</td>\n",
       "      <td>2.9</td>\n",
       "    </tr>\n",
       "    <tr>\n",
       "      <th>f</th>\n",
       "      <td>Nevada</td>\n",
       "      <td>2003</td>\n",
>>>>>>> 6516124a7bc59f03e3d305b96c38cf89e11dee6a
       "      <td>3.2</td>\n",
       "    </tr>\n",
       "  </tbody>\n",
       "</table>\n",
       "</div>"
      ],
      "text/plain": [
<<<<<<< HEAD
       "   year   state  pop\n",
       "2  2002    Ohio  3.6\n",
       "4  2002  Nevada  2.9\n",
       "5  2003  Nevada  3.2"
      ]
     },
     "execution_count": 80,
=======
       "    state  year  pop\n",
       "c    Ohio  2002  3.6\n",
       "e  Nevada  2002  2.9\n",
       "f  Nevada  2003  3.2"
      ]
     },
     "execution_count": 392,
>>>>>>> 6516124a7bc59f03e3d305b96c38cf89e11dee6a
     "metadata": {},
     "output_type": "execute_result"
    }
   ],
   "source": [
    "# pop가 2.5이상인 행 데이터 선택\n",
<<<<<<< HEAD
    "frame2['pop'] >= 2.5\n",
    "frame2[frame2['pop'] >= 2.5]"
=======
    "frame['pop'] >= 2.5\n",
    "frame[frame['pop'] >= 2.5]"
>>>>>>> 6516124a7bc59f03e3d305b96c38cf89e11dee6a
   ]
  },
  {
   "cell_type": "markdown",
   "metadata": {},
   "source": [
    "## 3.4 DataFrame의 산술 연산 (p.218)\n",
    "* 서로 다른 색인을 가지고 있는 객체 간의 산술연산 처리"
   ]
  },
  {
   "cell_type": "code",
<<<<<<< HEAD
   "execution_count": 81,
=======
   "execution_count": 393,
>>>>>>> 6516124a7bc59f03e3d305b96c38cf89e11dee6a
   "metadata": {},
   "outputs": [
    {
     "name": "stdout",
     "output_type": "stream",
     "text": [
      "a    7.3\n",
      "c   -2.5\n",
      "d    3.4\n",
      "e    1.5\n",
      "dtype: float64\n",
      "a   -2.1\n",
      "c    3.6\n",
      "e   -1.5\n",
      "f    4.0\n",
      "g    3.1\n",
      "dtype: float64\n"
     ]
    },
    {
     "data": {
      "text/plain": [
       "a    5.2\n",
       "c    1.1\n",
       "d    NaN\n",
       "e    0.0\n",
       "f    NaN\n",
       "g    NaN\n",
       "dtype: float64"
      ]
     },
<<<<<<< HEAD
     "execution_count": 81,
=======
     "execution_count": 393,
>>>>>>> 6516124a7bc59f03e3d305b96c38cf89e11dee6a
     "metadata": {},
     "output_type": "execute_result"
    }
   ],
   "source": [
    "# 1) 1차원 데이터 간의 연산 : 짝이 맞지 않는 색인이 있는 경우 결과에 두 색인 통합된다.\n",
    "s1 = pd.Series([7.3, -2.5, 3.4, 1.5], index = ['a','c','d','e'])\n",
    "print(s1)\n",
    "s2 = pd.Series([-2.1, 3.6, -1.5, 4, 3.1], index =['a','c','e','f','g'])\n",
    "print(s2)\n",
    "s1 + s2  # 서로 겹치는 색인이 없는 경우 데이터는 결측치가 된다. 추후 산술 연산 시 누락돈 값이 전달됨"
   ]
  },
  {
   "cell_type": "code",
<<<<<<< HEAD
   "execution_count": 249,
=======
   "execution_count": 394,
>>>>>>> 6516124a7bc59f03e3d305b96c38cf89e11dee6a
   "metadata": {},
   "outputs": [
    {
     "data": {
      "text/plain": [
       "a    9300\n",
       "b    6300\n",
       "c    5500\n",
       "dtype: int64"
      ]
     },
<<<<<<< HEAD
     "execution_count": 249,
=======
     "execution_count": 394,
>>>>>>> 6516124a7bc59f03e3d305b96c38cf89e11dee6a
     "metadata": {},
     "output_type": "execute_result"
    }
   ],
   "source": [
    "# 2)1차원 데이터 간의 산술 연산 : 같은 색인 라벨의 값들끼리 산술 연산이 수행\n",
    "sr1 = pd.Series([4500, 2800, 3000], index = ['a','b','c'])\n",
    "sr2 = pd.Series([4800, 3500, 2500], index = ['a','b','c'])\n",
    "sr1 + sr2"
   ]
  },
  {
   "cell_type": "code",
<<<<<<< HEAD
   "execution_count": 82,
=======
   "execution_count": 395,
>>>>>>> 6516124a7bc59f03e3d305b96c38cf89e11dee6a
   "metadata": {},
   "outputs": [
    {
     "data": {
      "text/plain": [
       "0    13\n",
       "1    15\n",
       "2    17\n",
       "dtype: int64"
      ]
     },
<<<<<<< HEAD
     "execution_count": 82,
=======
     "execution_count": 395,
>>>>>>> 6516124a7bc59f03e3d305b96c38cf89e11dee6a
     "metadata": {},
     "output_type": "execute_result"
    }
   ],
   "source": [
    "# 3) 1차원 데이터와 값 간의 연산 : series + 스칼라 (broadcasting)\n",
    "sr = pd.Series([3,5,7])\n",
    "sr + 10"
   ]
  },
  {
   "cell_type": "markdown",
   "metadata": {},
   "source": [
    "## 3.6 DataFrame 변경하기 (p. 203)\n",
    "* 새로운 컬럼 추가 (p.192)\n",
    "  * 고정 값 할당\n",
    "  * 기존 컬럼에 함수를 적용한 결과 할당(p.226)\n",
    "  * 기존 컬럼들의 산술 연산 결과 할당\n",
    "* 불필요한 컬럼 또는 데이터 삭제하기(p.203)"
   ]
  },
  {
   "cell_type": "markdown",
   "metadata": {},
   "source": [
    "    1) 컬럼 추가 하기 -고정 값 할당(p.192)"
   ]
  },
  {
   "cell_type": "code",
<<<<<<< HEAD
   "execution_count": 83,
=======
   "execution_count": 396,
>>>>>>> 6516124a7bc59f03e3d305b96c38cf89e11dee6a
   "metadata": {},
   "outputs": [
    {
     "data": {
      "text/html": [
       "<div>\n",
       "<style scoped>\n",
       "    .dataframe tbody tr th:only-of-type {\n",
       "        vertical-align: middle;\n",
       "    }\n",
       "\n",
       "    .dataframe tbody tr th {\n",
       "        vertical-align: top;\n",
       "    }\n",
       "\n",
       "    .dataframe thead th {\n",
       "        text-align: right;\n",
       "    }\n",
       "</style>\n",
       "<table border=\"1\" class=\"dataframe\">\n",
       "  <thead>\n",
       "    <tr style=\"text-align: right;\">\n",
       "      <th></th>\n",
<<<<<<< HEAD
       "      <th>year</th>\n",
       "      <th>state</th>\n",
=======
       "      <th>state</th>\n",
       "      <th>year</th>\n",
>>>>>>> 6516124a7bc59f03e3d305b96c38cf89e11dee6a
       "      <th>pop</th>\n",
       "      <th>debt</th>\n",
       "    </tr>\n",
       "  </thead>\n",
       "  <tbody>\n",
       "    <tr>\n",
<<<<<<< HEAD
       "      <th>0</th>\n",
       "      <td>2000</td>\n",
       "      <td>Ohio</td>\n",
=======
       "      <th>a</th>\n",
       "      <td>Ohio</td>\n",
       "      <td>2000</td>\n",
>>>>>>> 6516124a7bc59f03e3d305b96c38cf89e11dee6a
       "      <td>1.5</td>\n",
       "      <td>2.3</td>\n",
       "    </tr>\n",
       "    <tr>\n",
<<<<<<< HEAD
       "      <th>1</th>\n",
       "      <td>2001</td>\n",
       "      <td>Ohio</td>\n",
=======
       "      <th>b</th>\n",
       "      <td>Ohio</td>\n",
       "      <td>2001</td>\n",
>>>>>>> 6516124a7bc59f03e3d305b96c38cf89e11dee6a
       "      <td>1.7</td>\n",
       "      <td>2.7</td>\n",
       "    </tr>\n",
       "    <tr>\n",
<<<<<<< HEAD
       "      <th>2</th>\n",
       "      <td>2002</td>\n",
       "      <td>Ohio</td>\n",
=======
       "      <th>c</th>\n",
       "      <td>Ohio</td>\n",
       "      <td>2002</td>\n",
>>>>>>> 6516124a7bc59f03e3d305b96c38cf89e11dee6a
       "      <td>3.6</td>\n",
       "      <td>2.6</td>\n",
       "    </tr>\n",
       "    <tr>\n",
<<<<<<< HEAD
       "      <th>3</th>\n",
       "      <td>2001</td>\n",
       "      <td>Nevada</td>\n",
=======
       "      <th>d</th>\n",
       "      <td>Nevada</td>\n",
       "      <td>2001</td>\n",
>>>>>>> 6516124a7bc59f03e3d305b96c38cf89e11dee6a
       "      <td>2.4</td>\n",
       "      <td>3.4</td>\n",
       "    </tr>\n",
       "    <tr>\n",
<<<<<<< HEAD
       "      <th>4</th>\n",
       "      <td>2002</td>\n",
       "      <td>Nevada</td>\n",
=======
       "      <th>e</th>\n",
       "      <td>Nevada</td>\n",
       "      <td>2002</td>\n",
>>>>>>> 6516124a7bc59f03e3d305b96c38cf89e11dee6a
       "      <td>2.9</td>\n",
       "      <td>3.9</td>\n",
       "    </tr>\n",
       "    <tr>\n",
<<<<<<< HEAD
       "      <th>5</th>\n",
       "      <td>2003</td>\n",
       "      <td>Nevada</td>\n",
=======
       "      <th>f</th>\n",
       "      <td>Nevada</td>\n",
       "      <td>2003</td>\n",
>>>>>>> 6516124a7bc59f03e3d305b96c38cf89e11dee6a
       "      <td>3.2</td>\n",
       "      <td>4.2</td>\n",
       "    </tr>\n",
       "  </tbody>\n",
       "</table>\n",
       "</div>"
      ],
      "text/plain": [
<<<<<<< HEAD
       "   year   state  pop  debt\n",
       "0  2000    Ohio  1.5   2.3\n",
       "1  2001    Ohio  1.7   2.7\n",
       "2  2002    Ohio  3.6   2.6\n",
       "3  2001  Nevada  2.4   3.4\n",
       "4  2002  Nevada  2.9   3.9\n",
       "5  2003  Nevada  3.2   4.2"
      ]
     },
     "execution_count": 83,
=======
       "    state  year  pop  debt\n",
       "a    Ohio  2000  1.5   2.3\n",
       "b    Ohio  2001  1.7   2.7\n",
       "c    Ohio  2002  3.6   2.6\n",
       "d  Nevada  2001  2.4   3.4\n",
       "e  Nevada  2002  2.9   3.9\n",
       "f  Nevada  2003  3.2   4.2"
      ]
     },
     "execution_count": 396,
>>>>>>> 6516124a7bc59f03e3d305b96c38cf89e11dee6a
     "metadata": {},
     "output_type": "execute_result"
    }
   ],
   "source": [
<<<<<<< HEAD
    "frame2[\"debt\"] = 16.5 # 'debt' 컬럼추가 후, 값을 모두 16.5로 저장\n",
    "frame2\n",
    "\n",
    "frame2[\"debt\"] = np.arange(6.) #원본 데이터프레임의 행의 개수와 신규로 할당되는 리스트나 배열 값의 개수가 일치\n",
    "frame2\n",
    "\n",
    "frame2[\"debt\"] = [2.3,2.7,2.6,3.4,3.9,4.2]\n",
    "frame2"
=======
    "frame[\"debt\"] = 16.5 # 'debt' 컬럼추가 후, 값을 모두 16.5로 저장\n",
    "frame\n",
    "\n",
    "frame[\"debt\"] = np.arange(6.) #원본 데이터프레임의 행의 개수와 신규로 할당되는 리스트나 배열 값의 개수가 일치\n",
    "frame\n",
    "\n",
    "frame[\"debt\"] = [2.3,2.7,2.6,3.4,3.9,4.2]\n",
    "frame"
>>>>>>> 6516124a7bc59f03e3d305b96c38cf89e11dee6a
   ]
  },
  {
   "cell_type": "code",
<<<<<<< HEAD
   "execution_count": 84,
=======
   "execution_count": 397,
>>>>>>> 6516124a7bc59f03e3d305b96c38cf89e11dee6a
   "metadata": {},
   "outputs": [
    {
     "data": {
      "text/html": [
       "<div>\n",
       "<style scoped>\n",
       "    .dataframe tbody tr th:only-of-type {\n",
       "        vertical-align: middle;\n",
       "    }\n",
       "\n",
       "    .dataframe tbody tr th {\n",
       "        vertical-align: top;\n",
       "    }\n",
       "\n",
       "    .dataframe thead th {\n",
       "        text-align: right;\n",
       "    }\n",
       "</style>\n",
       "<table border=\"1\" class=\"dataframe\">\n",
       "  <thead>\n",
       "    <tr style=\"text-align: right;\">\n",
       "      <th></th>\n",
<<<<<<< HEAD
       "      <th>year</th>\n",
       "      <th>state</th>\n",
=======
       "      <th>state</th>\n",
       "      <th>year</th>\n",
>>>>>>> 6516124a7bc59f03e3d305b96c38cf89e11dee6a
       "      <th>pop</th>\n",
       "      <th>debt</th>\n",
       "    </tr>\n",
       "  </thead>\n",
       "  <tbody>\n",
       "    <tr>\n",
<<<<<<< HEAD
       "      <th>0</th>\n",
       "      <td>2000</td>\n",
       "      <td>Ohio</td>\n",
=======
       "      <th>a</th>\n",
       "      <td>Ohio</td>\n",
       "      <td>2000</td>\n",
>>>>>>> 6516124a7bc59f03e3d305b96c38cf89e11dee6a
       "      <td>1.5</td>\n",
       "      <td>NaN</td>\n",
       "    </tr>\n",
       "    <tr>\n",
<<<<<<< HEAD
       "      <th>1</th>\n",
       "      <td>2001</td>\n",
       "      <td>Ohio</td>\n",
=======
       "      <th>b</th>\n",
       "      <td>Ohio</td>\n",
       "      <td>2001</td>\n",
>>>>>>> 6516124a7bc59f03e3d305b96c38cf89e11dee6a
       "      <td>1.7</td>\n",
       "      <td>NaN</td>\n",
       "    </tr>\n",
       "    <tr>\n",
<<<<<<< HEAD
       "      <th>2</th>\n",
       "      <td>2002</td>\n",
       "      <td>Ohio</td>\n",
=======
       "      <th>c</th>\n",
       "      <td>Ohio</td>\n",
       "      <td>2002</td>\n",
>>>>>>> 6516124a7bc59f03e3d305b96c38cf89e11dee6a
       "      <td>3.6</td>\n",
       "      <td>NaN</td>\n",
       "    </tr>\n",
       "    <tr>\n",
<<<<<<< HEAD
       "      <th>3</th>\n",
       "      <td>2001</td>\n",
       "      <td>Nevada</td>\n",
=======
       "      <th>d</th>\n",
       "      <td>Nevada</td>\n",
       "      <td>2001</td>\n",
>>>>>>> 6516124a7bc59f03e3d305b96c38cf89e11dee6a
       "      <td>2.4</td>\n",
       "      <td>NaN</td>\n",
       "    </tr>\n",
       "    <tr>\n",
<<<<<<< HEAD
       "      <th>4</th>\n",
       "      <td>2002</td>\n",
       "      <td>Nevada</td>\n",
=======
       "      <th>e</th>\n",
       "      <td>Nevada</td>\n",
       "      <td>2002</td>\n",
>>>>>>> 6516124a7bc59f03e3d305b96c38cf89e11dee6a
       "      <td>2.9</td>\n",
       "      <td>NaN</td>\n",
       "    </tr>\n",
       "    <tr>\n",
<<<<<<< HEAD
       "      <th>5</th>\n",
       "      <td>2003</td>\n",
       "      <td>Nevada</td>\n",
=======
       "      <th>f</th>\n",
       "      <td>Nevada</td>\n",
       "      <td>2003</td>\n",
>>>>>>> 6516124a7bc59f03e3d305b96c38cf89e11dee6a
       "      <td>3.2</td>\n",
       "      <td>NaN</td>\n",
       "    </tr>\n",
       "  </tbody>\n",
       "</table>\n",
       "</div>"
      ],
      "text/plain": [
<<<<<<< HEAD
       "   year   state  pop  debt\n",
       "0  2000    Ohio  1.5   NaN\n",
       "1  2001    Ohio  1.7   NaN\n",
       "2  2002    Ohio  3.6   NaN\n",
       "3  2001  Nevada  2.4   NaN\n",
       "4  2002  Nevada  2.9   NaN\n",
       "5  2003  Nevada  3.2   NaN"
      ]
     },
     "execution_count": 84,
=======
       "    state  year  pop  debt\n",
       "a    Ohio  2000  1.5   NaN\n",
       "b    Ohio  2001  1.7   NaN\n",
       "c    Ohio  2002  3.6   NaN\n",
       "d  Nevada  2001  2.4   NaN\n",
       "e  Nevada  2002  2.9   NaN\n",
       "f  Nevada  2003  3.2   NaN"
      ]
     },
     "execution_count": 397,
>>>>>>> 6516124a7bc59f03e3d305b96c38cf89e11dee6a
     "metadata": {},
     "output_type": "execute_result"
    }
   ],
   "source": [
    "# Series를 대입하면 DataFrame의 색인에 따라 값이 대입되며 존재하지 않는 색인에는 결측치가 대입됨\n",
    "val = pd.Series([-1.2, -1.5, -1.7],  index=[\"two\", \"four\", \"five\"])\n",
    "val.shape\n",
<<<<<<< HEAD
    "frame2[\"debt\"] = val  # Series 객체는 기존 데이터프레임의 shape, index 이름이 동일해야만 추가 가능\n",
    "frame2"
=======
    "frame[\"debt\"] = val  # Series 객체는 기존 데이터프레임의 shape, index 이름이 동일해야만 추가 가능\n",
    "frame"
>>>>>>> 6516124a7bc59f03e3d305b96c38cf89e11dee6a
   ]
  },
  {
   "cell_type": "code",
<<<<<<< HEAD
   "execution_count": 85,
=======
   "execution_count": 398,
>>>>>>> 6516124a7bc59f03e3d305b96c38cf89e11dee6a
   "metadata": {},
   "outputs": [
    {
     "data": {
      "text/html": [
       "<div>\n",
       "<style scoped>\n",
       "    .dataframe tbody tr th:only-of-type {\n",
       "        vertical-align: middle;\n",
       "    }\n",
       "\n",
       "    .dataframe tbody tr th {\n",
       "        vertical-align: top;\n",
       "    }\n",
       "\n",
       "    .dataframe thead th {\n",
       "        text-align: right;\n",
       "    }\n",
       "</style>\n",
       "<table border=\"1\" class=\"dataframe\">\n",
       "  <thead>\n",
       "    <tr style=\"text-align: right;\">\n",
       "      <th></th>\n",
<<<<<<< HEAD
       "      <th>year</th>\n",
       "      <th>state</th>\n",
=======
       "      <th>state</th>\n",
       "      <th>year</th>\n",
>>>>>>> 6516124a7bc59f03e3d305b96c38cf89e11dee6a
       "      <th>pop</th>\n",
       "      <th>debt</th>\n",
       "      <th>eastern</th>\n",
       "    </tr>\n",
       "  </thead>\n",
       "  <tbody>\n",
       "    <tr>\n",
<<<<<<< HEAD
       "      <th>0</th>\n",
       "      <td>2000</td>\n",
       "      <td>Ohio</td>\n",
=======
       "      <th>a</th>\n",
       "      <td>Ohio</td>\n",
       "      <td>2000</td>\n",
>>>>>>> 6516124a7bc59f03e3d305b96c38cf89e11dee6a
       "      <td>1.5</td>\n",
       "      <td>NaN</td>\n",
       "      <td>True</td>\n",
       "    </tr>\n",
       "    <tr>\n",
<<<<<<< HEAD
       "      <th>1</th>\n",
       "      <td>2001</td>\n",
       "      <td>Ohio</td>\n",
=======
       "      <th>b</th>\n",
       "      <td>Ohio</td>\n",
       "      <td>2001</td>\n",
>>>>>>> 6516124a7bc59f03e3d305b96c38cf89e11dee6a
       "      <td>1.7</td>\n",
       "      <td>NaN</td>\n",
       "      <td>True</td>\n",
       "    </tr>\n",
       "    <tr>\n",
<<<<<<< HEAD
       "      <th>2</th>\n",
       "      <td>2002</td>\n",
       "      <td>Ohio</td>\n",
=======
       "      <th>c</th>\n",
       "      <td>Ohio</td>\n",
       "      <td>2002</td>\n",
>>>>>>> 6516124a7bc59f03e3d305b96c38cf89e11dee6a
       "      <td>3.6</td>\n",
       "      <td>NaN</td>\n",
       "      <td>True</td>\n",
       "    </tr>\n",
       "    <tr>\n",
<<<<<<< HEAD
       "      <th>3</th>\n",
       "      <td>2001</td>\n",
       "      <td>Nevada</td>\n",
=======
       "      <th>d</th>\n",
       "      <td>Nevada</td>\n",
       "      <td>2001</td>\n",
>>>>>>> 6516124a7bc59f03e3d305b96c38cf89e11dee6a
       "      <td>2.4</td>\n",
       "      <td>NaN</td>\n",
       "      <td>False</td>\n",
       "    </tr>\n",
       "    <tr>\n",
<<<<<<< HEAD
       "      <th>4</th>\n",
       "      <td>2002</td>\n",
       "      <td>Nevada</td>\n",
=======
       "      <th>e</th>\n",
       "      <td>Nevada</td>\n",
       "      <td>2002</td>\n",
>>>>>>> 6516124a7bc59f03e3d305b96c38cf89e11dee6a
       "      <td>2.9</td>\n",
       "      <td>NaN</td>\n",
       "      <td>False</td>\n",
       "    </tr>\n",
       "    <tr>\n",
<<<<<<< HEAD
       "      <th>5</th>\n",
       "      <td>2003</td>\n",
       "      <td>Nevada</td>\n",
=======
       "      <th>f</th>\n",
       "      <td>Nevada</td>\n",
       "      <td>2003</td>\n",
>>>>>>> 6516124a7bc59f03e3d305b96c38cf89e11dee6a
       "      <td>3.2</td>\n",
       "      <td>NaN</td>\n",
       "      <td>False</td>\n",
       "    </tr>\n",
       "  </tbody>\n",
       "</table>\n",
       "</div>"
      ],
      "text/plain": [
<<<<<<< HEAD
       "   year   state  pop  debt  eastern\n",
       "0  2000    Ohio  1.5   NaN     True\n",
       "1  2001    Ohio  1.7   NaN     True\n",
       "2  2002    Ohio  3.6   NaN     True\n",
       "3  2001  Nevada  2.4   NaN    False\n",
       "4  2002  Nevada  2.9   NaN    False\n",
       "5  2003  Nevada  3.2   NaN    False"
      ]
     },
     "execution_count": 85,
=======
       "    state  year  pop  debt  eastern\n",
       "a    Ohio  2000  1.5   NaN     True\n",
       "b    Ohio  2001  1.7   NaN     True\n",
       "c    Ohio  2002  3.6   NaN     True\n",
       "d  Nevada  2001  2.4   NaN    False\n",
       "e  Nevada  2002  2.9   NaN    False\n",
       "f  Nevada  2003  3.2   NaN    False"
      ]
     },
     "execution_count": 398,
>>>>>>> 6516124a7bc59f03e3d305b96c38cf89e11dee6a
     "metadata": {},
     "output_type": "execute_result"
    }
   ],
   "source": [
<<<<<<< HEAD
    "frame2[\"state\"] == \"Ohio\" # 존재하지 않는 열을 대입할 경우에는 새로운 열이 생성\n",
    "frame2[\"eastern\"] = frame2[\"state\"] == \"Ohio\" # 기존 컬럼에 조건 색인을 적용한 결과을 추가\n",
    "frame2"
=======
    "frame[\"state\"] == \"Ohio\" # 존재하지 않는 열을 대입할 경우에는 새로운 열이 생성\n",
    "frame[\"eastern\"] = frame[\"state\"] == \"Ohio\" # 기존 컬럼에 조건 색인을 적용한 결과을 추가\n",
    "frame"
>>>>>>> 6516124a7bc59f03e3d305b96c38cf89e11dee6a
   ]
  },
  {
   "cell_type": "markdown",
   "metadata": {},
   "source": [
    "    2) 컬럼 추가하기 : 기존 컬럼에 함수를 적용한 결과로 값을 할당"
   ]
  },
  {
   "cell_type": "code",
<<<<<<< HEAD
   "execution_count": 7,
=======
   "execution_count": 399,
>>>>>>> 6516124a7bc59f03e3d305b96c38cf89e11dee6a
   "metadata": {},
   "outputs": [
    {
     "data": {
      "text/plain": [
<<<<<<< HEAD
       "Utah      0.968402\n",
       "Ohio      0.556276\n",
       "Texas     1.407327\n",
       "Oregon    1.052955\n",
       "dtype: float64"
      ]
     },
     "execution_count": 7,
=======
       "Utah      3.473662\n",
       "Ohio      2.287135\n",
       "Texas     0.153854\n",
       "Oregon    0.604924\n",
       "dtype: float64"
      ]
     },
     "execution_count": 399,
>>>>>>> 6516124a7bc59f03e3d305b96c38cf89e11dee6a
     "metadata": {},
     "output_type": "execute_result"
    }
   ],
   "source": [
    "# p.226\n",
    "import pandas as pd\n",
    "import numpy as np\n",
    "frame = pd.DataFrame(np.random.standard_normal((4,3)),\n",
    "                     columns = list(\"bde\"),\n",
    "                     index = [\"Utah\", \"Ohio\",\"Texas\", \"Oregon\"])\n",
    "frame\n",
    "\n",
    "# 각 행이나 열의 1차원 배열에 함수를 적용하기 위한 함수: DataFrame.apply(함수, axis=)\n",
    "#1. 함수 정의\n",
    "def f1(x):\n",
    "    return x.max() - x.min()\n",
    "#2. 이 함수을 각 열에 적용하기-> 열을 색인으로 하는 Series 반환\n",
    "frame.apply(f1, axis = 0)\n",
    "# 3. 이 함수을 각 행에 적용하기 -> 행을 색인으로 하는 Series 반환\n",
    "frame.apply(f1, axis = 1)"
   ]
  },
  {
   "cell_type": "code",
<<<<<<< HEAD
   "execution_count": 8,
=======
   "execution_count": 400,
>>>>>>> 6516124a7bc59f03e3d305b96c38cf89e11dee6a
   "metadata": {},
   "outputs": [
    {
     "name": "stdout",
     "output_type": "stream",
     "text": [
      "               b         d         e\n",
<<<<<<< HEAD
      "Utah   -0.797113 -1.720225 -0.751823\n",
      "Ohio   -0.849467 -0.293191 -0.741246\n",
      "Texas   0.137655 -0.241545  1.165782\n",
      "Oregon -0.390402 -0.064310  0.662553\n"
=======
      "Utah   -0.310117 -2.434838  1.038825\n",
      "Ohio    2.186980  0.441364 -0.100155\n",
      "Texas  -0.136445 -0.119054  0.017409\n",
      "Oregon -1.122019 -0.517094 -0.997027\n"
>>>>>>> 6516124a7bc59f03e3d305b96c38cf89e11dee6a
     ]
    },
    {
     "data": {
      "text/html": [
       "<div>\n",
       "<style scoped>\n",
       "    .dataframe tbody tr th:only-of-type {\n",
       "        vertical-align: middle;\n",
       "    }\n",
       "\n",
       "    .dataframe tbody tr th {\n",
       "        vertical-align: top;\n",
       "    }\n",
       "\n",
       "    .dataframe thead th {\n",
       "        text-align: right;\n",
       "    }\n",
       "</style>\n",
       "<table border=\"1\" class=\"dataframe\">\n",
       "  <thead>\n",
       "    <tr style=\"text-align: right;\">\n",
       "      <th></th>\n",
       "      <th>b</th>\n",
       "      <th>d</th>\n",
       "      <th>e</th>\n",
       "    </tr>\n",
       "  </thead>\n",
       "  <tbody>\n",
       "    <tr>\n",
       "      <th>min</th>\n",
<<<<<<< HEAD
       "      <td>-0.849467</td>\n",
       "      <td>-1.720225</td>\n",
       "      <td>-0.751823</td>\n",
       "    </tr>\n",
       "    <tr>\n",
       "      <th>max</th>\n",
       "      <td>0.137655</td>\n",
       "      <td>-0.064310</td>\n",
       "      <td>1.165782</td>\n",
=======
       "      <td>-1.122019</td>\n",
       "      <td>-2.434838</td>\n",
       "      <td>-0.997027</td>\n",
       "    </tr>\n",
       "    <tr>\n",
       "      <th>max</th>\n",
       "      <td>2.186980</td>\n",
       "      <td>0.441364</td>\n",
       "      <td>1.038825</td>\n",
>>>>>>> 6516124a7bc59f03e3d305b96c38cf89e11dee6a
       "    </tr>\n",
       "  </tbody>\n",
       "</table>\n",
       "</div>"
      ],
      "text/plain": [
       "            b         d         e\n",
<<<<<<< HEAD
       "min -0.849467 -1.720225 -0.751823\n",
       "max  0.137655 -0.064310  1.165782"
      ]
     },
     "execution_count": 8,
=======
       "min -1.122019 -2.434838 -0.997027\n",
       "max  2.186980  0.441364  1.038825"
      ]
     },
     "execution_count": 400,
>>>>>>> 6516124a7bc59f03e3d305b96c38cf89e11dee6a
     "metadata": {},
     "output_type": "execute_result"
    }
   ],
   "source": [
    "# p.227\n",
    "np.random.seed(1)\n",
    "print(frame)\n",
    "def f2(x):\n",
    "    return pd.Series([x.min(), x.max()], index=['min', 'max'])\n",
    "frame.apply(f2)\n",
    "                     "
   ]
  },
  {
   "cell_type": "markdown",
   "metadata": {},
   "source": [
    "### [Quiz] 데이터프레임 frame2에 poplevel 컬럼을 추가하고, pop이 2.5 이상이면 \"high\", 2.5보다 작으면 \"low\"로 값을 저장하기"
   ]
  },
  {
   "cell_type": "code",
<<<<<<< HEAD
   "execution_count": null,
   "metadata": {},
   "outputs": [],
   "source": []
  },
  {
   "cell_type": "markdown",
   "metadata": {},
   "source": [
    "    3) 기존 컬럼들의 산술 연산 결과 할당"
   ]
  },
  {
   "cell_type": "code",
   "execution_count": 245,
=======
   "execution_count": 401,
>>>>>>> 6516124a7bc59f03e3d305b96c38cf89e11dee6a
   "metadata": {},
   "outputs": [
    {
     "data": {
      "text/html": [
       "<div>\n",
       "<style scoped>\n",
       "    .dataframe tbody tr th:only-of-type {\n",
       "        vertical-align: middle;\n",
       "    }\n",
       "\n",
       "    .dataframe tbody tr th {\n",
       "        vertical-align: top;\n",
       "    }\n",
       "\n",
       "    .dataframe thead th {\n",
       "        text-align: right;\n",
       "    }\n",
       "</style>\n",
       "<table border=\"1\" class=\"dataframe\">\n",
       "  <thead>\n",
       "    <tr style=\"text-align: right;\">\n",
       "      <th></th>\n",
<<<<<<< HEAD
       "      <th>year</th>\n",
       "      <th>state</th>\n",
       "      <th>pop</th>\n",
       "      <th>debt</th>\n",
       "      <th>popLevel</th>\n",
       "      <th>perDebt</th>\n",
=======
       "      <th>state</th>\n",
       "      <th>year</th>\n",
       "      <th>pop</th>\n",
       "      <th>poplevel</th>\n",
>>>>>>> 6516124a7bc59f03e3d305b96c38cf89e11dee6a
       "    </tr>\n",
       "  </thead>\n",
       "  <tbody>\n",
       "    <tr>\n",
       "      <th>0</th>\n",
<<<<<<< HEAD
       "      <td>2000</td>\n",
       "      <td>Ohio</td>\n",
       "      <td>1.5</td>\n",
       "      <td>1.624345</td>\n",
       "      <td>Low</td>\n",
       "      <td>1.082897</td>\n",
       "    </tr>\n",
       "    <tr>\n",
       "      <th>1</th>\n",
       "      <td>2001</td>\n",
       "      <td>Ohio</td>\n",
       "      <td>1.7</td>\n",
       "      <td>-0.611756</td>\n",
       "      <td>Low</td>\n",
       "      <td>-0.359857</td>\n",
       "    </tr>\n",
       "    <tr>\n",
       "      <th>2</th>\n",
       "      <td>2002</td>\n",
       "      <td>Ohio</td>\n",
       "      <td>3.6</td>\n",
       "      <td>-0.528172</td>\n",
       "      <td>High</td>\n",
       "      <td>-0.146714</td>\n",
       "    </tr>\n",
       "    <tr>\n",
       "      <th>3</th>\n",
       "      <td>2001</td>\n",
       "      <td>Nevada</td>\n",
       "      <td>2.4</td>\n",
       "      <td>-1.072969</td>\n",
       "      <td>Low</td>\n",
       "      <td>-0.447070</td>\n",
       "    </tr>\n",
       "    <tr>\n",
       "      <th>4</th>\n",
       "      <td>2002</td>\n",
       "      <td>Nevada</td>\n",
       "      <td>2.9</td>\n",
       "      <td>0.865408</td>\n",
       "      <td>High</td>\n",
       "      <td>0.298416</td>\n",
       "    </tr>\n",
       "    <tr>\n",
       "      <th>5</th>\n",
       "      <td>2003</td>\n",
       "      <td>Nevada</td>\n",
       "      <td>3.2</td>\n",
       "      <td>-2.301539</td>\n",
       "      <td>High</td>\n",
       "      <td>-0.719231</td>\n",
=======
       "      <td>Ohio</td>\n",
       "      <td>2000</td>\n",
       "      <td>1.5</td>\n",
       "      <td>low</td>\n",
       "    </tr>\n",
       "    <tr>\n",
       "      <th>1</th>\n",
       "      <td>Ohio</td>\n",
       "      <td>2001</td>\n",
       "      <td>1.7</td>\n",
       "      <td>low</td>\n",
       "    </tr>\n",
       "    <tr>\n",
       "      <th>2</th>\n",
       "      <td>Ohio</td>\n",
       "      <td>2002</td>\n",
       "      <td>3.6</td>\n",
       "      <td>high</td>\n",
       "    </tr>\n",
       "    <tr>\n",
       "      <th>3</th>\n",
       "      <td>Nevada</td>\n",
       "      <td>2001</td>\n",
       "      <td>2.4</td>\n",
       "      <td>low</td>\n",
       "    </tr>\n",
       "    <tr>\n",
       "      <th>4</th>\n",
       "      <td>Nevada</td>\n",
       "      <td>2002</td>\n",
       "      <td>2.9</td>\n",
       "      <td>high</td>\n",
       "    </tr>\n",
       "    <tr>\n",
       "      <th>5</th>\n",
       "      <td>Nevada</td>\n",
       "      <td>2003</td>\n",
       "      <td>3.2</td>\n",
       "      <td>high</td>\n",
>>>>>>> 6516124a7bc59f03e3d305b96c38cf89e11dee6a
       "    </tr>\n",
       "  </tbody>\n",
       "</table>\n",
       "</div>"
      ],
      "text/plain": [
<<<<<<< HEAD
       "   year   state  pop      debt popLevel   perDebt\n",
       "0  2000    Ohio  1.5  1.624345      Low  1.082897\n",
       "1  2001    Ohio  1.7 -0.611756      Low -0.359857\n",
       "2  2002    Ohio  3.6 -0.528172     High -0.146714\n",
       "3  2001  Nevada  2.4 -1.072969      Low -0.447070\n",
       "4  2002  Nevada  2.9  0.865408     High  0.298416\n",
       "5  2003  Nevada  3.2 -2.301539     High -0.719231"
      ]
     },
     "execution_count": 245,
=======
       "    state  year  pop poplevel\n",
       "0    Ohio  2000  1.5      low\n",
       "1    Ohio  2001  1.7      low\n",
       "2    Ohio  2002  3.6     high\n",
       "3  Nevada  2001  2.4      low\n",
       "4  Nevada  2002  2.9     high\n",
       "5  Nevada  2003  3.2     high"
      ]
     },
     "execution_count": 401,
>>>>>>> 6516124a7bc59f03e3d305b96c38cf89e11dee6a
     "metadata": {},
     "output_type": "execute_result"
    }
   ],
   "source": [
<<<<<<< HEAD
=======
    "frame = pd.DataFrame(data)\n",
    "frame['poplevel'] = frame['pop'].apply(lambda x: 'high' if x >=2.5 else 'low')\n",
    "frame"
   ]
  },
  {
   "cell_type": "markdown",
   "metadata": {},
   "source": [
    "    3) 기존 컬럼들의 산술 연산 결과 할당"
   ]
  },
  {
   "cell_type": "code",
   "execution_count": 402,
   "metadata": {},
   "outputs": [
    {
     "ename": "KeyError",
     "evalue": "'debt'",
     "output_type": "error",
     "traceback": [
      "\u001b[1;31m---------------------------------------------------------------------------\u001b[0m",
      "\u001b[1;31mKeyError\u001b[0m                                  Traceback (most recent call last)",
      "File \u001b[1;32m~\\Desktop\\python_basic_3\\venv\\Lib\\site-packages\\pandas\\core\\indexes\\base.py:3805\u001b[0m, in \u001b[0;36mIndex.get_loc\u001b[1;34m(self, key)\u001b[0m\n\u001b[0;32m   3804\u001b[0m \u001b[38;5;28;01mtry\u001b[39;00m:\n\u001b[1;32m-> 3805\u001b[0m     \u001b[38;5;28;01mreturn\u001b[39;00m \u001b[38;5;28;43mself\u001b[39;49m\u001b[38;5;241;43m.\u001b[39;49m\u001b[43m_engine\u001b[49m\u001b[38;5;241;43m.\u001b[39;49m\u001b[43mget_loc\u001b[49m\u001b[43m(\u001b[49m\u001b[43mcasted_key\u001b[49m\u001b[43m)\u001b[49m\n\u001b[0;32m   3806\u001b[0m \u001b[38;5;28;01mexcept\u001b[39;00m \u001b[38;5;167;01mKeyError\u001b[39;00m \u001b[38;5;28;01mas\u001b[39;00m err:\n",
      "File \u001b[1;32mindex.pyx:167\u001b[0m, in \u001b[0;36mpandas._libs.index.IndexEngine.get_loc\u001b[1;34m()\u001b[0m\n",
      "File \u001b[1;32mindex.pyx:196\u001b[0m, in \u001b[0;36mpandas._libs.index.IndexEngine.get_loc\u001b[1;34m()\u001b[0m\n",
      "File \u001b[1;32mpandas\\\\_libs\\\\hashtable_class_helper.pxi:7081\u001b[0m, in \u001b[0;36mpandas._libs.hashtable.PyObjectHashTable.get_item\u001b[1;34m()\u001b[0m\n",
      "File \u001b[1;32mpandas\\\\_libs\\\\hashtable_class_helper.pxi:7089\u001b[0m, in \u001b[0;36mpandas._libs.hashtable.PyObjectHashTable.get_item\u001b[1;34m()\u001b[0m\n",
      "\u001b[1;31mKeyError\u001b[0m: 'debt'",
      "\nThe above exception was the direct cause of the following exception:\n",
      "\u001b[1;31mKeyError\u001b[0m                                  Traceback (most recent call last)",
      "Cell \u001b[1;32mIn[402], line 2\u001b[0m\n\u001b[0;32m      1\u001b[0m \u001b[38;5;66;03m# perDebt 컬럼을 추가하고, debt을 pop의 값을 나눈 값으로 할당하기\u001b[39;00m\n\u001b[1;32m----> 2\u001b[0m frame2[\u001b[38;5;124m'\u001b[39m\u001b[38;5;124mperDebt\u001b[39m\u001b[38;5;124m'\u001b[39m] \u001b[38;5;241m=\u001b[39m \u001b[43mframe2\u001b[49m\u001b[43m[\u001b[49m\u001b[38;5;124;43m'\u001b[39;49m\u001b[38;5;124;43mdebt\u001b[39;49m\u001b[38;5;124;43m'\u001b[39;49m\u001b[43m]\u001b[49m\u001b[38;5;241m/\u001b[39mframe2[\u001b[38;5;124m'\u001b[39m\u001b[38;5;124mpop\u001b[39m\u001b[38;5;124m'\u001b[39m]\n\u001b[0;32m      3\u001b[0m frame2\n",
      "File \u001b[1;32m~\\Desktop\\python_basic_3\\venv\\Lib\\site-packages\\pandas\\core\\frame.py:4090\u001b[0m, in \u001b[0;36mDataFrame.__getitem__\u001b[1;34m(self, key)\u001b[0m\n\u001b[0;32m   4088\u001b[0m \u001b[38;5;28;01mif\u001b[39;00m \u001b[38;5;28mself\u001b[39m\u001b[38;5;241m.\u001b[39mcolumns\u001b[38;5;241m.\u001b[39mnlevels \u001b[38;5;241m>\u001b[39m \u001b[38;5;241m1\u001b[39m:\n\u001b[0;32m   4089\u001b[0m     \u001b[38;5;28;01mreturn\u001b[39;00m \u001b[38;5;28mself\u001b[39m\u001b[38;5;241m.\u001b[39m_getitem_multilevel(key)\n\u001b[1;32m-> 4090\u001b[0m indexer \u001b[38;5;241m=\u001b[39m \u001b[38;5;28;43mself\u001b[39;49m\u001b[38;5;241;43m.\u001b[39;49m\u001b[43mcolumns\u001b[49m\u001b[38;5;241;43m.\u001b[39;49m\u001b[43mget_loc\u001b[49m\u001b[43m(\u001b[49m\u001b[43mkey\u001b[49m\u001b[43m)\u001b[49m\n\u001b[0;32m   4091\u001b[0m \u001b[38;5;28;01mif\u001b[39;00m is_integer(indexer):\n\u001b[0;32m   4092\u001b[0m     indexer \u001b[38;5;241m=\u001b[39m [indexer]\n",
      "File \u001b[1;32m~\\Desktop\\python_basic_3\\venv\\Lib\\site-packages\\pandas\\core\\indexes\\base.py:3812\u001b[0m, in \u001b[0;36mIndex.get_loc\u001b[1;34m(self, key)\u001b[0m\n\u001b[0;32m   3807\u001b[0m     \u001b[38;5;28;01mif\u001b[39;00m \u001b[38;5;28misinstance\u001b[39m(casted_key, \u001b[38;5;28mslice\u001b[39m) \u001b[38;5;129;01mor\u001b[39;00m (\n\u001b[0;32m   3808\u001b[0m         \u001b[38;5;28misinstance\u001b[39m(casted_key, abc\u001b[38;5;241m.\u001b[39mIterable)\n\u001b[0;32m   3809\u001b[0m         \u001b[38;5;129;01mand\u001b[39;00m \u001b[38;5;28many\u001b[39m(\u001b[38;5;28misinstance\u001b[39m(x, \u001b[38;5;28mslice\u001b[39m) \u001b[38;5;28;01mfor\u001b[39;00m x \u001b[38;5;129;01min\u001b[39;00m casted_key)\n\u001b[0;32m   3810\u001b[0m     ):\n\u001b[0;32m   3811\u001b[0m         \u001b[38;5;28;01mraise\u001b[39;00m InvalidIndexError(key)\n\u001b[1;32m-> 3812\u001b[0m     \u001b[38;5;28;01mraise\u001b[39;00m \u001b[38;5;167;01mKeyError\u001b[39;00m(key) \u001b[38;5;28;01mfrom\u001b[39;00m \u001b[38;5;21;01merr\u001b[39;00m\n\u001b[0;32m   3813\u001b[0m \u001b[38;5;28;01mexcept\u001b[39;00m \u001b[38;5;167;01mTypeError\u001b[39;00m:\n\u001b[0;32m   3814\u001b[0m     \u001b[38;5;66;03m# If we have a listlike key, _check_indexing_error will raise\u001b[39;00m\n\u001b[0;32m   3815\u001b[0m     \u001b[38;5;66;03m#  InvalidIndexError. Otherwise we fall through and re-raise\u001b[39;00m\n\u001b[0;32m   3816\u001b[0m     \u001b[38;5;66;03m#  the TypeError.\u001b[39;00m\n\u001b[0;32m   3817\u001b[0m     \u001b[38;5;28mself\u001b[39m\u001b[38;5;241m.\u001b[39m_check_indexing_error(key)\n",
      "\u001b[1;31mKeyError\u001b[0m: 'debt'"
     ]
    }
   ],
   "source": [
>>>>>>> 6516124a7bc59f03e3d305b96c38cf89e11dee6a
    "# perDebt 컬럼을 추가하고, debt을 pop의 값을 나눈 값으로 할당하기\n",
    "frame2['perDebt'] = frame2['debt']/frame2['pop']\n",
    "frame2"
   ]
  },
  {
   "cell_type": "raw",
   "metadata": {},
   "source": [
    "    4) 기존 컬럼들의 삭제 : del "
   ]
  },
  {
   "cell_type": "code",
<<<<<<< HEAD
   "execution_count": 65,
   "metadata": {},
   "outputs": [
    {
     "data": {
      "text/plain": [
       "Index(['year', 'state', 'pop', 'debt'], dtype='object')"
      ]
     },
     "execution_count": 65,
     "metadata": {},
     "output_type": "execute_result"
=======
   "execution_count": 403,
   "metadata": {},
   "outputs": [
    {
     "ename": "KeyError",
     "evalue": "'eastern'",
     "output_type": "error",
     "traceback": [
      "\u001b[1;31m---------------------------------------------------------------------------\u001b[0m",
      "\u001b[1;31mKeyError\u001b[0m                                  Traceback (most recent call last)",
      "File \u001b[1;32m~\\Desktop\\python_basic_3\\venv\\Lib\\site-packages\\pandas\\core\\indexes\\base.py:3805\u001b[0m, in \u001b[0;36mIndex.get_loc\u001b[1;34m(self, key)\u001b[0m\n\u001b[0;32m   3804\u001b[0m \u001b[38;5;28;01mtry\u001b[39;00m:\n\u001b[1;32m-> 3805\u001b[0m     \u001b[38;5;28;01mreturn\u001b[39;00m \u001b[38;5;28;43mself\u001b[39;49m\u001b[38;5;241;43m.\u001b[39;49m\u001b[43m_engine\u001b[49m\u001b[38;5;241;43m.\u001b[39;49m\u001b[43mget_loc\u001b[49m\u001b[43m(\u001b[49m\u001b[43mcasted_key\u001b[49m\u001b[43m)\u001b[49m\n\u001b[0;32m   3806\u001b[0m \u001b[38;5;28;01mexcept\u001b[39;00m \u001b[38;5;167;01mKeyError\u001b[39;00m \u001b[38;5;28;01mas\u001b[39;00m err:\n",
      "File \u001b[1;32mindex.pyx:167\u001b[0m, in \u001b[0;36mpandas._libs.index.IndexEngine.get_loc\u001b[1;34m()\u001b[0m\n",
      "File \u001b[1;32mindex.pyx:196\u001b[0m, in \u001b[0;36mpandas._libs.index.IndexEngine.get_loc\u001b[1;34m()\u001b[0m\n",
      "File \u001b[1;32mpandas\\\\_libs\\\\hashtable_class_helper.pxi:7081\u001b[0m, in \u001b[0;36mpandas._libs.hashtable.PyObjectHashTable.get_item\u001b[1;34m()\u001b[0m\n",
      "File \u001b[1;32mpandas\\\\_libs\\\\hashtable_class_helper.pxi:7089\u001b[0m, in \u001b[0;36mpandas._libs.hashtable.PyObjectHashTable.get_item\u001b[1;34m()\u001b[0m\n",
      "\u001b[1;31mKeyError\u001b[0m: 'eastern'",
      "\nThe above exception was the direct cause of the following exception:\n",
      "\u001b[1;31mKeyError\u001b[0m                                  Traceback (most recent call last)",
      "Cell \u001b[1;32mIn[403], line 1\u001b[0m\n\u001b[1;32m----> 1\u001b[0m \u001b[38;5;28;01mdel\u001b[39;00m \u001b[43mframe2\u001b[49m\u001b[43m[\u001b[49m\u001b[38;5;124;43m\"\u001b[39;49m\u001b[38;5;124;43meastern\u001b[39;49m\u001b[38;5;124;43m\"\u001b[39;49m\u001b[43m]\u001b[49m\n\u001b[0;32m      2\u001b[0m frame\u001b[38;5;241m.\u001b[39mcolumns\n",
      "File \u001b[1;32m~\\Desktop\\python_basic_3\\venv\\Lib\\site-packages\\pandas\\core\\generic.py:4503\u001b[0m, in \u001b[0;36mNDFrame.__delitem__\u001b[1;34m(self, key)\u001b[0m\n\u001b[0;32m   4498\u001b[0m             deleted \u001b[38;5;241m=\u001b[39m \u001b[38;5;28;01mTrue\u001b[39;00m\n\u001b[0;32m   4499\u001b[0m \u001b[38;5;28;01mif\u001b[39;00m \u001b[38;5;129;01mnot\u001b[39;00m deleted:\n\u001b[0;32m   4500\u001b[0m     \u001b[38;5;66;03m# If the above loop ran and didn't delete anything because\u001b[39;00m\n\u001b[0;32m   4501\u001b[0m     \u001b[38;5;66;03m# there was no match, this call should raise the appropriate\u001b[39;00m\n\u001b[0;32m   4502\u001b[0m     \u001b[38;5;66;03m# exception:\u001b[39;00m\n\u001b[1;32m-> 4503\u001b[0m     loc \u001b[38;5;241m=\u001b[39m \u001b[38;5;28;43mself\u001b[39;49m\u001b[38;5;241;43m.\u001b[39;49m\u001b[43maxes\u001b[49m\u001b[43m[\u001b[49m\u001b[38;5;241;43m-\u001b[39;49m\u001b[38;5;241;43m1\u001b[39;49m\u001b[43m]\u001b[49m\u001b[38;5;241;43m.\u001b[39;49m\u001b[43mget_loc\u001b[49m\u001b[43m(\u001b[49m\u001b[43mkey\u001b[49m\u001b[43m)\u001b[49m\n\u001b[0;32m   4504\u001b[0m     \u001b[38;5;28mself\u001b[39m\u001b[38;5;241m.\u001b[39m_mgr \u001b[38;5;241m=\u001b[39m \u001b[38;5;28mself\u001b[39m\u001b[38;5;241m.\u001b[39m_mgr\u001b[38;5;241m.\u001b[39midelete(loc)\n\u001b[0;32m   4506\u001b[0m \u001b[38;5;66;03m# delete from the caches\u001b[39;00m\n",
      "File \u001b[1;32m~\\Desktop\\python_basic_3\\venv\\Lib\\site-packages\\pandas\\core\\indexes\\base.py:3812\u001b[0m, in \u001b[0;36mIndex.get_loc\u001b[1;34m(self, key)\u001b[0m\n\u001b[0;32m   3807\u001b[0m     \u001b[38;5;28;01mif\u001b[39;00m \u001b[38;5;28misinstance\u001b[39m(casted_key, \u001b[38;5;28mslice\u001b[39m) \u001b[38;5;129;01mor\u001b[39;00m (\n\u001b[0;32m   3808\u001b[0m         \u001b[38;5;28misinstance\u001b[39m(casted_key, abc\u001b[38;5;241m.\u001b[39mIterable)\n\u001b[0;32m   3809\u001b[0m         \u001b[38;5;129;01mand\u001b[39;00m \u001b[38;5;28many\u001b[39m(\u001b[38;5;28misinstance\u001b[39m(x, \u001b[38;5;28mslice\u001b[39m) \u001b[38;5;28;01mfor\u001b[39;00m x \u001b[38;5;129;01min\u001b[39;00m casted_key)\n\u001b[0;32m   3810\u001b[0m     ):\n\u001b[0;32m   3811\u001b[0m         \u001b[38;5;28;01mraise\u001b[39;00m InvalidIndexError(key)\n\u001b[1;32m-> 3812\u001b[0m     \u001b[38;5;28;01mraise\u001b[39;00m \u001b[38;5;167;01mKeyError\u001b[39;00m(key) \u001b[38;5;28;01mfrom\u001b[39;00m \u001b[38;5;21;01merr\u001b[39;00m\n\u001b[0;32m   3813\u001b[0m \u001b[38;5;28;01mexcept\u001b[39;00m \u001b[38;5;167;01mTypeError\u001b[39;00m:\n\u001b[0;32m   3814\u001b[0m     \u001b[38;5;66;03m# If we have a listlike key, _check_indexing_error will raise\u001b[39;00m\n\u001b[0;32m   3815\u001b[0m     \u001b[38;5;66;03m#  InvalidIndexError. Otherwise we fall through and re-raise\u001b[39;00m\n\u001b[0;32m   3816\u001b[0m     \u001b[38;5;66;03m#  the TypeError.\u001b[39;00m\n\u001b[0;32m   3817\u001b[0m     \u001b[38;5;28mself\u001b[39m\u001b[38;5;241m.\u001b[39m_check_indexing_error(key)\n",
      "\u001b[1;31mKeyError\u001b[0m: 'eastern'"
     ]
>>>>>>> 6516124a7bc59f03e3d305b96c38cf89e11dee6a
    }
   ],
   "source": [
    "del frame2[\"eastern\"]\n",
<<<<<<< HEAD
    "frame2.columns"
=======
    "frame.columns"
>>>>>>> 6516124a7bc59f03e3d305b96c38cf89e11dee6a
   ]
  },
  {
   "cell_type": "markdown",
   "metadata": {},
   "source": [
    "    5) 재색인 : reindex(리스트)"
   ]
  },
  {
   "cell_type": "code",
<<<<<<< HEAD
   "execution_count": 10,
=======
   "execution_count": 404,
>>>>>>> 6516124a7bc59f03e3d305b96c38cf89e11dee6a
   "metadata": {},
   "outputs": [
    {
     "data": {
      "text/plain": [
       "d    4.5\n",
       "b    7.2\n",
       "a   -5.3\n",
       "c    3.6\n",
       "dtype: float64"
      ]
     },
<<<<<<< HEAD
     "execution_count": 10,
=======
     "execution_count": 404,
>>>>>>> 6516124a7bc59f03e3d305b96c38cf89e11dee6a
     "metadata": {},
     "output_type": "execute_result"
    }
   ],
   "source": [
    "obj = pd.Series([4.5, 7.2, -5.3, 3.6], index=[\"d\", \"b\", \"a\", \"c\"])\n",
    "obj"
   ]
  },
  {
   "cell_type": "code",
<<<<<<< HEAD
   "execution_count": 11,
=======
   "execution_count": 405,
>>>>>>> 6516124a7bc59f03e3d305b96c38cf89e11dee6a
   "metadata": {},
   "outputs": [
    {
     "data": {
      "text/plain": [
       "a   -5.3\n",
       "b    7.2\n",
       "c    3.6\n",
       "d    4.5\n",
       "e    NaN\n",
       "dtype: float64"
      ]
     },
<<<<<<< HEAD
     "execution_count": 11,
=======
     "execution_count": 405,
>>>>>>> 6516124a7bc59f03e3d305b96c38cf89e11dee6a
     "metadata": {},
     "output_type": "execute_result"
    }
   ],
   "source": [
    "obj2 = obj.reindex([\"a\", \"b\", \"c\", \"d\", \"e\"])\n",
    "obj2"
   ]
  },
  {
   "cell_type": "code",
<<<<<<< HEAD
   "execution_count": 91,
=======
   "execution_count": 406,
>>>>>>> 6516124a7bc59f03e3d305b96c38cf89e11dee6a
   "metadata": {},
   "outputs": [
    {
     "data": {
      "text/plain": [
       "0      blue\n",
       "1      blue\n",
       "2    purple\n",
       "3    purple\n",
       "4    yellow\n",
       "5    yellow\n",
       "dtype: object"
      ]
     },
<<<<<<< HEAD
     "execution_count": 91,
=======
     "execution_count": 406,
>>>>>>> 6516124a7bc59f03e3d305b96c38cf89e11dee6a
     "metadata": {},
     "output_type": "execute_result"
    }
   ],
   "source": [
    "obj3 = pd.Series([\"blue\", \"purple\", \"yellow\"], index=[0, 2, 4])\n",
    "obj3\n",
    "obj3.reindex(np.arange(6), method=\"ffill\")"
   ]
  },
  {
   "cell_type": "code",
<<<<<<< HEAD
   "execution_count": 93,
=======
   "execution_count": 407,
>>>>>>> 6516124a7bc59f03e3d305b96c38cf89e11dee6a
   "metadata": {},
   "outputs": [
    {
     "data": {
      "text/html": [
       "<div>\n",
       "<style scoped>\n",
       "    .dataframe tbody tr th:only-of-type {\n",
       "        vertical-align: middle;\n",
       "    }\n",
       "\n",
       "    .dataframe tbody tr th {\n",
       "        vertical-align: top;\n",
       "    }\n",
       "\n",
       "    .dataframe thead th {\n",
       "        text-align: right;\n",
       "    }\n",
       "</style>\n",
       "<table border=\"1\" class=\"dataframe\">\n",
       "  <thead>\n",
       "    <tr style=\"text-align: right;\">\n",
       "      <th></th>\n",
       "      <th>Ohio</th>\n",
       "      <th>Texas</th>\n",
       "      <th>California</th>\n",
       "    </tr>\n",
       "  </thead>\n",
       "  <tbody>\n",
       "    <tr>\n",
       "      <th>a</th>\n",
       "      <td>0.0</td>\n",
       "      <td>1.0</td>\n",
       "      <td>2.0</td>\n",
       "    </tr>\n",
       "    <tr>\n",
       "      <th>b</th>\n",
       "      <td>NaN</td>\n",
       "      <td>NaN</td>\n",
       "      <td>NaN</td>\n",
       "    </tr>\n",
       "    <tr>\n",
       "      <th>c</th>\n",
       "      <td>3.0</td>\n",
       "      <td>4.0</td>\n",
       "      <td>5.0</td>\n",
       "    </tr>\n",
       "    <tr>\n",
       "      <th>d</th>\n",
       "      <td>6.0</td>\n",
       "      <td>7.0</td>\n",
       "      <td>8.0</td>\n",
       "    </tr>\n",
       "  </tbody>\n",
       "</table>\n",
       "</div>"
      ],
      "text/plain": [
       "   Ohio  Texas  California\n",
       "a   0.0    1.0         2.0\n",
       "b   NaN    NaN         NaN\n",
       "c   3.0    4.0         5.0\n",
       "d   6.0    7.0         8.0"
      ]
     },
<<<<<<< HEAD
     "execution_count": 93,
=======
     "execution_count": 407,
>>>>>>> 6516124a7bc59f03e3d305b96c38cf89e11dee6a
     "metadata": {},
     "output_type": "execute_result"
    }
   ],
   "source": [
    "frame = pd.DataFrame(np.arange(9).reshape((3, 3)),\n",
    "                     index=[\"a\", \"c\", \"d\"],\n",
    "                     columns=[\"Ohio\", \"Texas\", \"California\"])\n",
    "frame\n",
    "frame2 = frame.reindex(index=[\"a\", \"b\", \"c\", \"d\"])\n",
    "frame2"
   ]
  },
  {
   "cell_type": "code",
<<<<<<< HEAD
   "execution_count": 94,
=======
   "execution_count": 408,
>>>>>>> 6516124a7bc59f03e3d305b96c38cf89e11dee6a
   "metadata": {},
   "outputs": [
    {
     "data": {
      "text/html": [
       "<div>\n",
       "<style scoped>\n",
       "    .dataframe tbody tr th:only-of-type {\n",
       "        vertical-align: middle;\n",
       "    }\n",
       "\n",
       "    .dataframe tbody tr th {\n",
       "        vertical-align: top;\n",
       "    }\n",
       "\n",
       "    .dataframe thead th {\n",
       "        text-align: right;\n",
       "    }\n",
       "</style>\n",
       "<table border=\"1\" class=\"dataframe\">\n",
       "  <thead>\n",
       "    <tr style=\"text-align: right;\">\n",
       "      <th></th>\n",
       "      <th>Texas</th>\n",
       "      <th>Utah</th>\n",
       "      <th>California</th>\n",
       "    </tr>\n",
       "  </thead>\n",
       "  <tbody>\n",
       "    <tr>\n",
       "      <th>a</th>\n",
       "      <td>1</td>\n",
       "      <td>NaN</td>\n",
       "      <td>2</td>\n",
       "    </tr>\n",
       "    <tr>\n",
       "      <th>c</th>\n",
       "      <td>4</td>\n",
       "      <td>NaN</td>\n",
       "      <td>5</td>\n",
       "    </tr>\n",
       "    <tr>\n",
       "      <th>d</th>\n",
       "      <td>7</td>\n",
       "      <td>NaN</td>\n",
       "      <td>8</td>\n",
       "    </tr>\n",
       "  </tbody>\n",
       "</table>\n",
       "</div>"
      ],
      "text/plain": [
       "   Texas  Utah  California\n",
       "a      1   NaN           2\n",
       "c      4   NaN           5\n",
       "d      7   NaN           8"
      ]
     },
<<<<<<< HEAD
     "execution_count": 94,
=======
     "execution_count": 408,
>>>>>>> 6516124a7bc59f03e3d305b96c38cf89e11dee6a
     "metadata": {},
     "output_type": "execute_result"
    }
   ],
   "source": [
    "states = [\"Texas\", \"Utah\", \"California\"]\n",
    "frame.reindex(columns=states)"
   ]
  },
  {
   "cell_type": "code",
<<<<<<< HEAD
   "execution_count": 95,
=======
   "execution_count": 409,
>>>>>>> 6516124a7bc59f03e3d305b96c38cf89e11dee6a
   "metadata": {},
   "outputs": [
    {
     "data": {
      "text/html": [
       "<div>\n",
       "<style scoped>\n",
       "    .dataframe tbody tr th:only-of-type {\n",
       "        vertical-align: middle;\n",
       "    }\n",
       "\n",
       "    .dataframe tbody tr th {\n",
       "        vertical-align: top;\n",
       "    }\n",
       "\n",
       "    .dataframe thead th {\n",
       "        text-align: right;\n",
       "    }\n",
       "</style>\n",
       "<table border=\"1\" class=\"dataframe\">\n",
       "  <thead>\n",
       "    <tr style=\"text-align: right;\">\n",
       "      <th></th>\n",
       "      <th>Texas</th>\n",
       "      <th>Utah</th>\n",
       "      <th>California</th>\n",
       "    </tr>\n",
       "  </thead>\n",
       "  <tbody>\n",
       "    <tr>\n",
       "      <th>a</th>\n",
       "      <td>1</td>\n",
       "      <td>NaN</td>\n",
       "      <td>2</td>\n",
       "    </tr>\n",
       "    <tr>\n",
       "      <th>c</th>\n",
       "      <td>4</td>\n",
       "      <td>NaN</td>\n",
       "      <td>5</td>\n",
       "    </tr>\n",
       "    <tr>\n",
       "      <th>d</th>\n",
       "      <td>7</td>\n",
       "      <td>NaN</td>\n",
       "      <td>8</td>\n",
       "    </tr>\n",
       "  </tbody>\n",
       "</table>\n",
       "</div>"
      ],
      "text/plain": [
       "   Texas  Utah  California\n",
       "a      1   NaN           2\n",
       "c      4   NaN           5\n",
       "d      7   NaN           8"
      ]
     },
<<<<<<< HEAD
     "execution_count": 95,
=======
     "execution_count": 409,
>>>>>>> 6516124a7bc59f03e3d305b96c38cf89e11dee6a
     "metadata": {},
     "output_type": "execute_result"
    }
   ],
   "source": [
    "frame.reindex(states, axis=\"columns\")"
   ]
  },
  {
   "cell_type": "code",
<<<<<<< HEAD
   "execution_count": 96,
=======
   "execution_count": 410,
>>>>>>> 6516124a7bc59f03e3d305b96c38cf89e11dee6a
   "metadata": {},
   "outputs": [
    {
     "data": {
      "text/html": [
       "<div>\n",
       "<style scoped>\n",
       "    .dataframe tbody tr th:only-of-type {\n",
       "        vertical-align: middle;\n",
       "    }\n",
       "\n",
       "    .dataframe tbody tr th {\n",
       "        vertical-align: top;\n",
       "    }\n",
       "\n",
       "    .dataframe thead th {\n",
       "        text-align: right;\n",
       "    }\n",
       "</style>\n",
       "<table border=\"1\" class=\"dataframe\">\n",
       "  <thead>\n",
       "    <tr style=\"text-align: right;\">\n",
       "      <th></th>\n",
       "      <th>California</th>\n",
       "      <th>Texas</th>\n",
       "    </tr>\n",
       "  </thead>\n",
       "  <tbody>\n",
       "    <tr>\n",
       "      <th>a</th>\n",
       "      <td>2</td>\n",
       "      <td>1</td>\n",
       "    </tr>\n",
       "    <tr>\n",
       "      <th>d</th>\n",
       "      <td>8</td>\n",
       "      <td>7</td>\n",
       "    </tr>\n",
       "    <tr>\n",
       "      <th>c</th>\n",
       "      <td>5</td>\n",
       "      <td>4</td>\n",
       "    </tr>\n",
       "  </tbody>\n",
       "</table>\n",
       "</div>"
      ],
      "text/plain": [
       "   California  Texas\n",
       "a           2      1\n",
       "d           8      7\n",
       "c           5      4"
      ]
     },
<<<<<<< HEAD
     "execution_count": 96,
=======
     "execution_count": 410,
>>>>>>> 6516124a7bc59f03e3d305b96c38cf89e11dee6a
     "metadata": {},
     "output_type": "execute_result"
    }
   ],
   "source": [
    "frame.loc[[\"a\", \"d\", \"c\"], [\"California\", \"Texas\"]]"
   ]
  },
  {
   "cell_type": "markdown",
   "metadata": {},
   "source": [
    "## # 데이터 삭제하기 :Series, DataFrame\n",
    "* drop(삭제할 리스트, axis=0)\n",
    "* drop(index= 행_리스트)\n",
    "* drop(columns= 열_리스트)"
   ]
  },
  {
   "cell_type": "code",
<<<<<<< HEAD
   "execution_count": 98,
=======
   "execution_count": 411,
>>>>>>> 6516124a7bc59f03e3d305b96c38cf89e11dee6a
   "metadata": {},
   "outputs": [
    {
     "data": {
      "text/plain": [
       "a    0.0\n",
       "b    1.0\n",
       "e    4.0\n",
       "dtype: float64"
      ]
     },
<<<<<<< HEAD
     "execution_count": 98,
=======
     "execution_count": 411,
>>>>>>> 6516124a7bc59f03e3d305b96c38cf89e11dee6a
     "metadata": {},
     "output_type": "execute_result"
    }
   ],
   "source": [
    "obj = pd.Series(np.arange(5.), index=[\"a\", \"b\", \"c\", \"d\", \"e\"])\n",
    "obj\n",
    "new_obj = obj.drop(\"c\")\n",
    "new_obj\n",
    "obj.drop([\"d\", \"c\"])"
   ]
  },
  {
   "cell_type": "code",
<<<<<<< HEAD
   "execution_count": 99,
=======
   "execution_count": 412,
>>>>>>> 6516124a7bc59f03e3d305b96c38cf89e11dee6a
   "metadata": {},
   "outputs": [
    {
     "data": {
      "text/html": [
       "<div>\n",
       "<style scoped>\n",
       "    .dataframe tbody tr th:only-of-type {\n",
       "        vertical-align: middle;\n",
       "    }\n",
       "\n",
       "    .dataframe tbody tr th {\n",
       "        vertical-align: top;\n",
       "    }\n",
       "\n",
       "    .dataframe thead th {\n",
       "        text-align: right;\n",
       "    }\n",
       "</style>\n",
       "<table border=\"1\" class=\"dataframe\">\n",
       "  <thead>\n",
       "    <tr style=\"text-align: right;\">\n",
       "      <th></th>\n",
       "      <th>one</th>\n",
       "      <th>two</th>\n",
       "      <th>three</th>\n",
       "      <th>four</th>\n",
       "    </tr>\n",
       "  </thead>\n",
       "  <tbody>\n",
       "    <tr>\n",
       "      <th>Ohio</th>\n",
       "      <td>0</td>\n",
       "      <td>1</td>\n",
       "      <td>2</td>\n",
       "      <td>3</td>\n",
       "    </tr>\n",
       "    <tr>\n",
       "      <th>Colorado</th>\n",
       "      <td>4</td>\n",
       "      <td>5</td>\n",
       "      <td>6</td>\n",
       "      <td>7</td>\n",
       "    </tr>\n",
       "    <tr>\n",
       "      <th>Utah</th>\n",
       "      <td>8</td>\n",
       "      <td>9</td>\n",
       "      <td>10</td>\n",
       "      <td>11</td>\n",
       "    </tr>\n",
       "    <tr>\n",
       "      <th>New York</th>\n",
       "      <td>12</td>\n",
       "      <td>13</td>\n",
       "      <td>14</td>\n",
       "      <td>15</td>\n",
       "    </tr>\n",
       "  </tbody>\n",
       "</table>\n",
       "</div>"
      ],
      "text/plain": [
       "          one  two  three  four\n",
       "Ohio        0    1      2     3\n",
       "Colorado    4    5      6     7\n",
       "Utah        8    9     10    11\n",
       "New York   12   13     14    15"
      ]
     },
<<<<<<< HEAD
     "execution_count": 99,
=======
     "execution_count": 412,
>>>>>>> 6516124a7bc59f03e3d305b96c38cf89e11dee6a
     "metadata": {},
     "output_type": "execute_result"
    }
   ],
   "source": [
    "data = pd.DataFrame(np.arange(16).reshape((4, 4)),\n",
    "                    index=[\"Ohio\", \"Colorado\", \"Utah\", \"New York\"],\n",
    "                    columns=[\"one\", \"two\", \"three\", \"four\"])\n",
    "data"
   ]
  },
  {
   "cell_type": "code",
<<<<<<< HEAD
   "execution_count": 100,
=======
   "execution_count": 413,
>>>>>>> 6516124a7bc59f03e3d305b96c38cf89e11dee6a
   "metadata": {},
   "outputs": [
    {
     "data": {
      "text/html": [
       "<div>\n",
       "<style scoped>\n",
       "    .dataframe tbody tr th:only-of-type {\n",
       "        vertical-align: middle;\n",
       "    }\n",
       "\n",
       "    .dataframe tbody tr th {\n",
       "        vertical-align: top;\n",
       "    }\n",
       "\n",
       "    .dataframe thead th {\n",
       "        text-align: right;\n",
       "    }\n",
       "</style>\n",
       "<table border=\"1\" class=\"dataframe\">\n",
       "  <thead>\n",
       "    <tr style=\"text-align: right;\">\n",
       "      <th></th>\n",
       "      <th>one</th>\n",
       "      <th>two</th>\n",
       "      <th>three</th>\n",
       "      <th>four</th>\n",
       "    </tr>\n",
       "  </thead>\n",
       "  <tbody>\n",
       "    <tr>\n",
       "      <th>Utah</th>\n",
       "      <td>8</td>\n",
       "      <td>9</td>\n",
       "      <td>10</td>\n",
       "      <td>11</td>\n",
       "    </tr>\n",
       "    <tr>\n",
       "      <th>New York</th>\n",
       "      <td>12</td>\n",
       "      <td>13</td>\n",
       "      <td>14</td>\n",
       "      <td>15</td>\n",
       "    </tr>\n",
       "  </tbody>\n",
       "</table>\n",
       "</div>"
      ],
      "text/plain": [
       "          one  two  three  four\n",
       "Utah        8    9     10    11\n",
       "New York   12   13     14    15"
      ]
     },
<<<<<<< HEAD
     "execution_count": 100,
=======
     "execution_count": 413,
>>>>>>> 6516124a7bc59f03e3d305b96c38cf89e11dee6a
     "metadata": {},
     "output_type": "execute_result"
    }
   ],
   "source": [
    "data.drop(index=[\"Colorado\", \"Ohio\"])"
   ]
  },
  {
   "cell_type": "code",
<<<<<<< HEAD
   "execution_count": 101,
=======
   "execution_count": 414,
>>>>>>> 6516124a7bc59f03e3d305b96c38cf89e11dee6a
   "metadata": {},
   "outputs": [
    {
     "data": {
      "text/html": [
       "<div>\n",
       "<style scoped>\n",
       "    .dataframe tbody tr th:only-of-type {\n",
       "        vertical-align: middle;\n",
       "    }\n",
       "\n",
       "    .dataframe tbody tr th {\n",
       "        vertical-align: top;\n",
       "    }\n",
       "\n",
       "    .dataframe thead th {\n",
       "        text-align: right;\n",
       "    }\n",
       "</style>\n",
       "<table border=\"1\" class=\"dataframe\">\n",
       "  <thead>\n",
       "    <tr style=\"text-align: right;\">\n",
       "      <th></th>\n",
       "      <th>one</th>\n",
       "      <th>three</th>\n",
       "      <th>four</th>\n",
       "    </tr>\n",
       "  </thead>\n",
       "  <tbody>\n",
       "    <tr>\n",
       "      <th>Ohio</th>\n",
       "      <td>0</td>\n",
       "      <td>2</td>\n",
       "      <td>3</td>\n",
       "    </tr>\n",
       "    <tr>\n",
       "      <th>Colorado</th>\n",
       "      <td>4</td>\n",
       "      <td>6</td>\n",
       "      <td>7</td>\n",
       "    </tr>\n",
       "    <tr>\n",
       "      <th>Utah</th>\n",
       "      <td>8</td>\n",
       "      <td>10</td>\n",
       "      <td>11</td>\n",
       "    </tr>\n",
       "    <tr>\n",
       "      <th>New York</th>\n",
       "      <td>12</td>\n",
       "      <td>14</td>\n",
       "      <td>15</td>\n",
       "    </tr>\n",
       "  </tbody>\n",
       "</table>\n",
       "</div>"
      ],
      "text/plain": [
       "          one  three  four\n",
       "Ohio        0      2     3\n",
       "Colorado    4      6     7\n",
       "Utah        8     10    11\n",
       "New York   12     14    15"
      ]
     },
<<<<<<< HEAD
     "execution_count": 101,
=======
     "execution_count": 414,
>>>>>>> 6516124a7bc59f03e3d305b96c38cf89e11dee6a
     "metadata": {},
     "output_type": "execute_result"
    }
   ],
   "source": [
    "data.drop(columns=[\"two\"])"
   ]
  },
  {
   "cell_type": "code",
<<<<<<< HEAD
   "execution_count": 102,
=======
   "execution_count": 415,
>>>>>>> 6516124a7bc59f03e3d305b96c38cf89e11dee6a
   "metadata": {},
   "outputs": [
    {
     "data": {
      "text/html": [
       "<div>\n",
       "<style scoped>\n",
       "    .dataframe tbody tr th:only-of-type {\n",
       "        vertical-align: middle;\n",
       "    }\n",
       "\n",
       "    .dataframe tbody tr th {\n",
       "        vertical-align: top;\n",
       "    }\n",
       "\n",
       "    .dataframe thead th {\n",
       "        text-align: right;\n",
       "    }\n",
       "</style>\n",
       "<table border=\"1\" class=\"dataframe\">\n",
       "  <thead>\n",
       "    <tr style=\"text-align: right;\">\n",
       "      <th></th>\n",
       "      <th>one</th>\n",
       "      <th>three</th>\n",
       "    </tr>\n",
       "  </thead>\n",
       "  <tbody>\n",
       "    <tr>\n",
       "      <th>Ohio</th>\n",
       "      <td>0</td>\n",
       "      <td>2</td>\n",
       "    </tr>\n",
       "    <tr>\n",
       "      <th>Colorado</th>\n",
       "      <td>4</td>\n",
       "      <td>6</td>\n",
       "    </tr>\n",
       "    <tr>\n",
       "      <th>Utah</th>\n",
       "      <td>8</td>\n",
       "      <td>10</td>\n",
       "    </tr>\n",
       "    <tr>\n",
       "      <th>New York</th>\n",
       "      <td>12</td>\n",
       "      <td>14</td>\n",
       "    </tr>\n",
       "  </tbody>\n",
       "</table>\n",
       "</div>"
      ],
      "text/plain": [
       "          one  three\n",
       "Ohio        0      2\n",
       "Colorado    4      6\n",
       "Utah        8     10\n",
       "New York   12     14"
      ]
     },
<<<<<<< HEAD
     "execution_count": 102,
=======
     "execution_count": 415,
>>>>>>> 6516124a7bc59f03e3d305b96c38cf89e11dee6a
     "metadata": {},
     "output_type": "execute_result"
    }
   ],
   "source": [
    "data.drop(\"two\", axis=1)\n",
    "data.drop([\"two\", \"four\"], axis=\"columns\")"
   ]
  },
  {
   "cell_type": "markdown",
   "metadata": {},
   "source": [
    "## #  5주차 "
   ]
  },
  {
   "cell_type": "code",
<<<<<<< HEAD
   "execution_count": 54,
   "metadata": {},
   "outputs": [],
=======
   "execution_count": 416,
   "metadata": {},
   "outputs": [
    {
     "name": "stderr",
     "output_type": "stream",
     "text": [
      "C:\\Users\\t0108\\AppData\\Local\\Temp\\ipykernel_65180\\1027675808.py:4: FutureWarning: Series.__getitem__ treating keys as positions is deprecated. In a future version, integer keys will always be treated as labels (consistent with DataFrame behavior). To access a value by position, use `ser.iloc[pos]`\n",
      "  obj[1]\n",
      "C:\\Users\\t0108\\AppData\\Local\\Temp\\ipykernel_65180\\1027675808.py:7: FutureWarning: Series.__getitem__ treating keys as positions is deprecated. In a future version, integer keys will always be treated as labels (consistent with DataFrame behavior). To access a value by position, use `ser.iloc[pos]`\n",
      "  obj[[1, 3]]\n"
     ]
    },
    {
     "data": {
      "text/plain": [
       "a    0.0\n",
       "b    1.0\n",
       "dtype: float64"
      ]
     },
     "execution_count": 416,
     "metadata": {},
     "output_type": "execute_result"
    }
   ],
>>>>>>> 6516124a7bc59f03e3d305b96c38cf89e11dee6a
   "source": [
    "obj = pd.Series(np.arange(4.), index=[\"a\", \"b\", \"c\", \"d\"])\n",
    "obj\n",
    "obj[\"b\"]\n",
    "obj[1]\n",
    "obj[2:4]\n",
    "obj[[\"b\", \"a\", \"d\"]]\n",
    "obj[[1, 3]]\n",
    "obj[obj < 2]"
   ]
  },
  {
   "cell_type": "code",
<<<<<<< HEAD
   "execution_count": 55,
   "metadata": {},
   "outputs": [],
=======
   "execution_count": 417,
   "metadata": {},
   "outputs": [
    {
     "data": {
      "text/plain": [
       "b    1.0\n",
       "a    0.0\n",
       "d    3.0\n",
       "dtype: float64"
      ]
     },
     "execution_count": 417,
     "metadata": {},
     "output_type": "execute_result"
    }
   ],
>>>>>>> 6516124a7bc59f03e3d305b96c38cf89e11dee6a
   "source": [
    "obj.loc[[\"b\", \"a\", \"d\"]]"
   ]
  },
  {
   "cell_type": "code",
<<<<<<< HEAD
   "execution_count": 56,
   "metadata": {},
   "outputs": [],
=======
   "execution_count": 418,
   "metadata": {},
   "outputs": [
    {
     "name": "stderr",
     "output_type": "stream",
     "text": [
      "C:\\Users\\t0108\\AppData\\Local\\Temp\\ipykernel_65180\\2088379638.py:6: FutureWarning: Series.__getitem__ treating keys as positions is deprecated. In a future version, integer keys will always be treated as labels (consistent with DataFrame behavior). To access a value by position, use `ser.iloc[pos]`\n",
      "  obj2[[0, 1, 2]]\n"
     ]
    },
    {
     "data": {
      "text/plain": [
       "a    1\n",
       "b    2\n",
       "c    3\n",
       "dtype: int64"
      ]
     },
     "execution_count": 418,
     "metadata": {},
     "output_type": "execute_result"
    }
   ],
>>>>>>> 6516124a7bc59f03e3d305b96c38cf89e11dee6a
   "source": [
    "obj1 = pd.Series([1, 2, 3], index=[2, 0, 1])\n",
    "obj2 = pd.Series([1, 2, 3], index=[\"a\", \"b\", \"c\"])\n",
    "obj1\n",
    "obj2\n",
    "obj1[[0, 1, 2]]\n",
    "obj2[[0, 1, 2]]"
   ]
  },
  {
   "cell_type": "code",
<<<<<<< HEAD
   "execution_count": 57,
   "metadata": {},
   "outputs": [],
=======
   "execution_count": 419,
   "metadata": {},
   "outputs": [
    {
     "data": {
      "text/plain": [
       "a    1\n",
       "b    2\n",
       "c    3\n",
       "dtype: int64"
      ]
     },
     "execution_count": 419,
     "metadata": {},
     "output_type": "execute_result"
    }
   ],
>>>>>>> 6516124a7bc59f03e3d305b96c38cf89e11dee6a
   "source": [
    "obj1.iloc[[0, 1, 2]]\n",
    "obj2.iloc[[0, 1, 2]]"
   ]
  },
  {
   "cell_type": "code",
<<<<<<< HEAD
   "execution_count": 58,
   "metadata": {},
   "outputs": [],
=======
   "execution_count": 420,
   "metadata": {},
   "outputs": [
    {
     "data": {
      "text/plain": [
       "b    2\n",
       "c    3\n",
       "dtype: int64"
      ]
     },
     "execution_count": 420,
     "metadata": {},
     "output_type": "execute_result"
    }
   ],
>>>>>>> 6516124a7bc59f03e3d305b96c38cf89e11dee6a
   "source": [
    "obj2.loc[\"b\":\"c\"]"
   ]
  },
  {
   "cell_type": "code",
<<<<<<< HEAD
   "execution_count": 59,
   "metadata": {},
   "outputs": [],
=======
   "execution_count": 209,
   "metadata": {},
   "outputs": [
    {
     "data": {
      "text/plain": [
       "a    1\n",
       "b    5\n",
       "c    5\n",
       "dtype: int64"
      ]
     },
     "execution_count": 209,
     "metadata": {},
     "output_type": "execute_result"
    }
   ],
>>>>>>> 6516124a7bc59f03e3d305b96c38cf89e11dee6a
   "source": [
    "obj2.loc[\"b\":\"c\"] = 5\n",
    "obj2"
   ]
  },
  {
   "cell_type": "code",
<<<<<<< HEAD
   "execution_count": 60,
   "metadata": {},
   "outputs": [],
=======
   "execution_count": 210,
   "metadata": {},
   "outputs": [
    {
     "data": {
      "text/html": [
       "<div>\n",
       "<style scoped>\n",
       "    .dataframe tbody tr th:only-of-type {\n",
       "        vertical-align: middle;\n",
       "    }\n",
       "\n",
       "    .dataframe tbody tr th {\n",
       "        vertical-align: top;\n",
       "    }\n",
       "\n",
       "    .dataframe thead th {\n",
       "        text-align: right;\n",
       "    }\n",
       "</style>\n",
       "<table border=\"1\" class=\"dataframe\">\n",
       "  <thead>\n",
       "    <tr style=\"text-align: right;\">\n",
       "      <th></th>\n",
       "      <th>three</th>\n",
       "      <th>one</th>\n",
       "    </tr>\n",
       "  </thead>\n",
       "  <tbody>\n",
       "    <tr>\n",
       "      <th>Ohio</th>\n",
       "      <td>2</td>\n",
       "      <td>0</td>\n",
       "    </tr>\n",
       "    <tr>\n",
       "      <th>Colorado</th>\n",
       "      <td>6</td>\n",
       "      <td>4</td>\n",
       "    </tr>\n",
       "    <tr>\n",
       "      <th>Utah</th>\n",
       "      <td>10</td>\n",
       "      <td>8</td>\n",
       "    </tr>\n",
       "    <tr>\n",
       "      <th>New York</th>\n",
       "      <td>14</td>\n",
       "      <td>12</td>\n",
       "    </tr>\n",
       "  </tbody>\n",
       "</table>\n",
       "</div>"
      ],
      "text/plain": [
       "          three  one\n",
       "Ohio          2    0\n",
       "Colorado      6    4\n",
       "Utah         10    8\n",
       "New York     14   12"
      ]
     },
     "execution_count": 210,
     "metadata": {},
     "output_type": "execute_result"
    }
   ],
>>>>>>> 6516124a7bc59f03e3d305b96c38cf89e11dee6a
   "source": [
    "data = pd.DataFrame(np.arange(16).reshape((4, 4)),\n",
    "                    index=[\"Ohio\", \"Colorado\", \"Utah\", \"New York\"],\n",
    "                    columns=[\"one\", \"two\", \"three\", \"four\"])\n",
    "data\n",
    "data[\"two\"]\n",
    "data[[\"three\", \"one\"]]"
   ]
  },
  {
   "cell_type": "code",
<<<<<<< HEAD
   "execution_count": 61,
   "metadata": {},
   "outputs": [],
=======
   "execution_count": 211,
   "metadata": {},
   "outputs": [
    {
     "data": {
      "text/html": [
       "<div>\n",
       "<style scoped>\n",
       "    .dataframe tbody tr th:only-of-type {\n",
       "        vertical-align: middle;\n",
       "    }\n",
       "\n",
       "    .dataframe tbody tr th {\n",
       "        vertical-align: top;\n",
       "    }\n",
       "\n",
       "    .dataframe thead th {\n",
       "        text-align: right;\n",
       "    }\n",
       "</style>\n",
       "<table border=\"1\" class=\"dataframe\">\n",
       "  <thead>\n",
       "    <tr style=\"text-align: right;\">\n",
       "      <th></th>\n",
       "      <th>one</th>\n",
       "      <th>two</th>\n",
       "      <th>three</th>\n",
       "      <th>four</th>\n",
       "    </tr>\n",
       "  </thead>\n",
       "  <tbody>\n",
       "    <tr>\n",
       "      <th>Colorado</th>\n",
       "      <td>4</td>\n",
       "      <td>5</td>\n",
       "      <td>6</td>\n",
       "      <td>7</td>\n",
       "    </tr>\n",
       "    <tr>\n",
       "      <th>Utah</th>\n",
       "      <td>8</td>\n",
       "      <td>9</td>\n",
       "      <td>10</td>\n",
       "      <td>11</td>\n",
       "    </tr>\n",
       "    <tr>\n",
       "      <th>New York</th>\n",
       "      <td>12</td>\n",
       "      <td>13</td>\n",
       "      <td>14</td>\n",
       "      <td>15</td>\n",
       "    </tr>\n",
       "  </tbody>\n",
       "</table>\n",
       "</div>"
      ],
      "text/plain": [
       "          one  two  three  four\n",
       "Colorado    4    5      6     7\n",
       "Utah        8    9     10    11\n",
       "New York   12   13     14    15"
      ]
     },
     "execution_count": 211,
     "metadata": {},
     "output_type": "execute_result"
    }
   ],
>>>>>>> 6516124a7bc59f03e3d305b96c38cf89e11dee6a
   "source": [
    "data[:2]\n",
    "data[data[\"three\"] > 5]"
   ]
  },
  {
   "cell_type": "code",
<<<<<<< HEAD
   "execution_count": 62,
   "metadata": {},
   "outputs": [],
=======
   "execution_count": 212,
   "metadata": {},
   "outputs": [
    {
     "data": {
      "text/html": [
       "<div>\n",
       "<style scoped>\n",
       "    .dataframe tbody tr th:only-of-type {\n",
       "        vertical-align: middle;\n",
       "    }\n",
       "\n",
       "    .dataframe tbody tr th {\n",
       "        vertical-align: top;\n",
       "    }\n",
       "\n",
       "    .dataframe thead th {\n",
       "        text-align: right;\n",
       "    }\n",
       "</style>\n",
       "<table border=\"1\" class=\"dataframe\">\n",
       "  <thead>\n",
       "    <tr style=\"text-align: right;\">\n",
       "      <th></th>\n",
       "      <th>one</th>\n",
       "      <th>two</th>\n",
       "      <th>three</th>\n",
       "      <th>four</th>\n",
       "    </tr>\n",
       "  </thead>\n",
       "  <tbody>\n",
       "    <tr>\n",
       "      <th>Ohio</th>\n",
       "      <td>True</td>\n",
       "      <td>True</td>\n",
       "      <td>True</td>\n",
       "      <td>True</td>\n",
       "    </tr>\n",
       "    <tr>\n",
       "      <th>Colorado</th>\n",
       "      <td>True</td>\n",
       "      <td>False</td>\n",
       "      <td>False</td>\n",
       "      <td>False</td>\n",
       "    </tr>\n",
       "    <tr>\n",
       "      <th>Utah</th>\n",
       "      <td>False</td>\n",
       "      <td>False</td>\n",
       "      <td>False</td>\n",
       "      <td>False</td>\n",
       "    </tr>\n",
       "    <tr>\n",
       "      <th>New York</th>\n",
       "      <td>False</td>\n",
       "      <td>False</td>\n",
       "      <td>False</td>\n",
       "      <td>False</td>\n",
       "    </tr>\n",
       "  </tbody>\n",
       "</table>\n",
       "</div>"
      ],
      "text/plain": [
       "            one    two  three   four\n",
       "Ohio       True   True   True   True\n",
       "Colorado   True  False  False  False\n",
       "Utah      False  False  False  False\n",
       "New York  False  False  False  False"
      ]
     },
     "execution_count": 212,
     "metadata": {},
     "output_type": "execute_result"
    }
   ],
>>>>>>> 6516124a7bc59f03e3d305b96c38cf89e11dee6a
   "source": [
    "data < 5"
   ]
  },
  {
   "cell_type": "code",
<<<<<<< HEAD
   "execution_count": 63,
   "metadata": {},
   "outputs": [],
=======
   "execution_count": 213,
   "metadata": {},
   "outputs": [
    {
     "data": {
      "text/html": [
       "<div>\n",
       "<style scoped>\n",
       "    .dataframe tbody tr th:only-of-type {\n",
       "        vertical-align: middle;\n",
       "    }\n",
       "\n",
       "    .dataframe tbody tr th {\n",
       "        vertical-align: top;\n",
       "    }\n",
       "\n",
       "    .dataframe thead th {\n",
       "        text-align: right;\n",
       "    }\n",
       "</style>\n",
       "<table border=\"1\" class=\"dataframe\">\n",
       "  <thead>\n",
       "    <tr style=\"text-align: right;\">\n",
       "      <th></th>\n",
       "      <th>one</th>\n",
       "      <th>two</th>\n",
       "      <th>three</th>\n",
       "      <th>four</th>\n",
       "    </tr>\n",
       "  </thead>\n",
       "  <tbody>\n",
       "    <tr>\n",
       "      <th>Ohio</th>\n",
       "      <td>0</td>\n",
       "      <td>0</td>\n",
       "      <td>0</td>\n",
       "      <td>0</td>\n",
       "    </tr>\n",
       "    <tr>\n",
       "      <th>Colorado</th>\n",
       "      <td>0</td>\n",
       "      <td>5</td>\n",
       "      <td>6</td>\n",
       "      <td>7</td>\n",
       "    </tr>\n",
       "    <tr>\n",
       "      <th>Utah</th>\n",
       "      <td>8</td>\n",
       "      <td>9</td>\n",
       "      <td>10</td>\n",
       "      <td>11</td>\n",
       "    </tr>\n",
       "    <tr>\n",
       "      <th>New York</th>\n",
       "      <td>12</td>\n",
       "      <td>13</td>\n",
       "      <td>14</td>\n",
       "      <td>15</td>\n",
       "    </tr>\n",
       "  </tbody>\n",
       "</table>\n",
       "</div>"
      ],
      "text/plain": [
       "          one  two  three  four\n",
       "Ohio        0    0      0     0\n",
       "Colorado    0    5      6     7\n",
       "Utah        8    9     10    11\n",
       "New York   12   13     14    15"
      ]
     },
     "execution_count": 213,
     "metadata": {},
     "output_type": "execute_result"
    }
   ],
>>>>>>> 6516124a7bc59f03e3d305b96c38cf89e11dee6a
   "source": [
    "data[data < 5] = 0\n",
    "data"
   ]
  },
  {
   "cell_type": "code",
<<<<<<< HEAD
   "execution_count": 64,
   "metadata": {},
   "outputs": [],
=======
   "execution_count": 214,
   "metadata": {},
   "outputs": [
    {
     "data": {
      "text/plain": [
       "one      0\n",
       "two      5\n",
       "three    6\n",
       "four     7\n",
       "Name: Colorado, dtype: int32"
      ]
     },
     "execution_count": 214,
     "metadata": {},
     "output_type": "execute_result"
    }
   ],
>>>>>>> 6516124a7bc59f03e3d305b96c38cf89e11dee6a
   "source": [
    "data\n",
    "data.loc[\"Colorado\"]"
   ]
  },
  {
   "cell_type": "code",
<<<<<<< HEAD
   "execution_count": 65,
   "metadata": {},
   "outputs": [],
=======
   "execution_count": 215,
   "metadata": {},
   "outputs": [
    {
     "data": {
      "text/html": [
       "<div>\n",
       "<style scoped>\n",
       "    .dataframe tbody tr th:only-of-type {\n",
       "        vertical-align: middle;\n",
       "    }\n",
       "\n",
       "    .dataframe tbody tr th {\n",
       "        vertical-align: top;\n",
       "    }\n",
       "\n",
       "    .dataframe thead th {\n",
       "        text-align: right;\n",
       "    }\n",
       "</style>\n",
       "<table border=\"1\" class=\"dataframe\">\n",
       "  <thead>\n",
       "    <tr style=\"text-align: right;\">\n",
       "      <th></th>\n",
       "      <th>one</th>\n",
       "      <th>two</th>\n",
       "      <th>three</th>\n",
       "      <th>four</th>\n",
       "    </tr>\n",
       "  </thead>\n",
       "  <tbody>\n",
       "    <tr>\n",
       "      <th>Colorado</th>\n",
       "      <td>0</td>\n",
       "      <td>5</td>\n",
       "      <td>6</td>\n",
       "      <td>7</td>\n",
       "    </tr>\n",
       "    <tr>\n",
       "      <th>New York</th>\n",
       "      <td>12</td>\n",
       "      <td>13</td>\n",
       "      <td>14</td>\n",
       "      <td>15</td>\n",
       "    </tr>\n",
       "  </tbody>\n",
       "</table>\n",
       "</div>"
      ],
      "text/plain": [
       "          one  two  three  four\n",
       "Colorado    0    5      6     7\n",
       "New York   12   13     14    15"
      ]
     },
     "execution_count": 215,
     "metadata": {},
     "output_type": "execute_result"
    }
   ],
>>>>>>> 6516124a7bc59f03e3d305b96c38cf89e11dee6a
   "source": [
    "data.loc[[\"Colorado\", \"New York\"]]"
   ]
  },
  {
   "cell_type": "code",
<<<<<<< HEAD
   "execution_count": 66,
   "metadata": {},
   "outputs": [],
=======
   "execution_count": 216,
   "metadata": {},
   "outputs": [
    {
     "data": {
      "text/plain": [
       "two      5\n",
       "three    6\n",
       "Name: Colorado, dtype: int32"
      ]
     },
     "execution_count": 216,
     "metadata": {},
     "output_type": "execute_result"
    }
   ],
>>>>>>> 6516124a7bc59f03e3d305b96c38cf89e11dee6a
   "source": [
    "data.loc[\"Colorado\", [\"two\", \"three\"]]"
   ]
  },
  {
   "cell_type": "code",
<<<<<<< HEAD
   "execution_count": 67,
   "metadata": {},
   "outputs": [],
=======
   "execution_count": 217,
   "metadata": {},
   "outputs": [
    {
     "data": {
      "text/html": [
       "<div>\n",
       "<style scoped>\n",
       "    .dataframe tbody tr th:only-of-type {\n",
       "        vertical-align: middle;\n",
       "    }\n",
       "\n",
       "    .dataframe tbody tr th {\n",
       "        vertical-align: top;\n",
       "    }\n",
       "\n",
       "    .dataframe thead th {\n",
       "        text-align: right;\n",
       "    }\n",
       "</style>\n",
       "<table border=\"1\" class=\"dataframe\">\n",
       "  <thead>\n",
       "    <tr style=\"text-align: right;\">\n",
       "      <th></th>\n",
       "      <th>four</th>\n",
       "      <th>one</th>\n",
       "      <th>two</th>\n",
       "    </tr>\n",
       "  </thead>\n",
       "  <tbody>\n",
       "    <tr>\n",
       "      <th>Colorado</th>\n",
       "      <td>7</td>\n",
       "      <td>0</td>\n",
       "      <td>5</td>\n",
       "    </tr>\n",
       "    <tr>\n",
       "      <th>Utah</th>\n",
       "      <td>11</td>\n",
       "      <td>8</td>\n",
       "      <td>9</td>\n",
       "    </tr>\n",
       "  </tbody>\n",
       "</table>\n",
       "</div>"
      ],
      "text/plain": [
       "          four  one  two\n",
       "Colorado     7    0    5\n",
       "Utah        11    8    9"
      ]
     },
     "execution_count": 217,
     "metadata": {},
     "output_type": "execute_result"
    }
   ],
>>>>>>> 6516124a7bc59f03e3d305b96c38cf89e11dee6a
   "source": [
    "data.iloc[2]\n",
    "data.iloc[[2, 1]]\n",
    "data.iloc[2, [3, 0, 1]]\n",
    "data.iloc[[1, 2], [3, 0, 1]]"
   ]
  },
  {
   "cell_type": "code",
<<<<<<< HEAD
   "execution_count": 68,
   "metadata": {},
   "outputs": [],
=======
   "execution_count": 218,
   "metadata": {},
   "outputs": [
    {
     "data": {
      "text/html": [
       "<div>\n",
       "<style scoped>\n",
       "    .dataframe tbody tr th:only-of-type {\n",
       "        vertical-align: middle;\n",
       "    }\n",
       "\n",
       "    .dataframe tbody tr th {\n",
       "        vertical-align: top;\n",
       "    }\n",
       "\n",
       "    .dataframe thead th {\n",
       "        text-align: right;\n",
       "    }\n",
       "</style>\n",
       "<table border=\"1\" class=\"dataframe\">\n",
       "  <thead>\n",
       "    <tr style=\"text-align: right;\">\n",
       "      <th></th>\n",
       "      <th>one</th>\n",
       "      <th>two</th>\n",
       "      <th>three</th>\n",
       "    </tr>\n",
       "  </thead>\n",
       "  <tbody>\n",
       "    <tr>\n",
       "      <th>Colorado</th>\n",
       "      <td>0</td>\n",
       "      <td>5</td>\n",
       "      <td>6</td>\n",
       "    </tr>\n",
       "    <tr>\n",
       "      <th>Utah</th>\n",
       "      <td>8</td>\n",
       "      <td>9</td>\n",
       "      <td>10</td>\n",
       "    </tr>\n",
       "    <tr>\n",
       "      <th>New York</th>\n",
       "      <td>12</td>\n",
       "      <td>13</td>\n",
       "      <td>14</td>\n",
       "    </tr>\n",
       "  </tbody>\n",
       "</table>\n",
       "</div>"
      ],
      "text/plain": [
       "          one  two  three\n",
       "Colorado    0    5      6\n",
       "Utah        8    9     10\n",
       "New York   12   13     14"
      ]
     },
     "execution_count": 218,
     "metadata": {},
     "output_type": "execute_result"
    }
   ],
>>>>>>> 6516124a7bc59f03e3d305b96c38cf89e11dee6a
   "source": [
    "data.loc[:\"Utah\", \"two\"]\n",
    "data.iloc[:, :3][data.three > 5]"
   ]
  },
  {
   "cell_type": "code",
<<<<<<< HEAD
   "execution_count": 69,
   "metadata": {},
   "outputs": [],
=======
   "execution_count": 219,
   "metadata": {},
   "outputs": [
    {
     "data": {
      "text/html": [
       "<div>\n",
       "<style scoped>\n",
       "    .dataframe tbody tr th:only-of-type {\n",
       "        vertical-align: middle;\n",
       "    }\n",
       "\n",
       "    .dataframe tbody tr th {\n",
       "        vertical-align: top;\n",
       "    }\n",
       "\n",
       "    .dataframe thead th {\n",
       "        text-align: right;\n",
       "    }\n",
       "</style>\n",
       "<table border=\"1\" class=\"dataframe\">\n",
       "  <thead>\n",
       "    <tr style=\"text-align: right;\">\n",
       "      <th></th>\n",
       "      <th>one</th>\n",
       "      <th>two</th>\n",
       "      <th>three</th>\n",
       "      <th>four</th>\n",
       "    </tr>\n",
       "  </thead>\n",
       "  <tbody>\n",
       "    <tr>\n",
       "      <th>Colorado</th>\n",
       "      <td>0</td>\n",
       "      <td>5</td>\n",
       "      <td>6</td>\n",
       "      <td>7</td>\n",
       "    </tr>\n",
       "    <tr>\n",
       "      <th>Utah</th>\n",
       "      <td>8</td>\n",
       "      <td>9</td>\n",
       "      <td>10</td>\n",
       "      <td>11</td>\n",
       "    </tr>\n",
       "    <tr>\n",
       "      <th>New York</th>\n",
       "      <td>12</td>\n",
       "      <td>13</td>\n",
       "      <td>14</td>\n",
       "      <td>15</td>\n",
       "    </tr>\n",
       "  </tbody>\n",
       "</table>\n",
       "</div>"
      ],
      "text/plain": [
       "          one  two  three  four\n",
       "Colorado    0    5      6     7\n",
       "Utah        8    9     10    11\n",
       "New York   12   13     14    15"
      ]
     },
     "execution_count": 219,
     "metadata": {},
     "output_type": "execute_result"
    }
   ],
>>>>>>> 6516124a7bc59f03e3d305b96c38cf89e11dee6a
   "source": [
    "data.loc[data.three >= 2]"
   ]
  },
  {
   "cell_type": "code",
<<<<<<< HEAD
   "execution_count": 70,
   "metadata": {},
   "outputs": [],
=======
   "execution_count": 421,
   "metadata": {},
   "outputs": [
    {
     "ename": "KeyError",
     "evalue": "-1",
     "output_type": "error",
     "traceback": [
      "\u001b[1;31m---------------------------------------------------------------------------\u001b[0m",
      "\u001b[1;31mValueError\u001b[0m                                Traceback (most recent call last)",
      "File \u001b[1;32m~\\Desktop\\python_basic_3\\venv\\Lib\\site-packages\\pandas\\core\\indexes\\range.py:413\u001b[0m, in \u001b[0;36mRangeIndex.get_loc\u001b[1;34m(self, key)\u001b[0m\n\u001b[0;32m    412\u001b[0m \u001b[38;5;28;01mtry\u001b[39;00m:\n\u001b[1;32m--> 413\u001b[0m     \u001b[38;5;28;01mreturn\u001b[39;00m \u001b[38;5;28;43mself\u001b[39;49m\u001b[38;5;241;43m.\u001b[39;49m\u001b[43m_range\u001b[49m\u001b[38;5;241;43m.\u001b[39;49m\u001b[43mindex\u001b[49m\u001b[43m(\u001b[49m\u001b[43mnew_key\u001b[49m\u001b[43m)\u001b[49m\n\u001b[0;32m    414\u001b[0m \u001b[38;5;28;01mexcept\u001b[39;00m \u001b[38;5;167;01mValueError\u001b[39;00m \u001b[38;5;28;01mas\u001b[39;00m err:\n",
      "\u001b[1;31mValueError\u001b[0m: -1 is not in range",
      "\nThe above exception was the direct cause of the following exception:\n",
      "\u001b[1;31mKeyError\u001b[0m                                  Traceback (most recent call last)",
      "Cell \u001b[1;32mIn[421], line 3\u001b[0m\n\u001b[0;32m      1\u001b[0m ser \u001b[38;5;241m=\u001b[39m pd\u001b[38;5;241m.\u001b[39mSeries(np\u001b[38;5;241m.\u001b[39marange(\u001b[38;5;241m3.\u001b[39m))\n\u001b[0;32m      2\u001b[0m ser\n\u001b[1;32m----> 3\u001b[0m \u001b[43mser\u001b[49m\u001b[43m[\u001b[49m\u001b[38;5;241;43m-\u001b[39;49m\u001b[38;5;241;43m1\u001b[39;49m\u001b[43m]\u001b[49m\n",
      "File \u001b[1;32m~\\Desktop\\python_basic_3\\venv\\Lib\\site-packages\\pandas\\core\\series.py:1112\u001b[0m, in \u001b[0;36mSeries.__getitem__\u001b[1;34m(self, key)\u001b[0m\n\u001b[0;32m   1109\u001b[0m     \u001b[38;5;28;01mreturn\u001b[39;00m \u001b[38;5;28mself\u001b[39m\u001b[38;5;241m.\u001b[39m_values[key]\n\u001b[0;32m   1111\u001b[0m \u001b[38;5;28;01melif\u001b[39;00m key_is_scalar:\n\u001b[1;32m-> 1112\u001b[0m     \u001b[38;5;28;01mreturn\u001b[39;00m \u001b[38;5;28;43mself\u001b[39;49m\u001b[38;5;241;43m.\u001b[39;49m\u001b[43m_get_value\u001b[49m\u001b[43m(\u001b[49m\u001b[43mkey\u001b[49m\u001b[43m)\u001b[49m\n\u001b[0;32m   1114\u001b[0m \u001b[38;5;66;03m# Convert generator to list before going through hashable part\u001b[39;00m\n\u001b[0;32m   1115\u001b[0m \u001b[38;5;66;03m# (We will iterate through the generator there to check for slices)\u001b[39;00m\n\u001b[0;32m   1116\u001b[0m \u001b[38;5;28;01mif\u001b[39;00m is_iterator(key):\n",
      "File \u001b[1;32m~\\Desktop\\python_basic_3\\venv\\Lib\\site-packages\\pandas\\core\\series.py:1228\u001b[0m, in \u001b[0;36mSeries._get_value\u001b[1;34m(self, label, takeable)\u001b[0m\n\u001b[0;32m   1225\u001b[0m     \u001b[38;5;28;01mreturn\u001b[39;00m \u001b[38;5;28mself\u001b[39m\u001b[38;5;241m.\u001b[39m_values[label]\n\u001b[0;32m   1227\u001b[0m \u001b[38;5;66;03m# Similar to Index.get_value, but we do not fall back to positional\u001b[39;00m\n\u001b[1;32m-> 1228\u001b[0m loc \u001b[38;5;241m=\u001b[39m \u001b[38;5;28;43mself\u001b[39;49m\u001b[38;5;241;43m.\u001b[39;49m\u001b[43mindex\u001b[49m\u001b[38;5;241;43m.\u001b[39;49m\u001b[43mget_loc\u001b[49m\u001b[43m(\u001b[49m\u001b[43mlabel\u001b[49m\u001b[43m)\u001b[49m\n\u001b[0;32m   1230\u001b[0m \u001b[38;5;28;01mif\u001b[39;00m is_integer(loc):\n\u001b[0;32m   1231\u001b[0m     \u001b[38;5;28;01mreturn\u001b[39;00m \u001b[38;5;28mself\u001b[39m\u001b[38;5;241m.\u001b[39m_values[loc]\n",
      "File \u001b[1;32m~\\Desktop\\python_basic_3\\venv\\Lib\\site-packages\\pandas\\core\\indexes\\range.py:415\u001b[0m, in \u001b[0;36mRangeIndex.get_loc\u001b[1;34m(self, key)\u001b[0m\n\u001b[0;32m    413\u001b[0m         \u001b[38;5;28;01mreturn\u001b[39;00m \u001b[38;5;28mself\u001b[39m\u001b[38;5;241m.\u001b[39m_range\u001b[38;5;241m.\u001b[39mindex(new_key)\n\u001b[0;32m    414\u001b[0m     \u001b[38;5;28;01mexcept\u001b[39;00m \u001b[38;5;167;01mValueError\u001b[39;00m \u001b[38;5;28;01mas\u001b[39;00m err:\n\u001b[1;32m--> 415\u001b[0m         \u001b[38;5;28;01mraise\u001b[39;00m \u001b[38;5;167;01mKeyError\u001b[39;00m(key) \u001b[38;5;28;01mfrom\u001b[39;00m \u001b[38;5;21;01merr\u001b[39;00m\n\u001b[0;32m    416\u001b[0m \u001b[38;5;28;01mif\u001b[39;00m \u001b[38;5;28misinstance\u001b[39m(key, Hashable):\n\u001b[0;32m    417\u001b[0m     \u001b[38;5;28;01mraise\u001b[39;00m \u001b[38;5;167;01mKeyError\u001b[39;00m(key)\n",
      "\u001b[1;31mKeyError\u001b[0m: -1"
     ]
    }
   ],
>>>>>>> 6516124a7bc59f03e3d305b96c38cf89e11dee6a
   "source": [
    "ser = pd.Series(np.arange(3.))\n",
    "ser\n",
    "ser[-1]"
   ]
  },
  {
   "cell_type": "code",
<<<<<<< HEAD
   "execution_count": 71,
   "metadata": {},
   "outputs": [],
=======
   "execution_count": 221,
   "metadata": {},
   "outputs": [
    {
     "data": {
      "text/plain": [
       "0    0.0\n",
       "1    1.0\n",
       "2    2.0\n",
       "dtype: float64"
      ]
     },
     "execution_count": 221,
     "metadata": {},
     "output_type": "execute_result"
    }
   ],
>>>>>>> 6516124a7bc59f03e3d305b96c38cf89e11dee6a
   "source": [
    "ser"
   ]
  },
  {
   "cell_type": "code",
<<<<<<< HEAD
   "execution_count": 72,
   "metadata": {},
   "outputs": [],
=======
   "execution_count": 222,
   "metadata": {},
   "outputs": [
    {
     "name": "stderr",
     "output_type": "stream",
     "text": [
      "C:\\Users\\t0108\\AppData\\Local\\Temp\\ipykernel_65180\\821879068.py:2: FutureWarning: Series.__getitem__ treating keys as positions is deprecated. In a future version, integer keys will always be treated as labels (consistent with DataFrame behavior). To access a value by position, use `ser.iloc[pos]`\n",
      "  ser2[-1]\n"
     ]
    },
    {
     "data": {
      "text/plain": [
       "2.0"
      ]
     },
     "execution_count": 222,
     "metadata": {},
     "output_type": "execute_result"
    }
   ],
>>>>>>> 6516124a7bc59f03e3d305b96c38cf89e11dee6a
   "source": [
    "ser2 = pd.Series(np.arange(3.), index=[\"a\", \"b\", \"c\"])\n",
    "ser2[-1]"
   ]
  },
  {
   "cell_type": "code",
<<<<<<< HEAD
   "execution_count": 73,
   "metadata": {},
   "outputs": [],
=======
   "execution_count": 223,
   "metadata": {},
   "outputs": [
    {
     "data": {
      "text/plain": [
       "2.0"
      ]
     },
     "execution_count": 223,
     "metadata": {},
     "output_type": "execute_result"
    }
   ],
>>>>>>> 6516124a7bc59f03e3d305b96c38cf89e11dee6a
   "source": [
    "ser.iloc[-1]"
   ]
  },
  {
   "cell_type": "code",
<<<<<<< HEAD
   "execution_count": 74,
   "metadata": {},
   "outputs": [],
=======
   "execution_count": 224,
   "metadata": {},
   "outputs": [
    {
     "data": {
      "text/plain": [
       "0    0.0\n",
       "1    1.0\n",
       "dtype: float64"
      ]
     },
     "execution_count": 224,
     "metadata": {},
     "output_type": "execute_result"
    }
   ],
>>>>>>> 6516124a7bc59f03e3d305b96c38cf89e11dee6a
   "source": [
    "ser[:2]"
   ]
  },
  {
   "cell_type": "code",
<<<<<<< HEAD
   "execution_count": 75,
   "metadata": {},
   "outputs": [],
=======
   "execution_count": 225,
   "metadata": {},
   "outputs": [
    {
     "data": {
      "text/html": [
       "<div>\n",
       "<style scoped>\n",
       "    .dataframe tbody tr th:only-of-type {\n",
       "        vertical-align: middle;\n",
       "    }\n",
       "\n",
       "    .dataframe tbody tr th {\n",
       "        vertical-align: top;\n",
       "    }\n",
       "\n",
       "    .dataframe thead th {\n",
       "        text-align: right;\n",
       "    }\n",
       "</style>\n",
       "<table border=\"1\" class=\"dataframe\">\n",
       "  <thead>\n",
       "    <tr style=\"text-align: right;\">\n",
       "      <th></th>\n",
       "      <th>one</th>\n",
       "      <th>two</th>\n",
       "      <th>three</th>\n",
       "      <th>four</th>\n",
       "    </tr>\n",
       "  </thead>\n",
       "  <tbody>\n",
       "    <tr>\n",
       "      <th>Ohio</th>\n",
       "      <td>1</td>\n",
       "      <td>0</td>\n",
       "      <td>0</td>\n",
       "      <td>0</td>\n",
       "    </tr>\n",
       "    <tr>\n",
       "      <th>Colorado</th>\n",
       "      <td>3</td>\n",
       "      <td>3</td>\n",
       "      <td>3</td>\n",
       "      <td>3</td>\n",
       "    </tr>\n",
       "    <tr>\n",
       "      <th>Utah</th>\n",
       "      <td>5</td>\n",
       "      <td>5</td>\n",
       "      <td>5</td>\n",
       "      <td>5</td>\n",
       "    </tr>\n",
       "    <tr>\n",
       "      <th>New York</th>\n",
       "      <td>3</td>\n",
       "      <td>3</td>\n",
       "      <td>3</td>\n",
       "      <td>3</td>\n",
       "    </tr>\n",
       "  </tbody>\n",
       "</table>\n",
       "</div>"
      ],
      "text/plain": [
       "          one  two  three  four\n",
       "Ohio        1    0      0     0\n",
       "Colorado    3    3      3     3\n",
       "Utah        5    5      5     5\n",
       "New York    3    3      3     3"
      ]
     },
     "execution_count": 225,
     "metadata": {},
     "output_type": "execute_result"
    }
   ],
>>>>>>> 6516124a7bc59f03e3d305b96c38cf89e11dee6a
   "source": [
    "data.loc[:, \"one\"] = 1\n",
    "data\n",
    "data.iloc[2] = 5\n",
    "data\n",
    "data.loc[data[\"four\"] > 5] = 3\n",
    "data"
   ]
  },
  {
   "cell_type": "code",
<<<<<<< HEAD
   "execution_count": 76,
   "metadata": {},
   "outputs": [],
=======
   "execution_count": 226,
   "metadata": {},
   "outputs": [
    {
     "name": "stderr",
     "output_type": "stream",
     "text": [
      "C:\\Users\\t0108\\AppData\\Local\\Temp\\ipykernel_65180\\867481848.py:1: SettingWithCopyWarning: \n",
      "A value is trying to be set on a copy of a slice from a DataFrame.\n",
      "Try using .loc[row_indexer,col_indexer] = value instead\n",
      "\n",
      "See the caveats in the documentation: https://pandas.pydata.org/pandas-docs/stable/user_guide/indexing.html#returning-a-view-versus-a-copy\n",
      "  data.loc[data.three == 5][\"three\"] = 6\n"
     ]
    }
   ],
>>>>>>> 6516124a7bc59f03e3d305b96c38cf89e11dee6a
   "source": [
    "data.loc[data.three == 5][\"three\"] = 6"
   ]
  },
  {
   "cell_type": "code",
<<<<<<< HEAD
   "execution_count": 77,
   "metadata": {},
   "outputs": [],
=======
   "execution_count": 227,
   "metadata": {},
   "outputs": [
    {
     "data": {
      "text/html": [
       "<div>\n",
       "<style scoped>\n",
       "    .dataframe tbody tr th:only-of-type {\n",
       "        vertical-align: middle;\n",
       "    }\n",
       "\n",
       "    .dataframe tbody tr th {\n",
       "        vertical-align: top;\n",
       "    }\n",
       "\n",
       "    .dataframe thead th {\n",
       "        text-align: right;\n",
       "    }\n",
       "</style>\n",
       "<table border=\"1\" class=\"dataframe\">\n",
       "  <thead>\n",
       "    <tr style=\"text-align: right;\">\n",
       "      <th></th>\n",
       "      <th>one</th>\n",
       "      <th>two</th>\n",
       "      <th>three</th>\n",
       "      <th>four</th>\n",
       "    </tr>\n",
       "  </thead>\n",
       "  <tbody>\n",
       "    <tr>\n",
       "      <th>Ohio</th>\n",
       "      <td>1</td>\n",
       "      <td>0</td>\n",
       "      <td>0</td>\n",
       "      <td>0</td>\n",
       "    </tr>\n",
       "    <tr>\n",
       "      <th>Colorado</th>\n",
       "      <td>3</td>\n",
       "      <td>3</td>\n",
       "      <td>3</td>\n",
       "      <td>3</td>\n",
       "    </tr>\n",
       "    <tr>\n",
       "      <th>Utah</th>\n",
       "      <td>5</td>\n",
       "      <td>5</td>\n",
       "      <td>5</td>\n",
       "      <td>5</td>\n",
       "    </tr>\n",
       "    <tr>\n",
       "      <th>New York</th>\n",
       "      <td>3</td>\n",
       "      <td>3</td>\n",
       "      <td>3</td>\n",
       "      <td>3</td>\n",
       "    </tr>\n",
       "  </tbody>\n",
       "</table>\n",
       "</div>"
      ],
      "text/plain": [
       "          one  two  three  four\n",
       "Ohio        1    0      0     0\n",
       "Colorado    3    3      3     3\n",
       "Utah        5    5      5     5\n",
       "New York    3    3      3     3"
      ]
     },
     "execution_count": 227,
     "metadata": {},
     "output_type": "execute_result"
    }
   ],
>>>>>>> 6516124a7bc59f03e3d305b96c38cf89e11dee6a
   "source": [
    "data"
   ]
  },
  {
   "cell_type": "code",
<<<<<<< HEAD
   "execution_count": 78,
   "metadata": {},
   "outputs": [],
=======
   "execution_count": 228,
   "metadata": {},
   "outputs": [
    {
     "data": {
      "text/html": [
       "<div>\n",
       "<style scoped>\n",
       "    .dataframe tbody tr th:only-of-type {\n",
       "        vertical-align: middle;\n",
       "    }\n",
       "\n",
       "    .dataframe tbody tr th {\n",
       "        vertical-align: top;\n",
       "    }\n",
       "\n",
       "    .dataframe thead th {\n",
       "        text-align: right;\n",
       "    }\n",
       "</style>\n",
       "<table border=\"1\" class=\"dataframe\">\n",
       "  <thead>\n",
       "    <tr style=\"text-align: right;\">\n",
       "      <th></th>\n",
       "      <th>one</th>\n",
       "      <th>two</th>\n",
       "      <th>three</th>\n",
       "      <th>four</th>\n",
       "    </tr>\n",
       "  </thead>\n",
       "  <tbody>\n",
       "    <tr>\n",
       "      <th>Ohio</th>\n",
       "      <td>1</td>\n",
       "      <td>0</td>\n",
       "      <td>0</td>\n",
       "      <td>0</td>\n",
       "    </tr>\n",
       "    <tr>\n",
       "      <th>Colorado</th>\n",
       "      <td>3</td>\n",
       "      <td>3</td>\n",
       "      <td>3</td>\n",
       "      <td>3</td>\n",
       "    </tr>\n",
       "    <tr>\n",
       "      <th>Utah</th>\n",
       "      <td>5</td>\n",
       "      <td>5</td>\n",
       "      <td>6</td>\n",
       "      <td>5</td>\n",
       "    </tr>\n",
       "    <tr>\n",
       "      <th>New York</th>\n",
       "      <td>3</td>\n",
       "      <td>3</td>\n",
       "      <td>3</td>\n",
       "      <td>3</td>\n",
       "    </tr>\n",
       "  </tbody>\n",
       "</table>\n",
       "</div>"
      ],
      "text/plain": [
       "          one  two  three  four\n",
       "Ohio        1    0      0     0\n",
       "Colorado    3    3      3     3\n",
       "Utah        5    5      6     5\n",
       "New York    3    3      3     3"
      ]
     },
     "execution_count": 228,
     "metadata": {},
     "output_type": "execute_result"
    }
   ],
>>>>>>> 6516124a7bc59f03e3d305b96c38cf89e11dee6a
   "source": [
    "data.loc[data.three == 5, \"three\"] = 6\n",
    "data"
   ]
  },
  {
   "cell_type": "code",
<<<<<<< HEAD
   "execution_count": 79,
   "metadata": {},
   "outputs": [],
=======
   "execution_count": 229,
   "metadata": {},
   "outputs": [
    {
     "data": {
      "text/plain": [
       "a   -2.1\n",
       "c    3.6\n",
       "e   -1.5\n",
       "f    4.0\n",
       "g    3.1\n",
       "dtype: float64"
      ]
     },
     "execution_count": 229,
     "metadata": {},
     "output_type": "execute_result"
    }
   ],
>>>>>>> 6516124a7bc59f03e3d305b96c38cf89e11dee6a
   "source": [
    "s1 = pd.Series([7.3, -2.5, 3.4, 1.5], index=[\"a\", \"c\", \"d\", \"e\"])\n",
    "s2 = pd.Series([-2.1, 3.6, -1.5, 4, 3.1],\n",
    "               index=[\"a\", \"c\", \"e\", \"f\", \"g\"])\n",
    "s1\n",
    "s2"
   ]
  },
  {
   "cell_type": "code",
<<<<<<< HEAD
   "execution_count": 80,
   "metadata": {},
   "outputs": [],
=======
   "execution_count": 230,
   "metadata": {},
   "outputs": [
    {
     "data": {
      "text/plain": [
       "a    5.2\n",
       "c    1.1\n",
       "d    NaN\n",
       "e    0.0\n",
       "f    NaN\n",
       "g    NaN\n",
       "dtype: float64"
      ]
     },
     "execution_count": 230,
     "metadata": {},
     "output_type": "execute_result"
    }
   ],
>>>>>>> 6516124a7bc59f03e3d305b96c38cf89e11dee6a
   "source": [
    "s1 + s2"
   ]
  },
  {
   "cell_type": "code",
<<<<<<< HEAD
   "execution_count": 81,
   "metadata": {},
   "outputs": [],
=======
   "execution_count": 231,
   "metadata": {},
   "outputs": [
    {
     "data": {
      "text/html": [
       "<div>\n",
       "<style scoped>\n",
       "    .dataframe tbody tr th:only-of-type {\n",
       "        vertical-align: middle;\n",
       "    }\n",
       "\n",
       "    .dataframe tbody tr th {\n",
       "        vertical-align: top;\n",
       "    }\n",
       "\n",
       "    .dataframe thead th {\n",
       "        text-align: right;\n",
       "    }\n",
       "</style>\n",
       "<table border=\"1\" class=\"dataframe\">\n",
       "  <thead>\n",
       "    <tr style=\"text-align: right;\">\n",
       "      <th></th>\n",
       "      <th>b</th>\n",
       "      <th>d</th>\n",
       "      <th>e</th>\n",
       "    </tr>\n",
       "  </thead>\n",
       "  <tbody>\n",
       "    <tr>\n",
       "      <th>Utah</th>\n",
       "      <td>0.0</td>\n",
       "      <td>1.0</td>\n",
       "      <td>2.0</td>\n",
       "    </tr>\n",
       "    <tr>\n",
       "      <th>Ohio</th>\n",
       "      <td>3.0</td>\n",
       "      <td>4.0</td>\n",
       "      <td>5.0</td>\n",
       "    </tr>\n",
       "    <tr>\n",
       "      <th>Texas</th>\n",
       "      <td>6.0</td>\n",
       "      <td>7.0</td>\n",
       "      <td>8.0</td>\n",
       "    </tr>\n",
       "    <tr>\n",
       "      <th>Oregon</th>\n",
       "      <td>9.0</td>\n",
       "      <td>10.0</td>\n",
       "      <td>11.0</td>\n",
       "    </tr>\n",
       "  </tbody>\n",
       "</table>\n",
       "</div>"
      ],
      "text/plain": [
       "          b     d     e\n",
       "Utah    0.0   1.0   2.0\n",
       "Ohio    3.0   4.0   5.0\n",
       "Texas   6.0   7.0   8.0\n",
       "Oregon  9.0  10.0  11.0"
      ]
     },
     "execution_count": 231,
     "metadata": {},
     "output_type": "execute_result"
    }
   ],
>>>>>>> 6516124a7bc59f03e3d305b96c38cf89e11dee6a
   "source": [
    "df1 = pd.DataFrame(np.arange(9.).reshape((3, 3)), columns=list(\"bcd\"),\n",
    "                   index=[\"Ohio\", \"Texas\", \"Colorado\"])\n",
    "df2 = pd.DataFrame(np.arange(12.).reshape((4, 3)), columns=list(\"bde\"),\n",
    "                   index=[\"Utah\", \"Ohio\", \"Texas\", \"Oregon\"])\n",
    "df1\n",
    "df2"
   ]
  },
  {
   "cell_type": "code",
<<<<<<< HEAD
   "execution_count": 82,
   "metadata": {},
   "outputs": [],
=======
   "execution_count": 232,
   "metadata": {},
   "outputs": [
    {
     "data": {
      "text/html": [
       "<div>\n",
       "<style scoped>\n",
       "    .dataframe tbody tr th:only-of-type {\n",
       "        vertical-align: middle;\n",
       "    }\n",
       "\n",
       "    .dataframe tbody tr th {\n",
       "        vertical-align: top;\n",
       "    }\n",
       "\n",
       "    .dataframe thead th {\n",
       "        text-align: right;\n",
       "    }\n",
       "</style>\n",
       "<table border=\"1\" class=\"dataframe\">\n",
       "  <thead>\n",
       "    <tr style=\"text-align: right;\">\n",
       "      <th></th>\n",
       "      <th>b</th>\n",
       "      <th>c</th>\n",
       "      <th>d</th>\n",
       "      <th>e</th>\n",
       "    </tr>\n",
       "  </thead>\n",
       "  <tbody>\n",
       "    <tr>\n",
       "      <th>Colorado</th>\n",
       "      <td>NaN</td>\n",
       "      <td>NaN</td>\n",
       "      <td>NaN</td>\n",
       "      <td>NaN</td>\n",
       "    </tr>\n",
       "    <tr>\n",
       "      <th>Ohio</th>\n",
       "      <td>3.0</td>\n",
       "      <td>NaN</td>\n",
       "      <td>6.0</td>\n",
       "      <td>NaN</td>\n",
       "    </tr>\n",
       "    <tr>\n",
       "      <th>Oregon</th>\n",
       "      <td>NaN</td>\n",
       "      <td>NaN</td>\n",
       "      <td>NaN</td>\n",
       "      <td>NaN</td>\n",
       "    </tr>\n",
       "    <tr>\n",
       "      <th>Texas</th>\n",
       "      <td>9.0</td>\n",
       "      <td>NaN</td>\n",
       "      <td>12.0</td>\n",
       "      <td>NaN</td>\n",
       "    </tr>\n",
       "    <tr>\n",
       "      <th>Utah</th>\n",
       "      <td>NaN</td>\n",
       "      <td>NaN</td>\n",
       "      <td>NaN</td>\n",
       "      <td>NaN</td>\n",
       "    </tr>\n",
       "  </tbody>\n",
       "</table>\n",
       "</div>"
      ],
      "text/plain": [
       "            b   c     d   e\n",
       "Colorado  NaN NaN   NaN NaN\n",
       "Ohio      3.0 NaN   6.0 NaN\n",
       "Oregon    NaN NaN   NaN NaN\n",
       "Texas     9.0 NaN  12.0 NaN\n",
       "Utah      NaN NaN   NaN NaN"
      ]
     },
     "execution_count": 232,
     "metadata": {},
     "output_type": "execute_result"
    }
   ],
>>>>>>> 6516124a7bc59f03e3d305b96c38cf89e11dee6a
   "source": [
    "df1 + df2"
   ]
  },
  {
   "cell_type": "code",
<<<<<<< HEAD
   "execution_count": 83,
   "metadata": {},
   "outputs": [],
=======
   "execution_count": 233,
   "metadata": {},
   "outputs": [
    {
     "data": {
      "text/html": [
       "<div>\n",
       "<style scoped>\n",
       "    .dataframe tbody tr th:only-of-type {\n",
       "        vertical-align: middle;\n",
       "    }\n",
       "\n",
       "    .dataframe tbody tr th {\n",
       "        vertical-align: top;\n",
       "    }\n",
       "\n",
       "    .dataframe thead th {\n",
       "        text-align: right;\n",
       "    }\n",
       "</style>\n",
       "<table border=\"1\" class=\"dataframe\">\n",
       "  <thead>\n",
       "    <tr style=\"text-align: right;\">\n",
       "      <th></th>\n",
       "      <th>A</th>\n",
       "      <th>B</th>\n",
       "    </tr>\n",
       "  </thead>\n",
       "  <tbody>\n",
       "    <tr>\n",
       "      <th>0</th>\n",
       "      <td>NaN</td>\n",
       "      <td>NaN</td>\n",
       "    </tr>\n",
       "    <tr>\n",
       "      <th>1</th>\n",
       "      <td>NaN</td>\n",
       "      <td>NaN</td>\n",
       "    </tr>\n",
       "  </tbody>\n",
       "</table>\n",
       "</div>"
      ],
      "text/plain": [
       "    A   B\n",
       "0 NaN NaN\n",
       "1 NaN NaN"
      ]
     },
     "execution_count": 233,
     "metadata": {},
     "output_type": "execute_result"
    }
   ],
>>>>>>> 6516124a7bc59f03e3d305b96c38cf89e11dee6a
   "source": [
    "df1 = pd.DataFrame({\"A\": [1, 2]})\n",
    "df2 = pd.DataFrame({\"B\": [3, 4]})\n",
    "df1\n",
    "df2\n",
    "df1 + df2"
   ]
  },
  {
   "cell_type": "code",
<<<<<<< HEAD
   "execution_count": 84,
   "metadata": {},
   "outputs": [],
=======
   "execution_count": 234,
   "metadata": {},
   "outputs": [
    {
     "data": {
      "text/html": [
       "<div>\n",
       "<style scoped>\n",
       "    .dataframe tbody tr th:only-of-type {\n",
       "        vertical-align: middle;\n",
       "    }\n",
       "\n",
       "    .dataframe tbody tr th {\n",
       "        vertical-align: top;\n",
       "    }\n",
       "\n",
       "    .dataframe thead th {\n",
       "        text-align: right;\n",
       "    }\n",
       "</style>\n",
       "<table border=\"1\" class=\"dataframe\">\n",
       "  <thead>\n",
       "    <tr style=\"text-align: right;\">\n",
       "      <th></th>\n",
       "      <th>a</th>\n",
       "      <th>b</th>\n",
       "      <th>c</th>\n",
       "      <th>d</th>\n",
       "      <th>e</th>\n",
       "    </tr>\n",
       "  </thead>\n",
       "  <tbody>\n",
       "    <tr>\n",
       "      <th>0</th>\n",
       "      <td>0.0</td>\n",
       "      <td>1.0</td>\n",
       "      <td>2.0</td>\n",
       "      <td>3.0</td>\n",
       "      <td>4.0</td>\n",
       "    </tr>\n",
       "    <tr>\n",
       "      <th>1</th>\n",
       "      <td>5.0</td>\n",
       "      <td>NaN</td>\n",
       "      <td>7.0</td>\n",
       "      <td>8.0</td>\n",
       "      <td>9.0</td>\n",
       "    </tr>\n",
       "    <tr>\n",
       "      <th>2</th>\n",
       "      <td>10.0</td>\n",
       "      <td>11.0</td>\n",
       "      <td>12.0</td>\n",
       "      <td>13.0</td>\n",
       "      <td>14.0</td>\n",
       "    </tr>\n",
       "    <tr>\n",
       "      <th>3</th>\n",
       "      <td>15.0</td>\n",
       "      <td>16.0</td>\n",
       "      <td>17.0</td>\n",
       "      <td>18.0</td>\n",
       "      <td>19.0</td>\n",
       "    </tr>\n",
       "  </tbody>\n",
       "</table>\n",
       "</div>"
      ],
      "text/plain": [
       "      a     b     c     d     e\n",
       "0   0.0   1.0   2.0   3.0   4.0\n",
       "1   5.0   NaN   7.0   8.0   9.0\n",
       "2  10.0  11.0  12.0  13.0  14.0\n",
       "3  15.0  16.0  17.0  18.0  19.0"
      ]
     },
     "execution_count": 234,
     "metadata": {},
     "output_type": "execute_result"
    }
   ],
>>>>>>> 6516124a7bc59f03e3d305b96c38cf89e11dee6a
   "source": [
    "df1 = pd.DataFrame(np.arange(12.).reshape((3, 4)),\n",
    "                   columns=list(\"abcd\"))\n",
    "df2 = pd.DataFrame(np.arange(20.).reshape((4, 5)),\n",
    "                   columns=list(\"abcde\"))\n",
    "df2.loc[1, \"b\"] = np.nan\n",
    "df1\n",
    "df2"
   ]
  },
  {
   "cell_type": "code",
<<<<<<< HEAD
   "execution_count": 85,
   "metadata": {},
   "outputs": [],
=======
   "execution_count": 235,
   "metadata": {},
   "outputs": [
    {
     "data": {
      "text/html": [
       "<div>\n",
       "<style scoped>\n",
       "    .dataframe tbody tr th:only-of-type {\n",
       "        vertical-align: middle;\n",
       "    }\n",
       "\n",
       "    .dataframe tbody tr th {\n",
       "        vertical-align: top;\n",
       "    }\n",
       "\n",
       "    .dataframe thead th {\n",
       "        text-align: right;\n",
       "    }\n",
       "</style>\n",
       "<table border=\"1\" class=\"dataframe\">\n",
       "  <thead>\n",
       "    <tr style=\"text-align: right;\">\n",
       "      <th></th>\n",
       "      <th>a</th>\n",
       "      <th>b</th>\n",
       "      <th>c</th>\n",
       "      <th>d</th>\n",
       "      <th>e</th>\n",
       "    </tr>\n",
       "  </thead>\n",
       "  <tbody>\n",
       "    <tr>\n",
       "      <th>0</th>\n",
       "      <td>0.0</td>\n",
       "      <td>2.0</td>\n",
       "      <td>4.0</td>\n",
       "      <td>6.0</td>\n",
       "      <td>NaN</td>\n",
       "    </tr>\n",
       "    <tr>\n",
       "      <th>1</th>\n",
       "      <td>9.0</td>\n",
       "      <td>NaN</td>\n",
       "      <td>13.0</td>\n",
       "      <td>15.0</td>\n",
       "      <td>NaN</td>\n",
       "    </tr>\n",
       "    <tr>\n",
       "      <th>2</th>\n",
       "      <td>18.0</td>\n",
       "      <td>20.0</td>\n",
       "      <td>22.0</td>\n",
       "      <td>24.0</td>\n",
       "      <td>NaN</td>\n",
       "    </tr>\n",
       "    <tr>\n",
       "      <th>3</th>\n",
       "      <td>NaN</td>\n",
       "      <td>NaN</td>\n",
       "      <td>NaN</td>\n",
       "      <td>NaN</td>\n",
       "      <td>NaN</td>\n",
       "    </tr>\n",
       "  </tbody>\n",
       "</table>\n",
       "</div>"
      ],
      "text/plain": [
       "      a     b     c     d   e\n",
       "0   0.0   2.0   4.0   6.0 NaN\n",
       "1   9.0   NaN  13.0  15.0 NaN\n",
       "2  18.0  20.0  22.0  24.0 NaN\n",
       "3   NaN   NaN   NaN   NaN NaN"
      ]
     },
     "execution_count": 235,
     "metadata": {},
     "output_type": "execute_result"
    }
   ],
>>>>>>> 6516124a7bc59f03e3d305b96c38cf89e11dee6a
   "source": [
    "df1 + df2"
   ]
  },
  {
   "cell_type": "code",
<<<<<<< HEAD
   "execution_count": 86,
   "metadata": {},
   "outputs": [],
=======
   "execution_count": 236,
   "metadata": {},
   "outputs": [
    {
     "data": {
      "text/html": [
       "<div>\n",
       "<style scoped>\n",
       "    .dataframe tbody tr th:only-of-type {\n",
       "        vertical-align: middle;\n",
       "    }\n",
       "\n",
       "    .dataframe tbody tr th {\n",
       "        vertical-align: top;\n",
       "    }\n",
       "\n",
       "    .dataframe thead th {\n",
       "        text-align: right;\n",
       "    }\n",
       "</style>\n",
       "<table border=\"1\" class=\"dataframe\">\n",
       "  <thead>\n",
       "    <tr style=\"text-align: right;\">\n",
       "      <th></th>\n",
       "      <th>a</th>\n",
       "      <th>b</th>\n",
       "      <th>c</th>\n",
       "      <th>d</th>\n",
       "      <th>e</th>\n",
       "    </tr>\n",
       "  </thead>\n",
       "  <tbody>\n",
       "    <tr>\n",
       "      <th>0</th>\n",
       "      <td>0.0</td>\n",
       "      <td>2.0</td>\n",
       "      <td>4.0</td>\n",
       "      <td>6.0</td>\n",
       "      <td>4.0</td>\n",
       "    </tr>\n",
       "    <tr>\n",
       "      <th>1</th>\n",
       "      <td>9.0</td>\n",
       "      <td>5.0</td>\n",
       "      <td>13.0</td>\n",
       "      <td>15.0</td>\n",
       "      <td>9.0</td>\n",
       "    </tr>\n",
       "    <tr>\n",
       "      <th>2</th>\n",
       "      <td>18.0</td>\n",
       "      <td>20.0</td>\n",
       "      <td>22.0</td>\n",
       "      <td>24.0</td>\n",
       "      <td>14.0</td>\n",
       "    </tr>\n",
       "    <tr>\n",
       "      <th>3</th>\n",
       "      <td>15.0</td>\n",
       "      <td>16.0</td>\n",
       "      <td>17.0</td>\n",
       "      <td>18.0</td>\n",
       "      <td>19.0</td>\n",
       "    </tr>\n",
       "  </tbody>\n",
       "</table>\n",
       "</div>"
      ],
      "text/plain": [
       "      a     b     c     d     e\n",
       "0   0.0   2.0   4.0   6.0   4.0\n",
       "1   9.0   5.0  13.0  15.0   9.0\n",
       "2  18.0  20.0  22.0  24.0  14.0\n",
       "3  15.0  16.0  17.0  18.0  19.0"
      ]
     },
     "execution_count": 236,
     "metadata": {},
     "output_type": "execute_result"
    }
   ],
>>>>>>> 6516124a7bc59f03e3d305b96c38cf89e11dee6a
   "source": [
    "df1.add(df2, fill_value=0)"
   ]
  },
  {
   "cell_type": "code",
<<<<<<< HEAD
   "execution_count": 87,
   "metadata": {},
   "outputs": [],
=======
   "execution_count": 237,
   "metadata": {},
   "outputs": [
    {
     "data": {
      "text/html": [
       "<div>\n",
       "<style scoped>\n",
       "    .dataframe tbody tr th:only-of-type {\n",
       "        vertical-align: middle;\n",
       "    }\n",
       "\n",
       "    .dataframe tbody tr th {\n",
       "        vertical-align: top;\n",
       "    }\n",
       "\n",
       "    .dataframe thead th {\n",
       "        text-align: right;\n",
       "    }\n",
       "</style>\n",
       "<table border=\"1\" class=\"dataframe\">\n",
       "  <thead>\n",
       "    <tr style=\"text-align: right;\">\n",
       "      <th></th>\n",
       "      <th>a</th>\n",
       "      <th>b</th>\n",
       "      <th>c</th>\n",
       "      <th>d</th>\n",
       "    </tr>\n",
       "  </thead>\n",
       "  <tbody>\n",
       "    <tr>\n",
       "      <th>0</th>\n",
       "      <td>inf</td>\n",
       "      <td>1.000000</td>\n",
       "      <td>0.500000</td>\n",
       "      <td>0.333333</td>\n",
       "    </tr>\n",
       "    <tr>\n",
       "      <th>1</th>\n",
       "      <td>0.250</td>\n",
       "      <td>0.200000</td>\n",
       "      <td>0.166667</td>\n",
       "      <td>0.142857</td>\n",
       "    </tr>\n",
       "    <tr>\n",
       "      <th>2</th>\n",
       "      <td>0.125</td>\n",
       "      <td>0.111111</td>\n",
       "      <td>0.100000</td>\n",
       "      <td>0.090909</td>\n",
       "    </tr>\n",
       "  </tbody>\n",
       "</table>\n",
       "</div>"
      ],
      "text/plain": [
       "       a         b         c         d\n",
       "0    inf  1.000000  0.500000  0.333333\n",
       "1  0.250  0.200000  0.166667  0.142857\n",
       "2  0.125  0.111111  0.100000  0.090909"
      ]
     },
     "execution_count": 237,
     "metadata": {},
     "output_type": "execute_result"
    }
   ],
>>>>>>> 6516124a7bc59f03e3d305b96c38cf89e11dee6a
   "source": [
    "1 / df1\n",
    "df1.rdiv(1)"
   ]
  },
  {
   "cell_type": "code",
<<<<<<< HEAD
   "execution_count": 88,
   "metadata": {},
   "outputs": [],
=======
   "execution_count": 238,
   "metadata": {},
   "outputs": [
    {
     "data": {
      "text/html": [
       "<div>\n",
       "<style scoped>\n",
       "    .dataframe tbody tr th:only-of-type {\n",
       "        vertical-align: middle;\n",
       "    }\n",
       "\n",
       "    .dataframe tbody tr th {\n",
       "        vertical-align: top;\n",
       "    }\n",
       "\n",
       "    .dataframe thead th {\n",
       "        text-align: right;\n",
       "    }\n",
       "</style>\n",
       "<table border=\"1\" class=\"dataframe\">\n",
       "  <thead>\n",
       "    <tr style=\"text-align: right;\">\n",
       "      <th></th>\n",
       "      <th>a</th>\n",
       "      <th>b</th>\n",
       "      <th>c</th>\n",
       "      <th>d</th>\n",
       "      <th>e</th>\n",
       "    </tr>\n",
       "  </thead>\n",
       "  <tbody>\n",
       "    <tr>\n",
       "      <th>0</th>\n",
       "      <td>0.0</td>\n",
       "      <td>1.0</td>\n",
       "      <td>2.0</td>\n",
       "      <td>3.0</td>\n",
       "      <td>0</td>\n",
       "    </tr>\n",
       "    <tr>\n",
       "      <th>1</th>\n",
       "      <td>4.0</td>\n",
       "      <td>5.0</td>\n",
       "      <td>6.0</td>\n",
       "      <td>7.0</td>\n",
       "      <td>0</td>\n",
       "    </tr>\n",
       "    <tr>\n",
       "      <th>2</th>\n",
       "      <td>8.0</td>\n",
       "      <td>9.0</td>\n",
       "      <td>10.0</td>\n",
       "      <td>11.0</td>\n",
       "      <td>0</td>\n",
       "    </tr>\n",
       "  </tbody>\n",
       "</table>\n",
       "</div>"
      ],
      "text/plain": [
       "     a    b     c     d  e\n",
       "0  0.0  1.0   2.0   3.0  0\n",
       "1  4.0  5.0   6.0   7.0  0\n",
       "2  8.0  9.0  10.0  11.0  0"
      ]
     },
     "execution_count": 238,
     "metadata": {},
     "output_type": "execute_result"
    }
   ],
>>>>>>> 6516124a7bc59f03e3d305b96c38cf89e11dee6a
   "source": [
    "df1.reindex(columns=df2.columns, fill_value=0)"
   ]
  },
  {
   "cell_type": "code",
<<<<<<< HEAD
   "execution_count": 89,
   "metadata": {},
   "outputs": [],
=======
   "execution_count": 239,
   "metadata": {},
   "outputs": [
    {
     "data": {
      "text/plain": [
       "array([[0., 0., 0., 0.],\n",
       "       [4., 4., 4., 4.],\n",
       "       [8., 8., 8., 8.]])"
      ]
     },
     "execution_count": 239,
     "metadata": {},
     "output_type": "execute_result"
    }
   ],
>>>>>>> 6516124a7bc59f03e3d305b96c38cf89e11dee6a
   "source": [
    "arr = np.arange(12.).reshape((3, 4))\n",
    "arr\n",
    "arr[0]\n",
    "arr - arr[0]"
   ]
  },
  {
   "cell_type": "code",
<<<<<<< HEAD
   "execution_count": 90,
   "metadata": {},
   "outputs": [],
=======
   "execution_count": 240,
   "metadata": {},
   "outputs": [
    {
     "data": {
      "text/plain": [
       "b    0.0\n",
       "d    1.0\n",
       "e    2.0\n",
       "Name: Utah, dtype: float64"
      ]
     },
     "execution_count": 240,
     "metadata": {},
     "output_type": "execute_result"
    }
   ],
>>>>>>> 6516124a7bc59f03e3d305b96c38cf89e11dee6a
   "source": [
    "frame = pd.DataFrame(np.arange(12.).reshape((4, 3)),\n",
    "                     columns=list(\"bde\"),\n",
    "                     index=[\"Utah\", \"Ohio\", \"Texas\", \"Oregon\"])\n",
    "series = frame.iloc[0]\n",
    "frame\n",
    "series"
   ]
  },
  {
   "cell_type": "code",
<<<<<<< HEAD
   "execution_count": 91,
   "metadata": {},
   "outputs": [],
=======
   "execution_count": 241,
   "metadata": {},
   "outputs": [
    {
     "data": {
      "text/html": [
       "<div>\n",
       "<style scoped>\n",
       "    .dataframe tbody tr th:only-of-type {\n",
       "        vertical-align: middle;\n",
       "    }\n",
       "\n",
       "    .dataframe tbody tr th {\n",
       "        vertical-align: top;\n",
       "    }\n",
       "\n",
       "    .dataframe thead th {\n",
       "        text-align: right;\n",
       "    }\n",
       "</style>\n",
       "<table border=\"1\" class=\"dataframe\">\n",
       "  <thead>\n",
       "    <tr style=\"text-align: right;\">\n",
       "      <th></th>\n",
       "      <th>b</th>\n",
       "      <th>d</th>\n",
       "      <th>e</th>\n",
       "    </tr>\n",
       "  </thead>\n",
       "  <tbody>\n",
       "    <tr>\n",
       "      <th>Utah</th>\n",
       "      <td>0.0</td>\n",
       "      <td>0.0</td>\n",
       "      <td>0.0</td>\n",
       "    </tr>\n",
       "    <tr>\n",
       "      <th>Ohio</th>\n",
       "      <td>3.0</td>\n",
       "      <td>3.0</td>\n",
       "      <td>3.0</td>\n",
       "    </tr>\n",
       "    <tr>\n",
       "      <th>Texas</th>\n",
       "      <td>6.0</td>\n",
       "      <td>6.0</td>\n",
       "      <td>6.0</td>\n",
       "    </tr>\n",
       "    <tr>\n",
       "      <th>Oregon</th>\n",
       "      <td>9.0</td>\n",
       "      <td>9.0</td>\n",
       "      <td>9.0</td>\n",
       "    </tr>\n",
       "  </tbody>\n",
       "</table>\n",
       "</div>"
      ],
      "text/plain": [
       "          b    d    e\n",
       "Utah    0.0  0.0  0.0\n",
       "Ohio    3.0  3.0  3.0\n",
       "Texas   6.0  6.0  6.0\n",
       "Oregon  9.0  9.0  9.0"
      ]
     },
     "execution_count": 241,
     "metadata": {},
     "output_type": "execute_result"
    }
   ],
>>>>>>> 6516124a7bc59f03e3d305b96c38cf89e11dee6a
   "source": [
    "frame - series"
   ]
  },
  {
   "cell_type": "code",
<<<<<<< HEAD
   "execution_count": 92,
   "metadata": {},
   "outputs": [],
=======
   "execution_count": 242,
   "metadata": {},
   "outputs": [
    {
     "data": {
      "text/html": [
       "<div>\n",
       "<style scoped>\n",
       "    .dataframe tbody tr th:only-of-type {\n",
       "        vertical-align: middle;\n",
       "    }\n",
       "\n",
       "    .dataframe tbody tr th {\n",
       "        vertical-align: top;\n",
       "    }\n",
       "\n",
       "    .dataframe thead th {\n",
       "        text-align: right;\n",
       "    }\n",
       "</style>\n",
       "<table border=\"1\" class=\"dataframe\">\n",
       "  <thead>\n",
       "    <tr style=\"text-align: right;\">\n",
       "      <th></th>\n",
       "      <th>b</th>\n",
       "      <th>d</th>\n",
       "      <th>e</th>\n",
       "      <th>f</th>\n",
       "    </tr>\n",
       "  </thead>\n",
       "  <tbody>\n",
       "    <tr>\n",
       "      <th>Utah</th>\n",
       "      <td>0.0</td>\n",
       "      <td>NaN</td>\n",
       "      <td>3.0</td>\n",
       "      <td>NaN</td>\n",
       "    </tr>\n",
       "    <tr>\n",
       "      <th>Ohio</th>\n",
       "      <td>3.0</td>\n",
       "      <td>NaN</td>\n",
       "      <td>6.0</td>\n",
       "      <td>NaN</td>\n",
       "    </tr>\n",
       "    <tr>\n",
       "      <th>Texas</th>\n",
       "      <td>6.0</td>\n",
       "      <td>NaN</td>\n",
       "      <td>9.0</td>\n",
       "      <td>NaN</td>\n",
       "    </tr>\n",
       "    <tr>\n",
       "      <th>Oregon</th>\n",
       "      <td>9.0</td>\n",
       "      <td>NaN</td>\n",
       "      <td>12.0</td>\n",
       "      <td>NaN</td>\n",
       "    </tr>\n",
       "  </tbody>\n",
       "</table>\n",
       "</div>"
      ],
      "text/plain": [
       "          b   d     e   f\n",
       "Utah    0.0 NaN   3.0 NaN\n",
       "Ohio    3.0 NaN   6.0 NaN\n",
       "Texas   6.0 NaN   9.0 NaN\n",
       "Oregon  9.0 NaN  12.0 NaN"
      ]
     },
     "execution_count": 242,
     "metadata": {},
     "output_type": "execute_result"
    }
   ],
>>>>>>> 6516124a7bc59f03e3d305b96c38cf89e11dee6a
   "source": [
    "series2 = pd.Series(np.arange(3), index=[\"b\", \"e\", \"f\"])\n",
    "series2\n",
    "frame + series2"
   ]
  },
  {
   "cell_type": "code",
<<<<<<< HEAD
   "execution_count": 93,
   "metadata": {},
   "outputs": [],
=======
   "execution_count": 243,
   "metadata": {},
   "outputs": [
    {
     "data": {
      "text/html": [
       "<div>\n",
       "<style scoped>\n",
       "    .dataframe tbody tr th:only-of-type {\n",
       "        vertical-align: middle;\n",
       "    }\n",
       "\n",
       "    .dataframe tbody tr th {\n",
       "        vertical-align: top;\n",
       "    }\n",
       "\n",
       "    .dataframe thead th {\n",
       "        text-align: right;\n",
       "    }\n",
       "</style>\n",
       "<table border=\"1\" class=\"dataframe\">\n",
       "  <thead>\n",
       "    <tr style=\"text-align: right;\">\n",
       "      <th></th>\n",
       "      <th>b</th>\n",
       "      <th>d</th>\n",
       "      <th>e</th>\n",
       "    </tr>\n",
       "  </thead>\n",
       "  <tbody>\n",
       "    <tr>\n",
       "      <th>Utah</th>\n",
       "      <td>-1.0</td>\n",
       "      <td>0.0</td>\n",
       "      <td>1.0</td>\n",
       "    </tr>\n",
       "    <tr>\n",
       "      <th>Ohio</th>\n",
       "      <td>-1.0</td>\n",
       "      <td>0.0</td>\n",
       "      <td>1.0</td>\n",
       "    </tr>\n",
       "    <tr>\n",
       "      <th>Texas</th>\n",
       "      <td>-1.0</td>\n",
       "      <td>0.0</td>\n",
       "      <td>1.0</td>\n",
       "    </tr>\n",
       "    <tr>\n",
       "      <th>Oregon</th>\n",
       "      <td>-1.0</td>\n",
       "      <td>0.0</td>\n",
       "      <td>1.0</td>\n",
       "    </tr>\n",
       "  </tbody>\n",
       "</table>\n",
       "</div>"
      ],
      "text/plain": [
       "          b    d    e\n",
       "Utah   -1.0  0.0  1.0\n",
       "Ohio   -1.0  0.0  1.0\n",
       "Texas  -1.0  0.0  1.0\n",
       "Oregon -1.0  0.0  1.0"
      ]
     },
     "execution_count": 243,
     "metadata": {},
     "output_type": "execute_result"
    }
   ],
>>>>>>> 6516124a7bc59f03e3d305b96c38cf89e11dee6a
   "source": [
    "series3 = frame[\"d\"]\n",
    "frame\n",
    "series3\n",
    "frame.sub(series3, axis=\"index\")"
   ]
  },
  {
   "cell_type": "code",
<<<<<<< HEAD
   "execution_count": 94,
   "metadata": {},
   "outputs": [],
=======
   "execution_count": 244,
   "metadata": {},
   "outputs": [
    {
     "data": {
      "text/html": [
       "<div>\n",
       "<style scoped>\n",
       "    .dataframe tbody tr th:only-of-type {\n",
       "        vertical-align: middle;\n",
       "    }\n",
       "\n",
       "    .dataframe tbody tr th {\n",
       "        vertical-align: top;\n",
       "    }\n",
       "\n",
       "    .dataframe thead th {\n",
       "        text-align: right;\n",
       "    }\n",
       "</style>\n",
       "<table border=\"1\" class=\"dataframe\">\n",
       "  <thead>\n",
       "    <tr style=\"text-align: right;\">\n",
       "      <th></th>\n",
       "      <th>b</th>\n",
       "      <th>d</th>\n",
       "      <th>e</th>\n",
       "    </tr>\n",
       "  </thead>\n",
       "  <tbody>\n",
       "    <tr>\n",
       "      <th>Utah</th>\n",
       "      <td>1.624345</td>\n",
       "      <td>0.611756</td>\n",
       "      <td>0.528172</td>\n",
       "    </tr>\n",
       "    <tr>\n",
       "      <th>Ohio</th>\n",
       "      <td>1.072969</td>\n",
       "      <td>0.865408</td>\n",
       "      <td>2.301539</td>\n",
       "    </tr>\n",
       "    <tr>\n",
       "      <th>Texas</th>\n",
       "      <td>1.744812</td>\n",
       "      <td>0.761207</td>\n",
       "      <td>0.319039</td>\n",
       "    </tr>\n",
       "    <tr>\n",
       "      <th>Oregon</th>\n",
       "      <td>0.249370</td>\n",
       "      <td>1.462108</td>\n",
       "      <td>2.060141</td>\n",
       "    </tr>\n",
       "  </tbody>\n",
       "</table>\n",
       "</div>"
      ],
      "text/plain": [
       "               b         d         e\n",
       "Utah    1.624345  0.611756  0.528172\n",
       "Ohio    1.072969  0.865408  2.301539\n",
       "Texas   1.744812  0.761207  0.319039\n",
       "Oregon  0.249370  1.462108  2.060141"
      ]
     },
     "execution_count": 244,
     "metadata": {},
     "output_type": "execute_result"
    }
   ],
>>>>>>> 6516124a7bc59f03e3d305b96c38cf89e11dee6a
   "source": [
    "frame = pd.DataFrame(np.random.standard_normal((4, 3)),\n",
    "                     columns=list(\"bde\"),\n",
    "                     index=[\"Utah\", \"Ohio\", \"Texas\", \"Oregon\"])\n",
    "frame\n",
    "np.abs(frame)"
   ]
  },
  {
   "cell_type": "code",
<<<<<<< HEAD
   "execution_count": 95,
   "metadata": {},
   "outputs": [],
=======
   "execution_count": 245,
   "metadata": {},
   "outputs": [
    {
     "data": {
      "text/plain": [
       "b    2.817780\n",
       "d    2.223315\n",
       "e    2.620578\n",
       "dtype: float64"
      ]
     },
     "execution_count": 245,
     "metadata": {},
     "output_type": "execute_result"
    }
   ],
>>>>>>> 6516124a7bc59f03e3d305b96c38cf89e11dee6a
   "source": [
    "def f1(x):\n",
    "    return x.max() - x.min()\n",
    "\n",
    "frame.apply(f1)"
   ]
  },
  {
   "cell_type": "code",
<<<<<<< HEAD
   "execution_count": 96,
   "metadata": {},
   "outputs": [],
=======
   "execution_count": 246,
   "metadata": {},
   "outputs": [
    {
     "data": {
      "text/plain": [
       "Utah      2.236102\n",
       "Ohio      3.166946\n",
       "Texas     2.506019\n",
       "Oregon    3.522249\n",
       "dtype: float64"
      ]
     },
     "execution_count": 246,
     "metadata": {},
     "output_type": "execute_result"
    }
   ],
>>>>>>> 6516124a7bc59f03e3d305b96c38cf89e11dee6a
   "source": [
    "frame.apply(f1, axis=\"columns\")"
   ]
  },
  {
   "cell_type": "code",
<<<<<<< HEAD
   "execution_count": 97,
   "metadata": {},
   "outputs": [],
=======
   "execution_count": 247,
   "metadata": {},
   "outputs": [
    {
     "data": {
      "text/html": [
       "<div>\n",
       "<style scoped>\n",
       "    .dataframe tbody tr th:only-of-type {\n",
       "        vertical-align: middle;\n",
       "    }\n",
       "\n",
       "    .dataframe tbody tr th {\n",
       "        vertical-align: top;\n",
       "    }\n",
       "\n",
       "    .dataframe thead th {\n",
       "        text-align: right;\n",
       "    }\n",
       "</style>\n",
       "<table border=\"1\" class=\"dataframe\">\n",
       "  <thead>\n",
       "    <tr style=\"text-align: right;\">\n",
       "      <th></th>\n",
       "      <th>b</th>\n",
       "      <th>d</th>\n",
       "      <th>e</th>\n",
       "    </tr>\n",
       "  </thead>\n",
       "  <tbody>\n",
       "    <tr>\n",
       "      <th>min</th>\n",
       "      <td>-1.072969</td>\n",
       "      <td>-0.761207</td>\n",
       "      <td>-2.301539</td>\n",
       "    </tr>\n",
       "    <tr>\n",
       "      <th>max</th>\n",
       "      <td>1.744812</td>\n",
       "      <td>1.462108</td>\n",
       "      <td>0.319039</td>\n",
       "    </tr>\n",
       "  </tbody>\n",
       "</table>\n",
       "</div>"
      ],
      "text/plain": [
       "            b         d         e\n",
       "min -1.072969 -0.761207 -2.301539\n",
       "max  1.744812  1.462108  0.319039"
      ]
     },
     "execution_count": 247,
     "metadata": {},
     "output_type": "execute_result"
    }
   ],
>>>>>>> 6516124a7bc59f03e3d305b96c38cf89e11dee6a
   "source": [
    "def f2(x):\n",
    "    return pd.Series([x.min(), x.max()], index=[\"min\", \"max\"])\n",
    "frame.apply(f2)"
   ]
  },
  {
   "cell_type": "code",
<<<<<<< HEAD
   "execution_count": 98,
   "metadata": {},
   "outputs": [],
=======
   "execution_count": 248,
   "metadata": {},
   "outputs": [
    {
     "name": "stderr",
     "output_type": "stream",
     "text": [
      "C:\\Users\\t0108\\AppData\\Local\\Temp\\ipykernel_65180\\2705683181.py:4: FutureWarning: DataFrame.applymap has been deprecated. Use DataFrame.map instead.\n",
      "  frame.applymap(my_format)\n"
     ]
    },
    {
     "data": {
      "text/html": [
       "<div>\n",
       "<style scoped>\n",
       "    .dataframe tbody tr th:only-of-type {\n",
       "        vertical-align: middle;\n",
       "    }\n",
       "\n",
       "    .dataframe tbody tr th {\n",
       "        vertical-align: top;\n",
       "    }\n",
       "\n",
       "    .dataframe thead th {\n",
       "        text-align: right;\n",
       "    }\n",
       "</style>\n",
       "<table border=\"1\" class=\"dataframe\">\n",
       "  <thead>\n",
       "    <tr style=\"text-align: right;\">\n",
       "      <th></th>\n",
       "      <th>b</th>\n",
       "      <th>d</th>\n",
       "      <th>e</th>\n",
       "    </tr>\n",
       "  </thead>\n",
       "  <tbody>\n",
       "    <tr>\n",
       "      <th>Utah</th>\n",
       "      <td>1.62</td>\n",
       "      <td>-0.61</td>\n",
       "      <td>-0.53</td>\n",
       "    </tr>\n",
       "    <tr>\n",
       "      <th>Ohio</th>\n",
       "      <td>-1.07</td>\n",
       "      <td>0.87</td>\n",
       "      <td>-2.30</td>\n",
       "    </tr>\n",
       "    <tr>\n",
       "      <th>Texas</th>\n",
       "      <td>1.74</td>\n",
       "      <td>-0.76</td>\n",
       "      <td>0.32</td>\n",
       "    </tr>\n",
       "    <tr>\n",
       "      <th>Oregon</th>\n",
       "      <td>-0.25</td>\n",
       "      <td>1.46</td>\n",
       "      <td>-2.06</td>\n",
       "    </tr>\n",
       "  </tbody>\n",
       "</table>\n",
       "</div>"
      ],
      "text/plain": [
       "            b      d      e\n",
       "Utah     1.62  -0.61  -0.53\n",
       "Ohio    -1.07   0.87  -2.30\n",
       "Texas    1.74  -0.76   0.32\n",
       "Oregon  -0.25   1.46  -2.06"
      ]
     },
     "execution_count": 248,
     "metadata": {},
     "output_type": "execute_result"
    }
   ],
>>>>>>> 6516124a7bc59f03e3d305b96c38cf89e11dee6a
   "source": [
    "def my_format(x):\n",
    "    return f\"{x:.2f}\"\n",
    "\n",
    "frame.applymap(my_format)"
   ]
  },
  {
   "cell_type": "code",
<<<<<<< HEAD
   "execution_count": 99,
   "metadata": {},
   "outputs": [],
=======
   "execution_count": 249,
   "metadata": {},
   "outputs": [
    {
     "data": {
      "text/plain": [
       "Utah      -0.53\n",
       "Ohio      -2.30\n",
       "Texas      0.32\n",
       "Oregon    -2.06\n",
       "Name: e, dtype: object"
      ]
     },
     "execution_count": 249,
     "metadata": {},
     "output_type": "execute_result"
    }
   ],
>>>>>>> 6516124a7bc59f03e3d305b96c38cf89e11dee6a
   "source": [
    "frame[\"e\"].map(my_format)"
   ]
  },
  {
   "cell_type": "code",
<<<<<<< HEAD
   "execution_count": 100,
   "metadata": {},
   "outputs": [],
=======
   "execution_count": 250,
   "metadata": {},
   "outputs": [
    {
     "data": {
      "text/plain": [
       "a    1\n",
       "b    2\n",
       "c    3\n",
       "d    0\n",
       "dtype: int32"
      ]
     },
     "execution_count": 250,
     "metadata": {},
     "output_type": "execute_result"
    }
   ],
>>>>>>> 6516124a7bc59f03e3d305b96c38cf89e11dee6a
   "source": [
    "obj = pd.Series(np.arange(4), index=[\"d\", \"a\", \"b\", \"c\"])\n",
    "obj\n",
    "obj.sort_index()"
   ]
  },
  {
   "cell_type": "code",
<<<<<<< HEAD
   "execution_count": 101,
   "metadata": {},
   "outputs": [],
=======
   "execution_count": 251,
   "metadata": {},
   "outputs": [
    {
     "data": {
      "text/html": [
       "<div>\n",
       "<style scoped>\n",
       "    .dataframe tbody tr th:only-of-type {\n",
       "        vertical-align: middle;\n",
       "    }\n",
       "\n",
       "    .dataframe tbody tr th {\n",
       "        vertical-align: top;\n",
       "    }\n",
       "\n",
       "    .dataframe thead th {\n",
       "        text-align: right;\n",
       "    }\n",
       "</style>\n",
       "<table border=\"1\" class=\"dataframe\">\n",
       "  <thead>\n",
       "    <tr style=\"text-align: right;\">\n",
       "      <th></th>\n",
       "      <th>a</th>\n",
       "      <th>b</th>\n",
       "      <th>c</th>\n",
       "      <th>d</th>\n",
       "    </tr>\n",
       "  </thead>\n",
       "  <tbody>\n",
       "    <tr>\n",
       "      <th>three</th>\n",
       "      <td>1</td>\n",
       "      <td>2</td>\n",
       "      <td>3</td>\n",
       "      <td>0</td>\n",
       "    </tr>\n",
       "    <tr>\n",
       "      <th>one</th>\n",
       "      <td>5</td>\n",
       "      <td>6</td>\n",
       "      <td>7</td>\n",
       "      <td>4</td>\n",
       "    </tr>\n",
       "  </tbody>\n",
       "</table>\n",
       "</div>"
      ],
      "text/plain": [
       "       a  b  c  d\n",
       "three  1  2  3  0\n",
       "one    5  6  7  4"
      ]
     },
     "execution_count": 251,
     "metadata": {},
     "output_type": "execute_result"
    }
   ],
>>>>>>> 6516124a7bc59f03e3d305b96c38cf89e11dee6a
   "source": [
    "frame = pd.DataFrame(np.arange(8).reshape((2, 4)),\n",
    "                     index=[\"three\", \"one\"],\n",
    "                     columns=[\"d\", \"a\", \"b\", \"c\"])\n",
    "frame\n",
    "frame.sort_index()\n",
    "frame.sort_index(axis=\"columns\")"
   ]
  },
  {
   "cell_type": "code",
<<<<<<< HEAD
   "execution_count": 102,
   "metadata": {},
   "outputs": [],
=======
   "execution_count": 252,
   "metadata": {},
   "outputs": [
    {
     "data": {
      "text/html": [
       "<div>\n",
       "<style scoped>\n",
       "    .dataframe tbody tr th:only-of-type {\n",
       "        vertical-align: middle;\n",
       "    }\n",
       "\n",
       "    .dataframe tbody tr th {\n",
       "        vertical-align: top;\n",
       "    }\n",
       "\n",
       "    .dataframe thead th {\n",
       "        text-align: right;\n",
       "    }\n",
       "</style>\n",
       "<table border=\"1\" class=\"dataframe\">\n",
       "  <thead>\n",
       "    <tr style=\"text-align: right;\">\n",
       "      <th></th>\n",
       "      <th>d</th>\n",
       "      <th>c</th>\n",
       "      <th>b</th>\n",
       "      <th>a</th>\n",
       "    </tr>\n",
       "  </thead>\n",
       "  <tbody>\n",
       "    <tr>\n",
       "      <th>three</th>\n",
       "      <td>0</td>\n",
       "      <td>3</td>\n",
       "      <td>2</td>\n",
       "      <td>1</td>\n",
       "    </tr>\n",
       "    <tr>\n",
       "      <th>one</th>\n",
       "      <td>4</td>\n",
       "      <td>7</td>\n",
       "      <td>6</td>\n",
       "      <td>5</td>\n",
       "    </tr>\n",
       "  </tbody>\n",
       "</table>\n",
       "</div>"
      ],
      "text/plain": [
       "       d  c  b  a\n",
       "three  0  3  2  1\n",
       "one    4  7  6  5"
      ]
     },
     "execution_count": 252,
     "metadata": {},
     "output_type": "execute_result"
    }
   ],
>>>>>>> 6516124a7bc59f03e3d305b96c38cf89e11dee6a
   "source": [
    "frame.sort_index(axis=\"columns\", ascending=False)"
   ]
  },
  {
   "cell_type": "code",
<<<<<<< HEAD
   "execution_count": 103,
   "metadata": {},
   "outputs": [],
=======
   "execution_count": 253,
   "metadata": {},
   "outputs": [
    {
     "data": {
      "text/plain": [
       "2   -3\n",
       "3    2\n",
       "0    4\n",
       "1    7\n",
       "dtype: int64"
      ]
     },
     "execution_count": 253,
     "metadata": {},
     "output_type": "execute_result"
    }
   ],
>>>>>>> 6516124a7bc59f03e3d305b96c38cf89e11dee6a
   "source": [
    "obj = pd.Series([4, 7, -3, 2])\n",
    "obj.sort_values()"
   ]
  },
  {
   "cell_type": "code",
<<<<<<< HEAD
   "execution_count": 104,
   "metadata": {},
   "outputs": [],
=======
   "execution_count": 254,
   "metadata": {},
   "outputs": [
    {
     "data": {
      "text/plain": [
       "4   -3.0\n",
       "5    2.0\n",
       "0    4.0\n",
       "2    7.0\n",
       "1    NaN\n",
       "3    NaN\n",
       "dtype: float64"
      ]
     },
     "execution_count": 254,
     "metadata": {},
     "output_type": "execute_result"
    }
   ],
>>>>>>> 6516124a7bc59f03e3d305b96c38cf89e11dee6a
   "source": [
    "obj = pd.Series([4, np.nan, 7, np.nan, -3, 2])\n",
    "obj.sort_values()"
   ]
  },
  {
   "cell_type": "code",
<<<<<<< HEAD
   "execution_count": 105,
   "metadata": {},
   "outputs": [],
=======
   "execution_count": 255,
   "metadata": {},
   "outputs": [
    {
     "data": {
      "text/plain": [
       "1    NaN\n",
       "3    NaN\n",
       "4   -3.0\n",
       "5    2.0\n",
       "0    4.0\n",
       "2    7.0\n",
       "dtype: float64"
      ]
     },
     "execution_count": 255,
     "metadata": {},
     "output_type": "execute_result"
    }
   ],
>>>>>>> 6516124a7bc59f03e3d305b96c38cf89e11dee6a
   "source": [
    "obj.sort_values(na_position=\"first\")"
   ]
  },
  {
   "cell_type": "code",
<<<<<<< HEAD
   "execution_count": 106,
   "metadata": {},
   "outputs": [],
=======
   "execution_count": 256,
   "metadata": {},
   "outputs": [
    {
     "data": {
      "text/html": [
       "<div>\n",
       "<style scoped>\n",
       "    .dataframe tbody tr th:only-of-type {\n",
       "        vertical-align: middle;\n",
       "    }\n",
       "\n",
       "    .dataframe tbody tr th {\n",
       "        vertical-align: top;\n",
       "    }\n",
       "\n",
       "    .dataframe thead th {\n",
       "        text-align: right;\n",
       "    }\n",
       "</style>\n",
       "<table border=\"1\" class=\"dataframe\">\n",
       "  <thead>\n",
       "    <tr style=\"text-align: right;\">\n",
       "      <th></th>\n",
       "      <th>b</th>\n",
       "      <th>a</th>\n",
       "    </tr>\n",
       "  </thead>\n",
       "  <tbody>\n",
       "    <tr>\n",
       "      <th>2</th>\n",
       "      <td>-3</td>\n",
       "      <td>0</td>\n",
       "    </tr>\n",
       "    <tr>\n",
       "      <th>3</th>\n",
       "      <td>2</td>\n",
       "      <td>1</td>\n",
       "    </tr>\n",
       "    <tr>\n",
       "      <th>0</th>\n",
       "      <td>4</td>\n",
       "      <td>0</td>\n",
       "    </tr>\n",
       "    <tr>\n",
       "      <th>1</th>\n",
       "      <td>7</td>\n",
       "      <td>1</td>\n",
       "    </tr>\n",
       "  </tbody>\n",
       "</table>\n",
       "</div>"
      ],
      "text/plain": [
       "   b  a\n",
       "2 -3  0\n",
       "3  2  1\n",
       "0  4  0\n",
       "1  7  1"
      ]
     },
     "execution_count": 256,
     "metadata": {},
     "output_type": "execute_result"
    }
   ],
>>>>>>> 6516124a7bc59f03e3d305b96c38cf89e11dee6a
   "source": [
    "frame = pd.DataFrame({\"b\": [4, 7, -3, 2], \"a\": [0, 1, 0, 1]})\n",
    "frame\n",
    "frame.sort_values(\"b\")"
   ]
  },
  {
   "cell_type": "code",
<<<<<<< HEAD
   "execution_count": 107,
   "metadata": {},
   "outputs": [],
=======
   "execution_count": 257,
   "metadata": {},
   "outputs": [
    {
     "data": {
      "text/html": [
       "<div>\n",
       "<style scoped>\n",
       "    .dataframe tbody tr th:only-of-type {\n",
       "        vertical-align: middle;\n",
       "    }\n",
       "\n",
       "    .dataframe tbody tr th {\n",
       "        vertical-align: top;\n",
       "    }\n",
       "\n",
       "    .dataframe thead th {\n",
       "        text-align: right;\n",
       "    }\n",
       "</style>\n",
       "<table border=\"1\" class=\"dataframe\">\n",
       "  <thead>\n",
       "    <tr style=\"text-align: right;\">\n",
       "      <th></th>\n",
       "      <th>b</th>\n",
       "      <th>a</th>\n",
       "    </tr>\n",
       "  </thead>\n",
       "  <tbody>\n",
       "    <tr>\n",
       "      <th>2</th>\n",
       "      <td>-3</td>\n",
       "      <td>0</td>\n",
       "    </tr>\n",
       "    <tr>\n",
       "      <th>0</th>\n",
       "      <td>4</td>\n",
       "      <td>0</td>\n",
       "    </tr>\n",
       "    <tr>\n",
       "      <th>3</th>\n",
       "      <td>2</td>\n",
       "      <td>1</td>\n",
       "    </tr>\n",
       "    <tr>\n",
       "      <th>1</th>\n",
       "      <td>7</td>\n",
       "      <td>1</td>\n",
       "    </tr>\n",
       "  </tbody>\n",
       "</table>\n",
       "</div>"
      ],
      "text/plain": [
       "   b  a\n",
       "2 -3  0\n",
       "0  4  0\n",
       "3  2  1\n",
       "1  7  1"
      ]
     },
     "execution_count": 257,
     "metadata": {},
     "output_type": "execute_result"
    }
   ],
>>>>>>> 6516124a7bc59f03e3d305b96c38cf89e11dee6a
   "source": [
    "frame.sort_values([\"a\", \"b\"])"
   ]
  },
  {
   "cell_type": "code",
<<<<<<< HEAD
   "execution_count": 108,
   "metadata": {},
   "outputs": [],
=======
   "execution_count": 258,
   "metadata": {},
   "outputs": [
    {
     "data": {
      "text/plain": [
       "0    6.5\n",
       "1    1.0\n",
       "2    6.5\n",
       "3    4.5\n",
       "4    3.0\n",
       "5    2.0\n",
       "6    4.5\n",
       "dtype: float64"
      ]
     },
     "execution_count": 258,
     "metadata": {},
     "output_type": "execute_result"
    }
   ],
>>>>>>> 6516124a7bc59f03e3d305b96c38cf89e11dee6a
   "source": [
    "obj = pd.Series([7, -5, 7, 4, 2, 0, 4])\n",
    "obj.rank()"
   ]
  },
  {
   "cell_type": "code",
<<<<<<< HEAD
   "execution_count": 109,
   "metadata": {},
   "outputs": [],
=======
   "execution_count": 259,
   "metadata": {},
   "outputs": [
    {
     "data": {
      "text/plain": [
       "0    6.0\n",
       "1    1.0\n",
       "2    7.0\n",
       "3    4.0\n",
       "4    3.0\n",
       "5    2.0\n",
       "6    5.0\n",
       "dtype: float64"
      ]
     },
     "execution_count": 259,
     "metadata": {},
     "output_type": "execute_result"
    }
   ],
>>>>>>> 6516124a7bc59f03e3d305b96c38cf89e11dee6a
   "source": [
    "obj.rank(method=\"first\")"
   ]
  },
  {
   "cell_type": "code",
<<<<<<< HEAD
   "execution_count": 110,
   "metadata": {},
   "outputs": [],
=======
   "execution_count": 260,
   "metadata": {},
   "outputs": [
    {
     "data": {
      "text/plain": [
       "0    1.5\n",
       "1    7.0\n",
       "2    1.5\n",
       "3    3.5\n",
       "4    5.0\n",
       "5    6.0\n",
       "6    3.5\n",
       "dtype: float64"
      ]
     },
     "execution_count": 260,
     "metadata": {},
     "output_type": "execute_result"
    }
   ],
>>>>>>> 6516124a7bc59f03e3d305b96c38cf89e11dee6a
   "source": [
    "obj.rank(ascending=False)"
   ]
  },
  {
   "cell_type": "code",
<<<<<<< HEAD
   "execution_count": 111,
   "metadata": {},
   "outputs": [],
=======
   "execution_count": 261,
   "metadata": {},
   "outputs": [
    {
     "data": {
      "text/html": [
       "<div>\n",
       "<style scoped>\n",
       "    .dataframe tbody tr th:only-of-type {\n",
       "        vertical-align: middle;\n",
       "    }\n",
       "\n",
       "    .dataframe tbody tr th {\n",
       "        vertical-align: top;\n",
       "    }\n",
       "\n",
       "    .dataframe thead th {\n",
       "        text-align: right;\n",
       "    }\n",
       "</style>\n",
       "<table border=\"1\" class=\"dataframe\">\n",
       "  <thead>\n",
       "    <tr style=\"text-align: right;\">\n",
       "      <th></th>\n",
       "      <th>b</th>\n",
       "      <th>a</th>\n",
       "      <th>c</th>\n",
       "    </tr>\n",
       "  </thead>\n",
       "  <tbody>\n",
       "    <tr>\n",
       "      <th>0</th>\n",
       "      <td>3.0</td>\n",
       "      <td>2.0</td>\n",
       "      <td>1.0</td>\n",
       "    </tr>\n",
       "    <tr>\n",
       "      <th>1</th>\n",
       "      <td>3.0</td>\n",
       "      <td>1.0</td>\n",
       "      <td>2.0</td>\n",
       "    </tr>\n",
       "    <tr>\n",
       "      <th>2</th>\n",
       "      <td>1.0</td>\n",
       "      <td>2.0</td>\n",
       "      <td>3.0</td>\n",
       "    </tr>\n",
       "    <tr>\n",
       "      <th>3</th>\n",
       "      <td>3.0</td>\n",
       "      <td>2.0</td>\n",
       "      <td>1.0</td>\n",
       "    </tr>\n",
       "  </tbody>\n",
       "</table>\n",
       "</div>"
      ],
      "text/plain": [
       "     b    a    c\n",
       "0  3.0  2.0  1.0\n",
       "1  3.0  1.0  2.0\n",
       "2  1.0  2.0  3.0\n",
       "3  3.0  2.0  1.0"
      ]
     },
     "execution_count": 261,
     "metadata": {},
     "output_type": "execute_result"
    }
   ],
>>>>>>> 6516124a7bc59f03e3d305b96c38cf89e11dee6a
   "source": [
    "frame = pd.DataFrame({\"b\": [4.3, 7, -3, 2], \"a\": [0, 1, 0, 1],\n",
    "                      \"c\": [-2, 5, 8, -2.5]})\n",
    "frame\n",
    "frame.rank(axis=\"columns\")"
   ]
  },
  {
   "cell_type": "code",
<<<<<<< HEAD
   "execution_count": 112,
   "metadata": {},
   "outputs": [],
=======
   "execution_count": 262,
   "metadata": {},
   "outputs": [
    {
     "data": {
      "text/plain": [
       "a    0\n",
       "a    1\n",
       "b    2\n",
       "b    3\n",
       "c    4\n",
       "dtype: int32"
      ]
     },
     "execution_count": 262,
     "metadata": {},
     "output_type": "execute_result"
    }
   ],
>>>>>>> 6516124a7bc59f03e3d305b96c38cf89e11dee6a
   "source": [
    "obj = pd.Series(np.arange(5), index=[\"a\", \"a\", \"b\", \"b\", \"c\"])\n",
    "obj"
   ]
  },
  {
   "cell_type": "code",
<<<<<<< HEAD
   "execution_count": 113,
   "metadata": {},
   "outputs": [],
=======
   "execution_count": 263,
   "metadata": {},
   "outputs": [
    {
     "data": {
      "text/plain": [
       "False"
      ]
     },
     "execution_count": 263,
     "metadata": {},
     "output_type": "execute_result"
    }
   ],
>>>>>>> 6516124a7bc59f03e3d305b96c38cf89e11dee6a
   "source": [
    "obj.index.is_unique"
   ]
  },
  {
   "cell_type": "code",
<<<<<<< HEAD
   "execution_count": 114,
   "metadata": {},
   "outputs": [],
=======
   "execution_count": 264,
   "metadata": {},
   "outputs": [
    {
     "data": {
      "text/plain": [
       "4"
      ]
     },
     "execution_count": 264,
     "metadata": {},
     "output_type": "execute_result"
    }
   ],
>>>>>>> 6516124a7bc59f03e3d305b96c38cf89e11dee6a
   "source": [
    "obj[\"a\"]\n",
    "obj[\"c\"]"
   ]
  },
  {
   "cell_type": "code",
<<<<<<< HEAD
   "execution_count": 115,
   "metadata": {},
   "outputs": [],
=======
   "execution_count": 265,
   "metadata": {},
   "outputs": [
    {
     "data": {
      "text/plain": [
       "0    0.900856\n",
       "1   -0.683728\n",
       "2   -0.122890\n",
       "Name: c, dtype: float64"
      ]
     },
     "execution_count": 265,
     "metadata": {},
     "output_type": "execute_result"
    }
   ],
>>>>>>> 6516124a7bc59f03e3d305b96c38cf89e11dee6a
   "source": [
    "df = pd.DataFrame(np.random.standard_normal((5, 3)),\n",
    "                  index=[\"a\", \"a\", \"b\", \"b\", \"c\"])\n",
    "df\n",
    "df.loc[\"b\"]\n",
    "df.loc[\"c\"]"
   ]
  },
  {
   "cell_type": "code",
<<<<<<< HEAD
   "execution_count": 116,
   "metadata": {},
   "outputs": [],
=======
   "execution_count": 266,
   "metadata": {},
   "outputs": [
    {
     "data": {
      "text/html": [
       "<div>\n",
       "<style scoped>\n",
       "    .dataframe tbody tr th:only-of-type {\n",
       "        vertical-align: middle;\n",
       "    }\n",
       "\n",
       "    .dataframe tbody tr th {\n",
       "        vertical-align: top;\n",
       "    }\n",
       "\n",
       "    .dataframe thead th {\n",
       "        text-align: right;\n",
       "    }\n",
       "</style>\n",
       "<table border=\"1\" class=\"dataframe\">\n",
       "  <thead>\n",
       "    <tr style=\"text-align: right;\">\n",
       "      <th></th>\n",
       "      <th>one</th>\n",
       "      <th>two</th>\n",
       "    </tr>\n",
       "  </thead>\n",
       "  <tbody>\n",
       "    <tr>\n",
       "      <th>a</th>\n",
       "      <td>1.40</td>\n",
       "      <td>NaN</td>\n",
       "    </tr>\n",
       "    <tr>\n",
       "      <th>b</th>\n",
       "      <td>7.10</td>\n",
       "      <td>-4.5</td>\n",
       "    </tr>\n",
       "    <tr>\n",
       "      <th>c</th>\n",
       "      <td>NaN</td>\n",
       "      <td>NaN</td>\n",
       "    </tr>\n",
       "    <tr>\n",
       "      <th>d</th>\n",
       "      <td>0.75</td>\n",
       "      <td>-1.3</td>\n",
       "    </tr>\n",
       "  </tbody>\n",
       "</table>\n",
       "</div>"
      ],
      "text/plain": [
       "    one  two\n",
       "a  1.40  NaN\n",
       "b  7.10 -4.5\n",
       "c   NaN  NaN\n",
       "d  0.75 -1.3"
      ]
     },
     "execution_count": 266,
     "metadata": {},
     "output_type": "execute_result"
    }
   ],
>>>>>>> 6516124a7bc59f03e3d305b96c38cf89e11dee6a
   "source": [
    "df = pd.DataFrame([[1.4, np.nan], [7.1, -4.5],\n",
    "                   [np.nan, np.nan], [0.75, -1.3]],\n",
    "                  index=[\"a\", \"b\", \"c\", \"d\"],\n",
    "                  columns=[\"one\", \"two\"])\n",
    "df"
   ]
  },
  {
   "cell_type": "code",
<<<<<<< HEAD
   "execution_count": 117,
   "metadata": {},
   "outputs": [],
=======
   "execution_count": 267,
   "metadata": {},
   "outputs": [
    {
     "data": {
      "text/plain": [
       "one    9.25\n",
       "two   -5.80\n",
       "dtype: float64"
      ]
     },
     "execution_count": 267,
     "metadata": {},
     "output_type": "execute_result"
    }
   ],
>>>>>>> 6516124a7bc59f03e3d305b96c38cf89e11dee6a
   "source": [
    "df.sum()"
   ]
  },
  {
   "cell_type": "code",
<<<<<<< HEAD
   "execution_count": 118,
   "metadata": {},
   "outputs": [],
=======
   "execution_count": 268,
   "metadata": {},
   "outputs": [
    {
     "data": {
      "text/plain": [
       "a    1.40\n",
       "b    2.60\n",
       "c    0.00\n",
       "d   -0.55\n",
       "dtype: float64"
      ]
     },
     "execution_count": 268,
     "metadata": {},
     "output_type": "execute_result"
    }
   ],
>>>>>>> 6516124a7bc59f03e3d305b96c38cf89e11dee6a
   "source": [
    "df.sum(axis=\"columns\")"
   ]
  },
  {
   "cell_type": "code",
<<<<<<< HEAD
   "execution_count": 119,
   "metadata": {},
   "outputs": [],
=======
   "execution_count": 269,
   "metadata": {},
   "outputs": [
    {
     "data": {
      "text/plain": [
       "a     NaN\n",
       "b    2.60\n",
       "c     NaN\n",
       "d   -0.55\n",
       "dtype: float64"
      ]
     },
     "execution_count": 269,
     "metadata": {},
     "output_type": "execute_result"
    }
   ],
>>>>>>> 6516124a7bc59f03e3d305b96c38cf89e11dee6a
   "source": [
    "df.sum(axis=\"index\", skipna=False)\n",
    "df.sum(axis=\"columns\", skipna=False)"
   ]
  },
  {
   "cell_type": "code",
<<<<<<< HEAD
   "execution_count": 120,
   "metadata": {},
   "outputs": [],
=======
   "execution_count": 270,
   "metadata": {},
   "outputs": [
    {
     "data": {
      "text/plain": [
       "a    1.400\n",
       "b    1.300\n",
       "c      NaN\n",
       "d   -0.275\n",
       "dtype: float64"
      ]
     },
     "execution_count": 270,
     "metadata": {},
     "output_type": "execute_result"
    }
   ],
>>>>>>> 6516124a7bc59f03e3d305b96c38cf89e11dee6a
   "source": [
    "df.mean(axis=\"columns\")"
   ]
  },
  {
   "cell_type": "code",
<<<<<<< HEAD
   "execution_count": 121,
   "metadata": {},
   "outputs": [],
=======
   "execution_count": 271,
   "metadata": {},
   "outputs": [
    {
     "data": {
      "text/plain": [
       "one    b\n",
       "two    d\n",
       "dtype: object"
      ]
     },
     "execution_count": 271,
     "metadata": {},
     "output_type": "execute_result"
    }
   ],
>>>>>>> 6516124a7bc59f03e3d305b96c38cf89e11dee6a
   "source": [
    "df.idxmax()"
   ]
  },
  {
   "cell_type": "code",
<<<<<<< HEAD
   "execution_count": 122,
   "metadata": {},
   "outputs": [],
=======
   "execution_count": 272,
   "metadata": {},
   "outputs": [
    {
     "data": {
      "text/html": [
       "<div>\n",
       "<style scoped>\n",
       "    .dataframe tbody tr th:only-of-type {\n",
       "        vertical-align: middle;\n",
       "    }\n",
       "\n",
       "    .dataframe tbody tr th {\n",
       "        vertical-align: top;\n",
       "    }\n",
       "\n",
       "    .dataframe thead th {\n",
       "        text-align: right;\n",
       "    }\n",
       "</style>\n",
       "<table border=\"1\" class=\"dataframe\">\n",
       "  <thead>\n",
       "    <tr style=\"text-align: right;\">\n",
       "      <th></th>\n",
       "      <th>one</th>\n",
       "      <th>two</th>\n",
       "    </tr>\n",
       "  </thead>\n",
       "  <tbody>\n",
       "    <tr>\n",
       "      <th>a</th>\n",
       "      <td>1.40</td>\n",
       "      <td>NaN</td>\n",
       "    </tr>\n",
       "    <tr>\n",
       "      <th>b</th>\n",
       "      <td>8.50</td>\n",
       "      <td>-4.5</td>\n",
       "    </tr>\n",
       "    <tr>\n",
       "      <th>c</th>\n",
       "      <td>NaN</td>\n",
       "      <td>NaN</td>\n",
       "    </tr>\n",
       "    <tr>\n",
       "      <th>d</th>\n",
       "      <td>9.25</td>\n",
       "      <td>-5.8</td>\n",
       "    </tr>\n",
       "  </tbody>\n",
       "</table>\n",
       "</div>"
      ],
      "text/plain": [
       "    one  two\n",
       "a  1.40  NaN\n",
       "b  8.50 -4.5\n",
       "c   NaN  NaN\n",
       "d  9.25 -5.8"
      ]
     },
     "execution_count": 272,
     "metadata": {},
     "output_type": "execute_result"
    }
   ],
>>>>>>> 6516124a7bc59f03e3d305b96c38cf89e11dee6a
   "source": [
    "df.cumsum()"
   ]
  },
  {
   "cell_type": "code",
<<<<<<< HEAD
   "execution_count": 123,
   "metadata": {},
   "outputs": [],
=======
   "execution_count": 273,
   "metadata": {},
   "outputs": [
    {
     "data": {
      "text/html": [
       "<div>\n",
       "<style scoped>\n",
       "    .dataframe tbody tr th:only-of-type {\n",
       "        vertical-align: middle;\n",
       "    }\n",
       "\n",
       "    .dataframe tbody tr th {\n",
       "        vertical-align: top;\n",
       "    }\n",
       "\n",
       "    .dataframe thead th {\n",
       "        text-align: right;\n",
       "    }\n",
       "</style>\n",
       "<table border=\"1\" class=\"dataframe\">\n",
       "  <thead>\n",
       "    <tr style=\"text-align: right;\">\n",
       "      <th></th>\n",
       "      <th>one</th>\n",
       "      <th>two</th>\n",
       "    </tr>\n",
       "  </thead>\n",
       "  <tbody>\n",
       "    <tr>\n",
       "      <th>count</th>\n",
       "      <td>3.000000</td>\n",
       "      <td>2.000000</td>\n",
       "    </tr>\n",
       "    <tr>\n",
       "      <th>mean</th>\n",
       "      <td>3.083333</td>\n",
       "      <td>-2.900000</td>\n",
       "    </tr>\n",
       "    <tr>\n",
       "      <th>std</th>\n",
       "      <td>3.493685</td>\n",
       "      <td>2.262742</td>\n",
       "    </tr>\n",
       "    <tr>\n",
       "      <th>min</th>\n",
       "      <td>0.750000</td>\n",
       "      <td>-4.500000</td>\n",
       "    </tr>\n",
       "    <tr>\n",
       "      <th>25%</th>\n",
       "      <td>1.075000</td>\n",
       "      <td>-3.700000</td>\n",
       "    </tr>\n",
       "    <tr>\n",
       "      <th>50%</th>\n",
       "      <td>1.400000</td>\n",
       "      <td>-2.900000</td>\n",
       "    </tr>\n",
       "    <tr>\n",
       "      <th>75%</th>\n",
       "      <td>4.250000</td>\n",
       "      <td>-2.100000</td>\n",
       "    </tr>\n",
       "    <tr>\n",
       "      <th>max</th>\n",
       "      <td>7.100000</td>\n",
       "      <td>-1.300000</td>\n",
       "    </tr>\n",
       "  </tbody>\n",
       "</table>\n",
       "</div>"
      ],
      "text/plain": [
       "            one       two\n",
       "count  3.000000  2.000000\n",
       "mean   3.083333 -2.900000\n",
       "std    3.493685  2.262742\n",
       "min    0.750000 -4.500000\n",
       "25%    1.075000 -3.700000\n",
       "50%    1.400000 -2.900000\n",
       "75%    4.250000 -2.100000\n",
       "max    7.100000 -1.300000"
      ]
     },
     "execution_count": 273,
     "metadata": {},
     "output_type": "execute_result"
    }
   ],
>>>>>>> 6516124a7bc59f03e3d305b96c38cf89e11dee6a
   "source": [
    "df.describe()"
   ]
  },
  {
   "cell_type": "code",
<<<<<<< HEAD
   "execution_count": 124,
   "metadata": {},
   "outputs": [],
=======
   "execution_count": 274,
   "metadata": {},
   "outputs": [
    {
     "data": {
      "text/plain": [
       "count     16\n",
       "unique     3\n",
       "top        a\n",
       "freq       8\n",
       "dtype: object"
      ]
     },
     "execution_count": 274,
     "metadata": {},
     "output_type": "execute_result"
    }
   ],
>>>>>>> 6516124a7bc59f03e3d305b96c38cf89e11dee6a
   "source": [
    "obj = pd.Series([\"a\", \"a\", \"b\", \"c\"] * 4)\n",
    "obj.describe()"
   ]
  },
  {
   "cell_type": "code",
<<<<<<< HEAD
   "execution_count": 125,
=======
   "execution_count": 275,
>>>>>>> 6516124a7bc59f03e3d305b96c38cf89e11dee6a
   "metadata": {},
   "outputs": [],
   "source": [
    "price = pd.read_pickle(\"examples/yahoo_price.pkl\")\n",
    "volume = pd.read_pickle(\"examples/yahoo_volume.pkl\")"
   ]
  },
  {
   "cell_type": "code",
<<<<<<< HEAD
   "execution_count": 126,
   "metadata": {},
   "outputs": [],
=======
   "execution_count": 276,
   "metadata": {},
   "outputs": [
    {
     "data": {
      "text/html": [
       "<div>\n",
       "<style scoped>\n",
       "    .dataframe tbody tr th:only-of-type {\n",
       "        vertical-align: middle;\n",
       "    }\n",
       "\n",
       "    .dataframe tbody tr th {\n",
       "        vertical-align: top;\n",
       "    }\n",
       "\n",
       "    .dataframe thead th {\n",
       "        text-align: right;\n",
       "    }\n",
       "</style>\n",
       "<table border=\"1\" class=\"dataframe\">\n",
       "  <thead>\n",
       "    <tr style=\"text-align: right;\">\n",
       "      <th></th>\n",
       "      <th>AAPL</th>\n",
       "      <th>GOOG</th>\n",
       "      <th>IBM</th>\n",
       "      <th>MSFT</th>\n",
       "    </tr>\n",
       "    <tr>\n",
       "      <th>Date</th>\n",
       "      <th></th>\n",
       "      <th></th>\n",
       "      <th></th>\n",
       "      <th></th>\n",
       "    </tr>\n",
       "  </thead>\n",
       "  <tbody>\n",
       "    <tr>\n",
       "      <th>2016-10-17</th>\n",
       "      <td>-0.000680</td>\n",
       "      <td>0.001837</td>\n",
       "      <td>0.002072</td>\n",
       "      <td>-0.003483</td>\n",
       "    </tr>\n",
       "    <tr>\n",
       "      <th>2016-10-18</th>\n",
       "      <td>-0.000681</td>\n",
       "      <td>0.019616</td>\n",
       "      <td>-0.026168</td>\n",
       "      <td>0.007690</td>\n",
       "    </tr>\n",
       "    <tr>\n",
       "      <th>2016-10-19</th>\n",
       "      <td>-0.002979</td>\n",
       "      <td>0.007846</td>\n",
       "      <td>0.003583</td>\n",
       "      <td>-0.002255</td>\n",
       "    </tr>\n",
       "    <tr>\n",
       "      <th>2016-10-20</th>\n",
       "      <td>-0.000512</td>\n",
       "      <td>-0.005652</td>\n",
       "      <td>0.001719</td>\n",
       "      <td>-0.004867</td>\n",
       "    </tr>\n",
       "    <tr>\n",
       "      <th>2016-10-21</th>\n",
       "      <td>-0.003930</td>\n",
       "      <td>0.003011</td>\n",
       "      <td>-0.012474</td>\n",
       "      <td>0.042096</td>\n",
       "    </tr>\n",
       "  </tbody>\n",
       "</table>\n",
       "</div>"
      ],
      "text/plain": [
       "                AAPL      GOOG       IBM      MSFT\n",
       "Date                                              \n",
       "2016-10-17 -0.000680  0.001837  0.002072 -0.003483\n",
       "2016-10-18 -0.000681  0.019616 -0.026168  0.007690\n",
       "2016-10-19 -0.002979  0.007846  0.003583 -0.002255\n",
       "2016-10-20 -0.000512 -0.005652  0.001719 -0.004867\n",
       "2016-10-21 -0.003930  0.003011 -0.012474  0.042096"
      ]
     },
     "execution_count": 276,
     "metadata": {},
     "output_type": "execute_result"
    }
   ],
>>>>>>> 6516124a7bc59f03e3d305b96c38cf89e11dee6a
   "source": [
    "returns = price.pct_change()\n",
    "returns.tail()"
   ]
  },
  {
   "cell_type": "code",
<<<<<<< HEAD
   "execution_count": 127,
   "metadata": {},
   "outputs": [],
=======
   "execution_count": 277,
   "metadata": {},
   "outputs": [
    {
     "data": {
      "text/plain": [
       "8.870655479703546e-05"
      ]
     },
     "execution_count": 277,
     "metadata": {},
     "output_type": "execute_result"
    }
   ],
>>>>>>> 6516124a7bc59f03e3d305b96c38cf89e11dee6a
   "source": [
    "returns[\"MSFT\"].corr(returns[\"IBM\"])\n",
    "returns[\"MSFT\"].cov(returns[\"IBM\"])"
   ]
  },
  {
   "cell_type": "code",
<<<<<<< HEAD
   "execution_count": 128,
   "metadata": {},
   "outputs": [],
=======
   "execution_count": 278,
   "metadata": {},
   "outputs": [
    {
     "data": {
      "text/html": [
       "<div>\n",
       "<style scoped>\n",
       "    .dataframe tbody tr th:only-of-type {\n",
       "        vertical-align: middle;\n",
       "    }\n",
       "\n",
       "    .dataframe tbody tr th {\n",
       "        vertical-align: top;\n",
       "    }\n",
       "\n",
       "    .dataframe thead th {\n",
       "        text-align: right;\n",
       "    }\n",
       "</style>\n",
       "<table border=\"1\" class=\"dataframe\">\n",
       "  <thead>\n",
       "    <tr style=\"text-align: right;\">\n",
       "      <th></th>\n",
       "      <th>AAPL</th>\n",
       "      <th>GOOG</th>\n",
       "      <th>IBM</th>\n",
       "      <th>MSFT</th>\n",
       "    </tr>\n",
       "  </thead>\n",
       "  <tbody>\n",
       "    <tr>\n",
       "      <th>AAPL</th>\n",
       "      <td>0.000277</td>\n",
       "      <td>0.000107</td>\n",
       "      <td>0.000078</td>\n",
       "      <td>0.000095</td>\n",
       "    </tr>\n",
       "    <tr>\n",
       "      <th>GOOG</th>\n",
       "      <td>0.000107</td>\n",
       "      <td>0.000251</td>\n",
       "      <td>0.000078</td>\n",
       "      <td>0.000108</td>\n",
       "    </tr>\n",
       "    <tr>\n",
       "      <th>IBM</th>\n",
       "      <td>0.000078</td>\n",
       "      <td>0.000078</td>\n",
       "      <td>0.000146</td>\n",
       "      <td>0.000089</td>\n",
       "    </tr>\n",
       "    <tr>\n",
       "      <th>MSFT</th>\n",
       "      <td>0.000095</td>\n",
       "      <td>0.000108</td>\n",
       "      <td>0.000089</td>\n",
       "      <td>0.000215</td>\n",
       "    </tr>\n",
       "  </tbody>\n",
       "</table>\n",
       "</div>"
      ],
      "text/plain": [
       "          AAPL      GOOG       IBM      MSFT\n",
       "AAPL  0.000277  0.000107  0.000078  0.000095\n",
       "GOOG  0.000107  0.000251  0.000078  0.000108\n",
       "IBM   0.000078  0.000078  0.000146  0.000089\n",
       "MSFT  0.000095  0.000108  0.000089  0.000215"
      ]
     },
     "execution_count": 278,
     "metadata": {},
     "output_type": "execute_result"
    }
   ],
>>>>>>> 6516124a7bc59f03e3d305b96c38cf89e11dee6a
   "source": [
    "returns.corr()\n",
    "returns.cov()"
   ]
  },
  {
   "cell_type": "code",
<<<<<<< HEAD
   "execution_count": 129,
   "metadata": {},
   "outputs": [],
=======
   "execution_count": 279,
   "metadata": {},
   "outputs": [
    {
     "data": {
      "text/plain": [
       "AAPL    0.386817\n",
       "GOOG    0.405099\n",
       "IBM     1.000000\n",
       "MSFT    0.499764\n",
       "dtype: float64"
      ]
     },
     "execution_count": 279,
     "metadata": {},
     "output_type": "execute_result"
    }
   ],
>>>>>>> 6516124a7bc59f03e3d305b96c38cf89e11dee6a
   "source": [
    "returns.corrwith(returns[\"IBM\"])"
   ]
  },
  {
   "cell_type": "code",
<<<<<<< HEAD
   "execution_count": 130,
   "metadata": {},
   "outputs": [],
=======
   "execution_count": 280,
   "metadata": {},
   "outputs": [
    {
     "data": {
      "text/plain": [
       "AAPL   -0.075565\n",
       "GOOG   -0.007067\n",
       "IBM    -0.204849\n",
       "MSFT   -0.092950\n",
       "dtype: float64"
      ]
     },
     "execution_count": 280,
     "metadata": {},
     "output_type": "execute_result"
    }
   ],
>>>>>>> 6516124a7bc59f03e3d305b96c38cf89e11dee6a
   "source": [
    "returns.corrwith(volume)"
   ]
  },
  {
   "cell_type": "code",
<<<<<<< HEAD
   "execution_count": 131,
=======
   "execution_count": 281,
>>>>>>> 6516124a7bc59f03e3d305b96c38cf89e11dee6a
   "metadata": {},
   "outputs": [],
   "source": [
    "obj = pd.Series([\"c\", \"a\", \"d\", \"a\", \"a\", \"b\", \"b\", \"c\", \"c\"])"
   ]
  },
  {
   "cell_type": "code",
<<<<<<< HEAD
   "execution_count": 132,
   "metadata": {},
   "outputs": [],
=======
   "execution_count": 282,
   "metadata": {},
   "outputs": [
    {
     "data": {
      "text/plain": [
       "array(['c', 'a', 'd', 'b'], dtype=object)"
      ]
     },
     "execution_count": 282,
     "metadata": {},
     "output_type": "execute_result"
    }
   ],
>>>>>>> 6516124a7bc59f03e3d305b96c38cf89e11dee6a
   "source": [
    "uniques = obj.unique()\n",
    "uniques"
   ]
  },
  {
   "cell_type": "code",
<<<<<<< HEAD
   "execution_count": 133,
   "metadata": {},
   "outputs": [],
=======
   "execution_count": 283,
   "metadata": {},
   "outputs": [
    {
     "data": {
      "text/plain": [
       "c    3\n",
       "a    3\n",
       "b    2\n",
       "d    1\n",
       "Name: count, dtype: int64"
      ]
     },
     "execution_count": 283,
     "metadata": {},
     "output_type": "execute_result"
    }
   ],
>>>>>>> 6516124a7bc59f03e3d305b96c38cf89e11dee6a
   "source": [
    "obj.value_counts()"
   ]
  },
  {
   "cell_type": "code",
<<<<<<< HEAD
   "execution_count": 134,
   "metadata": {},
   "outputs": [],
=======
   "execution_count": 284,
   "metadata": {},
   "outputs": [
    {
     "name": "stderr",
     "output_type": "stream",
     "text": [
      "C:\\Users\\t0108\\AppData\\Local\\Temp\\ipykernel_65180\\164454357.py:1: FutureWarning: pandas.value_counts is deprecated and will be removed in a future version. Use pd.Series(obj).value_counts() instead.\n",
      "  pd.value_counts(obj.to_numpy(), sort=False)\n"
     ]
    },
    {
     "data": {
      "text/plain": [
       "c    3\n",
       "a    3\n",
       "d    1\n",
       "b    2\n",
       "Name: count, dtype: int64"
      ]
     },
     "execution_count": 284,
     "metadata": {},
     "output_type": "execute_result"
    }
   ],
>>>>>>> 6516124a7bc59f03e3d305b96c38cf89e11dee6a
   "source": [
    "pd.value_counts(obj.to_numpy(), sort=False)"
   ]
  },
  {
   "cell_type": "code",
<<<<<<< HEAD
   "execution_count": 135,
   "metadata": {},
   "outputs": [],
=======
   "execution_count": 285,
   "metadata": {},
   "outputs": [
    {
     "data": {
      "text/plain": [
       "0    c\n",
       "5    b\n",
       "6    b\n",
       "7    c\n",
       "8    c\n",
       "dtype: object"
      ]
     },
     "execution_count": 285,
     "metadata": {},
     "output_type": "execute_result"
    }
   ],
>>>>>>> 6516124a7bc59f03e3d305b96c38cf89e11dee6a
   "source": [
    "obj\n",
    "mask = obj.isin([\"b\", \"c\"])\n",
    "mask\n",
    "obj[mask]"
   ]
  },
  {
   "cell_type": "code",
<<<<<<< HEAD
   "execution_count": 136,
   "metadata": {},
   "outputs": [],
=======
   "execution_count": 286,
   "metadata": {},
   "outputs": [
    {
     "data": {
      "text/plain": [
       "array([0, 2, 1, 1, 0, 2], dtype=int64)"
      ]
     },
     "execution_count": 286,
     "metadata": {},
     "output_type": "execute_result"
    }
   ],
>>>>>>> 6516124a7bc59f03e3d305b96c38cf89e11dee6a
   "source": [
    "to_match = pd.Series([\"c\", \"a\", \"b\", \"b\", \"c\", \"a\"])\n",
    "unique_vals = pd.Series([\"c\", \"b\", \"a\"])\n",
    "indices = pd.Index(unique_vals).get_indexer(to_match)\n",
    "indices"
   ]
  },
  {
   "cell_type": "code",
<<<<<<< HEAD
   "execution_count": 137,
   "metadata": {},
   "outputs": [],
=======
   "execution_count": 287,
   "metadata": {},
   "outputs": [
    {
     "data": {
      "text/html": [
       "<div>\n",
       "<style scoped>\n",
       "    .dataframe tbody tr th:only-of-type {\n",
       "        vertical-align: middle;\n",
       "    }\n",
       "\n",
       "    .dataframe tbody tr th {\n",
       "        vertical-align: top;\n",
       "    }\n",
       "\n",
       "    .dataframe thead th {\n",
       "        text-align: right;\n",
       "    }\n",
       "</style>\n",
       "<table border=\"1\" class=\"dataframe\">\n",
       "  <thead>\n",
       "    <tr style=\"text-align: right;\">\n",
       "      <th></th>\n",
       "      <th>Qu1</th>\n",
       "      <th>Qu2</th>\n",
       "      <th>Qu3</th>\n",
       "    </tr>\n",
       "  </thead>\n",
       "  <tbody>\n",
       "    <tr>\n",
       "      <th>0</th>\n",
       "      <td>1</td>\n",
       "      <td>2</td>\n",
       "      <td>1</td>\n",
       "    </tr>\n",
       "    <tr>\n",
       "      <th>1</th>\n",
       "      <td>3</td>\n",
       "      <td>3</td>\n",
       "      <td>5</td>\n",
       "    </tr>\n",
       "    <tr>\n",
       "      <th>2</th>\n",
       "      <td>4</td>\n",
       "      <td>1</td>\n",
       "      <td>2</td>\n",
       "    </tr>\n",
       "    <tr>\n",
       "      <th>3</th>\n",
       "      <td>3</td>\n",
       "      <td>2</td>\n",
       "      <td>4</td>\n",
       "    </tr>\n",
       "    <tr>\n",
       "      <th>4</th>\n",
       "      <td>4</td>\n",
       "      <td>3</td>\n",
       "      <td>4</td>\n",
       "    </tr>\n",
       "  </tbody>\n",
       "</table>\n",
       "</div>"
      ],
      "text/plain": [
       "   Qu1  Qu2  Qu3\n",
       "0    1    2    1\n",
       "1    3    3    5\n",
       "2    4    1    2\n",
       "3    3    2    4\n",
       "4    4    3    4"
      ]
     },
     "execution_count": 287,
     "metadata": {},
     "output_type": "execute_result"
    }
   ],
>>>>>>> 6516124a7bc59f03e3d305b96c38cf89e11dee6a
   "source": [
    "data = pd.DataFrame({\"Qu1\": [1, 3, 4, 3, 4],\n",
    "                     \"Qu2\": [2, 3, 1, 2, 3],\n",
    "                     \"Qu3\": [1, 5, 2, 4, 4]})\n",
    "data"
   ]
  },
  {
   "cell_type": "code",
<<<<<<< HEAD
   "execution_count": 138,
   "metadata": {},
   "outputs": [],
=======
   "execution_count": 288,
   "metadata": {},
   "outputs": [
    {
     "data": {
      "text/plain": [
       "Qu1\n",
       "1    1\n",
       "3    2\n",
       "4    2\n",
       "Name: count, dtype: int64"
      ]
     },
     "execution_count": 288,
     "metadata": {},
     "output_type": "execute_result"
    }
   ],
>>>>>>> 6516124a7bc59f03e3d305b96c38cf89e11dee6a
   "source": [
    "data[\"Qu1\"].value_counts().sort_index()"
   ]
  },
  {
   "cell_type": "code",
<<<<<<< HEAD
   "execution_count": 139,
   "metadata": {},
   "outputs": [],
=======
   "execution_count": 289,
   "metadata": {},
   "outputs": [
    {
     "name": "stderr",
     "output_type": "stream",
     "text": [
      "C:\\Users\\t0108\\AppData\\Local\\Temp\\ipykernel_65180\\1382616601.py:1: FutureWarning: pandas.value_counts is deprecated and will be removed in a future version. Use pd.Series(obj).value_counts() instead.\n",
      "  result = data.apply(pd.value_counts).fillna(0)\n"
     ]
    },
    {
     "data": {
      "text/html": [
       "<div>\n",
       "<style scoped>\n",
       "    .dataframe tbody tr th:only-of-type {\n",
       "        vertical-align: middle;\n",
       "    }\n",
       "\n",
       "    .dataframe tbody tr th {\n",
       "        vertical-align: top;\n",
       "    }\n",
       "\n",
       "    .dataframe thead th {\n",
       "        text-align: right;\n",
       "    }\n",
       "</style>\n",
       "<table border=\"1\" class=\"dataframe\">\n",
       "  <thead>\n",
       "    <tr style=\"text-align: right;\">\n",
       "      <th></th>\n",
       "      <th>Qu1</th>\n",
       "      <th>Qu2</th>\n",
       "      <th>Qu3</th>\n",
       "    </tr>\n",
       "  </thead>\n",
       "  <tbody>\n",
       "    <tr>\n",
       "      <th>1</th>\n",
       "      <td>1.0</td>\n",
       "      <td>1.0</td>\n",
       "      <td>1.0</td>\n",
       "    </tr>\n",
       "    <tr>\n",
       "      <th>2</th>\n",
       "      <td>0.0</td>\n",
       "      <td>2.0</td>\n",
       "      <td>1.0</td>\n",
       "    </tr>\n",
       "    <tr>\n",
       "      <th>3</th>\n",
       "      <td>2.0</td>\n",
       "      <td>2.0</td>\n",
       "      <td>0.0</td>\n",
       "    </tr>\n",
       "    <tr>\n",
       "      <th>4</th>\n",
       "      <td>2.0</td>\n",
       "      <td>0.0</td>\n",
       "      <td>2.0</td>\n",
       "    </tr>\n",
       "    <tr>\n",
       "      <th>5</th>\n",
       "      <td>0.0</td>\n",
       "      <td>0.0</td>\n",
       "      <td>1.0</td>\n",
       "    </tr>\n",
       "  </tbody>\n",
       "</table>\n",
       "</div>"
      ],
      "text/plain": [
       "   Qu1  Qu2  Qu3\n",
       "1  1.0  1.0  1.0\n",
       "2  0.0  2.0  1.0\n",
       "3  2.0  2.0  0.0\n",
       "4  2.0  0.0  2.0\n",
       "5  0.0  0.0  1.0"
      ]
     },
     "execution_count": 289,
     "metadata": {},
     "output_type": "execute_result"
    }
   ],
>>>>>>> 6516124a7bc59f03e3d305b96c38cf89e11dee6a
   "source": [
    "result = data.apply(pd.value_counts).fillna(0)\n",
    "result"
   ]
  },
  {
   "cell_type": "code",
<<<<<<< HEAD
   "execution_count": 140,
   "metadata": {},
   "outputs": [],
=======
   "execution_count": 290,
   "metadata": {},
   "outputs": [
    {
     "data": {
      "text/plain": [
       "a  b\n",
       "1  0    2\n",
       "2  0    2\n",
       "1  1    1\n",
       "Name: count, dtype: int64"
      ]
     },
     "execution_count": 290,
     "metadata": {},
     "output_type": "execute_result"
    }
   ],
>>>>>>> 6516124a7bc59f03e3d305b96c38cf89e11dee6a
   "source": [
    "data = pd.DataFrame({\"a\": [1, 1, 1, 2, 2], \"b\": [0, 0, 1, 0, 0]})\n",
    "data\n",
    "data.value_counts()"
   ]
  },
  {
   "cell_type": "code",
<<<<<<< HEAD
   "execution_count": 141,
=======
   "execution_count": null,
>>>>>>> 6516124a7bc59f03e3d305b96c38cf89e11dee6a
   "metadata": {},
   "outputs": [],
   "source": []
  },
  {
   "cell_type": "code",
<<<<<<< HEAD
   "execution_count": 142,
   "metadata": {},
   "outputs": [],
   "source": [
    "pd.options.display.max_rows = PREVIOUS_MAX_ROWS"
   ]
=======
   "execution_count": 291,
   "metadata": {},
   "outputs": [
    {
     "ename": "NameError",
     "evalue": "name 'PREVIOUS_MAX_ROWS' is not defined",
     "output_type": "error",
     "traceback": [
      "\u001b[1;31m---------------------------------------------------------------------------\u001b[0m",
      "\u001b[1;31mNameError\u001b[0m                                 Traceback (most recent call last)",
      "Cell \u001b[1;32mIn[291], line 1\u001b[0m\n\u001b[1;32m----> 1\u001b[0m pd\u001b[38;5;241m.\u001b[39moptions\u001b[38;5;241m.\u001b[39mdisplay\u001b[38;5;241m.\u001b[39mmax_rows \u001b[38;5;241m=\u001b[39m \u001b[43mPREVIOUS_MAX_ROWS\u001b[49m\n",
      "\u001b[1;31mNameError\u001b[0m: name 'PREVIOUS_MAX_ROWS' is not defined"
     ]
    }
   ],
   "source": [
    "pd.options.display.max_rows = PREVIOUS_MAX_ROWS"
   ]
  },
  {
   "cell_type": "code",
   "execution_count": null,
   "metadata": {},
   "outputs": [],
   "source": []
>>>>>>> 6516124a7bc59f03e3d305b96c38cf89e11dee6a
  }
 ],
 "metadata": {
  "kernelspec": {
   "display_name": "Python 3 (ipykernel)",
   "language": "python",
   "name": "python3"
  },
  "language_info": {
   "codemirror_mode": {
    "name": "ipython",
    "version": 3
   },
   "file_extension": ".py",
   "mimetype": "text/x-python",
   "name": "python",
   "nbconvert_exporter": "python",
   "pygments_lexer": "ipython3",
<<<<<<< HEAD
   "version": "3.12.3"
=======
   "version": "3.12.2"
>>>>>>> 6516124a7bc59f03e3d305b96c38cf89e11dee6a
  }
 },
 "nbformat": 4,
 "nbformat_minor": 4
}
